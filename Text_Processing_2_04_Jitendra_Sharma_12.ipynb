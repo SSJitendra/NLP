{
  "nbformat": 4,
  "nbformat_minor": 0,
  "metadata": {
    "colab": {
      "name": "Text_Processing-2_04_Jitendra_Sharma_12.ipynb",
      "provenance": [],
      "collapsed_sections": [],
      "authorship_tag": "ABX9TyOXXme48cTAYFgHbFMeeaGp"
    },
    "kernelspec": {
      "name": "python3",
      "display_name": "Python 3"
    },
    "language_info": {
      "name": "python"
    }
  },
  "cells": [
    {
      "cell_type": "markdown",
      "metadata": {
        "id": "oP2dFbQbxils"
      },
      "source": [
        "**Jitendra_Sharma - Roll No. - 12**\n",
        "\n",
        "**Practical - 04**\n",
        "\n",
        "Text Processing - 2\n",
        "1. Accessing Text Corpora\n",
        " 1. Gutenberg Corpus\n",
        " 2. Web and Chat Text\n",
        " 3. Brown Corpus\n",
        " 4. Annotated Text Corpora\n",
        " 5. Corpora in other languages\n",
        " 6. Text Corpus Structure\n",
        " 7. Loading your own corpus\n",
        "2. Word Counting\n",
        "3. Word Vocabulary\n",
        "4. Bag-of-words, BOW Model\n",
        "5. TF/IDF Vectorizer\n",
        "6. Tokenisation and Word Frequencies \n",
        "7. Sentence Segmentation\n",
        "8. Removing Stop Words with NLTK"
      ]
    },
    {
      "cell_type": "code",
      "metadata": {
        "colab": {
          "base_uri": "https://localhost:8080/"
        },
        "id": "dNPECX07xW6J",
        "outputId": "2419cb83-1d9b-4c3d-98af-470dfb87036d"
      },
      "source": [
        "import nltk\n",
        "nltk.download('gutenberg')\n",
        "nltk.download('genesis')\n",
        "nltk.download('inaugural')\n",
        "nltk.download('nps_chat')\n",
        "nltk.download('webtext')\n",
        "nltk.download('treebank')\n",
        "nltk.download('punkt')\n",
        "from nltk.book import*"
      ],
      "execution_count": null,
      "outputs": [
        {
          "output_type": "stream",
          "text": [
            "[nltk_data] Downloading package gutenberg to /root/nltk_data...\n",
            "[nltk_data]   Unzipping corpora/gutenberg.zip.\n",
            "[nltk_data] Downloading package genesis to /root/nltk_data...\n",
            "[nltk_data]   Unzipping corpora/genesis.zip.\n",
            "[nltk_data] Downloading package inaugural to /root/nltk_data...\n",
            "[nltk_data]   Unzipping corpora/inaugural.zip.\n",
            "[nltk_data] Downloading package nps_chat to /root/nltk_data...\n",
            "[nltk_data]   Unzipping corpora/nps_chat.zip.\n",
            "[nltk_data] Downloading package webtext to /root/nltk_data...\n",
            "[nltk_data]   Unzipping corpora/webtext.zip.\n",
            "[nltk_data] Downloading package treebank to /root/nltk_data...\n",
            "[nltk_data]   Unzipping corpora/treebank.zip.\n",
            "[nltk_data] Downloading package punkt to /root/nltk_data...\n",
            "[nltk_data]   Unzipping tokenizers/punkt.zip.\n",
            "*** Introductory Examples for the NLTK Book ***\n",
            "Loading text1, ..., text9 and sent1, ..., sent9\n",
            "Type the name of the text or sentence to view it.\n",
            "Type: 'texts()' or 'sents()' to list the materials.\n",
            "text1: Moby Dick by Herman Melville 1851\n",
            "text2: Sense and Sensibility by Jane Austen 1811\n",
            "text3: The Book of Genesis\n",
            "text4: Inaugural Address Corpus\n",
            "text5: Chat Corpus\n",
            "text6: Monty Python and the Holy Grail\n",
            "text7: Wall Street Journal\n",
            "text8: Personals Corpus\n",
            "text9: The Man Who Was Thursday by G . K . Chesterton 1908\n"
          ],
          "name": "stdout"
        }
      ]
    },
    {
      "cell_type": "code",
      "metadata": {
        "id": "DsscMSRjx_lR"
      },
      "source": [
        "emma = nltk.corpus.gutenberg.words('austen-emma.txt')"
      ],
      "execution_count": null,
      "outputs": []
    },
    {
      "cell_type": "code",
      "metadata": {
        "colab": {
          "base_uri": "https://localhost:8080/"
        },
        "id": "BJRZsusyyClB",
        "outputId": "4b1aba36-89c6-451c-8bb4-b7206501c05e"
      },
      "source": [
        "len(emma)"
      ],
      "execution_count": null,
      "outputs": [
        {
          "output_type": "execute_result",
          "data": {
            "text/plain": [
              "192427"
            ]
          },
          "metadata": {
            "tags": []
          },
          "execution_count": 3
        }
      ]
    },
    {
      "cell_type": "code",
      "metadata": {
        "colab": {
          "base_uri": "https://localhost:8080/"
        },
        "id": "dC5Y3ssrySh6",
        "outputId": "af136a60-b4e3-4015-df9b-c0916e53e43e"
      },
      "source": [
        "gutenberg.fileids()"
      ],
      "execution_count": null,
      "outputs": [
        {
          "output_type": "execute_result",
          "data": {
            "text/plain": [
              "['austen-emma.txt',\n",
              " 'austen-persuasion.txt',\n",
              " 'austen-sense.txt',\n",
              " 'bible-kjv.txt',\n",
              " 'blake-poems.txt',\n",
              " 'bryant-stories.txt',\n",
              " 'burgess-busterbrown.txt',\n",
              " 'carroll-alice.txt',\n",
              " 'chesterton-ball.txt',\n",
              " 'chesterton-brown.txt',\n",
              " 'chesterton-thursday.txt',\n",
              " 'edgeworth-parents.txt',\n",
              " 'melville-moby_dick.txt',\n",
              " 'milton-paradise.txt',\n",
              " 'shakespeare-caesar.txt',\n",
              " 'shakespeare-hamlet.txt',\n",
              " 'shakespeare-macbeth.txt',\n",
              " 'whitman-leaves.txt']"
            ]
          },
          "metadata": {
            "tags": []
          },
          "execution_count": 4
        }
      ]
    },
    {
      "cell_type": "code",
      "metadata": {
        "id": "_ynmzwtnyVOb"
      },
      "source": [
        "emma = gutenberg.words('austen-emma.txt')"
      ],
      "execution_count": null,
      "outputs": []
    },
    {
      "cell_type": "code",
      "metadata": {
        "colab": {
          "base_uri": "https://localhost:8080/"
        },
        "id": "5s9SUaZGyZWK",
        "outputId": "7162974c-dfe0-42bd-af1e-56afbe3b3369"
      },
      "source": [
        "for fileid in gutenberg.fileids():\n",
        "...     num_chars = len(gutenberg.raw(fileid)) \n",
        "...     num_words = len(gutenberg.words(fileid))\n",
        "...     num_sents = len(gutenberg.sents(fileid))\n",
        "...     num_vocab = len(set(w.lower() for w in gutenberg.words(fileid)))\n",
        "...     print(round(num_chars/num_words), round(num_words/num_sents), round(num_words/num_vocab), fileid)"
      ],
      "execution_count": null,
      "outputs": [
        {
          "output_type": "stream",
          "text": [
            "5 25 26 austen-emma.txt\n",
            "5 26 17 austen-persuasion.txt\n",
            "5 28 22 austen-sense.txt\n",
            "4 34 79 bible-kjv.txt\n",
            "5 19 5 blake-poems.txt\n",
            "4 19 14 bryant-stories.txt\n",
            "4 18 12 burgess-busterbrown.txt\n",
            "4 20 13 carroll-alice.txt\n",
            "5 20 12 chesterton-ball.txt\n",
            "5 23 11 chesterton-brown.txt\n",
            "5 18 11 chesterton-thursday.txt\n",
            "4 21 25 edgeworth-parents.txt\n",
            "5 26 15 melville-moby_dick.txt\n",
            "5 52 11 milton-paradise.txt\n",
            "4 12 9 shakespeare-caesar.txt\n",
            "4 12 8 shakespeare-hamlet.txt\n",
            "4 12 7 shakespeare-macbeth.txt\n",
            "5 36 12 whitman-leaves.txt\n"
          ],
          "name": "stdout"
        }
      ]
    },
    {
      "cell_type": "code",
      "metadata": {
        "colab": {
          "base_uri": "https://localhost:8080/"
        },
        "id": "0RTBTTP9ygem",
        "outputId": "ddfc1eef-4a57-4689-81c8-06e7ded99b0e"
      },
      "source": [
        "macbeth_sentences = gutenberg.sents('shakespeare-macbeth.txt')\n",
        "macbeth_sentences"
      ],
      "execution_count": null,
      "outputs": [
        {
          "output_type": "execute_result",
          "data": {
            "text/plain": [
              "[['[', 'The', 'Tragedie', 'of', 'Macbeth', 'by', 'William', 'Shakespeare', '1603', ']'], ['Actus', 'Primus', '.'], ...]"
            ]
          },
          "metadata": {
            "tags": []
          },
          "execution_count": 7
        }
      ]
    },
    {
      "cell_type": "code",
      "metadata": {
        "colab": {
          "base_uri": "https://localhost:8080/"
        },
        "id": "9pLSZgoQyjT0",
        "outputId": "4c7c4a18-6bd8-4716-80c8-8f2d08fa08b7"
      },
      "source": [
        "macbeth_sentences[1116]"
      ],
      "execution_count": null,
      "outputs": [
        {
          "output_type": "execute_result",
          "data": {
            "text/plain": [
              "['Double',\n",
              " ',',\n",
              " 'double',\n",
              " ',',\n",
              " 'toile',\n",
              " 'and',\n",
              " 'trouble',\n",
              " ';',\n",
              " 'Fire',\n",
              " 'burne',\n",
              " ',',\n",
              " 'and',\n",
              " 'Cauldron',\n",
              " 'bubble']"
            ]
          },
          "metadata": {
            "tags": []
          },
          "execution_count": 8
        }
      ]
    },
    {
      "cell_type": "code",
      "metadata": {
        "colab": {
          "base_uri": "https://localhost:8080/"
        },
        "id": "hBnvVKBFymQ7",
        "outputId": "991f7ec9-f0d6-43dd-c720-c0ef41d6053e"
      },
      "source": [
        "longest_len = max(len(s) for s in macbeth_sentences)\n",
        "[s for s in macbeth_sentences if len(s) == longest_len]"
      ],
      "execution_count": null,
      "outputs": [
        {
          "output_type": "execute_result",
          "data": {
            "text/plain": [
              "[['Doubtfull',\n",
              "  'it',\n",
              "  'stood',\n",
              "  ',',\n",
              "  'As',\n",
              "  'two',\n",
              "  'spent',\n",
              "  'Swimmers',\n",
              "  ',',\n",
              "  'that',\n",
              "  'doe',\n",
              "  'cling',\n",
              "  'together',\n",
              "  ',',\n",
              "  'And',\n",
              "  'choake',\n",
              "  'their',\n",
              "  'Art',\n",
              "  ':',\n",
              "  'The',\n",
              "  'mercilesse',\n",
              "  'Macdonwald',\n",
              "  '(',\n",
              "  'Worthie',\n",
              "  'to',\n",
              "  'be',\n",
              "  'a',\n",
              "  'Rebell',\n",
              "  ',',\n",
              "  'for',\n",
              "  'to',\n",
              "  'that',\n",
              "  'The',\n",
              "  'multiplying',\n",
              "  'Villanies',\n",
              "  'of',\n",
              "  'Nature',\n",
              "  'Doe',\n",
              "  'swarme',\n",
              "  'vpon',\n",
              "  'him',\n",
              "  ')',\n",
              "  'from',\n",
              "  'the',\n",
              "  'Westerne',\n",
              "  'Isles',\n",
              "  'Of',\n",
              "  'Kernes',\n",
              "  'and',\n",
              "  'Gallowgrosses',\n",
              "  'is',\n",
              "  'supply',\n",
              "  \"'\",\n",
              "  'd',\n",
              "  ',',\n",
              "  'And',\n",
              "  'Fortune',\n",
              "  'on',\n",
              "  'his',\n",
              "  'damned',\n",
              "  'Quarry',\n",
              "  'smiling',\n",
              "  ',',\n",
              "  'Shew',\n",
              "  \"'\",\n",
              "  'd',\n",
              "  'like',\n",
              "  'a',\n",
              "  'Rebells',\n",
              "  'Whore',\n",
              "  ':',\n",
              "  'but',\n",
              "  'all',\n",
              "  \"'\",\n",
              "  's',\n",
              "  'too',\n",
              "  'weake',\n",
              "  ':',\n",
              "  'For',\n",
              "  'braue',\n",
              "  'Macbeth',\n",
              "  '(',\n",
              "  'well',\n",
              "  'hee',\n",
              "  'deserues',\n",
              "  'that',\n",
              "  'Name',\n",
              "  ')',\n",
              "  'Disdayning',\n",
              "  'Fortune',\n",
              "  ',',\n",
              "  'with',\n",
              "  'his',\n",
              "  'brandisht',\n",
              "  'Steele',\n",
              "  ',',\n",
              "  'Which',\n",
              "  'smoak',\n",
              "  \"'\",\n",
              "  'd',\n",
              "  'with',\n",
              "  'bloody',\n",
              "  'execution',\n",
              "  '(',\n",
              "  'Like',\n",
              "  'Valours',\n",
              "  'Minion',\n",
              "  ')',\n",
              "  'caru',\n",
              "  \"'\",\n",
              "  'd',\n",
              "  'out',\n",
              "  'his',\n",
              "  'passage',\n",
              "  ',',\n",
              "  'Till',\n",
              "  'hee',\n",
              "  'fac',\n",
              "  \"'\",\n",
              "  'd',\n",
              "  'the',\n",
              "  'Slaue',\n",
              "  ':',\n",
              "  'Which',\n",
              "  'neu',\n",
              "  \"'\",\n",
              "  'r',\n",
              "  'shooke',\n",
              "  'hands',\n",
              "  ',',\n",
              "  'nor',\n",
              "  'bad',\n",
              "  'farwell',\n",
              "  'to',\n",
              "  'him',\n",
              "  ',',\n",
              "  'Till',\n",
              "  'he',\n",
              "  'vnseam',\n",
              "  \"'\",\n",
              "  'd',\n",
              "  'him',\n",
              "  'from',\n",
              "  'the',\n",
              "  'Naue',\n",
              "  'toth',\n",
              "  \"'\",\n",
              "  'Chops',\n",
              "  ',',\n",
              "  'And',\n",
              "  'fix',\n",
              "  \"'\",\n",
              "  'd',\n",
              "  'his',\n",
              "  'Head',\n",
              "  'vpon',\n",
              "  'our',\n",
              "  'Battlements']]"
            ]
          },
          "metadata": {
            "tags": []
          },
          "execution_count": 9
        }
      ]
    },
    {
      "cell_type": "markdown",
      "metadata": {
        "id": "jflXXz_Eyqc9"
      },
      "source": [
        "***Web and Chat Text***"
      ]
    },
    {
      "cell_type": "code",
      "metadata": {
        "colab": {
          "base_uri": "https://localhost:8080/"
        },
        "id": "zm6gxM4pyxgB",
        "outputId": "75222689-f6ba-4ce0-c0e3-bad231054a94"
      },
      "source": [
        "from nltk.corpus import webtext\n",
        "for fileid in webtext.fileids():\n",
        "    print(fileid, webtext.raw(fileid)[:65], '...')\n",
        "..."
      ],
      "execution_count": null,
      "outputs": [
        {
          "output_type": "stream",
          "text": [
            "firefox.txt Cookie Manager: \"Don't allow sites that set removed cookies to se ...\n",
            "grail.txt SCENE 1: [wind] [clop clop clop] \n",
            "KING ARTHUR: Whoa there!  [clop ...\n",
            "overheard.txt White guy: So, do you have any plans for this evening?\n",
            "Asian girl ...\n",
            "pirates.txt PIRATES OF THE CARRIBEAN: DEAD MAN'S CHEST, by Ted Elliott & Terr ...\n",
            "singles.txt 25 SEXY MALE, seeks attrac older single lady, for discreet encoun ...\n",
            "wine.txt Lovely delicate, fragrant Rhone wine. Polished leather and strawb ...\n"
          ],
          "name": "stdout"
        },
        {
          "output_type": "execute_result",
          "data": {
            "text/plain": [
              "Ellipsis"
            ]
          },
          "metadata": {
            "tags": []
          },
          "execution_count": 10
        }
      ]
    },
    {
      "cell_type": "code",
      "metadata": {
        "colab": {
          "base_uri": "https://localhost:8080/"
        },
        "id": "pBrBzNQMy0NG",
        "outputId": "619bb038-4e2c-4b4d-aa47-d4ac02ab137d"
      },
      "source": [
        "from nltk.corpus import nps_chat\n",
        "chatroom = nps_chat.posts('10-19-20s_706posts.xml')\n",
        "chatroom[123]"
      ],
      "execution_count": null,
      "outputs": [
        {
          "output_type": "execute_result",
          "data": {
            "text/plain": [
              "['i',\n",
              " 'do',\n",
              " \"n't\",\n",
              " 'want',\n",
              " 'hot',\n",
              " 'pics',\n",
              " 'of',\n",
              " 'a',\n",
              " 'female',\n",
              " ',',\n",
              " 'I',\n",
              " 'can',\n",
              " 'look',\n",
              " 'in',\n",
              " 'a',\n",
              " 'mirror',\n",
              " '.']"
            ]
          },
          "metadata": {
            "tags": []
          },
          "execution_count": 11
        }
      ]
    },
    {
      "cell_type": "markdown",
      "metadata": {
        "id": "Jni53QFBy3ez"
      },
      "source": [
        "**Brown Corpus**"
      ]
    },
    {
      "cell_type": "code",
      "metadata": {
        "colab": {
          "base_uri": "https://localhost:8080/"
        },
        "id": "SEwpKw6cy4Xt",
        "outputId": "8965d636-6f6d-41ec-e9e8-d4e1d1c9a210"
      },
      "source": [
        "from nltk.corpus import brown\n",
        "nltk.download('brown')\n",
        "brown.categories()\n"
      ],
      "execution_count": null,
      "outputs": [
        {
          "output_type": "stream",
          "text": [
            "[nltk_data] Downloading package brown to /root/nltk_data...\n",
            "[nltk_data]   Unzipping corpora/brown.zip.\n"
          ],
          "name": "stdout"
        },
        {
          "output_type": "execute_result",
          "data": {
            "text/plain": [
              "['adventure',\n",
              " 'belles_lettres',\n",
              " 'editorial',\n",
              " 'fiction',\n",
              " 'government',\n",
              " 'hobbies',\n",
              " 'humor',\n",
              " 'learned',\n",
              " 'lore',\n",
              " 'mystery',\n",
              " 'news',\n",
              " 'religion',\n",
              " 'reviews',\n",
              " 'romance',\n",
              " 'science_fiction']"
            ]
          },
          "metadata": {
            "tags": []
          },
          "execution_count": 12
        }
      ]
    },
    {
      "cell_type": "code",
      "metadata": {
        "colab": {
          "base_uri": "https://localhost:8080/"
        },
        "id": "_DeAKMhGy8R8",
        "outputId": "1f6bab05-6e4d-499a-ca56-74aab7d0fd92"
      },
      "source": [
        "brown.words(categories='news')"
      ],
      "execution_count": null,
      "outputs": [
        {
          "output_type": "execute_result",
          "data": {
            "text/plain": [
              "['The', 'Fulton', 'County', 'Grand', 'Jury', 'said', ...]"
            ]
          },
          "metadata": {
            "tags": []
          },
          "execution_count": 13
        }
      ]
    },
    {
      "cell_type": "code",
      "metadata": {
        "colab": {
          "base_uri": "https://localhost:8080/"
        },
        "id": "bXXsYBK_y_O-",
        "outputId": "1d503a8e-c2d1-4272-a060-b166857644b6"
      },
      "source": [
        "brown.words(fileids=['cg22'])"
      ],
      "execution_count": null,
      "outputs": [
        {
          "output_type": "execute_result",
          "data": {
            "text/plain": [
              "['Does', 'our', 'society', 'have', 'a', 'runaway', ',', ...]"
            ]
          },
          "metadata": {
            "tags": []
          },
          "execution_count": 14
        }
      ]
    },
    {
      "cell_type": "code",
      "metadata": {
        "colab": {
          "base_uri": "https://localhost:8080/"
        },
        "id": "ir8DI_7uzBVb",
        "outputId": "dfeb8fae-5aeb-419f-8aeb-1eb2cebb7616"
      },
      "source": [
        "brown.sents(categories=['news', 'editorial', 'reviews'])"
      ],
      "execution_count": null,
      "outputs": [
        {
          "output_type": "execute_result",
          "data": {
            "text/plain": [
              "[['The', 'Fulton', 'County', 'Grand', 'Jury', 'said', 'Friday', 'an', 'investigation', 'of', \"Atlanta's\", 'recent', 'primary', 'election', 'produced', '``', 'no', 'evidence', \"''\", 'that', 'any', 'irregularities', 'took', 'place', '.'], ['The', 'jury', 'further', 'said', 'in', 'term-end', 'presentments', 'that', 'the', 'City', 'Executive', 'Committee', ',', 'which', 'had', 'over-all', 'charge', 'of', 'the', 'election', ',', '``', 'deserves', 'the', 'praise', 'and', 'thanks', 'of', 'the', 'City', 'of', 'Atlanta', \"''\", 'for', 'the', 'manner', 'in', 'which', 'the', 'election', 'was', 'conducted', '.'], ...]"
            ]
          },
          "metadata": {
            "tags": []
          },
          "execution_count": 15
        }
      ]
    },
    {
      "cell_type": "code",
      "metadata": {
        "colab": {
          "base_uri": "https://localhost:8080/"
        },
        "id": "Fj3UZ_-kzDfk",
        "outputId": "e4ed8b4b-a7fa-4806-f893-784cbc8b7866"
      },
      "source": [
        "from nltk.corpus import brown\n",
        "news_text = brown.words(categories='news')\n",
        "fdist = nltk.FreqDist(w.lower() for w in news_text)\n",
        "modals = ['can', 'could', 'may', 'might', 'must', 'will']\n",
        "for m in modals:\n",
        "  print(m + ':', fdist[m], end=' ')"
      ],
      "execution_count": null,
      "outputs": [
        {
          "output_type": "stream",
          "text": [
            "can: 94 could: 87 may: 93 might: 38 must: 53 will: 389 "
          ],
          "name": "stdout"
        }
      ]
    },
    {
      "cell_type": "code",
      "metadata": {
        "colab": {
          "base_uri": "https://localhost:8080/"
        },
        "id": "guzyGxIfzGZ-",
        "outputId": "cebdba58-d6ba-4f0f-c2bd-ab0283d9b5dd"
      },
      "source": [
        "cfd = nltk.ConditionalFreqDist(\n",
        "...           (genre, word)\n",
        "...           for genre in brown.categories()\n",
        "...           for word in brown.words(categories=genre))\n",
        "genres = ['news', 'religion', 'hobbies', 'science_fiction', 'romance', 'humor']\n",
        "modals = ['can', 'could', 'may', 'might', 'must', 'will']\n",
        "cfd.tabulate(conditions=genres, samples=modals)"
      ],
      "execution_count": null,
      "outputs": [
        {
          "output_type": "stream",
          "text": [
            "                  can could   may might  must  will \n",
            "           news    93    86    66    38    50   389 \n",
            "       religion    82    59    78    12    54    71 \n",
            "        hobbies   268    58   131    22    83   264 \n",
            "science_fiction    16    49     4    12     8    16 \n",
            "        romance    74   193    11    51    45    43 \n",
            "          humor    16    30     8     8     9    13 \n"
          ],
          "name": "stdout"
        }
      ]
    },
    {
      "cell_type": "markdown",
      "metadata": {
        "id": "JwQyQs27zLnP"
      },
      "source": [
        "\n",
        "\n",
        "```\n",
        "`# This is formatted as code`\n",
        "```\n",
        "\n",
        "**Annotated Text Corpora**\n",
        "\n",
        "Corpora in other languages"
      ]
    },
    {
      "cell_type": "code",
      "metadata": {
        "colab": {
          "base_uri": "https://localhost:8080/"
        },
        "id": "-9MtDClkzQr5",
        "outputId": "463df620-3186-4846-a805-31557e19c395"
      },
      "source": [
        "nltk.download('cess_esp')\n",
        "nltk.download('floresta')\n",
        "nltk.download('indian')\n",
        "nltk.corpus.cess_esp.words()\n",
        "nltk.download('udhr')"
      ],
      "execution_count": null,
      "outputs": [
        {
          "output_type": "stream",
          "text": [
            "[nltk_data] Downloading package cess_esp to /root/nltk_data...\n",
            "[nltk_data]   Unzipping corpora/cess_esp.zip.\n",
            "[nltk_data] Downloading package floresta to /root/nltk_data...\n",
            "[nltk_data]   Unzipping corpora/floresta.zip.\n",
            "[nltk_data] Downloading package indian to /root/nltk_data...\n",
            "[nltk_data]   Unzipping corpora/indian.zip.\n",
            "[nltk_data] Downloading package udhr to /root/nltk_data...\n",
            "[nltk_data]   Unzipping corpora/udhr.zip.\n"
          ],
          "name": "stdout"
        },
        {
          "output_type": "execute_result",
          "data": {
            "text/plain": [
              "True"
            ]
          },
          "metadata": {
            "tags": []
          },
          "execution_count": 18
        }
      ]
    },
    {
      "cell_type": "code",
      "metadata": {
        "colab": {
          "base_uri": "https://localhost:8080/"
        },
        "id": "7y7QTUXAzTmJ",
        "outputId": "79efcd4f-2501-4953-da51-fbe3c4967a89"
      },
      "source": [
        "nltk.corpus.floresta.words()"
      ],
      "execution_count": null,
      "outputs": [
        {
          "output_type": "execute_result",
          "data": {
            "text/plain": [
              "['Um', 'revivalismo', 'refrescante', 'O', '7_e_Meio', ...]"
            ]
          },
          "metadata": {
            "tags": []
          },
          "execution_count": 19
        }
      ]
    },
    {
      "cell_type": "code",
      "metadata": {
        "colab": {
          "base_uri": "https://localhost:8080/"
        },
        "id": "ot1Z9IYUzWw5",
        "outputId": "8fcf76e5-174d-426a-9c86-33fb3491fc14"
      },
      "source": [
        "nltk.corpus.indian.words('hindi.pos')"
      ],
      "execution_count": null,
      "outputs": [
        {
          "output_type": "execute_result",
          "data": {
            "text/plain": [
              "['पूर्ण', 'प्रतिबंध', 'हटाओ', ':', 'इराक', 'संयुक्त', ...]"
            ]
          },
          "metadata": {
            "tags": []
          },
          "execution_count": 20
        }
      ]
    },
    {
      "cell_type": "code",
      "metadata": {
        "colab": {
          "base_uri": "https://localhost:8080/"
        },
        "id": "T-ybtnpTzdxE",
        "outputId": "7780fca2-2e96-41a0-ef8d-4b1c4c986bea"
      },
      "source": [
        "nltk.corpus.udhr.fileids()"
      ],
      "execution_count": null,
      "outputs": [
        {
          "output_type": "execute_result",
          "data": {
            "text/plain": [
              "['Abkhaz-Cyrillic+Abkh',\n",
              " 'Abkhaz-UTF8',\n",
              " 'Achehnese-Latin1',\n",
              " 'Achuar-Shiwiar-Latin1',\n",
              " 'Adja-UTF8',\n",
              " 'Afaan_Oromo_Oromiffa-Latin1',\n",
              " 'Afrikaans-Latin1',\n",
              " 'Aguaruna-Latin1',\n",
              " 'Akuapem_Twi-UTF8',\n",
              " 'Albanian_Shqip-Latin1',\n",
              " 'Amahuaca',\n",
              " 'Amahuaca-Latin1',\n",
              " 'Amarakaeri-Latin1',\n",
              " 'Amuesha-Yanesha-UTF8',\n",
              " 'Arabela-Latin1',\n",
              " 'Arabic_Alarabia-Arabic',\n",
              " 'Asante-UTF8',\n",
              " 'Ashaninca-Latin1',\n",
              " 'Asheninca-Latin1',\n",
              " 'Asturian_Bable-Latin1',\n",
              " 'Aymara-Latin1',\n",
              " 'Balinese-Latin1',\n",
              " 'Bambara-UTF8',\n",
              " 'Baoule-UTF8',\n",
              " 'Basque_Euskara-Latin1',\n",
              " 'Batonu_Bariba-UTF8',\n",
              " 'Belorus_Belaruski-Cyrillic',\n",
              " 'Belorus_Belaruski-UTF8',\n",
              " 'Bemba-Latin1',\n",
              " 'Bengali-UTF8',\n",
              " 'Beti-UTF8',\n",
              " 'Bichelamar-Latin1',\n",
              " 'Bikol_Bicolano-Latin1',\n",
              " 'Bora-Latin1',\n",
              " 'Bosnian_Bosanski-Cyrillic',\n",
              " 'Bosnian_Bosanski-Latin2',\n",
              " 'Bosnian_Bosanski-UTF8',\n",
              " 'Breton-Latin1',\n",
              " 'Bugisnese-Latin1',\n",
              " 'Bulgarian_Balgarski-Cyrillic',\n",
              " 'Bulgarian_Balgarski-UTF8',\n",
              " 'Cakchiquel-Latin1',\n",
              " 'Campa_Pajonalino-Latin1',\n",
              " 'Candoshi-Shapra-Latin1',\n",
              " 'Caquinte-Latin1',\n",
              " 'Cashibo-Cacataibo-Latin1',\n",
              " 'Cashinahua-Latin1',\n",
              " 'Catalan-Latin1',\n",
              " 'Catalan_Catala-Latin1',\n",
              " 'Cebuano-Latin1',\n",
              " 'Chamorro-Latin1',\n",
              " 'Chayahuita-Latin1',\n",
              " 'Chechewa_Nyanja-Latin1',\n",
              " 'Chickasaw-Latin1',\n",
              " 'Chinanteco-Ajitlan-Latin1',\n",
              " 'Chinanteco-UTF8',\n",
              " 'Chinese_Mandarin-GB2312',\n",
              " 'Chuuk_Trukese-Latin1',\n",
              " 'Cokwe-Latin1',\n",
              " 'Corsican-Latin1',\n",
              " 'Croatian_Hrvatski-Latin2',\n",
              " 'Czech-Latin2',\n",
              " 'Czech-UTF8',\n",
              " 'Czech_Cesky-Latin2',\n",
              " 'Czech_Cesky-UTF8',\n",
              " 'Dagaare-UTF8',\n",
              " 'Dagbani-UTF8',\n",
              " 'Dangme-UTF8',\n",
              " 'Danish_Dansk-Latin1',\n",
              " 'Dendi-UTF8',\n",
              " 'Ditammari-UTF8',\n",
              " 'Dutch_Nederlands-Latin1',\n",
              " 'Edo-Latin1',\n",
              " 'English-Latin1',\n",
              " 'Esperanto-UTF8',\n",
              " 'Estonian_Eesti-Latin1',\n",
              " 'Ewe_Eve-UTF8',\n",
              " 'Fante-UTF8',\n",
              " 'Faroese-Latin1',\n",
              " 'Farsi_Persian-UTF8',\n",
              " 'Farsi_Persian-v2-UTF8',\n",
              " 'Fijian-Latin1',\n",
              " 'Filipino_Tagalog-Latin1',\n",
              " 'Finnish_Suomi-Latin1',\n",
              " 'Fon-UTF8',\n",
              " 'French_Francais-Latin1',\n",
              " 'Frisian-Latin1',\n",
              " 'Friulian_Friulano-Latin1',\n",
              " 'Ga-UTF8',\n",
              " 'Gagauz_Gagauzi-UTF8',\n",
              " 'Galician_Galego-Latin1',\n",
              " 'Garifuna_Garifuna-Latin1',\n",
              " 'German_Deutsch-Latin1',\n",
              " 'Gonja-UTF8',\n",
              " 'Greek_Ellinika-Greek',\n",
              " 'Greek_Ellinika-UTF8',\n",
              " 'Greenlandic_Inuktikut-Latin1',\n",
              " 'Guarani-Latin1',\n",
              " 'Guen_Mina-UTF8',\n",
              " 'HaitianCreole_Kreyol-Latin1',\n",
              " 'HaitianCreole_Popular-Latin1',\n",
              " 'Hani-Latin1',\n",
              " 'Hausa_Haoussa-Latin1',\n",
              " 'Hawaiian-UTF8',\n",
              " 'Hebrew_Ivrit-Hebrew',\n",
              " 'Hebrew_Ivrit-UTF8',\n",
              " 'Hiligaynon-Latin1',\n",
              " 'Hindi-UTF8',\n",
              " 'Hindi_web-UTF8',\n",
              " 'Hmong_Miao-Sichuan-Guizhou-Yunnan-Latin1',\n",
              " 'Hmong_Miao-SouthernEast-Guizhou-Latin1',\n",
              " 'Hmong_Miao_Northern-East-Guizhou-Latin1',\n",
              " 'Hrvatski_Croatian-Latin2',\n",
              " 'Huasteco-Latin1',\n",
              " 'Huitoto_Murui-Latin1',\n",
              " 'Hungarian_Magyar-Latin1',\n",
              " 'Hungarian_Magyar-Latin2',\n",
              " 'Hungarian_Magyar-UTF8',\n",
              " 'Ibibio_Efik-Latin1',\n",
              " 'Icelandic_Yslenska-Latin1',\n",
              " 'Ido-Latin1',\n",
              " 'Igbo-UTF8',\n",
              " 'Iloko_Ilocano-Latin1',\n",
              " 'Indonesian-Latin1',\n",
              " 'Interlingua-Latin1',\n",
              " 'Inuktikut_Greenlandic-Latin1',\n",
              " 'IrishGaelic_Gaeilge-Latin1',\n",
              " 'Italian-Latin1',\n",
              " 'Italian_Italiano-Latin1',\n",
              " 'Japanese_Nihongo-EUC',\n",
              " 'Japanese_Nihongo-SJIS',\n",
              " 'Japanese_Nihongo-UTF8',\n",
              " 'Javanese-Latin1',\n",
              " 'Jola-Fogny_Diola-UTF8',\n",
              " 'Kabye-UTF8',\n",
              " 'Kannada-UTF8',\n",
              " 'Kaonde-Latin1',\n",
              " 'Kapampangan-Latin1',\n",
              " 'Kasem-UTF8',\n",
              " 'Kazakh-Cyrillic',\n",
              " 'Kazakh-UTF8',\n",
              " 'Kiche_Quiche-Latin1',\n",
              " 'Kicongo-Latin1',\n",
              " 'Kimbundu_Mbundu-Latin1',\n",
              " 'Kinyamwezi_Nyamwezi-Latin1',\n",
              " 'Kinyarwanda-Latin1',\n",
              " 'Kituba-Latin1',\n",
              " 'Korean_Hankuko-UTF8',\n",
              " 'Kpelewo-UTF8',\n",
              " 'Krio-UTF8',\n",
              " 'Kurdish-UTF8',\n",
              " 'Lamnso_Lam-nso-UTF8',\n",
              " 'Latin_Latina-Latin1',\n",
              " 'Latin_Latina-v2-Latin1',\n",
              " 'Latvian-Latin1',\n",
              " 'Limba-UTF8',\n",
              " 'Lingala-Latin1',\n",
              " 'Lithuanian_Lietuviskai-Baltic',\n",
              " 'Lozi-Latin1',\n",
              " 'Luba-Kasai_Tshiluba-Latin1',\n",
              " 'Luganda_Ganda-Latin1',\n",
              " 'Lunda_Chokwe-lunda-Latin1',\n",
              " 'Luvale-Latin1',\n",
              " 'Luxembourgish_Letzebuergeusch-Latin1',\n",
              " 'Macedonian-UTF8',\n",
              " 'Madurese-Latin1',\n",
              " 'Makonde-Latin1',\n",
              " 'Malagasy-Latin1',\n",
              " 'Malay_BahasaMelayu-Latin1',\n",
              " 'Maltese-UTF8',\n",
              " 'Mam-Latin1',\n",
              " 'Maninka-UTF8',\n",
              " 'Maori-Latin1',\n",
              " 'Mapudungun_Mapuzgun-Latin1',\n",
              " 'Mapudungun_Mapuzgun-UTF8',\n",
              " 'Marshallese-Latin1',\n",
              " 'Matses-Latin1',\n",
              " 'Mayan_Yucateco-Latin1',\n",
              " 'Mazahua_Jnatrjo-UTF8',\n",
              " 'Mazateco-Latin1',\n",
              " 'Mende-UTF8',\n",
              " 'Mikmaq_Micmac-Mikmaq-Latin1',\n",
              " 'Minangkabau-Latin1',\n",
              " 'Miskito_Miskito-Latin1',\n",
              " 'Mixteco-Latin1',\n",
              " 'Mongolian_Khalkha-Cyrillic',\n",
              " 'Mongolian_Khalkha-UTF8',\n",
              " 'Moore_More-UTF8',\n",
              " 'Nahuatl-Latin1',\n",
              " 'Ndebele-Latin1',\n",
              " 'Nepali-UTF8',\n",
              " 'Ngangela_Nyemba-Latin1',\n",
              " 'NigerianPidginEnglish-Latin1',\n",
              " 'Nomatsiguenga-Latin1',\n",
              " 'NorthernSotho_Pedi-Sepedi-Latin1',\n",
              " 'Norwegian-Latin1',\n",
              " 'Norwegian_Norsk-Bokmal-Latin1',\n",
              " 'Norwegian_Norsk-Nynorsk-Latin1',\n",
              " 'Nyanja_Chechewa-Latin1',\n",
              " 'Nyanja_Chinyanja-Latin1',\n",
              " 'Nzema-UTF8',\n",
              " 'OccitanAuvergnat-Latin1',\n",
              " 'OccitanLanguedocien-Latin1',\n",
              " 'Oromiffa_AfaanOromo-Latin1',\n",
              " 'Osetin_Ossetian-UTF8',\n",
              " 'Oshiwambo_Ndonga-Latin1',\n",
              " 'Otomi_Nahnu-Latin1',\n",
              " 'Paez-Latin1',\n",
              " 'Palauan-Latin1',\n",
              " 'Peuhl-UTF8',\n",
              " 'Picard-Latin1',\n",
              " 'Pipil-Latin1',\n",
              " 'Polish-Latin2',\n",
              " 'Polish_Polski-Latin2',\n",
              " 'Ponapean-Latin1',\n",
              " 'Portuguese_Portugues-Latin1',\n",
              " 'Pulaar-UTF8',\n",
              " 'Punjabi_Panjabi-UTF8',\n",
              " 'Purhepecha-UTF8',\n",
              " 'Qechi_Kekchi-Latin1',\n",
              " 'Quechua-Latin1',\n",
              " 'Quichua-Latin1',\n",
              " 'Rarotongan_MaoriCookIslands-Latin1',\n",
              " 'Rhaeto-Romance_Rumantsch-Latin1',\n",
              " 'Romani-Latin1',\n",
              " 'Romani-UTF8',\n",
              " 'Romanian-Latin2',\n",
              " 'Romanian_Romana-Latin2',\n",
              " 'Rukonzo_Konjo-Latin1',\n",
              " 'Rundi_Kirundi-Latin1',\n",
              " 'Runyankore-rukiga_Nkore-kiga-Latin1',\n",
              " 'Russian-Cyrillic',\n",
              " 'Russian-UTF8',\n",
              " 'Russian_Russky-Cyrillic',\n",
              " 'Russian_Russky-UTF8',\n",
              " 'Sami_Lappish-UTF8',\n",
              " 'Sammarinese-Latin1',\n",
              " 'Samoan-Latin1',\n",
              " 'Sango_Sangho-Latin1',\n",
              " 'Sanskrit-UTF8',\n",
              " 'Saraiki-UTF8',\n",
              " 'Sardinian-Latin1',\n",
              " 'ScottishGaelic_GaidhligAlbanach-Latin1',\n",
              " 'Seereer-UTF8',\n",
              " 'Serbian_Srpski-Cyrillic',\n",
              " 'Serbian_Srpski-Latin2',\n",
              " 'Serbian_Srpski-UTF8',\n",
              " 'Sharanahua-Latin1',\n",
              " 'Shipibo-Conibo-Latin1',\n",
              " 'Shona-Latin1',\n",
              " 'Sinhala-UTF8',\n",
              " 'Siswati-Latin1',\n",
              " 'Slovak-Latin2',\n",
              " 'Slovak_Slovencina-Latin2',\n",
              " 'Slovenian_Slovenscina-Latin2',\n",
              " 'SolomonsPidgin_Pijin-Latin1',\n",
              " 'Somali-Latin1',\n",
              " 'Soninke_Soninkanxaane-UTF8',\n",
              " 'Sorbian-Latin2',\n",
              " 'SouthernSotho_Sotho-Sesotho-Sutu-Sesutu-Latin1',\n",
              " 'Spanish-Latin1',\n",
              " 'Spanish_Espanol-Latin1',\n",
              " 'Sukuma-Latin1',\n",
              " 'Sundanese-Latin1',\n",
              " 'Sussu_Soussou-Sosso-Soso-Susu-UTF8',\n",
              " 'Swaheli-Latin1',\n",
              " 'Swahili_Kiswahili-Latin1',\n",
              " 'Swedish_Svenska-Latin1',\n",
              " 'Tahitian-UTF8',\n",
              " 'Tenek_Huasteco-Latin1',\n",
              " 'Tetum-Latin1',\n",
              " 'Themne_Temne-UTF8',\n",
              " 'Tiv-Latin1',\n",
              " 'Toba-UTF8',\n",
              " 'Tojol-abal-Latin1',\n",
              " 'TokPisin-Latin1',\n",
              " 'Tonga-Latin1',\n",
              " 'Tongan_Tonga-Latin1',\n",
              " 'Totonaco-Latin1',\n",
              " 'Trukese_Chuuk-Latin1',\n",
              " 'Turkish_Turkce-Turkish',\n",
              " 'Turkish_Turkce-UTF8',\n",
              " 'Tzeltal-Latin1',\n",
              " 'Tzotzil-Latin1',\n",
              " 'Uighur_Uyghur-Latin1',\n",
              " 'Uighur_Uyghur-UTF8',\n",
              " 'Ukrainian-Cyrillic',\n",
              " 'Ukrainian-UTF8',\n",
              " 'Umbundu-Latin1',\n",
              " 'Urarina-Latin1',\n",
              " 'Uzbek-Latin1',\n",
              " 'Vietnamese-ALRN-UTF8',\n",
              " 'Vietnamese-UTF8',\n",
              " 'Vlach-Latin1',\n",
              " 'Walloon_Wallon-Latin1',\n",
              " 'Wama-UTF8',\n",
              " 'Waray-Latin1',\n",
              " 'Wayuu-Latin1',\n",
              " 'Welsh_Cymraeg-Latin1',\n",
              " 'WesternSotho_Tswana-Setswana-Latin1',\n",
              " 'Wolof-Latin1',\n",
              " 'Xhosa-Latin1',\n",
              " 'Yagua-Latin1',\n",
              " 'Yao-Latin1',\n",
              " 'Yapese-Latin1',\n",
              " 'Yoruba-UTF8',\n",
              " 'Zapoteco-Latin1',\n",
              " 'Zapoteco-SanLucasQuiavini-Latin1',\n",
              " 'Zhuang-Latin1',\n",
              " 'Zulu-Latin1']"
            ]
          },
          "metadata": {
            "tags": []
          },
          "execution_count": 21
        }
      ]
    },
    {
      "cell_type": "code",
      "metadata": {
        "colab": {
          "base_uri": "https://localhost:8080/"
        },
        "id": "bhME4Br6zjGn",
        "outputId": "b0efefca-c612-4751-c92b-6ee3325ae0a8"
      },
      "source": [
        "nltk.corpus.udhr.words('Javanese-Latin1')[11:]"
      ],
      "execution_count": null,
      "outputs": [
        {
          "output_type": "execute_result",
          "data": {
            "text/plain": [
              "['Saben', 'umat', 'manungsa', 'lair', 'kanthi', 'hak', ...]"
            ]
          },
          "metadata": {
            "tags": []
          },
          "execution_count": 22
        }
      ]
    },
    {
      "cell_type": "code",
      "metadata": {
        "id": "EXPhGSrMzoLu"
      },
      "source": [
        "from nltk.corpus import udhr\n",
        "languages = ['Chickasaw', 'English', 'German_Deutsch','Greenlandic_Inuktikut', 'Hungarian_Magyar', 'Ibibio_Efik']"
      ],
      "execution_count": null,
      "outputs": []
    },
    {
      "cell_type": "code",
      "metadata": {
        "colab": {
          "base_uri": "https://localhost:8080/",
          "height": 282
        },
        "id": "EiUDWc5azroF",
        "outputId": "03a0956c-2b39-4930-cdef-403138133e51"
      },
      "source": [
        "cfd = nltk.ConditionalFreqDist(\n",
        "...           (lang, len(word))\n",
        "...           for lang in languages\n",
        "...           for word in udhr.words(lang + '-Latin1'))\n",
        "cfd.plot(cumulative=True)"
      ],
      "execution_count": null,
      "outputs": [
        {
          "output_type": "display_data",
          "data": {
            "image/png": "[encoded data removed]",
            "text/plain": [
              "<Figure size 432x288 with 1 Axes>"
            ]
          },
          "metadata": {
            "tags": [],
            "needs_background": "light"
          }
        }
      ]
    },
    {
      "cell_type": "markdown",
      "metadata": {
        "id": "JPub9qbvzvhP"
      },
      "source": [
        "***Text Corpus Structure***"
      ]
    },
    {
      "cell_type": "code",
      "metadata": {
        "colab": {
          "base_uri": "https://localhost:8080/",
          "height": 35
        },
        "id": "Lo74rOsFzyy2",
        "outputId": "b60a82ef-100f-48b6-dbde-e4d20546a488"
      },
      "source": [
        "raw = gutenberg.raw(\"burgess-busterbrown.txt\")\n",
        "raw[1:20]"
      ],
      "execution_count": null,
      "outputs": [
        {
          "output_type": "execute_result",
          "data": {
            "application/vnd.google.colaboratory.intrinsic+json": {
              "type": "string"
            },
            "text/plain": [
              "'The Adventures of B'"
            ]
          },
          "metadata": {
            "tags": []
          },
          "execution_count": 25
        }
      ]
    },
    {
      "cell_type": "code",
      "metadata": {
        "colab": {
          "base_uri": "https://localhost:8080/"
        },
        "id": "Q7j_wS0Mz1Qs",
        "outputId": "1292a18b-289a-4b64-b722-d9548bea46cc"
      },
      "source": [
        "words = gutenberg.words(\"burgess-busterbrown.txt\")\n",
        "words[1:20]"
      ],
      "execution_count": null,
      "outputs": [
        {
          "output_type": "execute_result",
          "data": {
            "text/plain": [
              "['The',\n",
              " 'Adventures',\n",
              " 'of',\n",
              " 'Buster',\n",
              " 'Bear',\n",
              " 'by',\n",
              " 'Thornton',\n",
              " 'W',\n",
              " '.',\n",
              " 'Burgess',\n",
              " '1920',\n",
              " ']',\n",
              " 'I',\n",
              " 'BUSTER',\n",
              " 'BEAR',\n",
              " 'GOES',\n",
              " 'FISHING',\n",
              " 'Buster',\n",
              " 'Bear']"
            ]
          },
          "metadata": {
            "tags": []
          },
          "execution_count": 26
        }
      ]
    },
    {
      "cell_type": "code",
      "metadata": {
        "colab": {
          "base_uri": "https://localhost:8080/"
        },
        "id": "XiKltemuz5sV",
        "outputId": "30dbc131-9a91-4931-9c69-01b53fcae371"
      },
      "source": [
        "sents = gutenberg.sents(\"burgess-busterbrown.txt\")\n",
        "sents[1:20]"
      ],
      "execution_count": null,
      "outputs": [
        {
          "output_type": "execute_result",
          "data": {
            "text/plain": [
              "[['I'],\n",
              " ['BUSTER', 'BEAR', 'GOES', 'FISHING'],\n",
              " ['Buster',\n",
              "  'Bear',\n",
              "  'yawned',\n",
              "  'as',\n",
              "  'he',\n",
              "  'lay',\n",
              "  'on',\n",
              "  'his',\n",
              "  'comfortable',\n",
              "  'bed',\n",
              "  'of',\n",
              "  'leaves',\n",
              "  'and',\n",
              "  'watched',\n",
              "  'the',\n",
              "  'first',\n",
              "  'early',\n",
              "  'morning',\n",
              "  'sunbeams',\n",
              "  'creeping',\n",
              "  'through',\n",
              "  'the',\n",
              "  'Green',\n",
              "  'Forest',\n",
              "  'to',\n",
              "  'chase',\n",
              "  'out',\n",
              "  'the',\n",
              "  'Black',\n",
              "  'Shadows',\n",
              "  '.'],\n",
              " ['Once',\n",
              "  'more',\n",
              "  'he',\n",
              "  'yawned',\n",
              "  ',',\n",
              "  'and',\n",
              "  'slowly',\n",
              "  'got',\n",
              "  'to',\n",
              "  'his',\n",
              "  'feet',\n",
              "  'and',\n",
              "  'shook',\n",
              "  'himself',\n",
              "  '.'],\n",
              " ['Then',\n",
              "  'he',\n",
              "  'walked',\n",
              "  'over',\n",
              "  'to',\n",
              "  'a',\n",
              "  'big',\n",
              "  'pine',\n",
              "  '-',\n",
              "  'tree',\n",
              "  ',',\n",
              "  'stood',\n",
              "  'up',\n",
              "  'on',\n",
              "  'his',\n",
              "  'hind',\n",
              "  'legs',\n",
              "  ',',\n",
              "  'reached',\n",
              "  'as',\n",
              "  'high',\n",
              "  'up',\n",
              "  'on',\n",
              "  'the',\n",
              "  'trunk',\n",
              "  'of',\n",
              "  'the',\n",
              "  'tree',\n",
              "  'as',\n",
              "  'he',\n",
              "  'could',\n",
              "  ',',\n",
              "  'and',\n",
              "  'scratched',\n",
              "  'the',\n",
              "  'bark',\n",
              "  'with',\n",
              "  'his',\n",
              "  'great',\n",
              "  'claws',\n",
              "  '.'],\n",
              " ['After',\n",
              "  'that',\n",
              "  'he',\n",
              "  'yawned',\n",
              "  'until',\n",
              "  'it',\n",
              "  'seemed',\n",
              "  'as',\n",
              "  'if',\n",
              "  'his',\n",
              "  'jaws',\n",
              "  'would',\n",
              "  'crack',\n",
              "  ',',\n",
              "  'and',\n",
              "  'then',\n",
              "  'sat',\n",
              "  'down',\n",
              "  'to',\n",
              "  'think',\n",
              "  'what',\n",
              "  'he',\n",
              "  'wanted',\n",
              "  'for',\n",
              "  'breakfast',\n",
              "  '.'],\n",
              " ['While',\n",
              "  'he',\n",
              "  'sat',\n",
              "  'there',\n",
              "  ',',\n",
              "  'trying',\n",
              "  'to',\n",
              "  'make',\n",
              "  'up',\n",
              "  'his',\n",
              "  'mind',\n",
              "  'what',\n",
              "  'would',\n",
              "  'taste',\n",
              "  'best',\n",
              "  ',',\n",
              "  'he',\n",
              "  'was',\n",
              "  'listening',\n",
              "  'to',\n",
              "  'the',\n",
              "  'sounds',\n",
              "  'that',\n",
              "  'told',\n",
              "  'of',\n",
              "  'the',\n",
              "  'waking',\n",
              "  'of',\n",
              "  'all',\n",
              "  'the',\n",
              "  'little',\n",
              "  'people',\n",
              "  'who',\n",
              "  'live',\n",
              "  'in',\n",
              "  'the',\n",
              "  'Green',\n",
              "  'Forest',\n",
              "  '.'],\n",
              " ['He',\n",
              "  'heard',\n",
              "  'Sammy',\n",
              "  'Jay',\n",
              "  'way',\n",
              "  'off',\n",
              "  'in',\n",
              "  'the',\n",
              "  'distance',\n",
              "  'screaming',\n",
              "  ',',\n",
              "  '\"',\n",
              "  'Thief',\n",
              "  '!'],\n",
              " ['Thief', '!\"'],\n",
              " ['and', 'grinned', '.'],\n",
              " ['\"',\n",
              "  'I',\n",
              "  'wonder',\n",
              "  ',\"',\n",
              "  'thought',\n",
              "  'Buster',\n",
              "  ',',\n",
              "  '\"',\n",
              "  'if',\n",
              "  'some',\n",
              "  'one',\n",
              "  'has',\n",
              "  'stolen',\n",
              "  'Sammy',\n",
              "  \"'\",\n",
              "  's',\n",
              "  'breakfast',\n",
              "  ',',\n",
              "  'or',\n",
              "  'if',\n",
              "  'he',\n",
              "  'has',\n",
              "  'stolen',\n",
              "  'the',\n",
              "  'breakfast',\n",
              "  'of',\n",
              "  'some',\n",
              "  'one',\n",
              "  'else',\n",
              "  '.'],\n",
              " ['Probably', 'he', 'is', 'the', 'thief', 'himself', '.\"'],\n",
              " ['He',\n",
              "  'heard',\n",
              "  'Chatterer',\n",
              "  'the',\n",
              "  'Red',\n",
              "  'Squirrel',\n",
              "  'scolding',\n",
              "  'as',\n",
              "  'fast',\n",
              "  'as',\n",
              "  'he',\n",
              "  'could',\n",
              "  'make',\n",
              "  'his',\n",
              "  'tongue',\n",
              "  'go',\n",
              "  'and',\n",
              "  'working',\n",
              "  'himself',\n",
              "  'into',\n",
              "  'a',\n",
              "  'terrible',\n",
              "  'rage',\n",
              "  '.'],\n",
              " ['\"',\n",
              "  'Must',\n",
              "  'be',\n",
              "  'that',\n",
              "  'Chatterer',\n",
              "  'got',\n",
              "  'out',\n",
              "  'of',\n",
              "  'bed',\n",
              "  'the',\n",
              "  'wrong',\n",
              "  'way',\n",
              "  'this',\n",
              "  'morning',\n",
              "  ',\"',\n",
              "  'thought',\n",
              "  'he',\n",
              "  '.'],\n",
              " ['He',\n",
              "  'heard',\n",
              "  'Blacky',\n",
              "  'the',\n",
              "  'Crow',\n",
              "  'cawing',\n",
              "  'at',\n",
              "  'the',\n",
              "  'top',\n",
              "  'of',\n",
              "  'his',\n",
              "  'lungs',\n",
              "  ',',\n",
              "  'and',\n",
              "  'he',\n",
              "  'knew',\n",
              "  'by',\n",
              "  'the',\n",
              "  'sound',\n",
              "  'that',\n",
              "  'Blacky',\n",
              "  'was',\n",
              "  'getting',\n",
              "  'into',\n",
              "  'mischief',\n",
              "  'of',\n",
              "  'some',\n",
              "  'kind',\n",
              "  '.'],\n",
              " ['He',\n",
              "  'heard',\n",
              "  'the',\n",
              "  'sweet',\n",
              "  'voices',\n",
              "  'of',\n",
              "  'happy',\n",
              "  'little',\n",
              "  'singers',\n",
              "  ',',\n",
              "  'and',\n",
              "  'they',\n",
              "  'were',\n",
              "  'good',\n",
              "  'to',\n",
              "  'hear',\n",
              "  '.'],\n",
              " ['But',\n",
              "  'most',\n",
              "  'of',\n",
              "  'all',\n",
              "  'he',\n",
              "  'listened',\n",
              "  'to',\n",
              "  'a',\n",
              "  'merry',\n",
              "  ',',\n",
              "  'low',\n",
              "  ',',\n",
              "  'silvery',\n",
              "  'laugh',\n",
              "  'that',\n",
              "  'never',\n",
              "  'stopped',\n",
              "  'but',\n",
              "  'went',\n",
              "  'on',\n",
              "  'and',\n",
              "  'on',\n",
              "  ',',\n",
              "  'until',\n",
              "  'he',\n",
              "  'just',\n",
              "  'felt',\n",
              "  'as',\n",
              "  'if',\n",
              "  'he',\n",
              "  'must',\n",
              "  'laugh',\n",
              "  'too',\n",
              "  '.'],\n",
              " ['It', 'was', 'the', 'voice', 'of', 'the', 'Laughing', 'Brook', '.'],\n",
              " ['And',\n",
              "  'as',\n",
              "  'Buster',\n",
              "  'listened',\n",
              "  'it',\n",
              "  'suddenly',\n",
              "  'came',\n",
              "  'to',\n",
              "  'him',\n",
              "  'just',\n",
              "  'what',\n",
              "  'he',\n",
              "  'wanted',\n",
              "  'for',\n",
              "  'breakfast',\n",
              "  '.']]"
            ]
          },
          "metadata": {
            "tags": []
          },
          "execution_count": 27
        }
      ]
    },
    {
      "cell_type": "markdown",
      "metadata": {
        "id": "9KusmAuc0Ckv"
      },
      "source": [
        "**Loading your own Corpus**"
      ]
    },
    {
      "cell_type": "code",
      "metadata": {
        "id": "xSy9i8SY0bG1",
        "colab": {
          "base_uri": "https://localhost:8080/",
          "height": 370
        },
        "outputId": "9b143f07-d4c6-4ac6-ffbf-e1714a758c88"
      },
      "source": [
        "from nltk.corpus import BracketParseCorpusReader\n",
        "corpus_root = r\"C:\\corpora\\penntreebank\\parsed\\mrg\\wsj\"\n",
        "file_pattern = r\".*/wsj_.*\\.mrg\"\n",
        "ptb = BracketParseCorpusReader(corpus_root, file_pattern)\n",
        "ptb.fileids()"
      ],
      "execution_count": null,
      "outputs": [
        {
          "output_type": "error",
          "ename": "OSError",
          "evalue": "ignored",
          "traceback": [
            "\u001b[0;31m---------------------------------------------------------------------------\u001b[0m",
            "\u001b[0;31mOSError\u001b[0m                                   Traceback (most recent call last)",
            "\u001b[0;32m<ipython-input-2-0731208e94d7>\u001b[0m in \u001b[0;36m<module>\u001b[0;34m()\u001b[0m\n\u001b[1;32m      2\u001b[0m \u001b[0mcorpus_root\u001b[0m \u001b[0;34m=\u001b[0m \u001b[0;34mr\"C:\\corpora\\penntreebank\\parsed\\mrg\\wsj\"\u001b[0m\u001b[0;34m\u001b[0m\u001b[0;34m\u001b[0m\u001b[0m\n\u001b[1;32m      3\u001b[0m \u001b[0mfile_pattern\u001b[0m \u001b[0;34m=\u001b[0m \u001b[0;34mr\".*/wsj_.*\\.mrg\"\u001b[0m\u001b[0;34m\u001b[0m\u001b[0;34m\u001b[0m\u001b[0m\n\u001b[0;32m----> 4\u001b[0;31m \u001b[0mptb\u001b[0m \u001b[0;34m=\u001b[0m \u001b[0mBracketParseCorpusReader\u001b[0m\u001b[0;34m(\u001b[0m\u001b[0mcorpus_root\u001b[0m\u001b[0;34m,\u001b[0m \u001b[0mfile_pattern\u001b[0m\u001b[0;34m)\u001b[0m\u001b[0;34m\u001b[0m\u001b[0;34m\u001b[0m\u001b[0m\n\u001b[0m\u001b[1;32m      5\u001b[0m \u001b[0mptb\u001b[0m\u001b[0;34m.\u001b[0m\u001b[0mfileids\u001b[0m\u001b[0;34m(\u001b[0m\u001b[0;34m)\u001b[0m\u001b[0;34m\u001b[0m\u001b[0;34m\u001b[0m\u001b[0m\n",
            "\u001b[0;32m/usr/local/lib/python3.7/dist-packages/nltk/corpus/reader/bracket_parse.py\u001b[0m in \u001b[0;36m__init__\u001b[0;34m(self, root, fileids, comment_char, detect_blocks, encoding, tagset)\u001b[0m\n\u001b[1;32m     47\u001b[0m               \u001b[0mtagged_\u001b[0m\u001b[0;34m...\u001b[0m\u001b[0;34m(\u001b[0m\u001b[0;34m)\u001b[0m \u001b[0mmethods\u001b[0m\u001b[0;34m.\u001b[0m\u001b[0;34m\u001b[0m\u001b[0;34m\u001b[0m\u001b[0m\n\u001b[1;32m     48\u001b[0m         \"\"\"\n\u001b[0;32m---> 49\u001b[0;31m         \u001b[0mCorpusReader\u001b[0m\u001b[0;34m.\u001b[0m\u001b[0m__init__\u001b[0m\u001b[0;34m(\u001b[0m\u001b[0mself\u001b[0m\u001b[0;34m,\u001b[0m \u001b[0mroot\u001b[0m\u001b[0;34m,\u001b[0m \u001b[0mfileids\u001b[0m\u001b[0;34m,\u001b[0m \u001b[0mencoding\u001b[0m\u001b[0;34m)\u001b[0m\u001b[0;34m\u001b[0m\u001b[0;34m\u001b[0m\u001b[0m\n\u001b[0m\u001b[1;32m     50\u001b[0m         \u001b[0mself\u001b[0m\u001b[0;34m.\u001b[0m\u001b[0m_comment_char\u001b[0m \u001b[0;34m=\u001b[0m \u001b[0mcomment_char\u001b[0m\u001b[0;34m\u001b[0m\u001b[0;34m\u001b[0m\u001b[0m\n\u001b[1;32m     51\u001b[0m         \u001b[0mself\u001b[0m\u001b[0;34m.\u001b[0m\u001b[0m_detect_blocks\u001b[0m \u001b[0;34m=\u001b[0m \u001b[0mdetect_blocks\u001b[0m\u001b[0;34m\u001b[0m\u001b[0;34m\u001b[0m\u001b[0m\n",
            "\u001b[0;32m/usr/local/lib/python3.7/dist-packages/nltk/corpus/reader/api.py\u001b[0m in \u001b[0;36m__init__\u001b[0;34m(self, root, fileids, encoding, tagset)\u001b[0m\n\u001b[1;32m     82\u001b[0m                 \u001b[0mroot\u001b[0m \u001b[0;34m=\u001b[0m \u001b[0mZipFilePathPointer\u001b[0m\u001b[0;34m(\u001b[0m\u001b[0mzipfile\u001b[0m\u001b[0;34m,\u001b[0m \u001b[0mzipentry\u001b[0m\u001b[0;34m)\u001b[0m\u001b[0;34m\u001b[0m\u001b[0;34m\u001b[0m\u001b[0m\n\u001b[1;32m     83\u001b[0m             \u001b[0;32melse\u001b[0m\u001b[0;34m:\u001b[0m\u001b[0;34m\u001b[0m\u001b[0;34m\u001b[0m\u001b[0m\n\u001b[0;32m---> 84\u001b[0;31m                 \u001b[0mroot\u001b[0m \u001b[0;34m=\u001b[0m \u001b[0mFileSystemPathPointer\u001b[0m\u001b[0;34m(\u001b[0m\u001b[0mroot\u001b[0m\u001b[0;34m)\u001b[0m\u001b[0;34m\u001b[0m\u001b[0;34m\u001b[0m\u001b[0m\n\u001b[0m\u001b[1;32m     85\u001b[0m         \u001b[0;32melif\u001b[0m \u001b[0;32mnot\u001b[0m \u001b[0misinstance\u001b[0m\u001b[0;34m(\u001b[0m\u001b[0mroot\u001b[0m\u001b[0;34m,\u001b[0m \u001b[0mPathPointer\u001b[0m\u001b[0;34m)\u001b[0m\u001b[0;34m:\u001b[0m\u001b[0;34m\u001b[0m\u001b[0;34m\u001b[0m\u001b[0m\n\u001b[1;32m     86\u001b[0m             \u001b[0;32mraise\u001b[0m \u001b[0mTypeError\u001b[0m\u001b[0;34m(\u001b[0m\u001b[0;34m'CorpusReader: expected a string or a PathPointer'\u001b[0m\u001b[0;34m)\u001b[0m\u001b[0;34m\u001b[0m\u001b[0;34m\u001b[0m\u001b[0m\n",
            "\u001b[0;32m/usr/local/lib/python3.7/dist-packages/nltk/compat.py\u001b[0m in \u001b[0;36m_decorator\u001b[0;34m(*args, **kwargs)\u001b[0m\n\u001b[1;32m    219\u001b[0m     \u001b[0;32mdef\u001b[0m \u001b[0m_decorator\u001b[0m\u001b[0;34m(\u001b[0m\u001b[0;34m*\u001b[0m\u001b[0margs\u001b[0m\u001b[0;34m,\u001b[0m \u001b[0;34m**\u001b[0m\u001b[0mkwargs\u001b[0m\u001b[0;34m)\u001b[0m\u001b[0;34m:\u001b[0m\u001b[0;34m\u001b[0m\u001b[0;34m\u001b[0m\u001b[0m\n\u001b[1;32m    220\u001b[0m         \u001b[0margs\u001b[0m \u001b[0;34m=\u001b[0m \u001b[0;34m(\u001b[0m\u001b[0margs\u001b[0m\u001b[0;34m[\u001b[0m\u001b[0;36m0\u001b[0m\u001b[0;34m]\u001b[0m\u001b[0;34m,\u001b[0m \u001b[0madd_py3_data\u001b[0m\u001b[0;34m(\u001b[0m\u001b[0margs\u001b[0m\u001b[0;34m[\u001b[0m\u001b[0;36m1\u001b[0m\u001b[0;34m]\u001b[0m\u001b[0;34m)\u001b[0m\u001b[0;34m)\u001b[0m \u001b[0;34m+\u001b[0m \u001b[0margs\u001b[0m\u001b[0;34m[\u001b[0m\u001b[0;36m2\u001b[0m\u001b[0;34m:\u001b[0m\u001b[0;34m]\u001b[0m\u001b[0;34m\u001b[0m\u001b[0;34m\u001b[0m\u001b[0m\n\u001b[0;32m--> 221\u001b[0;31m         \u001b[0;32mreturn\u001b[0m \u001b[0minit_func\u001b[0m\u001b[0;34m(\u001b[0m\u001b[0;34m*\u001b[0m\u001b[0margs\u001b[0m\u001b[0;34m,\u001b[0m \u001b[0;34m**\u001b[0m\u001b[0mkwargs\u001b[0m\u001b[0;34m)\u001b[0m\u001b[0;34m\u001b[0m\u001b[0;34m\u001b[0m\u001b[0m\n\u001b[0m\u001b[1;32m    222\u001b[0m     \u001b[0;32mreturn\u001b[0m \u001b[0mwraps\u001b[0m\u001b[0;34m(\u001b[0m\u001b[0minit_func\u001b[0m\u001b[0;34m)\u001b[0m\u001b[0;34m(\u001b[0m\u001b[0m_decorator\u001b[0m\u001b[0;34m)\u001b[0m\u001b[0;34m\u001b[0m\u001b[0;34m\u001b[0m\u001b[0m\n\u001b[1;32m    223\u001b[0m \u001b[0;34m\u001b[0m\u001b[0m\n",
            "\u001b[0;32m/usr/local/lib/python3.7/dist-packages/nltk/data.py\u001b[0m in \u001b[0;36m__init__\u001b[0;34m(self, _path)\u001b[0m\n\u001b[1;32m    314\u001b[0m         \u001b[0m_path\u001b[0m \u001b[0;34m=\u001b[0m \u001b[0mos\u001b[0m\u001b[0;34m.\u001b[0m\u001b[0mpath\u001b[0m\u001b[0;34m.\u001b[0m\u001b[0mabspath\u001b[0m\u001b[0;34m(\u001b[0m\u001b[0m_path\u001b[0m\u001b[0;34m)\u001b[0m\u001b[0;34m\u001b[0m\u001b[0;34m\u001b[0m\u001b[0m\n\u001b[1;32m    315\u001b[0m         \u001b[0;32mif\u001b[0m \u001b[0;32mnot\u001b[0m \u001b[0mos\u001b[0m\u001b[0;34m.\u001b[0m\u001b[0mpath\u001b[0m\u001b[0;34m.\u001b[0m\u001b[0mexists\u001b[0m\u001b[0;34m(\u001b[0m\u001b[0m_path\u001b[0m\u001b[0;34m)\u001b[0m\u001b[0;34m:\u001b[0m\u001b[0;34m\u001b[0m\u001b[0;34m\u001b[0m\u001b[0m\n\u001b[0;32m--> 316\u001b[0;31m             \u001b[0;32mraise\u001b[0m \u001b[0mIOError\u001b[0m\u001b[0;34m(\u001b[0m\u001b[0;34m'No such file or directory: %r'\u001b[0m \u001b[0;34m%\u001b[0m \u001b[0m_path\u001b[0m\u001b[0;34m)\u001b[0m\u001b[0;34m\u001b[0m\u001b[0;34m\u001b[0m\u001b[0m\n\u001b[0m\u001b[1;32m    317\u001b[0m         \u001b[0mself\u001b[0m\u001b[0;34m.\u001b[0m\u001b[0m_path\u001b[0m \u001b[0;34m=\u001b[0m \u001b[0m_path\u001b[0m\u001b[0;34m\u001b[0m\u001b[0;34m\u001b[0m\u001b[0m\n\u001b[1;32m    318\u001b[0m \u001b[0;34m\u001b[0m\u001b[0m\n",
            "\u001b[0;31mOSError\u001b[0m: No such file or directory: '/content/C:\\\\corpora\\\\penntreebank\\\\parsed\\\\mrg\\\\wsj'"
          ]
        }
      ]
    },
    {
      "cell_type": "markdown",
      "metadata": {
        "id": "_EEqZ6eO0dag"
      },
      "source": [
        "**2. Word Counting**"
      ]
    },
    {
      "cell_type": "code",
      "metadata": {
        "id": "CQM8cQhKa-Lm"
      },
      "source": [
        "from nltk.tokenize.regexp import WhitespaceTokenizer"
      ],
      "execution_count": null,
      "outputs": []
    },
    {
      "cell_type": "code",
      "metadata": {
        "id": "bbxIbiXkbCuv"
      },
      "source": [
        "my_str = \"Types are the distinct words in a corpus, whereas tokens are the running words.\""
      ],
      "execution_count": null,
      "outputs": []
    },
    {
      "cell_type": "code",
      "metadata": {
        "id": "F3ONP-dObHUt"
      },
      "source": [
        "tokens = WhitespaceTokenizer().tokenize(my_str)"
      ],
      "execution_count": null,
      "outputs": []
    },
    {
      "cell_type": "code",
      "metadata": {
        "colab": {
          "base_uri": "https://localhost:8080/"
        },
        "id": "7aGAHio5bJyO",
        "outputId": "55b02315-a65f-44f6-cda8-4e8780f8676e"
      },
      "source": [
        "print (len(tokens))"
      ],
      "execution_count": null,
      "outputs": [
        {
          "output_type": "stream",
          "text": [
            "14\n"
          ],
          "name": "stdout"
        }
      ]
    },
    {
      "cell_type": "code",
      "metadata": {
        "id": "PwWX7-YLczor"
      },
      "source": [
        "my_vocab = set(tokens)"
      ],
      "execution_count": null,
      "outputs": []
    },
    {
      "cell_type": "code",
      "metadata": {
        "colab": {
          "base_uri": "https://localhost:8080/"
        },
        "id": "0SKfDLRCc2uq",
        "outputId": "af8a10e0-57e4-420d-d107-941319abe334"
      },
      "source": [
        "print (len(tokens))"
      ],
      "execution_count": null,
      "outputs": [
        {
          "output_type": "stream",
          "text": [
            "14\n"
          ],
          "name": "stdout"
        }
      ]
    },
    {
      "cell_type": "code",
      "metadata": {
        "id": "U_EdCpAmc7EQ"
      },
      "source": [
        "my_str = \"Types are the distinct words in a corpus, whereas tokens are the running words.\""
      ],
      "execution_count": null,
      "outputs": []
    },
    {
      "cell_type": "code",
      "metadata": {
        "id": "qrRevvEtc9rx"
      },
      "source": [
        "from nltk.tokenize.regexp import WordPunctTokenizer"
      ],
      "execution_count": null,
      "outputs": []
    },
    {
      "cell_type": "code",
      "metadata": {
        "id": "cSv7a7fFdFuP"
      },
      "source": [
        "my_toks = WordPunctTokenizer().tokenize(my_str)"
      ],
      "execution_count": null,
      "outputs": []
    },
    {
      "cell_type": "code",
      "metadata": {
        "colab": {
          "base_uri": "https://localhost:8080/"
        },
        "id": "_lsaTJ8FdH_f",
        "outputId": "727e935c-a971-4663-d700-dc9715ae1ecd"
      },
      "source": [
        "print (len(my_toks))"
      ],
      "execution_count": null,
      "outputs": [
        {
          "output_type": "stream",
          "text": [
            "16\n"
          ],
          "name": "stdout"
        }
      ]
    },
    {
      "cell_type": "code",
      "metadata": {
        "id": "tCeSdVWedMIx"
      },
      "source": [
        "my_vocab = set(my_toks)\n"
      ],
      "execution_count": null,
      "outputs": []
    },
    {
      "cell_type": "code",
      "metadata": {
        "colab": {
          "base_uri": "https://localhost:8080/"
        },
        "id": "oSn8bvUndPaJ",
        "outputId": "05c71520-1ad8-42ac-8cd8-9231f9be8933"
      },
      "source": [
        "print (len(my_vocab))"
      ],
      "execution_count": null,
      "outputs": [
        {
          "output_type": "stream",
          "text": [
            "13\n"
          ],
          "name": "stdout"
        }
      ]
    },
    {
      "cell_type": "markdown",
      "metadata": {
        "id": "tKKYtHO93fqQ"
      },
      "source": [
        "**3.\tWord Vocabulary**"
      ]
    },
    {
      "cell_type": "code",
      "metadata": {
        "id": "c_OPt3GR0fs5"
      },
      "source": [
        "sentence = \"Thomas Jefferson began building Monticello at the age of 26.\""
      ],
      "execution_count": null,
      "outputs": []
    },
    {
      "cell_type": "code",
      "metadata": {
        "colab": {
          "base_uri": "https://localhost:8080/"
        },
        "id": "WLYFMUS_0wJN",
        "outputId": "7d3f9881-dc25-4421-ef8b-322ca7254754"
      },
      "source": [
        "sentence.split()"
      ],
      "execution_count": null,
      "outputs": [
        {
          "output_type": "execute_result",
          "data": {
            "text/plain": [
              "['Thomas',\n",
              " 'Jefferson',\n",
              " 'began',\n",
              " 'building',\n",
              " 'Monticello',\n",
              " 'at',\n",
              " 'the',\n",
              " 'age',\n",
              " 'of',\n",
              " '26.']"
            ]
          },
          "metadata": {
            "tags": []
          },
          "execution_count": 2
        }
      ]
    },
    {
      "cell_type": "code",
      "metadata": {
        "colab": {
          "base_uri": "https://localhost:8080/"
        },
        "id": "bVDD83-D0zrs",
        "outputId": "768b0d3c-7175-499a-8ef8-a37f7a7e1c86"
      },
      "source": [
        "str.split(sentence)"
      ],
      "execution_count": null,
      "outputs": [
        {
          "output_type": "execute_result",
          "data": {
            "text/plain": [
              "['Thomas',\n",
              " 'Jefferson',\n",
              " 'began',\n",
              " 'building',\n",
              " 'Monticello',\n",
              " 'at',\n",
              " 'the',\n",
              " 'age',\n",
              " 'of',\n",
              " '26.']"
            ]
          },
          "metadata": {
            "tags": []
          },
          "execution_count": 3
        }
      ]
    },
    {
      "cell_type": "markdown",
      "metadata": {
        "id": "bo2w4g52310L"
      },
      "source": [
        "**4.\tBag-of-words, BOW Model**"
      ]
    },
    {
      "cell_type": "code",
      "metadata": {
        "colab": {
          "base_uri": "https://localhost:8080/"
        },
        "id": "AXt0HpFs3307",
        "outputId": "800e166d-47c5-4741-ecea-27071c398a46"
      },
      "source": [
        "import pandas as pd\n",
        "from sklearn.feature_extraction.text import CountVectorizer, TfidfVectorizer\n",
        " \n",
        "sentence_1=\"This is a good job.I will not miss it for anything\"\n",
        "sentence_2=\"This is not good at all\"\n",
        " \n",
        " \n",
        " \n",
        "CountVec = CountVectorizer(ngram_range=(1,1), # to use bigrams ngram_range=(2,2)\n",
        "                           stop_words='english')\n",
        "#transform\n",
        "Count_data = CountVec.fit_transform([sentence_1,sentence_2])\n",
        " \n",
        "#create dataframe\n",
        "cv_dataframe=pd.DataFrame(Count_data.toarray(),columns=CountVec.get_feature_names())\n",
        "print(cv_dataframe)"
      ],
      "execution_count": null,
      "outputs": [
        {
          "output_type": "stream",
          "text": [
            "   good  job  miss\n",
            "0     1    1     1\n",
            "1     1    0     0\n"
          ],
          "name": "stdout"
        }
      ]
    },
    {
      "cell_type": "markdown",
      "metadata": {
        "id": "M1676LSH4Q30"
      },
      "source": [
        "**5.\tTF/IDF Vectorizer**"
      ]
    },
    {
      "cell_type": "code",
      "metadata": {
        "colab": {
          "base_uri": "https://localhost:8080/"
        },
        "id": "JJIlZTfQ4VD9",
        "outputId": "eb0d6e7e-65e6-4f2b-ceb5-6bf112c883a2"
      },
      "source": [
        "import pandas as pd\n",
        "from sklearn.feature_extraction.text import CountVectorizer, TfidfVectorizer\n",
        " \n",
        "sentence_1=\"This is a good job.I will not miss it for anything\"\n",
        "sentence_2=\"This is not good at all\"\n",
        " \n",
        " \n",
        " \n",
        "#without smooth IDF\n",
        "print(\"Without Smoothing:\")\n",
        "#define tf-idf\n",
        "tf_idf_vec = TfidfVectorizer(use_idf=True, \n",
        "                        smooth_idf=False,  \n",
        "                        ngram_range=(1,1),stop_words='english') # to use only  bigrams ngram_range=(2,2)\n",
        "#transform\n",
        "tf_idf_data = tf_idf_vec.fit_transform([sentence_1,sentence_2])\n",
        " \n",
        "#create dataframe\n",
        "tf_idf_dataframe=pd.DataFrame(tf_idf_data.toarray(),columns=tf_idf_vec.get_feature_names())\n",
        "print(tf_idf_dataframe)\n",
        "print(\"\\n\")\n",
        " \n",
        "#with smooth\n",
        "tf_idf_vec_smooth = TfidfVectorizer(use_idf=True,  \n",
        "                        smooth_idf=True,  \n",
        "                        ngram_range=(1,1),stop_words='english')\n",
        " \n",
        " \n",
        "tf_idf_data_smooth = tf_idf_vec_smooth.fit_transform([sentence_1,sentence_2])\n",
        " \n",
        "print(\"With Smoothing:\")\n",
        "tf_idf_dataframe_smooth=pd.DataFrame(tf_idf_data_smooth.toarray(),columns=tf_idf_vec_smooth.get_feature_names())\n",
        "print(tf_idf_dataframe_smooth)"
      ],
      "execution_count": null,
      "outputs": [
        {
          "output_type": "stream",
          "text": [
            "Without Smoothing:\n",
            "       good       job      miss\n",
            "0  0.385372  0.652491  0.652491\n",
            "1  1.000000  0.000000  0.000000\n",
            "\n",
            "\n",
            "With Smoothing:\n",
            "       good       job      miss\n",
            "0  0.449436  0.631667  0.631667\n",
            "1  1.000000  0.000000  0.000000\n"
          ],
          "name": "stdout"
        }
      ]
    },
    {
      "cell_type": "markdown",
      "metadata": {
        "id": "IadWjEX0AtdB"
      },
      "source": [
        "**6.\tTokenisation and Word Frequencies**"
      ]
    },
    {
      "cell_type": "code",
      "metadata": {
        "id": "-wyPFboAGApp"
      },
      "source": [
        "from bs4 import BeautifulSoup\n",
        "import urllib.request"
      ],
      "execution_count": null,
      "outputs": []
    },
    {
      "cell_type": "code",
      "metadata": {
        "id": "wIkY7k8GF1AV"
      },
      "source": [
        "page= urllib.request.urlopen('https://statecancerprofiles.cancer.gov/quick-profiles/index.php?statename=newjersey')"
      ],
      "execution_count": null,
      "outputs": []
    },
    {
      "cell_type": "code",
      "metadata": {
        "id": "0tSBzJs3Icfw"
      },
      "source": [
        "soup=BeautifulSoup(page,'html.parser')"
      ],
      "execution_count": null,
      "outputs": []
    },
    {
      "cell_type": "code",
      "metadata": {
        "colab": {
          "base_uri": "https://localhost:8080/"
        },
        "id": "aKalHJfDIgBo",
        "outputId": "39bf901b-893d-4ea2-8ad8-25acf81c41c9"
      },
      "source": [
        "print(soup)"
      ],
      "execution_count": null,
      "outputs": [
        {
          "output_type": "stream",
          "text": [
            "\n",
            "<!DOCTYPE HTML>\n",
            "\n",
            "<html lang=\"en\">\n",
            "<head>\n",
            "<!-- Global site tag (gtag.js) - Google Analytics -->\n",
            "<script async=\"\" src=\"https://www.googletagmanager.com/gtag/js?id=UA-112281461-1\"></script>\n",
            "<script>\n",
            "  window.dataLayer = window.dataLayer || [];\n",
            "  function gtag(){dataLayer.push(arguments);}\n",
            "  gtag('js', new Date());\n",
            "  gtag('config', 'UA-112281461-1');\n",
            "</script>\n",
            "<!-- Regular Header -->\n",
            "<title>State Cancer Profiles &gt; Quick Profiles</title>\n",
            "<meta charset=\"utf-8\"/>\n",
            "<meta content=\"IE=edge,chrome=1\" http-equiv=\"X-UA-Compatible\"/>\n",
            "<meta description=\"\">\n",
            "<link href=\"/favicon.ico\" rel=\"icon shortcut\"/>\n",
            "<link href=\"/s/normalize.css\" rel=\"stylesheet\"/>\n",
            "<link href=\"https://fonts.googleapis.com/css?family=Lato:400,300,700\" rel=\"stylesheet\" type=\"text/css\"/>\n",
            "<link href=\"/s/styles.css\" rel=\"stylesheet\">\n",
            "<!--[if lt IE 8]><link rel=\"stylesheet\" href=\"/s/ie.css\" /><![endif]-->\n",
            "<link href=\"/s/print.css\" media=\"print\" rel=\"stylesheet\"/>\n",
            "<link href=\"/s/jquery-ui-1.12.1.min.css\" rel=\"stylesheet\"/>\n",
            "<script src=\"/j/scpJavascriptDefines.js\"></script></link></meta></head>\n",
            "<body class=\"profiles\">\n",
            "<div class=\"header\">\n",
            "<a href=\"#content\" id=\"skip\">Skip to Main Content</a>\n",
            "<div style=\"text-align: left; text-shadow: none; margin-top: -1.5em;\">\n",
            "<style type=\"text/css\">\n",
            "  /* Fonts and other items are targeting mobile first */\n",
            "  .notification-banner > div > div {\n",
            "    padding: 0;\n",
            "    margin: 0;\n",
            "  }\n",
            "  .alert-drawer-wrapper {\n",
            "    background: #fada87;\n",
            "    padding: .5em 1.25em;\n",
            "    margin-bottom: 1px;\n",
            "  }\n",
            "  \n",
            "  .alert-drawer__body {\n",
            "    display: none;\n",
            "  }\n",
            "  .alert-drawer__body.active {\n",
            "    display: block;\n",
            "  }\n",
            "  .alert-drawer__body.active + .alert-drawer__toggle button::after {\n",
            "    content: '';\n",
            "    display: none;\n",
            "  }\n",
            "  .alert-drawer__toggle {\n",
            "    display: block;\n",
            "    text-align: center;\n",
            "  }\n",
            "  .alert-drawer__toggle button {\n",
            "    -webkit-appearance: none;\n",
            "       -moz-appearance: none;\n",
            "            appearance: none;\n",
            "    background: none;\n",
            "    border: none;\n",
            "    cursor: pointer;\n",
            "    margin: 0 auto;\n",
            "  }\n",
            "  .alert-drawer__toggle button::after {\n",
            "    content: 'Expand for resources';\n",
            "    display: block;\n",
            "    font: 12px/19px \"Montserrat\", Arial, sans-serif;\n",
            "    color: #606060;\n",
            "    text-align: center;\n",
            "  }\n",
            "  .alert-drawer .alert-drawer-title {\n",
            "    font: bold 16px/19px \"Montserrat\", Arial, sans-serif;    \n",
            "    color: #444444;\n",
            "  }\n",
            "  .alert-drawer a {\n",
            "    text-decoration: underline;\n",
            "    color: #606060;\n",
            "  }\n",
            "  .alert-drawer p {\n",
            "    font: 14px/19px \"Montserrat\", Arial, sans-serif;    \n",
            "    color: #606060;\n",
            "    margin: .5em 0 !important;\n",
            "  }\n",
            "  .ellipse {\n",
            "    display: none;\n",
            "  }\n",
            "  .ellipse::before {\n",
            "    content: \"\\2026\";\n",
            "  }\n",
            "\n",
            "  /* Desktop and up overrides */\n",
            "  @media only screen and (min-width: 1025px) {\n",
            "\n",
            "    .alert-drawer {\n",
            "      margin: 0 auto;\n",
            "      max-width: 62.5em;\n",
            "      padding-left: 10px;\n",
            "    }    \n",
            "\n",
            "    .alert-drawer .alert-drawer-title {\n",
            "      font: bold 20px/24px \"Montserrat\", Arial, sans-serif;\n",
            "    }\n",
            "\n",
            "    .alert-drawer p {\n",
            "      font: 16px/24px \"Montserrat\", Arial, sans-serif;    \n",
            "    }\n",
            "\n",
            "    .alert-drawer__toggle {\n",
            "      display: none;\n",
            "    }\n",
            "    .alert-drawer__body {\n",
            "      display: block;\n",
            "    }\n",
            "    .alert-drawer__body.active {\n",
            "      display: block;\n",
            "    }\n",
            "  }\n",
            "\n",
            "  @media only screen and (min-width: 1441px) {\n",
            "    .alert-drawer {\n",
            "      max-width: 1200px;\n",
            "      padding-left: 20px;\n",
            "    }\n",
            "  }\n",
            "\n",
            "  </style>\n",
            "<div aria-label=\"COVID-19 Message\" class=\"alert-drawer-wrapper\" role=\"alertdialog\">\n",
            "<div class=\"alert-drawer\">\n",
            "<div class=\"alert-drawer__heading\">\n",
            "<p><span class=\"alert-drawer-title\">COVID-19</span></p>\n",
            "</div>\n",
            "<div class=\"alert-drawer__body\" tabindex=\"0\">\n",
            "<p>What people with cancer should know: <a href=\"https://www.cancer.gov/coronavirus\">https://www.cancer.gov/coronavirus</a></p>\n",
            "<p>Get the latest public health information from CDC: <a href=\"https://www.cdc.gov/coronavirus/\">https://www.cdc.gov/coronavirus/</a></p>\n",
            "<p>Get the latest research information from NIH: <a href=\"https://www.covid19.nih.gov/\">https://www.covid19.nih.gov/</a></p>\n",
            "</div>\n",
            "<div class=\"alert-drawer__toggle\">\n",
            "<button id=\"alert-toggle-btn\" type=\"button\"><img alt=\"\" aria-hidden=\"true\" id=\"alert-toggle-img\" src=\"/toolbox/images/dccps/white-down-arrow.png\"/></button>\n",
            "</div>\n",
            "</div>\n",
            "</div>\n",
            "<script type=\"text/javascript\">\n",
            "  document\n",
            "    .getElementById(\"alert-toggle-btn\")\n",
            "    .addEventListener(\"click\", function() {\n",
            "      var alertBody = document.querySelector(\".alert-drawer__body\");\n",
            "      var alertImg = \"\";\n",
            "      alertBody.classList.toggle(\"active\");\n",
            "      if (alertBody.className.match(\"active\")) {\n",
            "        alertBody.focus();\n",
            "        alertImg =\n",
            "          \"/toolbox/images/dccps/white-x.png\";\n",
            "      } else {\n",
            "        alertImg =\n",
            "          \"/toolbox/images/dccps/white-down-arrow.png\";\n",
            "      }\n",
            "      document.getElementById(\"alert-toggle-img\").setAttribute(\"src\", alertImg);\n",
            "    });\n",
            "  </script>\n",
            "</div>\n",
            "<!--<div class=\"surveyBanner cf\">\n",
            "\t\t<div class=\"wrapper\">\n",
            "\t\t\t<p>Please help improve State Cancer Profiles and other resources on Cancer Control P.L.A.N.E.T.</p> <a href=\"https://www.surveymonkey.com/r/CCPLANET19\">Take Our Survey</a>\n",
            "\t\t</div>\n",
            "\t</div>-->\n",
            "<div class=\"wrapper\"> <!--MS 12/31/15 update nci logo back to origonal-->\n",
            "<!--MS 08/03/16 MS updated redirect link for cancer.gov-->\n",
            "<a class=\"left\" href=\"https://www.cancer.gov/\" title=\"Visit the National Cancer Institute\"><img alt=\"National Cancer Institute Home\" src=\"/i/logo-nci.png\"/></a>\n",
            "<a class=\"right\" href=\"https://www.cdc.gov\" title=\"Visit the Centers for Disease Control\"><img alt=\"Centers for Disease Control and Prevention Home\" src=\"/i/logo-cdc.png\"/></a>\n",
            "<h1><a href=\"/index.html\" title=\"Return Home\"><span>State</span> <span>Cancer</span> <span>Profiles</span></a></h1>\n",
            "<p class=\"tagline\"><a href=\"/index.html\" title=\"Return Home\">Dynamic views of cancer statistics for prioritizing<br/>cancer control efforts across the nation</a></p>\n",
            "</div>\n",
            "</div>\n",
            "<div class=\"navWrap\">\n",
            "<ul class=\"nav cf wrapper\" role=\"navigation\">\n",
            "<li class=\"home\"><a href=\"/index.html\">Home</a></li>\n",
            "<li class=\"about\"><a href=\"/about/\">About</a></li>\n",
            "<li class=\"resources\"><a href=\"/resources/\">Help &amp; Resources</a></li>\n",
            "<li class=\"contact\"><a href=\"/contact/\">Contact</a></li>\n",
            "</ul>\n",
            "</div>\n",
            "<div id=\"content\" role=\"main\">\n",
            "<div class=\"wrapper cf\">\n",
            "<div class=\"crumbs\">\n",
            "<a href=\"/index.html\"><img alt=\"Return to Home\" src=\"/i/icn-home.png\"/></a> <img alt=\"\" src=\"/i/arrow-crumb.png\"/> Quick Profiles\t\n",
            "        </div>\n",
            "<h2>Quick Profiles: New Jersey</h2>\n",
            "<style>\n",
            "            .change { margin-bottom: 1em; border: 1px solid #c3c3c3; border-radius: 3px; background: #f5f5f5; padding: .5em; box-shadow: 2px 2px 0 #fff inset, -2px -2px 0 #fff inset; }\n",
            "            .change label { display: inline-block; zoom: 1; *display: inline; padding-left: 1em; }\n",
            "            .redArrow { font-size: 1.05em; padding: 0 0 .3em 1em; background: url(\"../i/arrow-red.png\") left 4px no-repeat; border-bottom: 1px dashed #c0c0c0; }\n",
            "            .change .btnRed { display: inline-block; zoom: 1; *display: inline; margin-left: 2em; padding: .3em 3em; width: auto; }\n",
            "            .change select { width: 250px; }\n",
            "        </style> <div class=\"change\">\n",
            "<p class=\"redArrow\">Choose a Different State:</p>\n",
            "<form action=\"index.php\" class=\"cf\" id=\"UserForm_frm\" method=\"get\" name=\"UserForm\">\n",
            "<input id=\"tabSelected\" name=\"tabSelected\" type=\"hidden\" value=\"2\"/>\n",
            "<label for=\"statename_listbox\">State:</label>\n",
            "<select id=\"statename_listbox\" name=\"statename\">\n",
            "<option value=\"unitedstates\">United States</option>\n",
            "<!--<script>document.write('<option value=\"alabama\" SELECTED>' + 'Alabama' + '</option>');</script>-->\n",
            "<option value=\"alabama\">Alabama</option>\n",
            "<option value=\"alaska\">Alaska</option>\n",
            "<option value=\"arizona\">Arizona</option>\n",
            "<option value=\"arkansas\">Arkansas</option>\n",
            "<option value=\"california\">California</option>\n",
            "<option value=\"colorado\">Colorado</option>\n",
            "<option value=\"connecticut\">Connecticut</option>\n",
            "<option value=\"delaware\">Delaware</option>\n",
            "<option value=\"districtofcolumbia\">District Of Columbia</option>\n",
            "<option value=\"florida\">Florida</option>\n",
            "<option value=\"georgia\">Georgia</option>\n",
            "<option value=\"hawaii\">Hawaii</option>\n",
            "<option value=\"idaho\">Idaho</option>\n",
            "<option value=\"illinois\">Illinois</option>\n",
            "<option value=\"indiana\">Indiana</option>\n",
            "<option value=\"iowa\">Iowa</option>\n",
            "<option value=\"kansas\">Kansas</option>\n",
            "<option value=\"kentucky\">Kentucky</option>\n",
            "<option value=\"louisiana\">Louisiana</option>\n",
            "<option value=\"maine\">Maine</option>\n",
            "<option value=\"maryland\">Maryland</option>\n",
            "<option value=\"massachusetts\">Massachusetts</option>\n",
            "<option value=\"michigan\">Michigan</option>\n",
            "<option value=\"minnesota\">Minnesota</option>\n",
            "<option value=\"mississippi\">Mississippi</option>\n",
            "<option value=\"missouri\">Missouri</option>\n",
            "<option value=\"montana\">Montana</option>\n",
            "<option value=\"nebraska\">Nebraska</option>\n",
            "<option value=\"nevada\">Nevada</option>\n",
            "<option value=\"newhampshire\">New Hampshire</option>\n",
            "<option value=\"newjersey\">New Jersey</option>\n",
            "<option value=\"newmexico\">New Mexico</option>\n",
            "<option value=\"newyork\">New York</option>\n",
            "<option value=\"northcarolina\">North Carolina</option>\n",
            "<option value=\"northdakota\">North Dakota</option>\n",
            "<option value=\"ohio\">Ohio</option>\n",
            "<option value=\"oklahoma\">Oklahoma</option>\n",
            "<option value=\"oregon\">Oregon</option>\n",
            "<option value=\"pennsylvania\">Pennsylvania</option>\n",
            "<option value=\"puertorico\">Puerto Rico</option>\n",
            "<option value=\"rhodeisland\">Rhode Island</option>\n",
            "<option value=\"southcarolina\">South Carolina</option>\n",
            "<option value=\"southdakota\">South Dakota</option>\n",
            "<option value=\"tennessee\">Tennessee</option>\n",
            "<option value=\"texas\">Texas</option>\n",
            "<option value=\"utah\">Utah</option>\n",
            "<option value=\"vermont\">Vermont</option>\n",
            "<option value=\"virginia\">Virginia</option>\n",
            "<option value=\"washington\">Washington</option>\n",
            "<option value=\"westvirginia\">West Virginia</option>\n",
            "<option value=\"wisconsin\">Wisconsin</option>\n",
            "<option value=\"wyoming\">Wyoming</option>\n",
            "</select>\n",
            "<!-- \n",
            "                <label>County:</label>\n",
            "                <select disabled=\"disabled\">\n",
            "                    <option>All Counties</option>\n",
            "                </select>\n",
            "            -->\n",
            "<input class=\"btnRed\" onclick=\"goToProfile();\" type=\"button\" value=\"View Profile\"/>\n",
            "</form>\n",
            "</div> <div id=\"tabs\">\n",
            "<ul>\n",
            "<li><a href=\"#demo\"><img alt=\"\" class=\"tabIcn\" src=\"/i/icn-demographics-md.png\"/> Demographics</a></li>\n",
            "<li><a href=\"#risk\"><img alt=\"\" class=\"tabIcn\" src=\"/i/icn-screening-md.png\"/> Screening &amp; Risk Factors</a></li>\n",
            "<li><a href=\"#incd\"><img alt=\"\" class=\"tabIcn\" src=\"/i/icn-incidence-md.png\"/> Incidence</a></li>\n",
            "<li><a href=\"#prev\"><img alt=\"\" class=\"tabIcn\" src=\"/i/icn-prevalence-md.png\"/> Prevalence</a></li>\n",
            "<li><a href=\"#mort\"><img alt=\"\" class=\"tabIcn\" src=\"/i/icn-mortality-md.png\"/> Mortality</a></li>\n",
            "</ul><div id=\"incd\"><table style=\"width:100%;\"><thead><tr><th class=\"text-left\" width=\"35%\">Age-Adjusted Incidence Rates by Cancer Site, All Stages (2013-2017)</th><th width=\"12.5%\">New Jersey Rate</th><th width=\"12.5%\">USA Rate</th><th width=\"6.66%\">Map</th><th width=\"6.66%\">Table</th><th width=\"6.66%\">CI*Rank Graph</th><th width=\"6.66%\">Rate Graph</th><th width=\"6.66%\">Historical Trends Graph</th><th width=\"6.66%\">5-Year Rate Change Graph</th></tr></thead><tbody><tr><td class=\"text-left\">All Cancer Sites</td><td>485.9</td><td>448.7</td><td><a class=\"icn icn-map\" href=\"/map/map.withimage.php?34&amp;county&amp;001&amp;001&amp;00&amp;0&amp;01&amp;0&amp;1&amp;5&amp;0#results\" title=\"View Map\">Map</a></td><td><a class=\"icn icn-table\" href=\"/incidencerates/index.php?stateFIPS=34&amp;areatype=county&amp;cancer=001&amp;race=00&amp;sex=0&amp;age=001&amp;type=incd#results\" title=\"View Table\">Table</a></td><td><a class=\"icn icn-cirank\" href=\"/incidencerates/graph.php?stateFIPS=34&amp;areatype=county&amp;cancer=001&amp;race=00&amp;sex=0&amp;age=001&amp;type=incd&amp;sortOrder=desc&amp;sortVariableName=cirank&amp;output=5&amp;graph=1#results\" title=\"View CI*Rank Graph\">Rank Graph</a></td><td><a class=\"icn icn-rate\" href=\"/incidencerates/graph.php?stateFIPS=34&amp;areatype=county&amp;cancer=001&amp;race=00&amp;sex=0&amp;age=001&amp;type=incd&amp;sortOrder=desc&amp;sortOrder=desc&amp;sortVariableName=rate&amp;output=5&amp;graph=2#results\" title=\"View Rate Graph\">Rate Graph</a></td><td><a class=\"icn icn-trend\" href=\"/historicaltrend/index.php?0&amp;4434&amp;999&amp;7599&amp;001&amp;001&amp;00&amp;0&amp;0&amp;0&amp;1&amp;0&amp;1&amp;1#results\" title=\"View Historical Trends Graph\">Historical Trends Graph</a></td><td><a class=\"icn icn-fiveyr\" href=\"/recenttrend/index.php?0&amp;4434&amp;0&amp;9599&amp;001&amp;999&amp;00&amp;0&amp;0&amp;0&amp;1#results\" title=\"5-Year Rate Change Graph\">5-Year Rate Change Graph</a></td></tr><tr><td class=\"text-left\">Bladder</td><td>23.1</td><td>20.0</td><td><a class=\"icn icn-map\" href=\"/map/map.withimage.php?34&amp;county&amp;001&amp;071&amp;00&amp;0&amp;01&amp;0&amp;1&amp;5&amp;0#results\" title=\"View Map\">Map</a></td><td><a class=\"icn icn-table\" href=\"/incidencerates/index.php?stateFIPS=34&amp;areatype=county&amp;cancer=071&amp;race=00&amp;sex=0&amp;age=001&amp;type=incd#results\" title=\"View Table\">Table</a></td><td><a class=\"icn icn-cirank\" href=\"/incidencerates/graph.php?stateFIPS=34&amp;areatype=county&amp;cancer=071&amp;race=00&amp;sex=0&amp;age=001&amp;type=incd&amp;sortOrder=desc&amp;sortVariableName=cirank&amp;output=5&amp;graph=1#results\" title=\"View CI*Rank Graph\">Rank Graph</a></td><td><a class=\"icn icn-rate\" href=\"/incidencerates/graph.php?stateFIPS=34&amp;areatype=county&amp;cancer=071&amp;race=00&amp;sex=0&amp;age=001&amp;type=incd&amp;sortOrder=desc&amp;sortOrder=desc&amp;sortVariableName=rate&amp;output=5&amp;graph=2#results\" title=\"View Rate Graph\">Rate Graph</a></td><td><a class=\"icn icn-trend\" href=\"/historicaltrend/index.php?0&amp;4434&amp;999&amp;7599&amp;001&amp;071&amp;00&amp;0&amp;0&amp;0&amp;1&amp;0&amp;1&amp;1#results\" title=\"View Historical Trends Graph\">Historical Trends Graph</a></td><td><a class=\"icn icn-fiveyr\" href=\"/recenttrend/index.php?0&amp;4434&amp;0&amp;9599&amp;001&amp;999&amp;00&amp;0&amp;0&amp;0&amp;1#results\" title=\"5-Year Rate Change Graph\">5-Year Rate Change Graph</a></td></tr><tr><td class=\"text-left\">Brain &amp; ONS</td><td>6.8</td><td>6.5</td><td><a class=\"icn icn-map\" href=\"/map/map.withimage.php?34&amp;county&amp;001&amp;076&amp;00&amp;0&amp;01&amp;0&amp;1&amp;5&amp;0#results\" title=\"View Map\">Map</a></td><td><a class=\"icn icn-table\" href=\"/incidencerates/index.php?stateFIPS=34&amp;areatype=county&amp;cancer=076&amp;race=00&amp;sex=0&amp;age=001&amp;type=incd#results\" title=\"View Table\">Table</a></td><td><a class=\"icn icn-cirank\" href=\"/incidencerates/graph.php?stateFIPS=34&amp;areatype=county&amp;cancer=076&amp;race=00&amp;sex=0&amp;age=001&amp;type=incd&amp;sortOrder=desc&amp;sortVariableName=cirank&amp;output=5&amp;graph=1#results\" title=\"View CI*Rank Graph\">Rank Graph</a></td><td><a class=\"icn icn-rate\" href=\"/incidencerates/graph.php?stateFIPS=34&amp;areatype=county&amp;cancer=076&amp;race=00&amp;sex=0&amp;age=001&amp;type=incd&amp;sortOrder=desc&amp;sortOrder=desc&amp;sortVariableName=rate&amp;output=5&amp;graph=2#results\" title=\"View Rate Graph\">Rate Graph</a></td><td><a class=\"icn icn-trend\" href=\"/historicaltrend/index.php?0&amp;4434&amp;999&amp;7599&amp;001&amp;076&amp;00&amp;0&amp;0&amp;0&amp;1&amp;0&amp;1&amp;1#results\" title=\"View Historical Trends Graph\">Historical Trends Graph</a></td><td><a class=\"icn icn-fiveyr\" href=\"/recenttrend/index.php?0&amp;4434&amp;0&amp;9599&amp;001&amp;999&amp;00&amp;0&amp;0&amp;0&amp;1#results\" title=\"5-Year Rate Change Graph\">5-Year Rate Change Graph</a></td></tr><tr><td class=\"text-left\">Breast (Female)</td><td>136.6</td><td>125.9</td><td><a class=\"icn icn-map\" href=\"/map/map.withimage.php?34&amp;county&amp;001&amp;055&amp;00&amp;2&amp;01&amp;0&amp;1&amp;5&amp;0#results\" title=\"View Map\">Map</a></td><td><a class=\"icn icn-table\" href=\"/incidencerates/index.php?stateFIPS=34&amp;areatype=county&amp;cancer=055&amp;race=00&amp;sex=2&amp;age=001&amp;type=incd#results\" title=\"View Table\">Table</a></td><td><a class=\"icn icn-cirank\" href=\"/incidencerates/graph.php?stateFIPS=34&amp;areatype=county&amp;cancer=055&amp;race=00&amp;sex=2&amp;age=001&amp;type=incd&amp;sortOrder=desc&amp;sortVariableName=cirank&amp;output=5&amp;graph=1#results\" title=\"View CI*Rank Graph\">Rank Graph</a></td><td><a class=\"icn icn-rate\" href=\"/incidencerates/graph.php?stateFIPS=34&amp;areatype=county&amp;cancer=055&amp;race=00&amp;sex=2&amp;age=001&amp;type=incd&amp;sortOrder=desc&amp;sortOrder=desc&amp;sortVariableName=rate&amp;output=5&amp;graph=2#results\" title=\"View Rate Graph\">Rate Graph</a></td><td><a class=\"icn icn-trend\" href=\"/historicaltrend/index.php?0&amp;4434&amp;999&amp;7599&amp;001&amp;055&amp;00&amp;2&amp;0&amp;0&amp;1&amp;0&amp;1&amp;1#results\" title=\"View Historical Trends Graph\">Historical Trends Graph</a></td><td><a class=\"icn icn-fiveyr\" href=\"/recenttrend/index.php?0&amp;4434&amp;0&amp;9599&amp;001&amp;999&amp;00&amp;2&amp;0&amp;0&amp;1#results\" title=\"5-Year Rate Change Graph\">5-Year Rate Change Graph</a></td></tr><tr><td class=\"text-left\">Breast (in situ) (Female)</td><td>41.2</td><td>29.8</td><td><a class=\"icn icn-map\" href=\"/map/map.withimage.php?34&amp;county&amp;001&amp;400&amp;00&amp;2&amp;01&amp;0&amp;1&amp;5&amp;0#results\" title=\"View Map\">Map</a></td><td><a class=\"icn icn-table\" href=\"/incidencerates/index.php?stateFIPS=34&amp;areatype=county&amp;cancer=400&amp;race=00&amp;sex=2&amp;age=001&amp;type=incd#results\" title=\"View Table\">Table</a></td><td><a class=\"icn icn-cirank\" href=\"/incidencerates/graph.php?stateFIPS=34&amp;areatype=county&amp;cancer=400&amp;race=00&amp;sex=2&amp;age=001&amp;type=incd&amp;sortOrder=desc&amp;sortVariableName=cirank&amp;output=5&amp;graph=1#results\" title=\"View CI*Rank Graph\">Rank Graph</a></td><td><a class=\"icn icn-rate\" href=\"/incidencerates/graph.php?stateFIPS=34&amp;areatype=county&amp;cancer=400&amp;race=00&amp;sex=2&amp;age=001&amp;type=incd&amp;sortOrder=desc&amp;sortOrder=desc&amp;sortVariableName=rate&amp;output=5&amp;graph=2#results\" title=\"View Rate Graph\">Rate Graph</a></td><td><a class=\"icn icn-trend\" href=\"/historicaltrend/index.php?0&amp;4434&amp;999&amp;7599&amp;001&amp;400&amp;00&amp;2&amp;0&amp;0&amp;1&amp;0&amp;1&amp;1#results\" title=\"View Historical Trends Graph\">Historical Trends Graph</a></td><td><a class=\"icn icn-fiveyr\" href=\"/recenttrend/index.php?0&amp;4434&amp;0&amp;9599&amp;001&amp;999&amp;00&amp;2&amp;0&amp;0&amp;1#results\" title=\"5-Year Rate Change Graph\">5-Year Rate Change Graph</a></td></tr><tr><td class=\"text-left\">Cervix (Female)</td><td>7.7</td><td>7.6</td><td><a class=\"icn icn-map\" href=\"/map/map.withimage.php?34&amp;county&amp;001&amp;057&amp;00&amp;2&amp;01&amp;0&amp;1&amp;5&amp;0#results\" title=\"View Map\">Map</a></td><td><a class=\"icn icn-table\" href=\"/incidencerates/index.php?stateFIPS=34&amp;areatype=county&amp;cancer=057&amp;race=00&amp;sex=2&amp;age=001&amp;type=incd#results\" title=\"View Table\">Table</a></td><td><a class=\"icn icn-cirank\" href=\"/incidencerates/graph.php?stateFIPS=34&amp;areatype=county&amp;cancer=057&amp;race=00&amp;sex=2&amp;age=001&amp;type=incd&amp;sortOrder=desc&amp;sortVariableName=cirank&amp;output=5&amp;graph=1#results\" title=\"View CI*Rank Graph\">Rank Graph</a></td><td><a class=\"icn icn-rate\" href=\"/incidencerates/graph.php?stateFIPS=34&amp;areatype=county&amp;cancer=057&amp;race=00&amp;sex=2&amp;age=001&amp;type=incd&amp;sortOrder=desc&amp;sortOrder=desc&amp;sortVariableName=rate&amp;output=5&amp;graph=2#results\" title=\"View Rate Graph\">Rate Graph</a></td><td><a class=\"icn icn-trend\" href=\"/historicaltrend/index.php?0&amp;4434&amp;999&amp;7599&amp;001&amp;057&amp;00&amp;2&amp;0&amp;0&amp;1&amp;0&amp;1&amp;1#results\" title=\"View Historical Trends Graph\">Historical Trends Graph</a></td><td><a class=\"icn icn-fiveyr\" href=\"/recenttrend/index.php?0&amp;4434&amp;0&amp;9599&amp;001&amp;999&amp;00&amp;2&amp;0&amp;0&amp;1#results\" title=\"5-Year Rate Change Graph\">5-Year Rate Change Graph</a></td></tr><tr><td class=\"text-left\">Childhood (Ages &lt;15, All Sites)</td><td>18.5</td><td>17.4</td><td><a class=\"icn icn-map\" href=\"/map/map.withimage.php?34&amp;county&amp;016&amp;516&amp;00&amp;0&amp;01&amp;0&amp;1&amp;5&amp;0#results\" title=\"View Map\">Map</a></td><td><a class=\"icn icn-table\" href=\"/incidencerates/index.php?stateFIPS=34&amp;areatype=county&amp;cancer=516&amp;race=00&amp;sex=0&amp;age=016&amp;type=incd#results\" title=\"View Table\">Table</a></td><td><a class=\"icn icn-cirank\" href=\"/incidencerates/graph.php?stateFIPS=34&amp;areatype=county&amp;cancer=516&amp;race=00&amp;sex=0&amp;age=016&amp;type=incd&amp;sortOrder=desc&amp;sortVariableName=cirank&amp;output=5&amp;graph=1#results\" title=\"View CI*Rank Graph\">Rank Graph</a></td><td><a class=\"icn icn-rate\" href=\"/incidencerates/graph.php?stateFIPS=34&amp;areatype=county&amp;cancer=516&amp;race=00&amp;sex=0&amp;age=016&amp;type=incd&amp;sortOrder=desc&amp;sortOrder=desc&amp;sortVariableName=rate&amp;output=5&amp;graph=2#results\" title=\"View Rate Graph\">Rate Graph</a></td><td><a class=\"icn icn-trend\" href=\"/historicaltrend/index.php?0&amp;4434&amp;999&amp;7599&amp;016&amp;516&amp;00&amp;0&amp;0&amp;0&amp;1&amp;0&amp;1&amp;1#results\" title=\"View Historical Trends Graph\">Historical Trends Graph</a></td><td>N/A</td></tr><tr><td class=\"text-left\">Childhood (Ages &lt;20, All Sites)</td><td>20.7</td><td>18.9</td><td><a class=\"icn icn-map\" href=\"/map/map.withimage.php?34&amp;county&amp;015&amp;515&amp;00&amp;0&amp;01&amp;0&amp;1&amp;5&amp;0#results\" title=\"View Map\">Map</a></td><td><a class=\"icn icn-table\" href=\"/incidencerates/index.php?stateFIPS=34&amp;areatype=county&amp;cancer=515&amp;race=00&amp;sex=0&amp;age=015&amp;type=incd#results\" title=\"View Table\">Table</a></td><td><a class=\"icn icn-cirank\" href=\"/incidencerates/graph.php?stateFIPS=34&amp;areatype=county&amp;cancer=515&amp;race=00&amp;sex=0&amp;age=015&amp;type=incd&amp;sortOrder=desc&amp;sortVariableName=cirank&amp;output=5&amp;graph=1#results\" title=\"View CI*Rank Graph\">Rank Graph</a></td><td><a class=\"icn icn-rate\" href=\"/incidencerates/graph.php?stateFIPS=34&amp;areatype=county&amp;cancer=515&amp;race=00&amp;sex=0&amp;age=015&amp;type=incd&amp;sortOrder=desc&amp;sortOrder=desc&amp;sortVariableName=rate&amp;output=5&amp;graph=2#results\" title=\"View Rate Graph\">Rate Graph</a></td><td><a class=\"icn icn-trend\" href=\"/historicaltrend/index.php?0&amp;4434&amp;999&amp;7599&amp;015&amp;515&amp;00&amp;0&amp;0&amp;0&amp;1&amp;0&amp;1&amp;1#results\" title=\"View Historical Trends Graph\">Historical Trends Graph</a></td><td>N/A</td></tr><tr><td class=\"text-left\">Colon &amp; Rectum</td><td>40.8</td><td>38.4</td><td><a class=\"icn icn-map\" href=\"/map/map.withimage.php?34&amp;county&amp;001&amp;020&amp;00&amp;0&amp;01&amp;0&amp;1&amp;5&amp;0#results\" title=\"View Map\">Map</a></td><td><a class=\"icn icn-table\" href=\"/incidencerates/index.php?stateFIPS=34&amp;areatype=county&amp;cancer=020&amp;race=00&amp;sex=0&amp;age=001&amp;type=incd#results\" title=\"View Table\">Table</a></td><td><a class=\"icn icn-cirank\" href=\"/incidencerates/graph.php?stateFIPS=34&amp;areatype=county&amp;cancer=020&amp;race=00&amp;sex=0&amp;age=001&amp;type=incd&amp;sortOrder=desc&amp;sortVariableName=cirank&amp;output=5&amp;graph=1#results\" title=\"View CI*Rank Graph\">Rank Graph</a></td><td><a class=\"icn icn-rate\" href=\"/incidencerates/graph.php?stateFIPS=34&amp;areatype=county&amp;cancer=020&amp;race=00&amp;sex=0&amp;age=001&amp;type=incd&amp;sortOrder=desc&amp;sortOrder=desc&amp;sortVariableName=rate&amp;output=5&amp;graph=2#results\" title=\"View Rate Graph\">Rate Graph</a></td><td><a class=\"icn icn-trend\" href=\"/historicaltrend/index.php?0&amp;4434&amp;999&amp;7599&amp;001&amp;020&amp;00&amp;0&amp;0&amp;0&amp;1&amp;0&amp;1&amp;1#results\" title=\"View Historical Trends Graph\">Historical Trends Graph</a></td><td><a class=\"icn icn-fiveyr\" href=\"/recenttrend/index.php?0&amp;4434&amp;0&amp;9599&amp;001&amp;999&amp;00&amp;0&amp;0&amp;0&amp;1#results\" title=\"5-Year Rate Change Graph\">5-Year Rate Change Graph</a></td></tr><tr><td class=\"text-left\">Esophagus</td><td>4.3</td><td>4.5</td><td><a class=\"icn icn-map\" href=\"/map/map.withimage.php?34&amp;county&amp;001&amp;017&amp;00&amp;0&amp;01&amp;0&amp;1&amp;5&amp;0#results\" title=\"View Map\">Map</a></td><td><a class=\"icn icn-table\" href=\"/incidencerates/index.php?stateFIPS=34&amp;areatype=county&amp;cancer=017&amp;race=00&amp;sex=0&amp;age=001&amp;type=incd#results\" title=\"View Table\">Table</a></td><td><a class=\"icn icn-cirank\" href=\"/incidencerates/graph.php?stateFIPS=34&amp;areatype=county&amp;cancer=017&amp;race=00&amp;sex=0&amp;age=001&amp;type=incd&amp;sortOrder=desc&amp;sortVariableName=cirank&amp;output=5&amp;graph=1#results\" title=\"View CI*Rank Graph\">Rank Graph</a></td><td><a class=\"icn icn-rate\" href=\"/incidencerates/graph.php?stateFIPS=34&amp;areatype=county&amp;cancer=017&amp;race=00&amp;sex=0&amp;age=001&amp;type=incd&amp;sortOrder=desc&amp;sortOrder=desc&amp;sortVariableName=rate&amp;output=5&amp;graph=2#results\" title=\"View Rate Graph\">Rate Graph</a></td><td><a class=\"icn icn-trend\" href=\"/historicaltrend/index.php?0&amp;4434&amp;999&amp;7599&amp;001&amp;017&amp;00&amp;0&amp;0&amp;0&amp;1&amp;0&amp;1&amp;1#results\" title=\"View Historical Trends Graph\">Historical Trends Graph</a></td><td><a class=\"icn icn-fiveyr\" href=\"/recenttrend/index.php?0&amp;4434&amp;0&amp;9599&amp;001&amp;999&amp;00&amp;0&amp;0&amp;0&amp;1#results\" title=\"5-Year Rate Change Graph\">5-Year Rate Change Graph</a></td></tr><tr><td class=\"text-left\">Kidney &amp; Renal Pelvis</td><td>16.3</td><td>16.8</td><td><a class=\"icn icn-map\" href=\"/map/map.withimage.php?34&amp;county&amp;001&amp;072&amp;00&amp;0&amp;01&amp;0&amp;1&amp;5&amp;0#results\" title=\"View Map\">Map</a></td><td><a class=\"icn icn-table\" href=\"/incidencerates/index.php?stateFIPS=34&amp;areatype=county&amp;cancer=072&amp;race=00&amp;sex=0&amp;age=001&amp;type=incd#results\" title=\"View Table\">Table</a></td><td><a class=\"icn icn-cirank\" href=\"/incidencerates/graph.php?stateFIPS=34&amp;areatype=county&amp;cancer=072&amp;race=00&amp;sex=0&amp;age=001&amp;type=incd&amp;sortOrder=desc&amp;sortVariableName=cirank&amp;output=5&amp;graph=1#results\" title=\"View CI*Rank Graph\">Rank Graph</a></td><td><a class=\"icn icn-rate\" href=\"/incidencerates/graph.php?stateFIPS=34&amp;areatype=county&amp;cancer=072&amp;race=00&amp;sex=0&amp;age=001&amp;type=incd&amp;sortOrder=desc&amp;sortOrder=desc&amp;sortVariableName=rate&amp;output=5&amp;graph=2#results\" title=\"View Rate Graph\">Rate Graph</a></td><td><a class=\"icn icn-trend\" href=\"/historicaltrend/index.php?0&amp;4434&amp;999&amp;7599&amp;001&amp;072&amp;00&amp;0&amp;0&amp;0&amp;1&amp;0&amp;1&amp;1#results\" title=\"View Historical Trends Graph\">Historical Trends Graph</a></td><td><a class=\"icn icn-fiveyr\" href=\"/recenttrend/index.php?0&amp;4434&amp;0&amp;9599&amp;001&amp;999&amp;00&amp;0&amp;0&amp;0&amp;1#results\" title=\"5-Year Rate Change Graph\">5-Year Rate Change Graph</a></td></tr><tr><td class=\"text-left\">Leukemia</td><td>15.7</td><td>14.2</td><td><a class=\"icn icn-map\" href=\"/map/map.withimage.php?34&amp;county&amp;001&amp;090&amp;00&amp;0&amp;01&amp;0&amp;1&amp;5&amp;0#results\" title=\"View Map\">Map</a></td><td><a class=\"icn icn-table\" href=\"/incidencerates/index.php?stateFIPS=34&amp;areatype=county&amp;cancer=090&amp;race=00&amp;sex=0&amp;age=001&amp;type=incd#results\" title=\"View Table\">Table</a></td><td><a class=\"icn icn-cirank\" href=\"/incidencerates/graph.php?stateFIPS=34&amp;areatype=county&amp;cancer=090&amp;race=00&amp;sex=0&amp;age=001&amp;type=incd&amp;sortOrder=desc&amp;sortVariableName=cirank&amp;output=5&amp;graph=1#results\" title=\"View CI*Rank Graph\">Rank Graph</a></td><td><a class=\"icn icn-rate\" href=\"/incidencerates/graph.php?stateFIPS=34&amp;areatype=county&amp;cancer=090&amp;race=00&amp;sex=0&amp;age=001&amp;type=incd&amp;sortOrder=desc&amp;sortOrder=desc&amp;sortVariableName=rate&amp;output=5&amp;graph=2#results\" title=\"View Rate Graph\">Rate Graph</a></td><td><a class=\"icn icn-trend\" href=\"/historicaltrend/index.php?0&amp;4434&amp;999&amp;7599&amp;001&amp;090&amp;00&amp;0&amp;0&amp;0&amp;1&amp;0&amp;1&amp;1#results\" title=\"View Historical Trends Graph\">Historical Trends Graph</a></td><td><a class=\"icn icn-fiveyr\" href=\"/recenttrend/index.php?0&amp;4434&amp;0&amp;9599&amp;001&amp;999&amp;00&amp;0&amp;0&amp;0&amp;1#results\" title=\"5-Year Rate Change Graph\">5-Year Rate Change Graph</a></td></tr><tr><td class=\"text-left\">Liver &amp; Bile Duct</td><td>7.8</td><td>8.4</td><td><a class=\"icn icn-map\" href=\"/map/map.withimage.php?34&amp;county&amp;001&amp;035&amp;00&amp;0&amp;01&amp;0&amp;1&amp;5&amp;0#results\" title=\"View Map\">Map</a></td><td><a class=\"icn icn-table\" href=\"/incidencerates/index.php?stateFIPS=34&amp;areatype=county&amp;cancer=035&amp;race=00&amp;sex=0&amp;age=001&amp;type=incd#results\" title=\"View Table\">Table</a></td><td><a class=\"icn icn-cirank\" href=\"/incidencerates/graph.php?stateFIPS=34&amp;areatype=county&amp;cancer=035&amp;race=00&amp;sex=0&amp;age=001&amp;type=incd&amp;sortOrder=desc&amp;sortVariableName=cirank&amp;output=5&amp;graph=1#results\" title=\"View CI*Rank Graph\">Rank Graph</a></td><td><a class=\"icn icn-rate\" href=\"/incidencerates/graph.php?stateFIPS=34&amp;areatype=county&amp;cancer=035&amp;race=00&amp;sex=0&amp;age=001&amp;type=incd&amp;sortOrder=desc&amp;sortOrder=desc&amp;sortVariableName=rate&amp;output=5&amp;graph=2#results\" title=\"View Rate Graph\">Rate Graph</a></td><td><a class=\"icn icn-trend\" href=\"/historicaltrend/index.php?0&amp;4434&amp;999&amp;7599&amp;001&amp;035&amp;00&amp;0&amp;0&amp;0&amp;1&amp;0&amp;1&amp;1#results\" title=\"View Historical Trends Graph\">Historical Trends Graph</a></td><td><a class=\"icn icn-fiveyr\" href=\"/recenttrend/index.php?0&amp;4434&amp;0&amp;9599&amp;001&amp;999&amp;00&amp;0&amp;0&amp;0&amp;1#results\" title=\"5-Year Rate Change Graph\">5-Year Rate Change Graph</a></td></tr><tr><td class=\"text-left\">Lung &amp; Bronchus</td><td>55.3</td><td>58.3</td><td><a class=\"icn icn-map\" href=\"/map/map.withimage.php?34&amp;county&amp;001&amp;047&amp;00&amp;0&amp;01&amp;0&amp;1&amp;5&amp;0#results\" title=\"View Map\">Map</a></td><td><a class=\"icn icn-table\" href=\"/incidencerates/index.php?stateFIPS=34&amp;areatype=county&amp;cancer=047&amp;race=00&amp;sex=0&amp;age=001&amp;type=incd#results\" title=\"View Table\">Table</a></td><td><a class=\"icn icn-cirank\" href=\"/incidencerates/graph.php?stateFIPS=34&amp;areatype=county&amp;cancer=047&amp;race=00&amp;sex=0&amp;age=001&amp;type=incd&amp;sortOrder=desc&amp;sortVariableName=cirank&amp;output=5&amp;graph=1#results\" title=\"View CI*Rank Graph\">Rank Graph</a></td><td><a class=\"icn icn-rate\" href=\"/incidencerates/graph.php?stateFIPS=34&amp;areatype=county&amp;cancer=047&amp;race=00&amp;sex=0&amp;age=001&amp;type=incd&amp;sortOrder=desc&amp;sortOrder=desc&amp;sortVariableName=rate&amp;output=5&amp;graph=2#results\" title=\"View Rate Graph\">Rate Graph</a></td><td><a class=\"icn icn-trend\" href=\"/historicaltrend/index.php?0&amp;4434&amp;999&amp;7599&amp;001&amp;047&amp;00&amp;0&amp;0&amp;0&amp;1&amp;0&amp;1&amp;1#results\" title=\"View Historical Trends Graph\">Historical Trends Graph</a></td><td><a class=\"icn icn-fiveyr\" href=\"/recenttrend/index.php?0&amp;4434&amp;0&amp;9599&amp;001&amp;999&amp;00&amp;0&amp;0&amp;0&amp;1#results\" title=\"5-Year Rate Change Graph\">5-Year Rate Change Graph</a></td></tr><tr><td class=\"text-left\">Melanoma of the Skin</td><td>22.2</td><td>22.3</td><td><a class=\"icn icn-map\" href=\"/map/map.withimage.php?34&amp;county&amp;001&amp;053&amp;00&amp;0&amp;01&amp;0&amp;1&amp;5&amp;0#results\" title=\"View Map\">Map</a></td><td><a class=\"icn icn-table\" href=\"/incidencerates/index.php?stateFIPS=34&amp;areatype=county&amp;cancer=053&amp;race=00&amp;sex=0&amp;age=001&amp;type=incd#results\" title=\"View Table\">Table</a></td><td><a class=\"icn icn-cirank\" href=\"/incidencerates/graph.php?stateFIPS=34&amp;areatype=county&amp;cancer=053&amp;race=00&amp;sex=0&amp;age=001&amp;type=incd&amp;sortOrder=desc&amp;sortVariableName=cirank&amp;output=5&amp;graph=1#results\" title=\"View CI*Rank Graph\">Rank Graph</a></td><td><a class=\"icn icn-rate\" href=\"/incidencerates/graph.php?stateFIPS=34&amp;areatype=county&amp;cancer=053&amp;race=00&amp;sex=0&amp;age=001&amp;type=incd&amp;sortOrder=desc&amp;sortOrder=desc&amp;sortVariableName=rate&amp;output=5&amp;graph=2#results\" title=\"View Rate Graph\">Rate Graph</a></td><td><a class=\"icn icn-trend\" href=\"/historicaltrend/index.php?0&amp;4434&amp;999&amp;7599&amp;001&amp;053&amp;00&amp;0&amp;0&amp;0&amp;1&amp;0&amp;1&amp;1#results\" title=\"View Historical Trends Graph\">Historical Trends Graph</a></td><td><a class=\"icn icn-fiveyr\" href=\"/recenttrend/index.php?0&amp;4434&amp;0&amp;9599&amp;001&amp;999&amp;00&amp;0&amp;0&amp;0&amp;1#results\" title=\"5-Year Rate Change Graph\">5-Year Rate Change Graph</a></td></tr><tr><td class=\"text-left\">Non-Hodgkin Lymphoma</td><td>21.8</td><td>19.3</td><td><a class=\"icn icn-map\" href=\"/map/map.withimage.php?34&amp;county&amp;001&amp;086&amp;00&amp;0&amp;01&amp;0&amp;1&amp;5&amp;0#results\" title=\"View Map\">Map</a></td><td><a class=\"icn icn-table\" href=\"/incidencerates/index.php?stateFIPS=34&amp;areatype=county&amp;cancer=086&amp;race=00&amp;sex=0&amp;age=001&amp;type=incd#results\" title=\"View Table\">Table</a></td><td><a class=\"icn icn-cirank\" href=\"/incidencerates/graph.php?stateFIPS=34&amp;areatype=county&amp;cancer=086&amp;race=00&amp;sex=0&amp;age=001&amp;type=incd&amp;sortOrder=desc&amp;sortVariableName=cirank&amp;output=5&amp;graph=1#results\" title=\"View CI*Rank Graph\">Rank Graph</a></td><td><a class=\"icn icn-rate\" href=\"/incidencerates/graph.php?stateFIPS=34&amp;areatype=county&amp;cancer=086&amp;race=00&amp;sex=0&amp;age=001&amp;type=incd&amp;sortOrder=desc&amp;sortOrder=desc&amp;sortVariableName=rate&amp;output=5&amp;graph=2#results\" title=\"View Rate Graph\">Rate Graph</a></td><td><a class=\"icn icn-trend\" href=\"/historicaltrend/index.php?0&amp;4434&amp;999&amp;7599&amp;001&amp;086&amp;00&amp;0&amp;0&amp;0&amp;1&amp;0&amp;1&amp;1#results\" title=\"View Historical Trends Graph\">Historical Trends Graph</a></td><td><a class=\"icn icn-fiveyr\" href=\"/recenttrend/index.php?0&amp;4434&amp;0&amp;9599&amp;001&amp;999&amp;00&amp;0&amp;0&amp;0&amp;1#results\" title=\"5-Year Rate Change Graph\">5-Year Rate Change Graph</a></td></tr><tr><td class=\"text-left\">Oral Cavity &amp; Pharynx</td><td>11.1</td><td>11.8</td><td><a class=\"icn icn-map\" href=\"/map/map.withimage.php?34&amp;county&amp;001&amp;003&amp;00&amp;0&amp;01&amp;0&amp;1&amp;5&amp;0#results\" title=\"View Map\">Map</a></td><td><a class=\"icn icn-table\" href=\"/incidencerates/index.php?stateFIPS=34&amp;areatype=county&amp;cancer=003&amp;race=00&amp;sex=0&amp;age=001&amp;type=incd#results\" title=\"View Table\">Table</a></td><td><a class=\"icn icn-cirank\" href=\"/incidencerates/graph.php?stateFIPS=34&amp;areatype=county&amp;cancer=003&amp;race=00&amp;sex=0&amp;age=001&amp;type=incd&amp;sortOrder=desc&amp;sortVariableName=cirank&amp;output=5&amp;graph=1#results\" title=\"View CI*Rank Graph\">Rank Graph</a></td><td><a class=\"icn icn-rate\" href=\"/incidencerates/graph.php?stateFIPS=34&amp;areatype=county&amp;cancer=003&amp;race=00&amp;sex=0&amp;age=001&amp;type=incd&amp;sortOrder=desc&amp;sortOrder=desc&amp;sortVariableName=rate&amp;output=5&amp;graph=2#results\" title=\"View Rate Graph\">Rate Graph</a></td><td><a class=\"icn icn-trend\" href=\"/historicaltrend/index.php?0&amp;4434&amp;999&amp;7599&amp;001&amp;003&amp;00&amp;0&amp;0&amp;0&amp;1&amp;0&amp;1&amp;1#results\" title=\"View Historical Trends Graph\">Historical Trends Graph</a></td><td><a class=\"icn icn-fiveyr\" href=\"/recenttrend/index.php?0&amp;4434&amp;0&amp;9599&amp;001&amp;999&amp;00&amp;0&amp;0&amp;0&amp;1#results\" title=\"5-Year Rate Change Graph\">5-Year Rate Change Graph</a></td></tr><tr><td class=\"text-left\">Ovary (Female)</td><td>11.8</td><td>10.9</td><td><a class=\"icn icn-map\" href=\"/map/map.withimage.php?34&amp;county&amp;001&amp;061&amp;00&amp;2&amp;01&amp;0&amp;1&amp;5&amp;0#results\" title=\"View Map\">Map</a></td><td><a class=\"icn icn-table\" href=\"/incidencerates/index.php?stateFIPS=34&amp;areatype=county&amp;cancer=061&amp;race=00&amp;sex=2&amp;age=001&amp;type=incd#results\" title=\"View Table\">Table</a></td><td><a class=\"icn icn-cirank\" href=\"/incidencerates/graph.php?stateFIPS=34&amp;areatype=county&amp;cancer=061&amp;race=00&amp;sex=2&amp;age=001&amp;type=incd&amp;sortOrder=desc&amp;sortVariableName=cirank&amp;output=5&amp;graph=1#results\" title=\"View CI*Rank Graph\">Rank Graph</a></td><td><a class=\"icn icn-rate\" href=\"/incidencerates/graph.php?stateFIPS=34&amp;areatype=county&amp;cancer=061&amp;race=00&amp;sex=2&amp;age=001&amp;type=incd&amp;sortOrder=desc&amp;sortOrder=desc&amp;sortVariableName=rate&amp;output=5&amp;graph=2#results\" title=\"View Rate Graph\">Rate Graph</a></td><td><a class=\"icn icn-trend\" href=\"/historicaltrend/index.php?0&amp;4434&amp;999&amp;7599&amp;001&amp;061&amp;00&amp;2&amp;0&amp;0&amp;1&amp;0&amp;1&amp;1#results\" title=\"View Historical Trends Graph\">Historical Trends Graph</a></td><td><a class=\"icn icn-fiveyr\" href=\"/recenttrend/index.php?0&amp;4434&amp;0&amp;9599&amp;001&amp;999&amp;00&amp;2&amp;0&amp;0&amp;1#results\" title=\"5-Year Rate Change Graph\">5-Year Rate Change Graph</a></td></tr><tr><td class=\"text-left\">Pancreas</td><td>14.4</td><td>12.9</td><td><a class=\"icn icn-map\" href=\"/map/map.withimage.php?34&amp;county&amp;001&amp;040&amp;00&amp;0&amp;01&amp;0&amp;1&amp;5&amp;0#results\" title=\"View Map\">Map</a></td><td><a class=\"icn icn-table\" href=\"/incidencerates/index.php?stateFIPS=34&amp;areatype=county&amp;cancer=040&amp;race=00&amp;sex=0&amp;age=001&amp;type=incd#results\" title=\"View Table\">Table</a></td><td><a class=\"icn icn-cirank\" href=\"/incidencerates/graph.php?stateFIPS=34&amp;areatype=county&amp;cancer=040&amp;race=00&amp;sex=0&amp;age=001&amp;type=incd&amp;sortOrder=desc&amp;sortVariableName=cirank&amp;output=5&amp;graph=1#results\" title=\"View CI*Rank Graph\">Rank Graph</a></td><td><a class=\"icn icn-rate\" href=\"/incidencerates/graph.php?stateFIPS=34&amp;areatype=county&amp;cancer=040&amp;race=00&amp;sex=0&amp;age=001&amp;type=incd&amp;sortOrder=desc&amp;sortOrder=desc&amp;sortVariableName=rate&amp;output=5&amp;graph=2#results\" title=\"View Rate Graph\">Rate Graph</a></td><td><a class=\"icn icn-trend\" href=\"/historicaltrend/index.php?0&amp;4434&amp;999&amp;7599&amp;001&amp;040&amp;00&amp;0&amp;0&amp;0&amp;1&amp;0&amp;1&amp;1#results\" title=\"View Historical Trends Graph\">Historical Trends Graph</a></td><td><a class=\"icn icn-fiveyr\" href=\"/recenttrend/index.php?0&amp;4434&amp;0&amp;9599&amp;001&amp;999&amp;00&amp;0&amp;0&amp;0&amp;1#results\" title=\"5-Year Rate Change Graph\">5-Year Rate Change Graph</a></td></tr><tr><td class=\"text-left\">Prostate (Male)</td><td>131.3</td><td>104.5</td><td><a class=\"icn icn-map\" href=\"/map/map.withimage.php?34&amp;county&amp;001&amp;066&amp;00&amp;1&amp;01&amp;0&amp;1&amp;5&amp;0#results\" title=\"View Map\">Map</a></td><td><a class=\"icn icn-table\" href=\"/incidencerates/index.php?stateFIPS=34&amp;areatype=county&amp;cancer=066&amp;race=00&amp;sex=1&amp;age=001&amp;type=incd#results\" title=\"View Table\">Table</a></td><td><a class=\"icn icn-cirank\" href=\"/incidencerates/graph.php?stateFIPS=34&amp;areatype=county&amp;cancer=066&amp;race=00&amp;sex=1&amp;age=001&amp;type=incd&amp;sortOrder=desc&amp;sortVariableName=cirank&amp;output=5&amp;graph=1#results\" title=\"View CI*Rank Graph\">Rank Graph</a></td><td><a class=\"icn icn-rate\" href=\"/incidencerates/graph.php?stateFIPS=34&amp;areatype=county&amp;cancer=066&amp;race=00&amp;sex=1&amp;age=001&amp;type=incd&amp;sortOrder=desc&amp;sortOrder=desc&amp;sortVariableName=rate&amp;output=5&amp;graph=2#results\" title=\"View Rate Graph\">Rate Graph</a></td><td><a class=\"icn icn-trend\" href=\"/historicaltrend/index.php?0&amp;4434&amp;999&amp;7599&amp;001&amp;066&amp;00&amp;1&amp;0&amp;0&amp;1&amp;0&amp;1&amp;1#results\" title=\"View Historical Trends Graph\">Historical Trends Graph</a></td><td><a class=\"icn icn-fiveyr\" href=\"/recenttrend/index.php?0&amp;4434&amp;0&amp;9599&amp;001&amp;999&amp;00&amp;1&amp;0&amp;0&amp;1#results\" title=\"5-Year Rate Change Graph\">5-Year Rate Change Graph</a></td></tr><tr><td class=\"text-left\">Stomach</td><td>7.9</td><td>6.5</td><td><a class=\"icn icn-map\" href=\"/map/map.withimage.php?34&amp;county&amp;001&amp;018&amp;00&amp;0&amp;01&amp;0&amp;1&amp;5&amp;0#results\" title=\"View Map\">Map</a></td><td><a class=\"icn icn-table\" href=\"/incidencerates/index.php?stateFIPS=34&amp;areatype=county&amp;cancer=018&amp;race=00&amp;sex=0&amp;age=001&amp;type=incd#results\" title=\"View Table\">Table</a></td><td><a class=\"icn icn-cirank\" href=\"/incidencerates/graph.php?stateFIPS=34&amp;areatype=county&amp;cancer=018&amp;race=00&amp;sex=0&amp;age=001&amp;type=incd&amp;sortOrder=desc&amp;sortVariableName=cirank&amp;output=5&amp;graph=1#results\" title=\"View CI*Rank Graph\">Rank Graph</a></td><td><a class=\"icn icn-rate\" href=\"/incidencerates/graph.php?stateFIPS=34&amp;areatype=county&amp;cancer=018&amp;race=00&amp;sex=0&amp;age=001&amp;type=incd&amp;sortOrder=desc&amp;sortOrder=desc&amp;sortVariableName=rate&amp;output=5&amp;graph=2#results\" title=\"View Rate Graph\">Rate Graph</a></td><td><a class=\"icn icn-trend\" href=\"/historicaltrend/index.php?0&amp;4434&amp;999&amp;7599&amp;001&amp;018&amp;00&amp;0&amp;0&amp;0&amp;1&amp;0&amp;1&amp;1#results\" title=\"View Historical Trends Graph\">Historical Trends Graph</a></td><td><a class=\"icn icn-fiveyr\" href=\"/recenttrend/index.php?0&amp;4434&amp;0&amp;9599&amp;001&amp;999&amp;00&amp;0&amp;0&amp;0&amp;1#results\" title=\"5-Year Rate Change Graph\">5-Year Rate Change Graph</a></td></tr><tr><td class=\"text-left\">Thyroid</td><td>19.3</td><td>14.3</td><td><a class=\"icn icn-map\" href=\"/map/map.withimage.php?34&amp;county&amp;001&amp;080&amp;00&amp;0&amp;01&amp;0&amp;1&amp;5&amp;0#results\" title=\"View Map\">Map</a></td><td><a class=\"icn icn-table\" href=\"/incidencerates/index.php?stateFIPS=34&amp;areatype=county&amp;cancer=080&amp;race=00&amp;sex=0&amp;age=001&amp;type=incd#results\" title=\"View Table\">Table</a></td><td><a class=\"icn icn-cirank\" href=\"/incidencerates/graph.php?stateFIPS=34&amp;areatype=county&amp;cancer=080&amp;race=00&amp;sex=0&amp;age=001&amp;type=incd&amp;sortOrder=desc&amp;sortVariableName=cirank&amp;output=5&amp;graph=1#results\" title=\"View CI*Rank Graph\">Rank Graph</a></td><td><a class=\"icn icn-rate\" href=\"/incidencerates/graph.php?stateFIPS=34&amp;areatype=county&amp;cancer=080&amp;race=00&amp;sex=0&amp;age=001&amp;type=incd&amp;sortOrder=desc&amp;sortOrder=desc&amp;sortVariableName=rate&amp;output=5&amp;graph=2#results\" title=\"View Rate Graph\">Rate Graph</a></td><td><a class=\"icn icn-trend\" href=\"/historicaltrend/index.php?0&amp;4434&amp;999&amp;7599&amp;001&amp;080&amp;00&amp;0&amp;0&amp;0&amp;1&amp;0&amp;1&amp;1#results\" title=\"View Historical Trends Graph\">Historical Trends Graph</a></td><td><a class=\"icn icn-fiveyr\" href=\"/recenttrend/index.php?0&amp;4434&amp;0&amp;9599&amp;001&amp;999&amp;00&amp;0&amp;0&amp;0&amp;1#results\" title=\"5-Year Rate Change Graph\">5-Year Rate Change Graph</a></td></tr><tr><td class=\"text-left\">Uterus (Corpus &amp; Uterus, NOS) (Female)</td><td>31.9</td><td>27.0</td><td><a class=\"icn icn-map\" href=\"/map/map.withimage.php?34&amp;county&amp;001&amp;058&amp;00&amp;2&amp;01&amp;0&amp;1&amp;5&amp;0#results\" title=\"View Map\">Map</a></td><td><a class=\"icn icn-table\" href=\"/incidencerates/index.php?stateFIPS=34&amp;areatype=county&amp;cancer=058&amp;race=00&amp;sex=2&amp;age=001&amp;type=incd#results\" title=\"View Table\">Table</a></td><td><a class=\"icn icn-cirank\" href=\"/incidencerates/graph.php?stateFIPS=34&amp;areatype=county&amp;cancer=058&amp;race=00&amp;sex=2&amp;age=001&amp;type=incd&amp;sortOrder=desc&amp;sortVariableName=cirank&amp;output=5&amp;graph=1#results\" title=\"View CI*Rank Graph\">Rank Graph</a></td><td><a class=\"icn icn-rate\" href=\"/incidencerates/graph.php?stateFIPS=34&amp;areatype=county&amp;cancer=058&amp;race=00&amp;sex=2&amp;age=001&amp;type=incd&amp;sortOrder=desc&amp;sortOrder=desc&amp;sortVariableName=rate&amp;output=5&amp;graph=2#results\" title=\"View Rate Graph\">Rate Graph</a></td><td><a class=\"icn icn-trend\" href=\"/historicaltrend/index.php?0&amp;4434&amp;999&amp;7599&amp;001&amp;058&amp;00&amp;2&amp;0&amp;0&amp;1&amp;0&amp;1&amp;1#results\" title=\"View Historical Trends Graph\">Historical Trends Graph</a></td><td><a class=\"icn icn-fiveyr\" href=\"/recenttrend/index.php?0&amp;4434&amp;0&amp;9599&amp;001&amp;999&amp;00&amp;2&amp;0&amp;0&amp;1#results\" title=\"5-Year Rate Change Graph\">5-Year Rate Change Graph</a></td></tr></tbody></table><table style=\"width:100%;\"><thead><tr><th class=\"text-left\" width=\"35%\">Age-Adjusted Incidence Rates by Race/Ethnicity, All Stages (2013-2017)</th><th width=\"12.5%\">New Jersey Rate</th><th width=\"12.5%\">USA Rate</th><th width=\"6.66%\">Map</th><th width=\"6.66%\">Table</th><th width=\"6.66%\">CI*Rank Graph</th><th width=\"6.66%\">Rate Graph</th><th width=\"6.66%\">Historical Trends Graph</th><th width=\"6.66%\">5-Year Rate Change Graph</th></tr></thead><tbody><tr><td class=\"text-left\">All Races (includes Hispanic)</td><td>485.9</td><td>448.7</td><td><a class=\"icn icn-map\" href=\"/map/map.withimage.php?34&amp;county&amp;001&amp;001&amp;00&amp;0&amp;01&amp;0&amp;1&amp;5&amp;0#results\" title=\"View Map\">Map</a></td><td><a class=\"icn icn-table\" href=\"/incidencerates/index.php?stateFIPS=34&amp;areatype=county&amp;cancer=001&amp;race=00&amp;sex=0&amp;age=001&amp;type=incd#results\" title=\"View Table\">Table</a></td><td><a class=\"icn icn-cirank\" href=\"/incidencerates/graph.php?stateFIPS=34&amp;areatype=county&amp;cancer=001&amp;race=00&amp;sex=0&amp;age=001&amp;type=incd&amp;sortOrder=desc&amp;sortVariableName=cirank&amp;output=5&amp;graph=1#results\" title=\"View CI*Rank Graph\">Rank Graph</a></td><td><a class=\"icn icn-rate\" href=\"/incidencerates/graph.php?stateFIPS=34&amp;areatype=county&amp;cancer=001&amp;race=00&amp;sex=0&amp;age=001&amp;type=incd&amp;sortOrder=desc&amp;sortOrder=desc&amp;sortVariableName=rate&amp;output=5&amp;graph=2#results\" title=\"View Rate Graph\">Rate Graph</a></td><td><a class=\"icn icn-trend\" href=\"/historicaltrend/index.php?0&amp;4434&amp;999&amp;7599&amp;001&amp;001&amp;00&amp;0&amp;0&amp;0&amp;1&amp;0&amp;1&amp;1#results\" title=\"View Historical Trends Graph\">Historical Trends Graph</a></td><td><a class=\"icn icn-fiveyr\" href=\"/recenttrend/index.php?0&amp;4434&amp;0&amp;9599&amp;001&amp;999&amp;00&amp;0&amp;0&amp;0&amp;1#results\" title=\"5-Year Rate Change Graph\">5-Year Rate Change Graph</a></td></tr><tr><td class=\"text-left\">White (includes Hispanic)</td><td>497.7</td><td>451.0</td><td><a class=\"icn icn-map\" href=\"/map/map.withimage.php?34&amp;county&amp;001&amp;001&amp;01&amp;0&amp;01&amp;0&amp;1&amp;5&amp;0#results\" title=\"View Map\">Map</a></td><td><a class=\"icn icn-table\" href=\"/incidencerates/index.php?stateFIPS=34&amp;areatype=county&amp;cancer=001&amp;race=01&amp;sex=0&amp;age=001&amp;type=incd#results\" title=\"View Table\">Table</a></td><td><a class=\"icn icn-cirank\" href=\"/incidencerates/graph.php?stateFIPS=34&amp;areatype=county&amp;cancer=001&amp;race=01&amp;sex=0&amp;age=001&amp;type=incd&amp;sortOrder=desc&amp;sortVariableName=cirank&amp;output=5&amp;graph=1#results\" title=\"View CI*Rank Graph\">Rank Graph</a></td><td><a class=\"icn icn-rate\" href=\"/incidencerates/graph.php?stateFIPS=34&amp;areatype=county&amp;cancer=001&amp;race=01&amp;sex=0&amp;age=001&amp;type=incd&amp;sortOrder=desc&amp;sortOrder=desc&amp;sortVariableName=rate&amp;output=5&amp;graph=2#results\" title=\"View Rate Graph\">Rate Graph</a></td><td><a class=\"icn icn-trend\" href=\"/historicaltrend/index.php?0&amp;4434&amp;999&amp;7599&amp;001&amp;001&amp;01&amp;0&amp;0&amp;0&amp;1&amp;0&amp;1&amp;1#results\" title=\"View Historical Trends Graph\">Historical Trends Graph</a></td><td><a class=\"icn icn-fiveyr\" href=\"/recenttrend/index.php?0&amp;4434&amp;0&amp;9599&amp;001&amp;999&amp;01&amp;0&amp;0&amp;0&amp;1#results\" title=\"5-Year Rate Change Graph\">5-Year Rate Change Graph</a></td></tr><tr><td class=\"text-left\">White Hispanic</td><td>399.3</td><td>344.1</td><td><a class=\"icn icn-map\" href=\"/map/map.withimage.php?34&amp;county&amp;001&amp;001&amp;06&amp;0&amp;01&amp;0&amp;1&amp;5&amp;0#results\" title=\"View Map\">Map</a></td><td><a class=\"icn icn-table\" href=\"/incidencerates/index.php?stateFIPS=34&amp;areatype=county&amp;cancer=001&amp;race=06&amp;sex=0&amp;age=001&amp;type=incd#results\" title=\"View Table\">Table</a></td><td><a class=\"icn icn-cirank\" href=\"/incidencerates/graph.php?stateFIPS=34&amp;areatype=county&amp;cancer=001&amp;race=06&amp;sex=0&amp;age=001&amp;type=incd&amp;sortOrder=desc&amp;sortVariableName=cirank&amp;output=5&amp;graph=1#results\" title=\"View CI*Rank Graph\">Rank Graph</a></td><td><a class=\"icn icn-rate\" href=\"/incidencerates/graph.php?stateFIPS=34&amp;areatype=county&amp;cancer=001&amp;race=06&amp;sex=0&amp;age=001&amp;type=incd&amp;sortOrder=desc&amp;sortOrder=desc&amp;sortVariableName=rate&amp;output=5&amp;graph=2#results\" title=\"View Rate Graph\">Rate Graph</a></td><td><a class=\"icn icn-trend\" href=\"/historicaltrend/index.php?0&amp;4434&amp;999&amp;7599&amp;001&amp;001&amp;06&amp;0&amp;0&amp;0&amp;1&amp;0&amp;1&amp;1#results\" title=\"View Historical Trends Graph\">Historical Trends Graph</a></td><td><a class=\"icn icn-fiveyr\" href=\"/recenttrend/index.php?0&amp;4434&amp;0&amp;9599&amp;001&amp;999&amp;06&amp;0&amp;0&amp;0&amp;1#results\" title=\"5-Year Rate Change Graph\">5-Year Rate Change Graph</a></td></tr><tr><td class=\"text-left\">White Non-Hispanic</td><td>514.1</td><td>465.7</td><td><a class=\"icn icn-map\" href=\"/map/map.withimage.php?34&amp;county&amp;001&amp;001&amp;07&amp;0&amp;01&amp;0&amp;1&amp;5&amp;0#results\" title=\"View Map\">Map</a></td><td><a class=\"icn icn-table\" href=\"/incidencerates/index.php?stateFIPS=34&amp;areatype=county&amp;cancer=001&amp;race=07&amp;sex=0&amp;age=001&amp;type=incd#results\" title=\"View Table\">Table</a></td><td><a class=\"icn icn-cirank\" href=\"/incidencerates/graph.php?stateFIPS=34&amp;areatype=county&amp;cancer=001&amp;race=07&amp;sex=0&amp;age=001&amp;type=incd&amp;sortOrder=desc&amp;sortVariableName=cirank&amp;output=5&amp;graph=1#results\" title=\"View CI*Rank Graph\">Rank Graph</a></td><td><a class=\"icn icn-rate\" href=\"/incidencerates/graph.php?stateFIPS=34&amp;areatype=county&amp;cancer=001&amp;race=07&amp;sex=0&amp;age=001&amp;type=incd&amp;sortOrder=desc&amp;sortOrder=desc&amp;sortVariableName=rate&amp;output=5&amp;graph=2#results\" title=\"View Rate Graph\">Rate Graph</a></td><td><a class=\"icn icn-trend\" href=\"/historicaltrend/index.php?0&amp;4434&amp;999&amp;7599&amp;001&amp;001&amp;07&amp;0&amp;0&amp;0&amp;1&amp;0&amp;1&amp;1#results\" title=\"View Historical Trends Graph\">Historical Trends Graph</a></td><td><a class=\"icn icn-fiveyr\" href=\"/recenttrend/index.php?0&amp;4434&amp;0&amp;9599&amp;001&amp;999&amp;07&amp;0&amp;0&amp;0&amp;1#results\" title=\"5-Year Rate Change Graph\">5-Year Rate Change Graph</a></td></tr><tr><td class=\"text-left\">Black (includes Hispanic)</td><td>449.4</td><td>447.6</td><td><a class=\"icn icn-map\" href=\"/map/map.withimage.php?34&amp;county&amp;001&amp;001&amp;02&amp;0&amp;01&amp;0&amp;1&amp;5&amp;0#results\" title=\"View Map\">Map</a></td><td><a class=\"icn icn-table\" href=\"/incidencerates/index.php?stateFIPS=34&amp;areatype=county&amp;cancer=001&amp;race=02&amp;sex=0&amp;age=001&amp;type=incd#results\" title=\"View Table\">Table</a></td><td><a class=\"icn icn-cirank\" href=\"/incidencerates/graph.php?stateFIPS=34&amp;areatype=county&amp;cancer=001&amp;race=02&amp;sex=0&amp;age=001&amp;type=incd&amp;sortOrder=desc&amp;sortVariableName=cirank&amp;output=5&amp;graph=1#results\" title=\"View CI*Rank Graph\">Rank Graph</a></td><td><a class=\"icn icn-rate\" href=\"/incidencerates/graph.php?stateFIPS=34&amp;areatype=county&amp;cancer=001&amp;race=02&amp;sex=0&amp;age=001&amp;type=incd&amp;sortOrder=desc&amp;sortOrder=desc&amp;sortVariableName=rate&amp;output=5&amp;graph=2#results\" title=\"View Rate Graph\">Rate Graph</a></td><td><a class=\"icn icn-trend\" href=\"/historicaltrend/index.php?0&amp;4434&amp;999&amp;7599&amp;001&amp;001&amp;02&amp;0&amp;0&amp;0&amp;1&amp;0&amp;1&amp;1#results\" title=\"View Historical Trends Graph\">Historical Trends Graph</a></td><td><a class=\"icn icn-fiveyr\" href=\"/recenttrend/index.php?0&amp;4434&amp;0&amp;9599&amp;001&amp;999&amp;02&amp;0&amp;0&amp;0&amp;1#results\" title=\"5-Year Rate Change Graph\">5-Year Rate Change Graph</a></td></tr><tr><td class=\"text-left\">Hispanic (any race)</td><td>394.0</td><td>344.8</td><td><a class=\"icn icn-map\" href=\"/map/map.withimage.php?34&amp;county&amp;001&amp;001&amp;05&amp;0&amp;01&amp;0&amp;1&amp;5&amp;0#results\" title=\"View Map\">Map</a></td><td><a class=\"icn icn-table\" href=\"/incidencerates/index.php?stateFIPS=34&amp;areatype=county&amp;cancer=001&amp;race=05&amp;sex=0&amp;age=001&amp;type=incd#results\" title=\"View Table\">Table</a></td><td><a class=\"icn icn-cirank\" href=\"/incidencerates/graph.php?stateFIPS=34&amp;areatype=county&amp;cancer=001&amp;race=05&amp;sex=0&amp;age=001&amp;type=incd&amp;sortOrder=desc&amp;sortVariableName=cirank&amp;output=5&amp;graph=1#results\" title=\"View CI*Rank Graph\">Rank Graph</a></td><td><a class=\"icn icn-rate\" href=\"/incidencerates/graph.php?stateFIPS=34&amp;areatype=county&amp;cancer=001&amp;race=05&amp;sex=0&amp;age=001&amp;type=incd&amp;sortOrder=desc&amp;sortOrder=desc&amp;sortVariableName=rate&amp;output=5&amp;graph=2#results\" title=\"View Rate Graph\">Rate Graph</a></td><td><a class=\"icn icn-trend\" href=\"/historicaltrend/index.php?0&amp;4434&amp;999&amp;7599&amp;001&amp;001&amp;05&amp;0&amp;0&amp;0&amp;1&amp;0&amp;1&amp;1#results\" title=\"View Historical Trends Graph\">Historical Trends Graph</a></td><td><a class=\"icn icn-fiveyr\" href=\"/recenttrend/index.php?0&amp;4434&amp;0&amp;9599&amp;001&amp;999&amp;05&amp;0&amp;0&amp;0&amp;1#results\" title=\"5-Year Rate Change Graph\">5-Year Rate Change Graph</a></td></tr><tr><td class=\"text-left\">Amer. Indian/Alaskan Native (includes Hispanic)</td><td>N/A</td><td>288.8</td><td><a class=\"icn icn-map\" href=\"/map/map.withimage.php?34&amp;county&amp;001&amp;001&amp;03&amp;0&amp;01&amp;0&amp;1&amp;5&amp;0#results\" title=\"View Map\">Map</a></td><td><a class=\"icn icn-table\" href=\"/incidencerates/index.php?stateFIPS=34&amp;areatype=county&amp;cancer=001&amp;race=03&amp;sex=0&amp;age=001&amp;type=incd#results\" title=\"View Table\">Table</a></td><td><a class=\"icn icn-cirank\" href=\"/incidencerates/graph.php?stateFIPS=34&amp;areatype=county&amp;cancer=001&amp;race=03&amp;sex=0&amp;age=001&amp;type=incd&amp;sortOrder=desc&amp;sortVariableName=cirank&amp;output=5&amp;graph=1#results\" title=\"View CI*Rank Graph\">Rank Graph</a></td><td><a class=\"icn icn-rate\" href=\"/incidencerates/graph.php?stateFIPS=34&amp;areatype=county&amp;cancer=001&amp;race=03&amp;sex=0&amp;age=001&amp;type=incd&amp;sortOrder=desc&amp;sortOrder=desc&amp;sortVariableName=rate&amp;output=5&amp;graph=2#results\" title=\"View Rate Graph\">Rate Graph</a></td><td><a class=\"icn icn-trend\" href=\"/historicaltrend/index.php?0&amp;4434&amp;999&amp;7599&amp;001&amp;001&amp;03&amp;0&amp;0&amp;0&amp;1&amp;0&amp;1&amp;1#results\" title=\"View Historical Trends Graph\">Historical Trends Graph</a></td><td><a class=\"icn icn-fiveyr\" href=\"/recenttrend/index.php?0&amp;4434&amp;0&amp;9599&amp;001&amp;999&amp;03&amp;0&amp;0&amp;0&amp;1#results\" title=\"5-Year Rate Change Graph\">5-Year Rate Change Graph</a></td></tr><tr><td class=\"text-left\">Asian or Pacific Islander (includes Hispanic)</td><td>278.5</td><td>290.6</td><td><a class=\"icn icn-map\" href=\"/map/map.withimage.php?34&amp;county&amp;001&amp;001&amp;04&amp;0&amp;01&amp;0&amp;1&amp;5&amp;0#results\" title=\"View Map\">Map</a></td><td><a class=\"icn icn-table\" href=\"/incidencerates/index.php?stateFIPS=34&amp;areatype=county&amp;cancer=001&amp;race=04&amp;sex=0&amp;age=001&amp;type=incd#results\" title=\"View Table\">Table</a></td><td><a class=\"icn icn-cirank\" href=\"/incidencerates/graph.php?stateFIPS=34&amp;areatype=county&amp;cancer=001&amp;race=04&amp;sex=0&amp;age=001&amp;type=incd&amp;sortOrder=desc&amp;sortVariableName=cirank&amp;output=5&amp;graph=1#results\" title=\"View CI*Rank Graph\">Rank Graph</a></td><td><a class=\"icn icn-rate\" href=\"/incidencerates/graph.php?stateFIPS=34&amp;areatype=county&amp;cancer=001&amp;race=04&amp;sex=0&amp;age=001&amp;type=incd&amp;sortOrder=desc&amp;sortOrder=desc&amp;sortVariableName=rate&amp;output=5&amp;graph=2#results\" title=\"View Rate Graph\">Rate Graph</a></td><td><a class=\"icn icn-trend\" href=\"/historicaltrend/index.php?0&amp;4434&amp;999&amp;7599&amp;001&amp;001&amp;04&amp;0&amp;0&amp;0&amp;1&amp;0&amp;1&amp;1#results\" title=\"View Historical Trends Graph\">Historical Trends Graph</a></td><td><a class=\"icn icn-fiveyr\" href=\"/recenttrend/index.php?0&amp;4434&amp;0&amp;9599&amp;001&amp;999&amp;04&amp;0&amp;0&amp;0&amp;1#results\" title=\"5-Year Rate Change Graph\">5-Year Rate Change Graph</a></td></tr></tbody></table><table style=\"width:100%;\"><thead><tr><th class=\"text-left\" width=\"35%\">Age-Adjusted Incidence Rates by Sex, All Stages <br/>(2013-2017)</th><th width=\"12.5%\">New Jersey Rate</th><th width=\"12.5%\">USA Rate</th><th width=\"6.66%\">Map</th><th width=\"6.66%\">Table</th><th width=\"6.66%\">CI*Rank Graph</th><th width=\"6.66%\">Rate Graph</th><th width=\"6.66%\">Historical Trends Graph</th><th width=\"6.66%\">5-Year Rate Change Graph</th></tr></thead><tbody><tr><td class=\"text-left\">Both Sexes</td><td>485.9</td><td>448.7</td><td><a class=\"icn icn-map\" href=\"/map/map.withimage.php?34&amp;county&amp;001&amp;001&amp;00&amp;0&amp;01&amp;0&amp;1&amp;5&amp;0#results\" title=\"View Map\">Map</a></td><td><a class=\"icn icn-table\" href=\"/incidencerates/index.php?stateFIPS=34&amp;areatype=county&amp;cancer=001&amp;race=00&amp;sex=0&amp;age=001&amp;type=incd#results\" title=\"View Table\">Table</a></td><td><a class=\"icn icn-cirank\" href=\"/incidencerates/graph.php?stateFIPS=34&amp;areatype=county&amp;cancer=001&amp;race=00&amp;sex=0&amp;age=001&amp;type=incd&amp;sortOrder=desc&amp;sortVariableName=cirank&amp;output=5&amp;graph=1#results\" title=\"View CI*Rank Graph\">Rank Graph</a></td><td><a class=\"icn icn-rate\" href=\"/incidencerates/graph.php?stateFIPS=34&amp;areatype=county&amp;cancer=001&amp;race=00&amp;sex=0&amp;age=001&amp;type=incd&amp;sortOrder=desc&amp;sortOrder=desc&amp;sortVariableName=rate&amp;output=5&amp;graph=2#results\" title=\"View Rate Graph\">Rate Graph</a></td><td><a class=\"icn icn-trend\" href=\"/historicaltrend/index.php?0&amp;4434&amp;999&amp;7599&amp;001&amp;001&amp;00&amp;0&amp;0&amp;0&amp;1&amp;0&amp;1&amp;1#results\" title=\"View Historical Trends Graph\">Historical Trends Graph</a></td><td><a class=\"icn icn-fiveyr\" href=\"/recenttrend/index.php?0&amp;4434&amp;0&amp;9599&amp;001&amp;999&amp;00&amp;0&amp;0&amp;0&amp;1#results\" title=\"5-Year Rate Change Graph\">5-Year Rate Change Graph</a></td></tr><tr><td class=\"text-left\">Male</td><td>530.5</td><td>488.5</td><td><a class=\"icn icn-map\" href=\"/map/map.withimage.php?34&amp;county&amp;001&amp;001&amp;00&amp;1&amp;01&amp;0&amp;1&amp;5&amp;0#results\" title=\"View Map\">Map</a></td><td><a class=\"icn icn-table\" href=\"/incidencerates/index.php?stateFIPS=34&amp;areatype=county&amp;cancer=001&amp;race=00&amp;sex=1&amp;age=001&amp;type=incd#results\" title=\"View Table\">Table</a></td><td><a class=\"icn icn-cirank\" href=\"/incidencerates/graph.php?stateFIPS=34&amp;areatype=county&amp;cancer=001&amp;race=00&amp;sex=1&amp;age=001&amp;type=incd&amp;sortOrder=desc&amp;sortVariableName=cirank&amp;output=5&amp;graph=1#results\" title=\"View CI*Rank Graph\">Rank Graph</a></td><td><a class=\"icn icn-rate\" href=\"/incidencerates/graph.php?stateFIPS=34&amp;areatype=county&amp;cancer=001&amp;race=00&amp;sex=1&amp;age=001&amp;type=incd&amp;sortOrder=desc&amp;sortOrder=desc&amp;sortVariableName=rate&amp;output=5&amp;graph=2#results\" title=\"View Rate Graph\">Rate Graph</a></td><td><a class=\"icn icn-trend\" href=\"/historicaltrend/index.php?0&amp;4434&amp;999&amp;7599&amp;001&amp;001&amp;00&amp;1&amp;0&amp;0&amp;1&amp;0&amp;1&amp;1#results\" title=\"View Historical Trends Graph\">Historical Trends Graph</a></td><td><a class=\"icn icn-fiveyr\" href=\"/recenttrend/index.php?0&amp;4434&amp;0&amp;9599&amp;001&amp;999&amp;00&amp;1&amp;0&amp;0&amp;1#results\" title=\"5-Year Rate Change Graph\">5-Year Rate Change Graph</a></td></tr><tr><td class=\"text-left\">Female</td><td>458.8</td><td>422.2</td><td><a class=\"icn icn-map\" href=\"/map/map.withimage.php?34&amp;county&amp;001&amp;001&amp;00&amp;2&amp;01&amp;0&amp;1&amp;5&amp;0#results\" title=\"View Map\">Map</a></td><td><a class=\"icn icn-table\" href=\"/incidencerates/index.php?stateFIPS=34&amp;areatype=county&amp;cancer=001&amp;race=00&amp;sex=2&amp;age=001&amp;type=incd#results\" title=\"View Table\">Table</a></td><td><a class=\"icn icn-cirank\" href=\"/incidencerates/graph.php?stateFIPS=34&amp;areatype=county&amp;cancer=001&amp;race=00&amp;sex=2&amp;age=001&amp;type=incd&amp;sortOrder=desc&amp;sortVariableName=cirank&amp;output=5&amp;graph=1#results\" title=\"View CI*Rank Graph\">Rank Graph</a></td><td><a class=\"icn icn-rate\" href=\"/incidencerates/graph.php?stateFIPS=34&amp;areatype=county&amp;cancer=001&amp;race=00&amp;sex=2&amp;age=001&amp;type=incd&amp;sortOrder=desc&amp;sortOrder=desc&amp;sortVariableName=rate&amp;output=5&amp;graph=2#results\" title=\"View Rate Graph\">Rate Graph</a></td><td><a class=\"icn icn-trend\" href=\"/historicaltrend/index.php?0&amp;4434&amp;999&amp;7599&amp;001&amp;001&amp;00&amp;2&amp;0&amp;0&amp;1&amp;0&amp;1&amp;1#results\" title=\"View Historical Trends Graph\">Historical Trends Graph</a></td><td><a class=\"icn icn-fiveyr\" href=\"/recenttrend/index.php?0&amp;4434&amp;0&amp;9599&amp;001&amp;999&amp;00&amp;2&amp;0&amp;0&amp;1#results\" title=\"5-Year Rate Change Graph\">5-Year Rate Change Graph</a></td></tr></tbody></table><table style=\"width:100%;\"><thead><tr><th class=\"text-left\" width=\"35%\">Age-Adjusted Incidence Rates by Age, All Stages<br/>(2013-2017)</th><th width=\"12.5%\">New Jersey Rate</th><th width=\"12.5%\">USA Rate</th><th width=\"6.66%\">Map</th><th width=\"6.66%\">Table</th><th width=\"6.66%\">CI*Rank Graph</th><th width=\"6.66%\">Rate Graph</th><th width=\"6.66%\">Historical Trends Graph</th><th width=\"6.66%\">5-Year Rate Change Graph</th></tr></thead><tbody><tr><td class=\"text-left\">All Ages</td><td>485.9</td><td>448.7</td><td><a class=\"icn icn-map\" href=\"/map/map.withimage.php?34&amp;county&amp;001&amp;001&amp;00&amp;0&amp;01&amp;0&amp;1&amp;5&amp;0#results\" title=\"View Map\">Map</a></td><td><a class=\"icn icn-table\" href=\"/incidencerates/index.php?stateFIPS=34&amp;areatype=county&amp;cancer=001&amp;race=00&amp;sex=0&amp;age=001&amp;type=incd#results\" title=\"View Table\">Table</a></td><td><a class=\"icn icn-cirank\" href=\"/incidencerates/graph.php?stateFIPS=34&amp;areatype=county&amp;cancer=001&amp;race=00&amp;sex=0&amp;age=001&amp;type=incd&amp;sortOrder=desc&amp;sortVariableName=cirank&amp;output=5&amp;graph=1#results\" title=\"View CI*Rank Graph\">Rank Graph</a></td><td><a class=\"icn icn-rate\" href=\"/incidencerates/graph.php?stateFIPS=34&amp;areatype=county&amp;cancer=001&amp;race=00&amp;sex=0&amp;age=001&amp;type=incd&amp;sortOrder=desc&amp;sortOrder=desc&amp;sortVariableName=rate&amp;output=5&amp;graph=2#results\" title=\"View Rate Graph\">Rate Graph</a></td><td><a class=\"icn icn-trend\" href=\"/historicaltrend/index.php?0&amp;4434&amp;999&amp;7599&amp;001&amp;001&amp;00&amp;0&amp;0&amp;0&amp;1&amp;0&amp;1&amp;1#results\" title=\"View Historical Trends Graph\">Historical Trends Graph</a></td><td><a class=\"icn icn-fiveyr\" href=\"/recenttrend/index.php?0&amp;4434&amp;0&amp;9599&amp;001&amp;999&amp;00&amp;0&amp;0&amp;0&amp;1#results\" title=\"5-Year Rate Change Graph\">5-Year Rate Change Graph</a></td></tr><tr><td class=\"text-left\">Ages &lt;65</td><td>240.4</td><td>226.7</td><td><a class=\"icn icn-map\" href=\"/map/map.withimage.php?34&amp;county&amp;006&amp;001&amp;00&amp;0&amp;01&amp;0&amp;1&amp;5&amp;0#results\" title=\"View Map\">Map</a></td><td><a class=\"icn icn-table\" href=\"/incidencerates/index.php?stateFIPS=34&amp;areatype=county&amp;cancer=001&amp;race=00&amp;sex=0&amp;age=006&amp;type=incd#results\" title=\"View Table\">Table</a></td><td><a class=\"icn icn-cirank\" href=\"/incidencerates/graph.php?stateFIPS=34&amp;areatype=county&amp;cancer=001&amp;race=00&amp;sex=0&amp;age=006&amp;type=incd&amp;sortOrder=desc&amp;sortVariableName=cirank&amp;output=5&amp;graph=1#results\" title=\"View CI*Rank Graph\">Rank Graph</a></td><td><a class=\"icn icn-rate\" href=\"/incidencerates/graph.php?stateFIPS=34&amp;areatype=county&amp;cancer=001&amp;race=00&amp;sex=0&amp;age=006&amp;type=incd&amp;sortOrder=desc&amp;sortOrder=desc&amp;sortVariableName=rate&amp;output=5&amp;graph=2#results\" title=\"View Rate Graph\">Rate Graph</a></td><td><a class=\"icn icn-trend\" href=\"/historicaltrend/index.php?0&amp;4434&amp;999&amp;7599&amp;006&amp;001&amp;00&amp;0&amp;0&amp;0&amp;1&amp;0&amp;1&amp;1#results\" title=\"View Historical Trends Graph\">Historical Trends Graph</a></td><td><a class=\"icn icn-fiveyr\" href=\"/recenttrend/index.php?0&amp;4434&amp;0&amp;9599&amp;006&amp;999&amp;00&amp;0&amp;0&amp;0&amp;1#results\" title=\"5-Year Rate Change Graph\">5-Year Rate Change Graph</a></td></tr><tr><td class=\"text-left\">Ages &lt;50</td><td>112.1</td><td>105.4</td><td><a class=\"icn icn-map\" href=\"/map/map.withimage.php?34&amp;county&amp;009&amp;001&amp;00&amp;0&amp;01&amp;0&amp;1&amp;5&amp;0#results\" title=\"View Map\">Map</a></td><td><a class=\"icn icn-table\" href=\"/incidencerates/index.php?stateFIPS=34&amp;areatype=county&amp;cancer=001&amp;race=00&amp;sex=0&amp;age=009&amp;type=incd#results\" title=\"View Table\">Table</a></td><td><a class=\"icn icn-cirank\" href=\"/incidencerates/graph.php?stateFIPS=34&amp;areatype=county&amp;cancer=001&amp;race=00&amp;sex=0&amp;age=009&amp;type=incd&amp;sortOrder=desc&amp;sortVariableName=cirank&amp;output=5&amp;graph=1#results\" title=\"View CI*Rank Graph\">Rank Graph</a></td><td><a class=\"icn icn-rate\" href=\"/incidencerates/graph.php?stateFIPS=34&amp;areatype=county&amp;cancer=001&amp;race=00&amp;sex=0&amp;age=009&amp;type=incd&amp;sortOrder=desc&amp;sortOrder=desc&amp;sortVariableName=rate&amp;output=5&amp;graph=2#results\" title=\"View Rate Graph\">Rate Graph</a></td><td><a class=\"icn icn-trend\" href=\"/historicaltrend/index.php?0&amp;4434&amp;999&amp;7599&amp;009&amp;001&amp;00&amp;0&amp;0&amp;0&amp;1&amp;0&amp;1&amp;1#results\" title=\"View Historical Trends Graph\">Historical Trends Graph</a></td><td><a class=\"icn icn-fiveyr\" href=\"/recenttrend/index.php?0&amp;4434&amp;0&amp;9599&amp;009&amp;999&amp;00&amp;0&amp;0&amp;0&amp;1#results\" title=\"5-Year Rate Change Graph\">5-Year Rate Change Graph</a></td></tr><tr><td class=\"text-left\">Ages 50+</td><td>1464.9</td><td>1351.4</td><td><a class=\"icn icn-map\" href=\"/map/map.withimage.php?34&amp;county&amp;136&amp;001&amp;00&amp;0&amp;01&amp;0&amp;1&amp;5&amp;0#results\" title=\"View Map\">Map</a></td><td><a class=\"icn icn-table\" href=\"/incidencerates/index.php?stateFIPS=34&amp;areatype=county&amp;cancer=001&amp;race=00&amp;sex=0&amp;age=136&amp;type=incd#results\" title=\"View Table\">Table</a></td><td><a class=\"icn icn-cirank\" href=\"/incidencerates/graph.php?stateFIPS=34&amp;areatype=county&amp;cancer=001&amp;race=00&amp;sex=0&amp;age=136&amp;type=incd&amp;sortOrder=desc&amp;sortVariableName=cirank&amp;output=5&amp;graph=1#results\" title=\"View CI*Rank Graph\">Rank Graph</a></td><td><a class=\"icn icn-rate\" href=\"/incidencerates/graph.php?stateFIPS=34&amp;areatype=county&amp;cancer=001&amp;race=00&amp;sex=0&amp;age=136&amp;type=incd&amp;sortOrder=desc&amp;sortOrder=desc&amp;sortVariableName=rate&amp;output=5&amp;graph=2#results\" title=\"View Rate Graph\">Rate Graph</a></td><td><a class=\"icn icn-trend\" href=\"/historicaltrend/index.php?0&amp;4434&amp;999&amp;7599&amp;136&amp;001&amp;00&amp;0&amp;0&amp;0&amp;1&amp;0&amp;1&amp;1#results\" title=\"View Historical Trends Graph\">Historical Trends Graph</a></td><td><a class=\"icn icn-fiveyr\" href=\"/recenttrend/index.php?0&amp;4434&amp;0&amp;9599&amp;136&amp;999&amp;00&amp;0&amp;0&amp;0&amp;1#results\" title=\"5-Year Rate Change Graph\">5-Year Rate Change Graph</a></td></tr><tr><td class=\"text-left\">Ages 65+</td><td>2183.3</td><td>1982.8</td><td><a class=\"icn icn-map\" href=\"/map/map.withimage.php?34&amp;county&amp;157&amp;001&amp;00&amp;0&amp;01&amp;0&amp;1&amp;5&amp;0#results\" title=\"View Map\">Map</a></td><td><a class=\"icn icn-table\" href=\"/incidencerates/index.php?stateFIPS=34&amp;areatype=county&amp;cancer=001&amp;race=00&amp;sex=0&amp;age=157&amp;type=incd#results\" title=\"View Table\">Table</a></td><td><a class=\"icn icn-cirank\" href=\"/incidencerates/graph.php?stateFIPS=34&amp;areatype=county&amp;cancer=001&amp;race=00&amp;sex=0&amp;age=157&amp;type=incd&amp;sortOrder=desc&amp;sortVariableName=cirank&amp;output=5&amp;graph=1#results\" title=\"View CI*Rank Graph\">Rank Graph</a></td><td><a class=\"icn icn-rate\" href=\"/incidencerates/graph.php?stateFIPS=34&amp;areatype=county&amp;cancer=001&amp;race=00&amp;sex=0&amp;age=157&amp;type=incd&amp;sortOrder=desc&amp;sortOrder=desc&amp;sortVariableName=rate&amp;output=5&amp;graph=2#results\" title=\"View Rate Graph\">Rate Graph</a></td><td><a class=\"icn icn-trend\" href=\"/historicaltrend/index.php?0&amp;4434&amp;999&amp;7599&amp;157&amp;001&amp;00&amp;0&amp;0&amp;0&amp;1&amp;0&amp;1&amp;1#results\" title=\"View Historical Trends Graph\">Historical Trends Graph</a></td><td><a class=\"icn icn-fiveyr\" href=\"/recenttrend/index.php?0&amp;4434&amp;0&amp;9599&amp;157&amp;999&amp;00&amp;0&amp;0&amp;0&amp;1#results\" title=\"5-Year Rate Change Graph\">5-Year Rate Change Graph</a></td></tr></tbody></table><table style=\"width:100%;\"><thead><tr><th class=\"text-left\" width=\"35%\">Age-Adjusted Incidence Rates by Year, All Stages</th><th width=\"12.5%\">New Jersey Rate</th><th width=\"12.5%\">USA Rate</th><th width=\"6.66%\">Map</th><th width=\"6.66%\">Table</th><th width=\"6.66%\">CI*Rank Graph</th><th width=\"6.66%\">Rate Graph</th><th width=\"6.66%\">Historical Trends Graph</th><th width=\"6.66%\">5-Year Rate Change Graph</th></tr></thead><tbody><tr><td class=\"text-left\">2013-2017</td><td>485.9</td><td>448.7</td><td><a class=\"icn icn-map\" href=\"/map/map.withimage.php?34&amp;county&amp;001&amp;001&amp;00&amp;0&amp;01&amp;0&amp;1&amp;5&amp;0#results\" title=\"View Map\">Map</a></td><td><a class=\"icn icn-table\" href=\"/incidencerates/index.php?stateFIPS=34&amp;areatype=county&amp;cancer=001&amp;race=00&amp;sex=0&amp;age=001&amp;type=incd#results\" title=\"View Table\">Table</a></td><td><a class=\"icn icn-cirank\" href=\"/incidencerates/graph.php?stateFIPS=34&amp;areatype=county&amp;cancer=001&amp;race=00&amp;sex=0&amp;age=001&amp;type=incd&amp;sortOrder=desc&amp;sortVariableName=cirank&amp;output=5&amp;graph=1#results\" title=\"View CI*Rank Graph\">Rank Graph</a></td><td><a class=\"icn icn-rate\" href=\"/incidencerates/graph.php?stateFIPS=34&amp;areatype=county&amp;cancer=001&amp;race=00&amp;sex=0&amp;age=001&amp;type=incd&amp;sortOrder=desc&amp;sortOrder=desc&amp;sortVariableName=rate&amp;output=5&amp;graph=2#results\" title=\"View Rate Graph\">Rate Graph</a></td><td><a class=\"icn icn-trend\" href=\"/historicaltrend/index.php?0&amp;4434&amp;999&amp;7599&amp;001&amp;001&amp;00&amp;0&amp;0&amp;0&amp;1&amp;0&amp;1&amp;1#results\" title=\"View Historical Trends Graph\">Historical Trends Graph</a></td><td><a class=\"icn icn-fiveyr\" href=\"/recenttrend/index.php?0&amp;4434&amp;0&amp;9599&amp;001&amp;999&amp;00&amp;0&amp;0&amp;0&amp;1#results\" title=\"5-Year Rate Change Graph\">5-Year Rate Change Graph</a></td></tr><tr><td class=\"text-left\">2017</td><td>480.6</td><td>437.8</td><td>N/A</td><td>N/A</td><td>N/A</td><td>N/A</td><td>N/A</td><td>N/A</td></tr></tbody></table><table style=\"width:100%;\"><thead><tr><th class=\"text-left\" width=\"35%\">Age-Adjusted Incidence Rates by Cancer Site - Late Stage (2013-2017)</th><th width=\"12.5%\">New Jersey Rate</th><th width=\"12.5%\">USA Rate</th><th width=\"6.66%\">Map</th><th width=\"6.66%\">Table</th><th width=\"6.66%\">CI*Rank Graph</th><th width=\"6.66%\">Rate Graph</th><th width=\"6.66%\">New Jersey Percent Late Stage</th><th width=\"6.66%\">USA Percent Late Stage</th></tr></thead><tbody><tr><td class=\"text-left\">Bladder</td><td>2.3</td><td>2.4</td><td><a class=\"icn icn-map\" href=\"/map/map.withimage.php?34&amp;county&amp;001&amp;071211&amp;00&amp;0&amp;11&amp;0&amp;1&amp;5&amp;0#results\" title=\"View Map\">Map</a></td><td><a class=\"icn icn-table\" href=\"/incidencerates/index.php?stateFIPS=34&amp;areatype=county&amp;cancer=071&amp;stage=211&amp;race=00&amp;sex=0&amp;age=001&amp;type=incd#results\" title=\"View Table\">Table</a></td><td><a class=\"icn icn-cirank\" href=\"/incidencerates/graph.php?stateFIPS=34&amp;areatype=county&amp;cancer=071&amp;stage=211&amp;race=00&amp;sex=0&amp;age=001&amp;type=incd&amp;sortOrder=desc&amp;sortVariableName=cirank&amp;output=5&amp;graph=1#results\" title=\"View CI*Rank Graph\">Rank Graph</a></td><td><a class=\"icn icn-rate\" href=\"/incidencerates/graph.php?stateFIPS=34&amp;areatype=county&amp;cancer=071&amp;stage=211&amp;race=00&amp;sex=0&amp;age=001&amp;type=incd&amp;sortOrder=desc&amp;sortOrder=desc&amp;sortVariableName=rate&amp;output=5&amp;graph=2#results\" title=\"View Rate Graph\">Rate Graph</a></td><td>10.0</td><td>11.8</td></tr><tr><td class=\"text-left\">Brain &amp; ONS</td><td>0.8</td><td>1.0</td><td><a class=\"icn icn-map\" href=\"/map/map.withimage.php?34&amp;county&amp;001&amp;076211&amp;00&amp;0&amp;11&amp;0&amp;1&amp;5&amp;0#results\" title=\"View Map\">Map</a></td><td><a class=\"icn icn-table\" href=\"/incidencerates/index.php?stateFIPS=34&amp;areatype=county&amp;cancer=076&amp;stage=211&amp;race=00&amp;sex=0&amp;age=001&amp;type=incd#results\" title=\"View Table\">Table</a></td><td><a class=\"icn icn-cirank\" href=\"/incidencerates/graph.php?stateFIPS=34&amp;areatype=county&amp;cancer=076&amp;stage=211&amp;race=00&amp;sex=0&amp;age=001&amp;type=incd&amp;sortOrder=desc&amp;sortVariableName=cirank&amp;output=5&amp;graph=1#results\" title=\"View CI*Rank Graph\">Rank Graph</a></td><td><a class=\"icn icn-rate\" href=\"/incidencerates/graph.php?stateFIPS=34&amp;areatype=county&amp;cancer=076&amp;stage=211&amp;race=00&amp;sex=0&amp;age=001&amp;type=incd&amp;sortOrder=desc&amp;sortOrder=desc&amp;sortVariableName=rate&amp;output=5&amp;graph=2#results\" title=\"View Rate Graph\">Rate Graph</a></td><td>12.5</td><td>14.9</td></tr><tr><td class=\"text-left\">Breast (Female)</td><td>44.3</td><td>42.0</td><td><a class=\"icn icn-map\" href=\"/map/map.withimage.php?34&amp;county&amp;001&amp;055211&amp;00&amp;2&amp;11&amp;0&amp;1&amp;5&amp;0#results\" title=\"View Map\">Map</a></td><td><a class=\"icn icn-table\" href=\"/incidencerates/index.php?stateFIPS=34&amp;areatype=county&amp;cancer=055&amp;stage=211&amp;race=00&amp;sex=2&amp;age=001&amp;type=incd#results\" title=\"View Table\">Table</a></td><td><a class=\"icn icn-cirank\" href=\"/incidencerates/graph.php?stateFIPS=34&amp;areatype=county&amp;cancer=055&amp;stage=211&amp;race=00&amp;sex=2&amp;age=001&amp;type=incd&amp;sortOrder=desc&amp;sortVariableName=cirank&amp;output=5&amp;graph=1#results\" title=\"View CI*Rank Graph\">Rank Graph</a></td><td><a class=\"icn icn-rate\" href=\"/incidencerates/graph.php?stateFIPS=34&amp;areatype=county&amp;cancer=055&amp;stage=211&amp;race=00&amp;sex=2&amp;age=001&amp;type=incd&amp;sortOrder=desc&amp;sortOrder=desc&amp;sortVariableName=rate&amp;output=5&amp;graph=2#results\" title=\"View Rate Graph\">Rate Graph</a></td><td>31.7</td><td>32.5</td></tr><tr><td class=\"text-left\">Cervix (Female)</td><td>3.8</td><td>3.6</td><td><a class=\"icn icn-map\" href=\"/map/map.withimage.php?34&amp;county&amp;001&amp;057211&amp;00&amp;2&amp;11&amp;0&amp;1&amp;5&amp;0#results\" title=\"View Map\">Map</a></td><td><a class=\"icn icn-table\" href=\"/incidencerates/index.php?stateFIPS=34&amp;areatype=county&amp;cancer=057&amp;stage=211&amp;race=00&amp;sex=2&amp;age=001&amp;type=incd#results\" title=\"View Table\">Table</a></td><td><a class=\"icn icn-cirank\" href=\"/incidencerates/graph.php?stateFIPS=34&amp;areatype=county&amp;cancer=057&amp;stage=211&amp;race=00&amp;sex=2&amp;age=001&amp;type=incd&amp;sortOrder=desc&amp;sortVariableName=cirank&amp;output=5&amp;graph=1#results\" title=\"View CI*Rank Graph\">Rank Graph</a></td><td><a class=\"icn icn-rate\" href=\"/incidencerates/graph.php?stateFIPS=34&amp;areatype=county&amp;cancer=057&amp;stage=211&amp;race=00&amp;sex=2&amp;age=001&amp;type=incd&amp;sortOrder=desc&amp;sortOrder=desc&amp;sortVariableName=rate&amp;output=5&amp;graph=2#results\" title=\"View Rate Graph\">Rate Graph</a></td><td>52.8</td><td>49.8</td></tr><tr><td class=\"text-left\">Colon &amp; Rectum</td><td>22.8</td><td>21.6</td><td><a class=\"icn icn-map\" href=\"/map/map.withimage.php?34&amp;county&amp;001&amp;020211&amp;00&amp;0&amp;11&amp;0&amp;1&amp;5&amp;0#results\" title=\"View Map\">Map</a></td><td><a class=\"icn icn-table\" href=\"/incidencerates/index.php?stateFIPS=34&amp;areatype=county&amp;cancer=020&amp;stage=211&amp;race=00&amp;sex=0&amp;age=001&amp;type=incd#results\" title=\"View Table\">Table</a></td><td><a class=\"icn icn-cirank\" href=\"/incidencerates/graph.php?stateFIPS=34&amp;areatype=county&amp;cancer=020&amp;stage=211&amp;race=00&amp;sex=0&amp;age=001&amp;type=incd&amp;sortOrder=desc&amp;sortVariableName=cirank&amp;output=5&amp;graph=1#results\" title=\"View CI*Rank Graph\">Rank Graph</a></td><td><a class=\"icn icn-rate\" href=\"/incidencerates/graph.php?stateFIPS=34&amp;areatype=county&amp;cancer=020&amp;stage=211&amp;race=00&amp;sex=0&amp;age=001&amp;type=incd&amp;sortOrder=desc&amp;sortOrder=desc&amp;sortVariableName=rate&amp;output=5&amp;graph=2#results\" title=\"View Rate Graph\">Rate Graph</a></td><td>56.0</td><td>56.1</td></tr><tr><td class=\"text-left\">Esophagus</td><td>2.8</td><td>3.1</td><td><a class=\"icn icn-map\" href=\"/map/map.withimage.php?34&amp;county&amp;001&amp;017211&amp;00&amp;0&amp;11&amp;0&amp;1&amp;5&amp;0#results\" title=\"View Map\">Map</a></td><td><a class=\"icn icn-table\" href=\"/incidencerates/index.php?stateFIPS=34&amp;areatype=county&amp;cancer=017&amp;stage=211&amp;race=00&amp;sex=0&amp;age=001&amp;type=incd#results\" title=\"View Table\">Table</a></td><td><a class=\"icn icn-cirank\" href=\"/incidencerates/graph.php?stateFIPS=34&amp;areatype=county&amp;cancer=017&amp;stage=211&amp;race=00&amp;sex=0&amp;age=001&amp;type=incd&amp;sortOrder=desc&amp;sortVariableName=cirank&amp;output=5&amp;graph=1#results\" title=\"View CI*Rank Graph\">Rank Graph</a></td><td><a class=\"icn icn-rate\" href=\"/incidencerates/graph.php?stateFIPS=34&amp;areatype=county&amp;cancer=017&amp;stage=211&amp;race=00&amp;sex=0&amp;age=001&amp;type=incd&amp;sortOrder=desc&amp;sortOrder=desc&amp;sortVariableName=rate&amp;output=5&amp;graph=2#results\" title=\"View Rate Graph\">Rate Graph</a></td><td>66.5</td><td>68.3</td></tr><tr><td class=\"text-left\">Kidney &amp; Renal Pelvis</td><td>4.6</td><td>4.8</td><td><a class=\"icn icn-map\" href=\"/map/map.withimage.php?34&amp;county&amp;001&amp;072211&amp;00&amp;0&amp;11&amp;0&amp;1&amp;5&amp;0#results\" title=\"View Map\">Map</a></td><td><a class=\"icn icn-table\" href=\"/incidencerates/index.php?stateFIPS=34&amp;areatype=county&amp;cancer=072&amp;stage=211&amp;race=00&amp;sex=0&amp;age=001&amp;type=incd#results\" title=\"View Table\">Table</a></td><td><a class=\"icn icn-cirank\" href=\"/incidencerates/graph.php?stateFIPS=34&amp;areatype=county&amp;cancer=072&amp;stage=211&amp;race=00&amp;sex=0&amp;age=001&amp;type=incd&amp;sortOrder=desc&amp;sortVariableName=cirank&amp;output=5&amp;graph=1#results\" title=\"View CI*Rank Graph\">Rank Graph</a></td><td><a class=\"icn icn-rate\" href=\"/incidencerates/graph.php?stateFIPS=34&amp;areatype=county&amp;cancer=072&amp;stage=211&amp;race=00&amp;sex=0&amp;age=001&amp;type=incd&amp;sortOrder=desc&amp;sortOrder=desc&amp;sortVariableName=rate&amp;output=5&amp;graph=2#results\" title=\"View Rate Graph\">Rate Graph</a></td><td>28.3</td><td>29.1</td></tr><tr><td class=\"text-left\">Leukemia</td><td>15.5</td><td>14.0</td><td><a class=\"icn icn-map\" href=\"/map/map.withimage.php?34&amp;county&amp;001&amp;090211&amp;00&amp;0&amp;11&amp;0&amp;1&amp;5&amp;0#results\" title=\"View Map\">Map</a></td><td><a class=\"icn icn-table\" href=\"/incidencerates/index.php?stateFIPS=34&amp;areatype=county&amp;cancer=090&amp;stage=211&amp;race=00&amp;sex=0&amp;age=001&amp;type=incd#results\" title=\"View Table\">Table</a></td><td><a class=\"icn icn-cirank\" href=\"/incidencerates/graph.php?stateFIPS=34&amp;areatype=county&amp;cancer=090&amp;stage=211&amp;race=00&amp;sex=0&amp;age=001&amp;type=incd&amp;sortOrder=desc&amp;sortVariableName=cirank&amp;output=5&amp;graph=1#results\" title=\"View CI*Rank Graph\">Rank Graph</a></td><td><a class=\"icn icn-rate\" href=\"/incidencerates/graph.php?stateFIPS=34&amp;areatype=county&amp;cancer=090&amp;stage=211&amp;race=00&amp;sex=0&amp;age=001&amp;type=incd&amp;sortOrder=desc&amp;sortOrder=desc&amp;sortVariableName=rate&amp;output=5&amp;graph=2#results\" title=\"View Rate Graph\">Rate Graph</a></td><td>99.3</td><td>98.6</td></tr><tr><td class=\"text-left\">Liver &amp; Bile Duct</td><td>3.3</td><td>3.6</td><td><a class=\"icn icn-map\" href=\"/map/map.withimage.php?34&amp;county&amp;001&amp;035211&amp;00&amp;0&amp;11&amp;0&amp;1&amp;5&amp;0#results\" title=\"View Map\">Map</a></td><td><a class=\"icn icn-table\" href=\"/incidencerates/index.php?stateFIPS=34&amp;areatype=county&amp;cancer=035&amp;stage=211&amp;race=00&amp;sex=0&amp;age=001&amp;type=incd#results\" title=\"View Table\">Table</a></td><td><a class=\"icn icn-cirank\" href=\"/incidencerates/graph.php?stateFIPS=34&amp;areatype=county&amp;cancer=035&amp;stage=211&amp;race=00&amp;sex=0&amp;age=001&amp;type=incd&amp;sortOrder=desc&amp;sortVariableName=cirank&amp;output=5&amp;graph=1#results\" title=\"View CI*Rank Graph\">Rank Graph</a></td><td><a class=\"icn icn-rate\" href=\"/incidencerates/graph.php?stateFIPS=34&amp;areatype=county&amp;cancer=035&amp;stage=211&amp;race=00&amp;sex=0&amp;age=001&amp;type=incd&amp;sortOrder=desc&amp;sortOrder=desc&amp;sortVariableName=rate&amp;output=5&amp;graph=2#results\" title=\"View Rate Graph\">Rate Graph</a></td><td>42.1</td><td>42.1</td></tr><tr><td class=\"text-left\">Lung &amp; Bronchus</td><td>37.9</td><td>40.7</td><td><a class=\"icn icn-map\" href=\"/map/map.withimage.php?34&amp;county&amp;001&amp;047211&amp;00&amp;0&amp;11&amp;0&amp;1&amp;5&amp;0#results\" title=\"View Map\">Map</a></td><td><a class=\"icn icn-table\" href=\"/incidencerates/index.php?stateFIPS=34&amp;areatype=county&amp;cancer=047&amp;stage=211&amp;race=00&amp;sex=0&amp;age=001&amp;type=incd#results\" title=\"View Table\">Table</a></td><td><a class=\"icn icn-cirank\" href=\"/incidencerates/graph.php?stateFIPS=34&amp;areatype=county&amp;cancer=047&amp;stage=211&amp;race=00&amp;sex=0&amp;age=001&amp;type=incd&amp;sortOrder=desc&amp;sortVariableName=cirank&amp;output=5&amp;graph=1#results\" title=\"View CI*Rank Graph\">Rank Graph</a></td><td><a class=\"icn icn-rate\" href=\"/incidencerates/graph.php?stateFIPS=34&amp;areatype=county&amp;cancer=047&amp;stage=211&amp;race=00&amp;sex=0&amp;age=001&amp;type=incd&amp;sortOrder=desc&amp;sortOrder=desc&amp;sortVariableName=rate&amp;output=5&amp;graph=2#results\" title=\"View Rate Graph\">Rate Graph</a></td><td>68.6</td><td>70.1</td></tr><tr><td class=\"text-left\">Melanoma of the Skin</td><td>2.7</td><td>3.1</td><td><a class=\"icn icn-map\" href=\"/map/map.withimage.php?34&amp;county&amp;001&amp;053211&amp;00&amp;0&amp;11&amp;0&amp;1&amp;5&amp;0#results\" title=\"View Map\">Map</a></td><td><a class=\"icn icn-table\" href=\"/incidencerates/index.php?stateFIPS=34&amp;areatype=county&amp;cancer=053&amp;stage=211&amp;race=00&amp;sex=0&amp;age=001&amp;type=incd#results\" title=\"View Table\">Table</a></td><td><a class=\"icn icn-cirank\" href=\"/incidencerates/graph.php?stateFIPS=34&amp;areatype=county&amp;cancer=053&amp;stage=211&amp;race=00&amp;sex=0&amp;age=001&amp;type=incd&amp;sortOrder=desc&amp;sortVariableName=cirank&amp;output=5&amp;graph=1#results\" title=\"View CI*Rank Graph\">Rank Graph</a></td><td><a class=\"icn icn-rate\" href=\"/incidencerates/graph.php?stateFIPS=34&amp;areatype=county&amp;cancer=053&amp;stage=211&amp;race=00&amp;sex=0&amp;age=001&amp;type=incd&amp;sortOrder=desc&amp;sortOrder=desc&amp;sortVariableName=rate&amp;output=5&amp;graph=2#results\" title=\"View Rate Graph\">Rate Graph</a></td><td>12.0</td><td>13.7</td></tr><tr><td class=\"text-left\">Non-Hodgkin Lymphoma</td><td>12.9</td><td>12.1</td><td><a class=\"icn icn-map\" href=\"/map/map.withimage.php?34&amp;county&amp;001&amp;086211&amp;00&amp;0&amp;11&amp;0&amp;1&amp;5&amp;0#results\" title=\"View Map\">Map</a></td><td><a class=\"icn icn-table\" href=\"/incidencerates/index.php?stateFIPS=34&amp;areatype=county&amp;cancer=086&amp;stage=211&amp;race=00&amp;sex=0&amp;age=001&amp;type=incd#results\" title=\"View Table\">Table</a></td><td><a class=\"icn icn-cirank\" href=\"/incidencerates/graph.php?stateFIPS=34&amp;areatype=county&amp;cancer=086&amp;stage=211&amp;race=00&amp;sex=0&amp;age=001&amp;type=incd&amp;sortOrder=desc&amp;sortVariableName=cirank&amp;output=5&amp;graph=1#results\" title=\"View CI*Rank Graph\">Rank Graph</a></td><td><a class=\"icn icn-rate\" href=\"/incidencerates/graph.php?stateFIPS=34&amp;areatype=county&amp;cancer=086&amp;stage=211&amp;race=00&amp;sex=0&amp;age=001&amp;type=incd&amp;sortOrder=desc&amp;sortOrder=desc&amp;sortVariableName=rate&amp;output=5&amp;graph=2#results\" title=\"View Rate Graph\">Rate Graph</a></td><td>59.3</td><td>63.1</td></tr><tr><td class=\"text-left\">Oral Cavity &amp; Pharynx</td><td>6.8</td><td>7.3</td><td><a class=\"icn icn-map\" href=\"/map/map.withimage.php?34&amp;county&amp;001&amp;003211&amp;00&amp;0&amp;11&amp;0&amp;1&amp;5&amp;0#results\" title=\"View Map\">Map</a></td><td><a class=\"icn icn-table\" href=\"/incidencerates/index.php?stateFIPS=34&amp;areatype=county&amp;cancer=003&amp;stage=211&amp;race=00&amp;sex=0&amp;age=001&amp;type=incd#results\" title=\"View Table\">Table</a></td><td><a class=\"icn icn-cirank\" href=\"/incidencerates/graph.php?stateFIPS=34&amp;areatype=county&amp;cancer=003&amp;stage=211&amp;race=00&amp;sex=0&amp;age=001&amp;type=incd&amp;sortOrder=desc&amp;sortVariableName=cirank&amp;output=5&amp;graph=1#results\" title=\"View CI*Rank Graph\">Rank Graph</a></td><td><a class=\"icn icn-rate\" href=\"/incidencerates/graph.php?stateFIPS=34&amp;areatype=county&amp;cancer=003&amp;stage=211&amp;race=00&amp;sex=0&amp;age=001&amp;type=incd&amp;sortOrder=desc&amp;sortOrder=desc&amp;sortVariableName=rate&amp;output=5&amp;graph=2#results\" title=\"View Rate Graph\">Rate Graph</a></td><td>62.2</td><td>62.6</td></tr><tr><td class=\"text-left\">Ovary (Female)</td><td>8.7</td><td>8.1</td><td><a class=\"icn icn-map\" href=\"/map/map.withimage.php?34&amp;county&amp;001&amp;061211&amp;00&amp;2&amp;11&amp;0&amp;1&amp;5&amp;0#results\" title=\"View Map\">Map</a></td><td><a class=\"icn icn-table\" href=\"/incidencerates/index.php?stateFIPS=34&amp;areatype=county&amp;cancer=061&amp;stage=211&amp;race=00&amp;sex=2&amp;age=001&amp;type=incd#results\" title=\"View Table\">Table</a></td><td><a class=\"icn icn-cirank\" href=\"/incidencerates/graph.php?stateFIPS=34&amp;areatype=county&amp;cancer=061&amp;stage=211&amp;race=00&amp;sex=2&amp;age=001&amp;type=incd&amp;sortOrder=desc&amp;sortVariableName=cirank&amp;output=5&amp;graph=1#results\" title=\"View CI*Rank Graph\">Rank Graph</a></td><td><a class=\"icn icn-rate\" href=\"/incidencerates/graph.php?stateFIPS=34&amp;areatype=county&amp;cancer=061&amp;stage=211&amp;race=00&amp;sex=2&amp;age=001&amp;type=incd&amp;sortOrder=desc&amp;sortOrder=desc&amp;sortVariableName=rate&amp;output=5&amp;graph=2#results\" title=\"View Rate Graph\">Rate Graph</a></td><td>74.5</td><td>74.9</td></tr><tr><td class=\"text-left\">Pancreas</td><td>11.2</td><td>9.9</td><td><a class=\"icn icn-map\" href=\"/map/map.withimage.php?34&amp;county&amp;001&amp;040211&amp;00&amp;0&amp;11&amp;0&amp;1&amp;5&amp;0#results\" title=\"View Map\">Map</a></td><td><a class=\"icn icn-table\" href=\"/incidencerates/index.php?stateFIPS=34&amp;areatype=county&amp;cancer=040&amp;stage=211&amp;race=00&amp;sex=0&amp;age=001&amp;type=incd#results\" title=\"View Table\">Table</a></td><td><a class=\"icn icn-cirank\" href=\"/incidencerates/graph.php?stateFIPS=34&amp;areatype=county&amp;cancer=040&amp;stage=211&amp;race=00&amp;sex=0&amp;age=001&amp;type=incd&amp;sortOrder=desc&amp;sortVariableName=cirank&amp;output=5&amp;graph=1#results\" title=\"View CI*Rank Graph\">Rank Graph</a></td><td><a class=\"icn icn-rate\" href=\"/incidencerates/graph.php?stateFIPS=34&amp;areatype=county&amp;cancer=040&amp;stage=211&amp;race=00&amp;sex=0&amp;age=001&amp;type=incd&amp;sortOrder=desc&amp;sortOrder=desc&amp;sortVariableName=rate&amp;output=5&amp;graph=2#results\" title=\"View Rate Graph\">Rate Graph</a></td><td>77.6</td><td>76.9</td></tr><tr><td class=\"text-left\">Prostate (Male)</td><td>20.0</td><td>21.1</td><td><a class=\"icn icn-map\" href=\"/map/map.withimage.php?34&amp;county&amp;001&amp;066211&amp;00&amp;1&amp;11&amp;0&amp;1&amp;5&amp;0#results\" title=\"View Map\">Map</a></td><td><a class=\"icn icn-table\" href=\"/incidencerates/index.php?stateFIPS=34&amp;areatype=county&amp;cancer=066&amp;stage=211&amp;race=00&amp;sex=1&amp;age=001&amp;type=incd#results\" title=\"View Table\">Table</a></td><td><a class=\"icn icn-cirank\" href=\"/incidencerates/graph.php?stateFIPS=34&amp;areatype=county&amp;cancer=066&amp;stage=211&amp;race=00&amp;sex=1&amp;age=001&amp;type=incd&amp;sortOrder=desc&amp;sortVariableName=cirank&amp;output=5&amp;graph=1#results\" title=\"View CI*Rank Graph\">Rank Graph</a></td><td><a class=\"icn icn-rate\" href=\"/incidencerates/graph.php?stateFIPS=34&amp;areatype=county&amp;cancer=066&amp;stage=211&amp;race=00&amp;sex=1&amp;age=001&amp;type=incd&amp;sortOrder=desc&amp;sortOrder=desc&amp;sortVariableName=rate&amp;output=5&amp;graph=2#results\" title=\"View Rate Graph\">Rate Graph</a></td><td>15.2</td><td>20.1</td></tr><tr><td class=\"text-left\">Stomach</td><td>4.5</td><td>3.8</td><td><a class=\"icn icn-map\" href=\"/map/map.withimage.php?34&amp;county&amp;001&amp;018211&amp;00&amp;0&amp;11&amp;0&amp;1&amp;5&amp;0#results\" title=\"View Map\">Map</a></td><td><a class=\"icn icn-table\" href=\"/incidencerates/index.php?stateFIPS=34&amp;areatype=county&amp;cancer=018&amp;stage=211&amp;race=00&amp;sex=0&amp;age=001&amp;type=incd#results\" title=\"View Table\">Table</a></td><td><a class=\"icn icn-cirank\" href=\"/incidencerates/graph.php?stateFIPS=34&amp;areatype=county&amp;cancer=018&amp;stage=211&amp;race=00&amp;sex=0&amp;age=001&amp;type=incd&amp;sortOrder=desc&amp;sortVariableName=cirank&amp;output=5&amp;graph=1#results\" title=\"View CI*Rank Graph\">Rank Graph</a></td><td><a class=\"icn icn-rate\" href=\"/incidencerates/graph.php?stateFIPS=34&amp;areatype=county&amp;cancer=018&amp;stage=211&amp;race=00&amp;sex=0&amp;age=001&amp;type=incd&amp;sortOrder=desc&amp;sortOrder=desc&amp;sortVariableName=rate&amp;output=5&amp;graph=2#results\" title=\"View Rate Graph\">Rate Graph</a></td><td>56.4</td><td>58.0</td></tr><tr><td class=\"text-left\">Thyroid</td><td>5.7</td><td>4.4</td><td><a class=\"icn icn-map\" href=\"/map/map.withimage.php?34&amp;county&amp;001&amp;080211&amp;00&amp;0&amp;11&amp;0&amp;1&amp;5&amp;0#results\" title=\"View Map\">Map</a></td><td><a class=\"icn icn-table\" href=\"/incidencerates/index.php?stateFIPS=34&amp;areatype=county&amp;cancer=080&amp;stage=211&amp;race=00&amp;sex=0&amp;age=001&amp;type=incd#results\" title=\"View Table\">Table</a></td><td><a class=\"icn icn-cirank\" href=\"/incidencerates/graph.php?stateFIPS=34&amp;areatype=county&amp;cancer=080&amp;stage=211&amp;race=00&amp;sex=0&amp;age=001&amp;type=incd&amp;sortOrder=desc&amp;sortVariableName=cirank&amp;output=5&amp;graph=1#results\" title=\"View CI*Rank Graph\">Rank Graph</a></td><td><a class=\"icn icn-rate\" href=\"/incidencerates/graph.php?stateFIPS=34&amp;areatype=county&amp;cancer=080&amp;stage=211&amp;race=00&amp;sex=0&amp;age=001&amp;type=incd&amp;sortOrder=desc&amp;sortOrder=desc&amp;sortVariableName=rate&amp;output=5&amp;graph=2#results\" title=\"View Rate Graph\">Rate Graph</a></td><td>28.9</td><td>30.5</td></tr><tr><td class=\"text-left\">Uterus (Corpus &amp; Uterus, NOS) (Female)</td><td>8.8</td><td>7.5</td><td><a class=\"icn icn-map\" href=\"/map/map.withimage.php?34&amp;county&amp;001&amp;058211&amp;00&amp;2&amp;11&amp;0&amp;1&amp;5&amp;0#results\" title=\"View Map\">Map</a></td><td><a class=\"icn icn-table\" href=\"/incidencerates/index.php?stateFIPS=34&amp;areatype=county&amp;cancer=058&amp;stage=211&amp;race=00&amp;sex=2&amp;age=001&amp;type=incd#results\" title=\"View Table\">Table</a></td><td><a class=\"icn icn-cirank\" href=\"/incidencerates/graph.php?stateFIPS=34&amp;areatype=county&amp;cancer=058&amp;stage=211&amp;race=00&amp;sex=2&amp;age=001&amp;type=incd&amp;sortOrder=desc&amp;sortVariableName=cirank&amp;output=5&amp;graph=1#results\" title=\"View CI*Rank Graph\">Rank Graph</a></td><td><a class=\"icn icn-rate\" href=\"/incidencerates/graph.php?stateFIPS=34&amp;areatype=county&amp;cancer=058&amp;stage=211&amp;race=00&amp;sex=2&amp;age=001&amp;type=incd&amp;sortOrder=desc&amp;sortOrder=desc&amp;sortVariableName=rate&amp;output=5&amp;graph=2#results\" title=\"View Rate Graph\">Rate Graph</a></td><td>27.6</td><td>27.9</td></tr></tbody></table><strong>Notes:</strong><br/>Created by statecancerprofiles.cancer.gov on 04/29/2021 3:36 pm.<br/>For more explicit data source and footnote information please see the tables, graphs and maps that are linked to each row.<br/>\n",
            "<br/>† Incidence rates (cases per 100,000 population per year) are age-adjusted to the <a href=\"http://www.seer.cancer.gov/stdpopulations/stdpop.19ages.html\">2000 US standard population</a> (19 age groups: &lt;1, 1-4, 5-9, ... , 80-84, 85+). Rates are for invasive cancer only (except for bladder cancer which is invasive and in situ) or unless otherwise specified. Rates calculated using SEER*Stat. Population counts for denominators are based on Census populations as modified by NCI. The <a href=\"https://seer.cancer.gov/popdata/\">1969-2017 US Population Data</a> File is used for SEER and NPCR incidence rates.\n",
            "        <br><a href=\"/interpretrankings.html\" title=\"link pops to internal Interpret Rankings\">Interpret Rankings</a> provides insight into interpreting cancer incidence statistics.  When the population size for a denominator is small, the rates may be unstable.  A rate is unstable when a small change in the numerator (e.g., only one or two additional cases) has a dramatic effect on the calculated rate.\n",
            "        <br/><a href=\"/datanotavailable.html\">Data not available</a> for some combinations of geography, cancer site, age, and race/ethnicity.\n",
            "        <br/><a href=\"/suppressed.html\" title=\"link pops to internal Suppression\">Suppression</a> is used to avoid misinterpretation when rates are unstable. \n",
            "        <br/>\n",
            "</br></div><div id=\"mort\"><table style=\"width:100%;\"><thead><tr><th class=\"text-left\" width=\"25%\">Age-Adjusted Mortality Rates<br/>by Cancer Site<br/>(2014-2018)</th><th width=\"12.5%\">New Jersey Rate</th><th width=\"12.5%\">USA Rate</th><th width=\"6.25%\">Map</th><th width=\"6.25%\">Table</th><th width=\"6.25%\">CI*Rank Graph</th><th width=\"6.25%\">Rate Graph</th><th width=\"6.25%\">Historical Trends Graph</th><th width=\"6.25%\">5-Year Rate Change Graph</th><th width=\"6.25%\">Rate/Trend Comparison by Cancer</th><th width=\"6.25%\">Rate/Trend Comparison by Area</th></tr></thead><tbody><tr><td class=\"text-left\">All Cancer Sites</td><td>148.4</td><td>155.5</td><td><a class=\"icn icn-map\" href=\"/map/map.withimage.php?34&amp;county&amp;001&amp;001&amp;00&amp;0&amp;02&amp;0&amp;1&amp;5&amp;0#results\" title=\"View Map\">Map</a></td><td><a class=\"icn icn-table\" href=\"/deathrates/index.php?stateFIPS=34&amp;areatype=county&amp;cancer=001&amp;race=00&amp;sex=0&amp;age=001&amp;type=death#results\" title=\"View Table\">Table</a></td><td><a class=\"icn icn-cirank\" href=\"/deathrates/graph.php?stateFIPS=34&amp;areatype=county&amp;cancer=001&amp;race=00&amp;sex=0&amp;age=001&amp;type=death&amp;sortOrder=desc&amp;sortVariableName=cirank&amp;output=5&amp;graph=1#results\" title=\"View CI*Rank Graph\">Rank Graph</a></td><td><a class=\"icn icn-rate\" href=\"/deathrates/graph.php?stateFIPS=34&amp;areatype=county&amp;cancer=001&amp;race=00&amp;sex=0&amp;age=001&amp;type=death&amp;sortOrder=desc&amp;sortOrder=desc&amp;sortVariableName=rate&amp;output=5&amp;graph=2#results\" title=\"View Rate Graph\">Rate Graph</a></td><td><a class=\"icn icn-trend\" href=\"/historicaltrend/index.php?0&amp;4434&amp;999&amp;7599&amp;001&amp;001&amp;00&amp;0&amp;0&amp;0&amp;2&amp;0&amp;1&amp;1#results\" title=\"View Historical Trends Graph\">Historical Trends Graph</a></td><td><a class=\"icn icn-fiveyr\" href=\"/recenttrend/index.php?0&amp;4434&amp;0&amp;9599&amp;001&amp;999&amp;00&amp;0&amp;0&amp;0&amp;2#results\" title=\"5-Year Rate Change Graph\">5-Year Rate Change Graph</a></td><td><a class=\"icn icn-ratechange\" href=\"/ratetrendbycancer/index.php?cancer=001&amp;sex=0&amp;stateFIPS=34&amp;comparison=00&amp;type=rtcancer#results\" title=\"View Table\">Table</a></td><td><a class=\"icn icn-ratechange\" href=\"/ratetrendbyarea/index.php?stateFIPS=34&amp;county=000&amp;comparison=00&amp;type=rtarea#results\" title=\"View Table\">Table</a></td></tr><tr><td class=\"text-left\">Bladder</td><td>4.6</td><td>4.3</td><td><a class=\"icn icn-map\" href=\"/map/map.withimage.php?34&amp;county&amp;001&amp;071&amp;00&amp;0&amp;02&amp;0&amp;1&amp;5&amp;0#results\" title=\"View Map\">Map</a></td><td><a class=\"icn icn-table\" href=\"/deathrates/index.php?stateFIPS=34&amp;areatype=county&amp;cancer=071&amp;race=00&amp;sex=0&amp;age=001&amp;type=death#results\" title=\"View Table\">Table</a></td><td><a class=\"icn icn-cirank\" href=\"/deathrates/graph.php?stateFIPS=34&amp;areatype=county&amp;cancer=071&amp;race=00&amp;sex=0&amp;age=001&amp;type=death&amp;sortOrder=desc&amp;sortVariableName=cirank&amp;output=5&amp;graph=1#results\" title=\"View CI*Rank Graph\">Rank Graph</a></td><td><a class=\"icn icn-rate\" href=\"/deathrates/graph.php?stateFIPS=34&amp;areatype=county&amp;cancer=071&amp;race=00&amp;sex=0&amp;age=001&amp;type=death&amp;sortOrder=desc&amp;sortOrder=desc&amp;sortVariableName=rate&amp;output=5&amp;graph=2#results\" title=\"View Rate Graph\">Rate Graph</a></td><td><a class=\"icn icn-trend\" href=\"/historicaltrend/index.php?0&amp;4434&amp;999&amp;7599&amp;001&amp;071&amp;00&amp;0&amp;0&amp;0&amp;2&amp;0&amp;1&amp;1#results\" title=\"View Historical Trends Graph\">Historical Trends Graph</a></td><td><a class=\"icn icn-fiveyr\" href=\"/recenttrend/index.php?0&amp;4434&amp;0&amp;9599&amp;001&amp;999&amp;00&amp;0&amp;0&amp;0&amp;2#results\" title=\"5-Year Rate Change Graph\">5-Year Rate Change Graph</a></td><td><a class=\"icn icn-ratechange\" href=\"/ratetrendbycancer/index.php?cancer=071&amp;sex=0&amp;stateFIPS=34&amp;comparison=00&amp;type=rtcancer#results\" title=\"View Table\">Table</a></td><td><a class=\"icn icn-ratechange\" href=\"/ratetrendbyarea/index.php?stateFIPS=34&amp;county=000&amp;comparison=00&amp;type=rtarea#results\" title=\"View Table\">Table</a></td></tr><tr><td class=\"text-left\">Brain &amp; ONS</td><td>4.2</td><td>4.4</td><td><a class=\"icn icn-map\" href=\"/map/map.withimage.php?34&amp;county&amp;001&amp;076&amp;00&amp;0&amp;02&amp;0&amp;1&amp;5&amp;0#results\" title=\"View Map\">Map</a></td><td><a class=\"icn icn-table\" href=\"/deathrates/index.php?stateFIPS=34&amp;areatype=county&amp;cancer=076&amp;race=00&amp;sex=0&amp;age=001&amp;type=death#results\" title=\"View Table\">Table</a></td><td><a class=\"icn icn-cirank\" href=\"/deathrates/graph.php?stateFIPS=34&amp;areatype=county&amp;cancer=076&amp;race=00&amp;sex=0&amp;age=001&amp;type=death&amp;sortOrder=desc&amp;sortVariableName=cirank&amp;output=5&amp;graph=1#results\" title=\"View CI*Rank Graph\">Rank Graph</a></td><td><a class=\"icn icn-rate\" href=\"/deathrates/graph.php?stateFIPS=34&amp;areatype=county&amp;cancer=076&amp;race=00&amp;sex=0&amp;age=001&amp;type=death&amp;sortOrder=desc&amp;sortOrder=desc&amp;sortVariableName=rate&amp;output=5&amp;graph=2#results\" title=\"View Rate Graph\">Rate Graph</a></td><td><a class=\"icn icn-trend\" href=\"/historicaltrend/index.php?0&amp;4434&amp;999&amp;7599&amp;001&amp;076&amp;00&amp;0&amp;0&amp;0&amp;2&amp;0&amp;1&amp;1#results\" title=\"View Historical Trends Graph\">Historical Trends Graph</a></td><td><a class=\"icn icn-fiveyr\" href=\"/recenttrend/index.php?0&amp;4434&amp;0&amp;9599&amp;001&amp;999&amp;00&amp;0&amp;0&amp;0&amp;2#results\" title=\"5-Year Rate Change Graph\">5-Year Rate Change Graph</a></td><td><a class=\"icn icn-ratechange\" href=\"/ratetrendbycancer/index.php?cancer=076&amp;sex=0&amp;stateFIPS=34&amp;comparison=00&amp;type=rtcancer#results\" title=\"View Table\">Table</a></td><td><a class=\"icn icn-ratechange\" href=\"/ratetrendbyarea/index.php?stateFIPS=34&amp;county=000&amp;comparison=00&amp;type=rtarea#results\" title=\"View Table\">Table</a></td></tr><tr><td class=\"text-left\">Breast (Female)</td><td>20.9</td><td>20.1</td><td><a class=\"icn icn-map\" href=\"/map/map.withimage.php?34&amp;county&amp;001&amp;055&amp;00&amp;2&amp;02&amp;0&amp;1&amp;5&amp;0#results\" title=\"View Map\">Map</a></td><td><a class=\"icn icn-table\" href=\"/deathrates/index.php?stateFIPS=34&amp;areatype=county&amp;cancer=055&amp;race=00&amp;sex=2&amp;age=001&amp;type=death#results\" title=\"View Table\">Table</a></td><td><a class=\"icn icn-cirank\" href=\"/deathrates/graph.php?stateFIPS=34&amp;areatype=county&amp;cancer=055&amp;race=00&amp;sex=2&amp;age=001&amp;type=death&amp;sortOrder=desc&amp;sortVariableName=cirank&amp;output=5&amp;graph=1#results\" title=\"View CI*Rank Graph\">Rank Graph</a></td><td><a class=\"icn icn-rate\" href=\"/deathrates/graph.php?stateFIPS=34&amp;areatype=county&amp;cancer=055&amp;race=00&amp;sex=2&amp;age=001&amp;type=death&amp;sortOrder=desc&amp;sortOrder=desc&amp;sortVariableName=rate&amp;output=5&amp;graph=2#results\" title=\"View Rate Graph\">Rate Graph</a></td><td><a class=\"icn icn-trend\" href=\"/historicaltrend/index.php?0&amp;4434&amp;999&amp;7599&amp;001&amp;055&amp;00&amp;2&amp;0&amp;0&amp;2&amp;0&amp;1&amp;1#results\" title=\"View Historical Trends Graph\">Historical Trends Graph</a></td><td><a class=\"icn icn-fiveyr\" href=\"/recenttrend/index.php?0&amp;4434&amp;0&amp;9599&amp;001&amp;999&amp;00&amp;2&amp;0&amp;0&amp;2#results\" title=\"5-Year Rate Change Graph\">5-Year Rate Change Graph</a></td><td><a class=\"icn icn-ratechange\" href=\"/ratetrendbycancer/index.php?cancer=055&amp;sex=2&amp;stateFIPS=34&amp;comparison=00&amp;type=rtcancer#results\" title=\"View Table\">Table</a></td><td><a class=\"icn icn-ratechange\" href=\"/ratetrendbyarea/index.php?stateFIPS=34&amp;county=000&amp;comparison=00&amp;type=rtarea#results\" title=\"View Table\">Table</a></td></tr><tr><td class=\"text-left\">Cervix (Female)</td><td>2.1</td><td>2.2</td><td><a class=\"icn icn-map\" href=\"/map/map.withimage.php?34&amp;county&amp;001&amp;057&amp;00&amp;2&amp;02&amp;0&amp;1&amp;5&amp;0#results\" title=\"View Map\">Map</a></td><td><a class=\"icn icn-table\" href=\"/deathrates/index.php?stateFIPS=34&amp;areatype=county&amp;cancer=057&amp;race=00&amp;sex=2&amp;age=001&amp;type=death#results\" title=\"View Table\">Table</a></td><td><a class=\"icn icn-cirank\" href=\"/deathrates/graph.php?stateFIPS=34&amp;areatype=county&amp;cancer=057&amp;race=00&amp;sex=2&amp;age=001&amp;type=death&amp;sortOrder=desc&amp;sortVariableName=cirank&amp;output=5&amp;graph=1#results\" title=\"View CI*Rank Graph\">Rank Graph</a></td><td><a class=\"icn icn-rate\" href=\"/deathrates/graph.php?stateFIPS=34&amp;areatype=county&amp;cancer=057&amp;race=00&amp;sex=2&amp;age=001&amp;type=death&amp;sortOrder=desc&amp;sortOrder=desc&amp;sortVariableName=rate&amp;output=5&amp;graph=2#results\" title=\"View Rate Graph\">Rate Graph</a></td><td><a class=\"icn icn-trend\" href=\"/historicaltrend/index.php?0&amp;4434&amp;999&amp;7599&amp;001&amp;057&amp;00&amp;2&amp;0&amp;0&amp;2&amp;0&amp;1&amp;1#results\" title=\"View Historical Trends Graph\">Historical Trends Graph</a></td><td><a class=\"icn icn-fiveyr\" href=\"/recenttrend/index.php?0&amp;4434&amp;0&amp;9599&amp;001&amp;999&amp;00&amp;2&amp;0&amp;0&amp;2#results\" title=\"5-Year Rate Change Graph\">5-Year Rate Change Graph</a></td><td><a class=\"icn icn-ratechange\" href=\"/ratetrendbycancer/index.php?cancer=057&amp;sex=2&amp;stateFIPS=34&amp;comparison=00&amp;type=rtcancer#results\" title=\"View Table\">Table</a></td><td><a class=\"icn icn-ratechange\" href=\"/ratetrendbyarea/index.php?stateFIPS=34&amp;county=000&amp;comparison=00&amp;type=rtarea#results\" title=\"View Table\">Table</a></td></tr><tr><td class=\"text-left\">Childhood (Ages &lt;15, All Sites)</td><td>2.0</td><td>2.1</td><td><a class=\"icn icn-map\" href=\"/map/map.withimage.php?34&amp;county&amp;016&amp;516&amp;00&amp;0&amp;02&amp;0&amp;1&amp;5&amp;0#results\" title=\"View Map\">Map</a></td><td><a class=\"icn icn-table\" href=\"/deathrates/index.php?stateFIPS=34&amp;areatype=county&amp;cancer=516&amp;race=00&amp;sex=0&amp;age=016&amp;type=death#results\" title=\"View Table\">Table</a></td><td><a class=\"icn icn-cirank\" href=\"/deathrates/graph.php?stateFIPS=34&amp;areatype=county&amp;cancer=516&amp;race=00&amp;sex=0&amp;age=016&amp;type=death&amp;sortOrder=desc&amp;sortVariableName=cirank&amp;output=5&amp;graph=1#results\" title=\"View CI*Rank Graph\">Rank Graph</a></td><td><a class=\"icn icn-rate\" href=\"/deathrates/graph.php?stateFIPS=34&amp;areatype=county&amp;cancer=516&amp;race=00&amp;sex=0&amp;age=016&amp;type=death&amp;sortOrder=desc&amp;sortOrder=desc&amp;sortVariableName=rate&amp;output=5&amp;graph=2#results\" title=\"View Rate Graph\">Rate Graph</a></td><td><a class=\"icn icn-trend\" href=\"/historicaltrend/index.php?0&amp;4434&amp;999&amp;7599&amp;016&amp;516&amp;00&amp;0&amp;0&amp;0&amp;2&amp;0&amp;1&amp;1#results\" title=\"View Historical Trends Graph\">Historical Trends Graph</a></td><td>N/A</td><td><a class=\"icn icn-ratechange\" href=\"/ratetrendbycancer/index.php?cancer=516&amp;sex=0&amp;stateFIPS=34&amp;comparison=00&amp;type=rtcancer#results\" title=\"View Table\">Table</a></td><td><a class=\"icn icn-ratechange\" href=\"/ratetrendbyarea/index.php?stateFIPS=34&amp;county=000&amp;comparison=00&amp;type=rtarea#results\" title=\"View Table\">Table</a></td></tr><tr><td class=\"text-left\">Childhood (Ages &lt;20, All Sites)</td><td>2.2</td><td>2.2</td><td><a class=\"icn icn-map\" href=\"/map/map.withimage.php?34&amp;county&amp;015&amp;515&amp;00&amp;0&amp;02&amp;0&amp;1&amp;5&amp;0#results\" title=\"View Map\">Map</a></td><td><a class=\"icn icn-table\" href=\"/deathrates/index.php?stateFIPS=34&amp;areatype=county&amp;cancer=515&amp;race=00&amp;sex=0&amp;age=015&amp;type=death#results\" title=\"View Table\">Table</a></td><td><a class=\"icn icn-cirank\" href=\"/deathrates/graph.php?stateFIPS=34&amp;areatype=county&amp;cancer=515&amp;race=00&amp;sex=0&amp;age=015&amp;type=death&amp;sortOrder=desc&amp;sortVariableName=cirank&amp;output=5&amp;graph=1#results\" title=\"View CI*Rank Graph\">Rank Graph</a></td><td><a class=\"icn icn-rate\" href=\"/deathrates/graph.php?stateFIPS=34&amp;areatype=county&amp;cancer=515&amp;race=00&amp;sex=0&amp;age=015&amp;type=death&amp;sortOrder=desc&amp;sortOrder=desc&amp;sortVariableName=rate&amp;output=5&amp;graph=2#results\" title=\"View Rate Graph\">Rate Graph</a></td><td><a class=\"icn icn-trend\" href=\"/historicaltrend/index.php?0&amp;4434&amp;999&amp;7599&amp;015&amp;515&amp;00&amp;0&amp;0&amp;0&amp;2&amp;0&amp;1&amp;1#results\" title=\"View Historical Trends Graph\">Historical Trends Graph</a></td><td>N/A</td><td><a class=\"icn icn-ratechange\" href=\"/ratetrendbycancer/index.php?cancer=515&amp;sex=0&amp;stateFIPS=34&amp;comparison=00&amp;type=rtcancer#results\" title=\"View Table\">Table</a></td><td><a class=\"icn icn-ratechange\" href=\"/ratetrendbyarea/index.php?stateFIPS=34&amp;county=000&amp;comparison=00&amp;type=rtarea#results\" title=\"View Table\">Table</a></td></tr><tr><td class=\"text-left\">Colon &amp; Rectum</td><td>13.7</td><td>13.7</td><td><a class=\"icn icn-map\" href=\"/map/map.withimage.php?34&amp;county&amp;001&amp;020&amp;00&amp;0&amp;02&amp;0&amp;1&amp;5&amp;0#results\" title=\"View Map\">Map</a></td><td><a class=\"icn icn-table\" href=\"/deathrates/index.php?stateFIPS=34&amp;areatype=county&amp;cancer=020&amp;race=00&amp;sex=0&amp;age=001&amp;type=death#results\" title=\"View Table\">Table</a></td><td><a class=\"icn icn-cirank\" href=\"/deathrates/graph.php?stateFIPS=34&amp;areatype=county&amp;cancer=020&amp;race=00&amp;sex=0&amp;age=001&amp;type=death&amp;sortOrder=desc&amp;sortVariableName=cirank&amp;output=5&amp;graph=1#results\" title=\"View CI*Rank Graph\">Rank Graph</a></td><td><a class=\"icn icn-rate\" href=\"/deathrates/graph.php?stateFIPS=34&amp;areatype=county&amp;cancer=020&amp;race=00&amp;sex=0&amp;age=001&amp;type=death&amp;sortOrder=desc&amp;sortOrder=desc&amp;sortVariableName=rate&amp;output=5&amp;graph=2#results\" title=\"View Rate Graph\">Rate Graph</a></td><td><a class=\"icn icn-trend\" href=\"/historicaltrend/index.php?0&amp;4434&amp;999&amp;7599&amp;001&amp;020&amp;00&amp;0&amp;0&amp;0&amp;2&amp;0&amp;1&amp;1#results\" title=\"View Historical Trends Graph\">Historical Trends Graph</a></td><td><a class=\"icn icn-fiveyr\" href=\"/recenttrend/index.php?0&amp;4434&amp;0&amp;9599&amp;001&amp;999&amp;00&amp;0&amp;0&amp;0&amp;2#results\" title=\"5-Year Rate Change Graph\">5-Year Rate Change Graph</a></td><td><a class=\"icn icn-ratechange\" href=\"/ratetrendbycancer/index.php?cancer=020&amp;sex=0&amp;stateFIPS=34&amp;comparison=00&amp;type=rtcancer#results\" title=\"View Table\">Table</a></td><td><a class=\"icn icn-ratechange\" href=\"/ratetrendbyarea/index.php?stateFIPS=34&amp;county=000&amp;comparison=00&amp;type=rtarea#results\" title=\"View Table\">Table</a></td></tr><tr><td class=\"text-left\">Esophagus</td><td>3.5</td><td>3.9</td><td><a class=\"icn icn-map\" href=\"/map/map.withimage.php?34&amp;county&amp;001&amp;017&amp;00&amp;0&amp;02&amp;0&amp;1&amp;5&amp;0#results\" title=\"View Map\">Map</a></td><td><a class=\"icn icn-table\" href=\"/deathrates/index.php?stateFIPS=34&amp;areatype=county&amp;cancer=017&amp;race=00&amp;sex=0&amp;age=001&amp;type=death#results\" title=\"View Table\">Table</a></td><td><a class=\"icn icn-cirank\" href=\"/deathrates/graph.php?stateFIPS=34&amp;areatype=county&amp;cancer=017&amp;race=00&amp;sex=0&amp;age=001&amp;type=death&amp;sortOrder=desc&amp;sortVariableName=cirank&amp;output=5&amp;graph=1#results\" title=\"View CI*Rank Graph\">Rank Graph</a></td><td><a class=\"icn icn-rate\" href=\"/deathrates/graph.php?stateFIPS=34&amp;areatype=county&amp;cancer=017&amp;race=00&amp;sex=0&amp;age=001&amp;type=death&amp;sortOrder=desc&amp;sortOrder=desc&amp;sortVariableName=rate&amp;output=5&amp;graph=2#results\" title=\"View Rate Graph\">Rate Graph</a></td><td><a class=\"icn icn-trend\" href=\"/historicaltrend/index.php?0&amp;4434&amp;999&amp;7599&amp;001&amp;017&amp;00&amp;0&amp;0&amp;0&amp;2&amp;0&amp;1&amp;1#results\" title=\"View Historical Trends Graph\">Historical Trends Graph</a></td><td><a class=\"icn icn-fiveyr\" href=\"/recenttrend/index.php?0&amp;4434&amp;0&amp;9599&amp;001&amp;999&amp;00&amp;0&amp;0&amp;0&amp;2#results\" title=\"5-Year Rate Change Graph\">5-Year Rate Change Graph</a></td><td><a class=\"icn icn-ratechange\" href=\"/ratetrendbycancer/index.php?cancer=017&amp;sex=0&amp;stateFIPS=34&amp;comparison=00&amp;type=rtcancer#results\" title=\"View Table\">Table</a></td><td><a class=\"icn icn-ratechange\" href=\"/ratetrendbyarea/index.php?stateFIPS=34&amp;county=000&amp;comparison=00&amp;type=rtarea#results\" title=\"View Table\">Table</a></td></tr><tr><td class=\"text-left\">Kidney &amp; Renal Pelvis</td><td>3.1</td><td>3.6</td><td><a class=\"icn icn-map\" href=\"/map/map.withimage.php?34&amp;county&amp;001&amp;072&amp;00&amp;0&amp;02&amp;0&amp;1&amp;5&amp;0#results\" title=\"View Map\">Map</a></td><td><a class=\"icn icn-table\" href=\"/deathrates/index.php?stateFIPS=34&amp;areatype=county&amp;cancer=072&amp;race=00&amp;sex=0&amp;age=001&amp;type=death#results\" title=\"View Table\">Table</a></td><td><a class=\"icn icn-cirank\" href=\"/deathrates/graph.php?stateFIPS=34&amp;areatype=county&amp;cancer=072&amp;race=00&amp;sex=0&amp;age=001&amp;type=death&amp;sortOrder=desc&amp;sortVariableName=cirank&amp;output=5&amp;graph=1#results\" title=\"View CI*Rank Graph\">Rank Graph</a></td><td><a class=\"icn icn-rate\" href=\"/deathrates/graph.php?stateFIPS=34&amp;areatype=county&amp;cancer=072&amp;race=00&amp;sex=0&amp;age=001&amp;type=death&amp;sortOrder=desc&amp;sortOrder=desc&amp;sortVariableName=rate&amp;output=5&amp;graph=2#results\" title=\"View Rate Graph\">Rate Graph</a></td><td><a class=\"icn icn-trend\" href=\"/historicaltrend/index.php?0&amp;4434&amp;999&amp;7599&amp;001&amp;072&amp;00&amp;0&amp;0&amp;0&amp;2&amp;0&amp;1&amp;1#results\" title=\"View Historical Trends Graph\">Historical Trends Graph</a></td><td><a class=\"icn icn-fiveyr\" href=\"/recenttrend/index.php?0&amp;4434&amp;0&amp;9599&amp;001&amp;999&amp;00&amp;0&amp;0&amp;0&amp;2#results\" title=\"5-Year Rate Change Graph\">5-Year Rate Change Graph</a></td><td><a class=\"icn icn-ratechange\" href=\"/ratetrendbycancer/index.php?cancer=072&amp;sex=0&amp;stateFIPS=34&amp;comparison=00&amp;type=rtcancer#results\" title=\"View Table\">Table</a></td><td><a class=\"icn icn-ratechange\" href=\"/ratetrendbyarea/index.php?stateFIPS=34&amp;county=000&amp;comparison=00&amp;type=rtarea#results\" title=\"View Table\">Table</a></td></tr><tr><td class=\"text-left\">Leukemia</td><td>6.0</td><td>6.3</td><td><a class=\"icn icn-map\" href=\"/map/map.withimage.php?34&amp;county&amp;001&amp;090&amp;00&amp;0&amp;02&amp;0&amp;1&amp;5&amp;0#results\" title=\"View Map\">Map</a></td><td><a class=\"icn icn-table\" href=\"/deathrates/index.php?stateFIPS=34&amp;areatype=county&amp;cancer=090&amp;race=00&amp;sex=0&amp;age=001&amp;type=death#results\" title=\"View Table\">Table</a></td><td><a class=\"icn icn-cirank\" href=\"/deathrates/graph.php?stateFIPS=34&amp;areatype=county&amp;cancer=090&amp;race=00&amp;sex=0&amp;age=001&amp;type=death&amp;sortOrder=desc&amp;sortVariableName=cirank&amp;output=5&amp;graph=1#results\" title=\"View CI*Rank Graph\">Rank Graph</a></td><td><a class=\"icn icn-rate\" href=\"/deathrates/graph.php?stateFIPS=34&amp;areatype=county&amp;cancer=090&amp;race=00&amp;sex=0&amp;age=001&amp;type=death&amp;sortOrder=desc&amp;sortOrder=desc&amp;sortVariableName=rate&amp;output=5&amp;graph=2#results\" title=\"View Rate Graph\">Rate Graph</a></td><td><a class=\"icn icn-trend\" href=\"/historicaltrend/index.php?0&amp;4434&amp;999&amp;7599&amp;001&amp;090&amp;00&amp;0&amp;0&amp;0&amp;2&amp;0&amp;1&amp;1#results\" title=\"View Historical Trends Graph\">Historical Trends Graph</a></td><td><a class=\"icn icn-fiveyr\" href=\"/recenttrend/index.php?0&amp;4434&amp;0&amp;9599&amp;001&amp;999&amp;00&amp;0&amp;0&amp;0&amp;2#results\" title=\"5-Year Rate Change Graph\">5-Year Rate Change Graph</a></td><td><a class=\"icn icn-ratechange\" href=\"/ratetrendbycancer/index.php?cancer=090&amp;sex=0&amp;stateFIPS=34&amp;comparison=00&amp;type=rtcancer#results\" title=\"View Table\">Table</a></td><td><a class=\"icn icn-ratechange\" href=\"/ratetrendbyarea/index.php?stateFIPS=34&amp;county=000&amp;comparison=00&amp;type=rtarea#results\" title=\"View Table\">Table</a></td></tr><tr><td class=\"text-left\">Liver &amp; Bile Duct</td><td>5.9</td><td>6.6</td><td><a class=\"icn icn-map\" href=\"/map/map.withimage.php?34&amp;county&amp;001&amp;035&amp;00&amp;0&amp;02&amp;0&amp;1&amp;5&amp;0#results\" title=\"View Map\">Map</a></td><td><a class=\"icn icn-table\" href=\"/deathrates/index.php?stateFIPS=34&amp;areatype=county&amp;cancer=035&amp;race=00&amp;sex=0&amp;age=001&amp;type=death#results\" title=\"View Table\">Table</a></td><td><a class=\"icn icn-cirank\" href=\"/deathrates/graph.php?stateFIPS=34&amp;areatype=county&amp;cancer=035&amp;race=00&amp;sex=0&amp;age=001&amp;type=death&amp;sortOrder=desc&amp;sortVariableName=cirank&amp;output=5&amp;graph=1#results\" title=\"View CI*Rank Graph\">Rank Graph</a></td><td><a class=\"icn icn-rate\" href=\"/deathrates/graph.php?stateFIPS=34&amp;areatype=county&amp;cancer=035&amp;race=00&amp;sex=0&amp;age=001&amp;type=death&amp;sortOrder=desc&amp;sortOrder=desc&amp;sortVariableName=rate&amp;output=5&amp;graph=2#results\" title=\"View Rate Graph\">Rate Graph</a></td><td><a class=\"icn icn-trend\" href=\"/historicaltrend/index.php?0&amp;4434&amp;999&amp;7599&amp;001&amp;035&amp;00&amp;0&amp;0&amp;0&amp;2&amp;0&amp;1&amp;1#results\" title=\"View Historical Trends Graph\">Historical Trends Graph</a></td><td><a class=\"icn icn-fiveyr\" href=\"/recenttrend/index.php?0&amp;4434&amp;0&amp;9599&amp;001&amp;999&amp;00&amp;0&amp;0&amp;0&amp;2#results\" title=\"5-Year Rate Change Graph\">5-Year Rate Change Graph</a></td><td><a class=\"icn icn-ratechange\" href=\"/ratetrendbycancer/index.php?cancer=035&amp;sex=0&amp;stateFIPS=34&amp;comparison=00&amp;type=rtcancer#results\" title=\"View Table\">Table</a></td><td><a class=\"icn icn-ratechange\" href=\"/ratetrendbyarea/index.php?stateFIPS=34&amp;county=000&amp;comparison=00&amp;type=rtarea#results\" title=\"View Table\">Table</a></td></tr><tr><td class=\"text-left\">Lung &amp; Bronchus</td><td>33.7</td><td>38.5</td><td><a class=\"icn icn-map\" href=\"/map/map.withimage.php?34&amp;county&amp;001&amp;047&amp;00&amp;0&amp;02&amp;0&amp;1&amp;5&amp;0#results\" title=\"View Map\">Map</a></td><td><a class=\"icn icn-table\" href=\"/deathrates/index.php?stateFIPS=34&amp;areatype=county&amp;cancer=047&amp;race=00&amp;sex=0&amp;age=001&amp;type=death#results\" title=\"View Table\">Table</a></td><td><a class=\"icn icn-cirank\" href=\"/deathrates/graph.php?stateFIPS=34&amp;areatype=county&amp;cancer=047&amp;race=00&amp;sex=0&amp;age=001&amp;type=death&amp;sortOrder=desc&amp;sortVariableName=cirank&amp;output=5&amp;graph=1#results\" title=\"View CI*Rank Graph\">Rank Graph</a></td><td><a class=\"icn icn-rate\" href=\"/deathrates/graph.php?stateFIPS=34&amp;areatype=county&amp;cancer=047&amp;race=00&amp;sex=0&amp;age=001&amp;type=death&amp;sortOrder=desc&amp;sortOrder=desc&amp;sortVariableName=rate&amp;output=5&amp;graph=2#results\" title=\"View Rate Graph\">Rate Graph</a></td><td><a class=\"icn icn-trend\" href=\"/historicaltrend/index.php?0&amp;4434&amp;999&amp;7599&amp;001&amp;047&amp;00&amp;0&amp;0&amp;0&amp;2&amp;0&amp;1&amp;1#results\" title=\"View Historical Trends Graph\">Historical Trends Graph</a></td><td><a class=\"icn icn-fiveyr\" href=\"/recenttrend/index.php?0&amp;4434&amp;0&amp;9599&amp;001&amp;999&amp;00&amp;0&amp;0&amp;0&amp;2#results\" title=\"5-Year Rate Change Graph\">5-Year Rate Change Graph</a></td><td><a class=\"icn icn-ratechange\" href=\"/ratetrendbycancer/index.php?cancer=047&amp;sex=0&amp;stateFIPS=34&amp;comparison=00&amp;type=rtcancer#results\" title=\"View Table\">Table</a></td><td><a class=\"icn icn-ratechange\" href=\"/ratetrendbyarea/index.php?stateFIPS=34&amp;county=000&amp;comparison=00&amp;type=rtarea#results\" title=\"View Table\">Table</a></td></tr><tr><td class=\"text-left\">Melanoma of the Skin</td><td>2.1</td><td>2.3</td><td><a class=\"icn icn-map\" href=\"/map/map.withimage.php?34&amp;county&amp;001&amp;053&amp;00&amp;0&amp;02&amp;0&amp;1&amp;5&amp;0#results\" title=\"View Map\">Map</a></td><td><a class=\"icn icn-table\" href=\"/deathrates/index.php?stateFIPS=34&amp;areatype=county&amp;cancer=053&amp;race=00&amp;sex=0&amp;age=001&amp;type=death#results\" title=\"View Table\">Table</a></td><td><a class=\"icn icn-cirank\" href=\"/deathrates/graph.php?stateFIPS=34&amp;areatype=county&amp;cancer=053&amp;race=00&amp;sex=0&amp;age=001&amp;type=death&amp;sortOrder=desc&amp;sortVariableName=cirank&amp;output=5&amp;graph=1#results\" title=\"View CI*Rank Graph\">Rank Graph</a></td><td><a class=\"icn icn-rate\" href=\"/deathrates/graph.php?stateFIPS=34&amp;areatype=county&amp;cancer=053&amp;race=00&amp;sex=0&amp;age=001&amp;type=death&amp;sortOrder=desc&amp;sortOrder=desc&amp;sortVariableName=rate&amp;output=5&amp;graph=2#results\" title=\"View Rate Graph\">Rate Graph</a></td><td><a class=\"icn icn-trend\" href=\"/historicaltrend/index.php?0&amp;4434&amp;999&amp;7599&amp;001&amp;053&amp;00&amp;0&amp;0&amp;0&amp;2&amp;0&amp;1&amp;1#results\" title=\"View Historical Trends Graph\">Historical Trends Graph</a></td><td><a class=\"icn icn-fiveyr\" href=\"/recenttrend/index.php?0&amp;4434&amp;0&amp;9599&amp;001&amp;999&amp;00&amp;0&amp;0&amp;0&amp;2#results\" title=\"5-Year Rate Change Graph\">5-Year Rate Change Graph</a></td><td><a class=\"icn icn-ratechange\" href=\"/ratetrendbycancer/index.php?cancer=053&amp;sex=0&amp;stateFIPS=34&amp;comparison=00&amp;type=rtcancer#results\" title=\"View Table\">Table</a></td><td><a class=\"icn icn-ratechange\" href=\"/ratetrendbyarea/index.php?stateFIPS=34&amp;county=000&amp;comparison=00&amp;type=rtarea#results\" title=\"View Table\">Table</a></td></tr><tr><td class=\"text-left\">Non-Hodgkin Lymphoma</td><td>5.3</td><td>5.4</td><td><a class=\"icn icn-map\" href=\"/map/map.withimage.php?34&amp;county&amp;001&amp;086&amp;00&amp;0&amp;02&amp;0&amp;1&amp;5&amp;0#results\" title=\"View Map\">Map</a></td><td><a class=\"icn icn-table\" href=\"/deathrates/index.php?stateFIPS=34&amp;areatype=county&amp;cancer=086&amp;race=00&amp;sex=0&amp;age=001&amp;type=death#results\" title=\"View Table\">Table</a></td><td><a class=\"icn icn-cirank\" href=\"/deathrates/graph.php?stateFIPS=34&amp;areatype=county&amp;cancer=086&amp;race=00&amp;sex=0&amp;age=001&amp;type=death&amp;sortOrder=desc&amp;sortVariableName=cirank&amp;output=5&amp;graph=1#results\" title=\"View CI*Rank Graph\">Rank Graph</a></td><td><a class=\"icn icn-rate\" href=\"/deathrates/graph.php?stateFIPS=34&amp;areatype=county&amp;cancer=086&amp;race=00&amp;sex=0&amp;age=001&amp;type=death&amp;sortOrder=desc&amp;sortOrder=desc&amp;sortVariableName=rate&amp;output=5&amp;graph=2#results\" title=\"View Rate Graph\">Rate Graph</a></td><td><a class=\"icn icn-trend\" href=\"/historicaltrend/index.php?0&amp;4434&amp;999&amp;7599&amp;001&amp;086&amp;00&amp;0&amp;0&amp;0&amp;2&amp;0&amp;1&amp;1#results\" title=\"View Historical Trends Graph\">Historical Trends Graph</a></td><td><a class=\"icn icn-fiveyr\" href=\"/recenttrend/index.php?0&amp;4434&amp;0&amp;9599&amp;001&amp;999&amp;00&amp;0&amp;0&amp;0&amp;2#results\" title=\"5-Year Rate Change Graph\">5-Year Rate Change Graph</a></td><td><a class=\"icn icn-ratechange\" href=\"/ratetrendbycancer/index.php?cancer=086&amp;sex=0&amp;stateFIPS=34&amp;comparison=00&amp;type=rtcancer#results\" title=\"View Table\">Table</a></td><td><a class=\"icn icn-ratechange\" href=\"/ratetrendbyarea/index.php?stateFIPS=34&amp;county=000&amp;comparison=00&amp;type=rtarea#results\" title=\"View Table\">Table</a></td></tr><tr><td class=\"text-left\">Oral Cavity &amp; Pharynx</td><td>2.0</td><td>2.5</td><td><a class=\"icn icn-map\" href=\"/map/map.withimage.php?34&amp;county&amp;001&amp;003&amp;00&amp;0&amp;02&amp;0&amp;1&amp;5&amp;0#results\" title=\"View Map\">Map</a></td><td><a class=\"icn icn-table\" href=\"/deathrates/index.php?stateFIPS=34&amp;areatype=county&amp;cancer=003&amp;race=00&amp;sex=0&amp;age=001&amp;type=death#results\" title=\"View Table\">Table</a></td><td><a class=\"icn icn-cirank\" href=\"/deathrates/graph.php?stateFIPS=34&amp;areatype=county&amp;cancer=003&amp;race=00&amp;sex=0&amp;age=001&amp;type=death&amp;sortOrder=desc&amp;sortVariableName=cirank&amp;output=5&amp;graph=1#results\" title=\"View CI*Rank Graph\">Rank Graph</a></td><td><a class=\"icn icn-rate\" href=\"/deathrates/graph.php?stateFIPS=34&amp;areatype=county&amp;cancer=003&amp;race=00&amp;sex=0&amp;age=001&amp;type=death&amp;sortOrder=desc&amp;sortOrder=desc&amp;sortVariableName=rate&amp;output=5&amp;graph=2#results\" title=\"View Rate Graph\">Rate Graph</a></td><td><a class=\"icn icn-trend\" href=\"/historicaltrend/index.php?0&amp;4434&amp;999&amp;7599&amp;001&amp;003&amp;00&amp;0&amp;0&amp;0&amp;2&amp;0&amp;1&amp;1#results\" title=\"View Historical Trends Graph\">Historical Trends Graph</a></td><td><a class=\"icn icn-fiveyr\" href=\"/recenttrend/index.php?0&amp;4434&amp;0&amp;9599&amp;001&amp;999&amp;00&amp;0&amp;0&amp;0&amp;2#results\" title=\"5-Year Rate Change Graph\">5-Year Rate Change Graph</a></td><td><a class=\"icn icn-ratechange\" href=\"/ratetrendbycancer/index.php?cancer=003&amp;sex=0&amp;stateFIPS=34&amp;comparison=00&amp;type=rtcancer#results\" title=\"View Table\">Table</a></td><td><a class=\"icn icn-ratechange\" href=\"/ratetrendbyarea/index.php?stateFIPS=34&amp;county=000&amp;comparison=00&amp;type=rtarea#results\" title=\"View Table\">Table</a></td></tr><tr><td class=\"text-left\">Ovary (Female)</td><td>6.5</td><td>6.7</td><td><a class=\"icn icn-map\" href=\"/map/map.withimage.php?34&amp;county&amp;001&amp;061&amp;00&amp;2&amp;02&amp;0&amp;1&amp;5&amp;0#results\" title=\"View Map\">Map</a></td><td><a class=\"icn icn-table\" href=\"/deathrates/index.php?stateFIPS=34&amp;areatype=county&amp;cancer=061&amp;race=00&amp;sex=2&amp;age=001&amp;type=death#results\" title=\"View Table\">Table</a></td><td><a class=\"icn icn-cirank\" href=\"/deathrates/graph.php?stateFIPS=34&amp;areatype=county&amp;cancer=061&amp;race=00&amp;sex=2&amp;age=001&amp;type=death&amp;sortOrder=desc&amp;sortVariableName=cirank&amp;output=5&amp;graph=1#results\" title=\"View CI*Rank Graph\">Rank Graph</a></td><td><a class=\"icn icn-rate\" href=\"/deathrates/graph.php?stateFIPS=34&amp;areatype=county&amp;cancer=061&amp;race=00&amp;sex=2&amp;age=001&amp;type=death&amp;sortOrder=desc&amp;sortOrder=desc&amp;sortVariableName=rate&amp;output=5&amp;graph=2#results\" title=\"View Rate Graph\">Rate Graph</a></td><td><a class=\"icn icn-trend\" href=\"/historicaltrend/index.php?0&amp;4434&amp;999&amp;7599&amp;001&amp;061&amp;00&amp;2&amp;0&amp;0&amp;2&amp;0&amp;1&amp;1#results\" title=\"View Historical Trends Graph\">Historical Trends Graph</a></td><td><a class=\"icn icn-fiveyr\" href=\"/recenttrend/index.php?0&amp;4434&amp;0&amp;9599&amp;001&amp;999&amp;00&amp;2&amp;0&amp;0&amp;2#results\" title=\"5-Year Rate Change Graph\">5-Year Rate Change Graph</a></td><td><a class=\"icn icn-ratechange\" href=\"/ratetrendbycancer/index.php?cancer=061&amp;sex=2&amp;stateFIPS=34&amp;comparison=00&amp;type=rtcancer#results\" title=\"View Table\">Table</a></td><td><a class=\"icn icn-ratechange\" href=\"/ratetrendbyarea/index.php?stateFIPS=34&amp;county=000&amp;comparison=00&amp;type=rtarea#results\" title=\"View Table\">Table</a></td></tr><tr><td class=\"text-left\">Pancreas</td><td>11.3</td><td>11.0</td><td><a class=\"icn icn-map\" href=\"/map/map.withimage.php?34&amp;county&amp;001&amp;040&amp;00&amp;0&amp;02&amp;0&amp;1&amp;5&amp;0#results\" title=\"View Map\">Map</a></td><td><a class=\"icn icn-table\" href=\"/deathrates/index.php?stateFIPS=34&amp;areatype=county&amp;cancer=040&amp;race=00&amp;sex=0&amp;age=001&amp;type=death#results\" title=\"View Table\">Table</a></td><td><a class=\"icn icn-cirank\" href=\"/deathrates/graph.php?stateFIPS=34&amp;areatype=county&amp;cancer=040&amp;race=00&amp;sex=0&amp;age=001&amp;type=death&amp;sortOrder=desc&amp;sortVariableName=cirank&amp;output=5&amp;graph=1#results\" title=\"View CI*Rank Graph\">Rank Graph</a></td><td><a class=\"icn icn-rate\" href=\"/deathrates/graph.php?stateFIPS=34&amp;areatype=county&amp;cancer=040&amp;race=00&amp;sex=0&amp;age=001&amp;type=death&amp;sortOrder=desc&amp;sortOrder=desc&amp;sortVariableName=rate&amp;output=5&amp;graph=2#results\" title=\"View Rate Graph\">Rate Graph</a></td><td><a class=\"icn icn-trend\" href=\"/historicaltrend/index.php?0&amp;4434&amp;999&amp;7599&amp;001&amp;040&amp;00&amp;0&amp;0&amp;0&amp;2&amp;0&amp;1&amp;1#results\" title=\"View Historical Trends Graph\">Historical Trends Graph</a></td><td><a class=\"icn icn-fiveyr\" href=\"/recenttrend/index.php?0&amp;4434&amp;0&amp;9599&amp;001&amp;999&amp;00&amp;0&amp;0&amp;0&amp;2#results\" title=\"5-Year Rate Change Graph\">5-Year Rate Change Graph</a></td><td><a class=\"icn icn-ratechange\" href=\"/ratetrendbycancer/index.php?cancer=040&amp;sex=0&amp;stateFIPS=34&amp;comparison=00&amp;type=rtcancer#results\" title=\"View Table\">Table</a></td><td><a class=\"icn icn-ratechange\" href=\"/ratetrendbyarea/index.php?stateFIPS=34&amp;county=000&amp;comparison=00&amp;type=rtarea#results\" title=\"View Table\">Table</a></td></tr><tr><td class=\"text-left\">Prostate (Male)</td><td>17.6</td><td>19.0</td><td><a class=\"icn icn-map\" href=\"/map/map.withimage.php?34&amp;county&amp;001&amp;066&amp;00&amp;1&amp;02&amp;0&amp;1&amp;5&amp;0#results\" title=\"View Map\">Map</a></td><td><a class=\"icn icn-table\" href=\"/deathrates/index.php?stateFIPS=34&amp;areatype=county&amp;cancer=066&amp;race=00&amp;sex=1&amp;age=001&amp;type=death#results\" title=\"View Table\">Table</a></td><td><a class=\"icn icn-cirank\" href=\"/deathrates/graph.php?stateFIPS=34&amp;areatype=county&amp;cancer=066&amp;race=00&amp;sex=1&amp;age=001&amp;type=death&amp;sortOrder=desc&amp;sortVariableName=cirank&amp;output=5&amp;graph=1#results\" title=\"View CI*Rank Graph\">Rank Graph</a></td><td><a class=\"icn icn-rate\" href=\"/deathrates/graph.php?stateFIPS=34&amp;areatype=county&amp;cancer=066&amp;race=00&amp;sex=1&amp;age=001&amp;type=death&amp;sortOrder=desc&amp;sortOrder=desc&amp;sortVariableName=rate&amp;output=5&amp;graph=2#results\" title=\"View Rate Graph\">Rate Graph</a></td><td><a class=\"icn icn-trend\" href=\"/historicaltrend/index.php?0&amp;4434&amp;999&amp;7599&amp;001&amp;066&amp;00&amp;1&amp;0&amp;0&amp;2&amp;0&amp;1&amp;1#results\" title=\"View Historical Trends Graph\">Historical Trends Graph</a></td><td><a class=\"icn icn-fiveyr\" href=\"/recenttrend/index.php?0&amp;4434&amp;0&amp;9599&amp;001&amp;999&amp;00&amp;1&amp;0&amp;0&amp;2#results\" title=\"5-Year Rate Change Graph\">5-Year Rate Change Graph</a></td><td><a class=\"icn icn-ratechange\" href=\"/ratetrendbycancer/index.php?cancer=066&amp;sex=1&amp;stateFIPS=34&amp;comparison=00&amp;type=rtcancer#results\" title=\"View Table\">Table</a></td><td><a class=\"icn icn-ratechange\" href=\"/ratetrendbyarea/index.php?stateFIPS=34&amp;county=000&amp;comparison=00&amp;type=rtarea#results\" title=\"View Table\">Table</a></td></tr><tr><td class=\"text-left\">Stomach</td><td>3.3</td><td>3.0</td><td><a class=\"icn icn-map\" href=\"/map/map.withimage.php?34&amp;county&amp;001&amp;018&amp;00&amp;0&amp;02&amp;0&amp;1&amp;5&amp;0#results\" title=\"View Map\">Map</a></td><td><a class=\"icn icn-table\" href=\"/deathrates/index.php?stateFIPS=34&amp;areatype=county&amp;cancer=018&amp;race=00&amp;sex=0&amp;age=001&amp;type=death#results\" title=\"View Table\">Table</a></td><td><a class=\"icn icn-cirank\" href=\"/deathrates/graph.php?stateFIPS=34&amp;areatype=county&amp;cancer=018&amp;race=00&amp;sex=0&amp;age=001&amp;type=death&amp;sortOrder=desc&amp;sortVariableName=cirank&amp;output=5&amp;graph=1#results\" title=\"View CI*Rank Graph\">Rank Graph</a></td><td><a class=\"icn icn-rate\" href=\"/deathrates/graph.php?stateFIPS=34&amp;areatype=county&amp;cancer=018&amp;race=00&amp;sex=0&amp;age=001&amp;type=death&amp;sortOrder=desc&amp;sortOrder=desc&amp;sortVariableName=rate&amp;output=5&amp;graph=2#results\" title=\"View Rate Graph\">Rate Graph</a></td><td><a class=\"icn icn-trend\" href=\"/historicaltrend/index.php?0&amp;4434&amp;999&amp;7599&amp;001&amp;018&amp;00&amp;0&amp;0&amp;0&amp;2&amp;0&amp;1&amp;1#results\" title=\"View Historical Trends Graph\">Historical Trends Graph</a></td><td><a class=\"icn icn-fiveyr\" href=\"/recenttrend/index.php?0&amp;4434&amp;0&amp;9599&amp;001&amp;999&amp;00&amp;0&amp;0&amp;0&amp;2#results\" title=\"5-Year Rate Change Graph\">5-Year Rate Change Graph</a></td><td><a class=\"icn icn-ratechange\" href=\"/ratetrendbycancer/index.php?cancer=018&amp;sex=0&amp;stateFIPS=34&amp;comparison=00&amp;type=rtcancer#results\" title=\"View Table\">Table</a></td><td><a class=\"icn icn-ratechange\" href=\"/ratetrendbyarea/index.php?stateFIPS=34&amp;county=000&amp;comparison=00&amp;type=rtarea#results\" title=\"View Table\">Table</a></td></tr><tr><td class=\"text-left\">Thyroid</td><td>0.5</td><td>0.5</td><td><a class=\"icn icn-map\" href=\"/map/map.withimage.php?34&amp;county&amp;001&amp;080&amp;00&amp;0&amp;02&amp;0&amp;1&amp;5&amp;0#results\" title=\"View Map\">Map</a></td><td><a class=\"icn icn-table\" href=\"/deathrates/index.php?stateFIPS=34&amp;areatype=county&amp;cancer=080&amp;race=00&amp;sex=0&amp;age=001&amp;type=death#results\" title=\"View Table\">Table</a></td><td><a class=\"icn icn-cirank\" href=\"/deathrates/graph.php?stateFIPS=34&amp;areatype=county&amp;cancer=080&amp;race=00&amp;sex=0&amp;age=001&amp;type=death&amp;sortOrder=desc&amp;sortVariableName=cirank&amp;output=5&amp;graph=1#results\" title=\"View CI*Rank Graph\">Rank Graph</a></td><td><a class=\"icn icn-rate\" href=\"/deathrates/graph.php?stateFIPS=34&amp;areatype=county&amp;cancer=080&amp;race=00&amp;sex=0&amp;age=001&amp;type=death&amp;sortOrder=desc&amp;sortOrder=desc&amp;sortVariableName=rate&amp;output=5&amp;graph=2#results\" title=\"View Rate Graph\">Rate Graph</a></td><td><a class=\"icn icn-trend\" href=\"/historicaltrend/index.php?0&amp;4434&amp;999&amp;7599&amp;001&amp;080&amp;00&amp;0&amp;0&amp;0&amp;2&amp;0&amp;1&amp;1#results\" title=\"View Historical Trends Graph\">Historical Trends Graph</a></td><td><a class=\"icn icn-fiveyr\" href=\"/recenttrend/index.php?0&amp;4434&amp;0&amp;9599&amp;001&amp;999&amp;00&amp;0&amp;0&amp;0&amp;2#results\" title=\"5-Year Rate Change Graph\">5-Year Rate Change Graph</a></td><td><a class=\"icn icn-ratechange\" href=\"/ratetrendbycancer/index.php?cancer=080&amp;sex=0&amp;stateFIPS=34&amp;comparison=00&amp;type=rtcancer#results\" title=\"View Table\">Table</a></td><td><a class=\"icn icn-ratechange\" href=\"/ratetrendbyarea/index.php?stateFIPS=34&amp;county=000&amp;comparison=00&amp;type=rtarea#results\" title=\"View Table\">Table</a></td></tr><tr><td class=\"text-left\">Uterus (Corpus &amp; Uterus, NOS) (Female)</td><td>5.9</td><td>4.9</td><td><a class=\"icn icn-map\" href=\"/map/map.withimage.php?34&amp;county&amp;001&amp;058&amp;00&amp;2&amp;02&amp;0&amp;1&amp;5&amp;0#results\" title=\"View Map\">Map</a></td><td><a class=\"icn icn-table\" href=\"/deathrates/index.php?stateFIPS=34&amp;areatype=county&amp;cancer=058&amp;race=00&amp;sex=2&amp;age=001&amp;type=death#results\" title=\"View Table\">Table</a></td><td><a class=\"icn icn-cirank\" href=\"/deathrates/graph.php?stateFIPS=34&amp;areatype=county&amp;cancer=058&amp;race=00&amp;sex=2&amp;age=001&amp;type=death&amp;sortOrder=desc&amp;sortVariableName=cirank&amp;output=5&amp;graph=1#results\" title=\"View CI*Rank Graph\">Rank Graph</a></td><td><a class=\"icn icn-rate\" href=\"/deathrates/graph.php?stateFIPS=34&amp;areatype=county&amp;cancer=058&amp;race=00&amp;sex=2&amp;age=001&amp;type=death&amp;sortOrder=desc&amp;sortOrder=desc&amp;sortVariableName=rate&amp;output=5&amp;graph=2#results\" title=\"View Rate Graph\">Rate Graph</a></td><td><a class=\"icn icn-trend\" href=\"/historicaltrend/index.php?0&amp;4434&amp;999&amp;7599&amp;001&amp;058&amp;00&amp;2&amp;0&amp;0&amp;2&amp;0&amp;1&amp;1#results\" title=\"View Historical Trends Graph\">Historical Trends Graph</a></td><td><a class=\"icn icn-fiveyr\" href=\"/recenttrend/index.php?0&amp;4434&amp;0&amp;9599&amp;001&amp;999&amp;00&amp;2&amp;0&amp;0&amp;2#results\" title=\"5-Year Rate Change Graph\">5-Year Rate Change Graph</a></td><td><a class=\"icn icn-ratechange\" href=\"/ratetrendbycancer/index.php?cancer=058&amp;sex=2&amp;stateFIPS=34&amp;comparison=00&amp;type=rtcancer#results\" title=\"View Table\">Table</a></td><td><a class=\"icn icn-ratechange\" href=\"/ratetrendbyarea/index.php?stateFIPS=34&amp;county=000&amp;comparison=00&amp;type=rtarea#results\" title=\"View Table\">Table</a></td></tr></tbody></table><table style=\"width:100%;\"><thead><tr><th class=\"text-left\" width=\"25%\">Age-Adjusted Mortality Rates by Race/Ethnicity (2014-2018)</th><th width=\"12.5%\">New Jersey Rate</th><th width=\"12.5%\">USA Rate</th><th width=\"6.25%\">Map</th><th width=\"6.25%\">Table</th><th width=\"6.25%\">CI*Rank Graph</th><th width=\"6.25%\">Rate Graph</th><th width=\"6.25%\">Historical Trends Graph</th><th width=\"6.25%\">5-Year Rate Change Graph</th><th width=\"6.25%\">Rate/Trend Comparison by Cancer</th><th width=\"6.25%\">Rate/Trend Comparison by Area</th></tr></thead><tbody><tr><td class=\"text-left\">All Races (includes Hispanic)</td><td>148.4</td><td>155.5</td><td><a class=\"icn icn-map\" href=\"/map/map.withimage.php?34&amp;county&amp;001&amp;001&amp;00&amp;0&amp;02&amp;0&amp;1&amp;5&amp;0#results\" title=\"View Map\">Map</a></td><td><a class=\"icn icn-table\" href=\"/deathrates/index.php?stateFIPS=34&amp;areatype=county&amp;cancer=001&amp;race=00&amp;sex=0&amp;age=001&amp;type=death#results\" title=\"View Table\">Table</a></td><td><a class=\"icn icn-cirank\" href=\"/deathrates/graph.php?stateFIPS=34&amp;areatype=county&amp;cancer=001&amp;race=00&amp;sex=0&amp;age=001&amp;type=death&amp;sortOrder=desc&amp;sortVariableName=cirank&amp;output=5&amp;graph=1#results\" title=\"View CI*Rank Graph\">Rank Graph</a></td><td><a class=\"icn icn-rate\" href=\"/deathrates/graph.php?stateFIPS=34&amp;areatype=county&amp;cancer=001&amp;race=00&amp;sex=0&amp;age=001&amp;type=death&amp;sortOrder=desc&amp;sortOrder=desc&amp;sortVariableName=rate&amp;output=5&amp;graph=2#results\" title=\"View Rate Graph\">Rate Graph</a></td><td><a class=\"icn icn-trend\" href=\"/historicaltrend/index.php?0&amp;4434&amp;999&amp;7599&amp;001&amp;001&amp;00&amp;0&amp;0&amp;0&amp;2&amp;0&amp;1&amp;1#results\" title=\"View Historical Trends Graph\">Historical Trends Graph</a></td><td><a class=\"icn icn-fiveyr\" href=\"/recenttrend/index.php?0&amp;4434&amp;0&amp;9599&amp;001&amp;999&amp;00&amp;0&amp;0&amp;0&amp;2#results\" title=\"5-Year Rate Change Graph\">5-Year Rate Change Graph</a></td><td><a class=\"icn icn-ratechange\" href=\"/ratetrendbycancer/index.php?cancer=001&amp;sex=0&amp;stateFIPS=34&amp;comparison=00&amp;type=rtcancer#results\" title=\"View Table\">Table</a></td><td><a class=\"icn icn-ratechange\" href=\"/ratetrendbyarea/index.php?stateFIPS=34&amp;county=000&amp;comparison=00&amp;type=rtarea#results\" title=\"View Table\">Table</a></td></tr><tr><td class=\"text-left\">White (includes Hispanic)</td><td>152.2</td><td>156.3</td><td><a class=\"icn icn-map\" href=\"/map/map.withimage.php?34&amp;county&amp;001&amp;001&amp;01&amp;0&amp;02&amp;0&amp;1&amp;5&amp;0#results\" title=\"View Map\">Map</a></td><td><a class=\"icn icn-table\" href=\"/deathrates/index.php?stateFIPS=34&amp;areatype=county&amp;cancer=001&amp;race=01&amp;sex=0&amp;age=001&amp;type=death#results\" title=\"View Table\">Table</a></td><td><a class=\"icn icn-cirank\" href=\"/deathrates/graph.php?stateFIPS=34&amp;areatype=county&amp;cancer=001&amp;race=01&amp;sex=0&amp;age=001&amp;type=death&amp;sortOrder=desc&amp;sortVariableName=cirank&amp;output=5&amp;graph=1#results\" title=\"View CI*Rank Graph\">Rank Graph</a></td><td><a class=\"icn icn-rate\" href=\"/deathrates/graph.php?stateFIPS=34&amp;areatype=county&amp;cancer=001&amp;race=01&amp;sex=0&amp;age=001&amp;type=death&amp;sortOrder=desc&amp;sortOrder=desc&amp;sortVariableName=rate&amp;output=5&amp;graph=2#results\" title=\"View Rate Graph\">Rate Graph</a></td><td><a class=\"icn icn-trend\" href=\"/historicaltrend/index.php?0&amp;4434&amp;999&amp;7599&amp;001&amp;001&amp;01&amp;0&amp;0&amp;0&amp;2&amp;0&amp;1&amp;1#results\" title=\"View Historical Trends Graph\">Historical Trends Graph</a></td><td><a class=\"icn icn-fiveyr\" href=\"/recenttrend/index.php?0&amp;4434&amp;0&amp;9599&amp;001&amp;999&amp;01&amp;0&amp;0&amp;0&amp;2#results\" title=\"5-Year Rate Change Graph\">5-Year Rate Change Graph</a></td><td>N/A</td><td>N/A</td></tr><tr><td class=\"text-left\">White Hispanic</td><td>108.1</td><td>117.3</td><td><a class=\"icn icn-map\" href=\"/map/map.withimage.php?34&amp;county&amp;001&amp;001&amp;06&amp;0&amp;02&amp;0&amp;1&amp;5&amp;0#results\" title=\"View Map\">Map</a></td><td><a class=\"icn icn-table\" href=\"/deathrates/index.php?stateFIPS=34&amp;areatype=county&amp;cancer=001&amp;race=06&amp;sex=0&amp;age=001&amp;type=death#results\" title=\"View Table\">Table</a></td><td><a class=\"icn icn-cirank\" href=\"/deathrates/graph.php?stateFIPS=34&amp;areatype=county&amp;cancer=001&amp;race=06&amp;sex=0&amp;age=001&amp;type=death&amp;sortOrder=desc&amp;sortVariableName=cirank&amp;output=5&amp;graph=1#results\" title=\"View CI*Rank Graph\">Rank Graph</a></td><td><a class=\"icn icn-rate\" href=\"/deathrates/graph.php?stateFIPS=34&amp;areatype=county&amp;cancer=001&amp;race=06&amp;sex=0&amp;age=001&amp;type=death&amp;sortOrder=desc&amp;sortOrder=desc&amp;sortVariableName=rate&amp;output=5&amp;graph=2#results\" title=\"View Rate Graph\">Rate Graph</a></td><td><a class=\"icn icn-trend\" href=\"/historicaltrend/index.php?0&amp;4434&amp;999&amp;7599&amp;001&amp;001&amp;06&amp;0&amp;0&amp;0&amp;2&amp;0&amp;1&amp;1#results\" title=\"View Historical Trends Graph\">Historical Trends Graph</a></td><td><a class=\"icn icn-fiveyr\" href=\"/recenttrend/index.php?0&amp;4434&amp;0&amp;9599&amp;001&amp;999&amp;06&amp;0&amp;0&amp;0&amp;2#results\" title=\"5-Year Rate Change Graph\">5-Year Rate Change Graph</a></td><td>N/A</td><td>N/A</td></tr><tr><td class=\"text-left\">White Non-Hispanic</td><td>157.6</td><td>160.2</td><td><a class=\"icn icn-map\" href=\"/map/map.withimage.php?34&amp;county&amp;001&amp;001&amp;07&amp;0&amp;02&amp;0&amp;1&amp;5&amp;0#results\" title=\"View Map\">Map</a></td><td><a class=\"icn icn-table\" href=\"/deathrates/index.php?stateFIPS=34&amp;areatype=county&amp;cancer=001&amp;race=07&amp;sex=0&amp;age=001&amp;type=death#results\" title=\"View Table\">Table</a></td><td><a class=\"icn icn-cirank\" href=\"/deathrates/graph.php?stateFIPS=34&amp;areatype=county&amp;cancer=001&amp;race=07&amp;sex=0&amp;age=001&amp;type=death&amp;sortOrder=desc&amp;sortVariableName=cirank&amp;output=5&amp;graph=1#results\" title=\"View CI*Rank Graph\">Rank Graph</a></td><td><a class=\"icn icn-rate\" href=\"/deathrates/graph.php?stateFIPS=34&amp;areatype=county&amp;cancer=001&amp;race=07&amp;sex=0&amp;age=001&amp;type=death&amp;sortOrder=desc&amp;sortOrder=desc&amp;sortVariableName=rate&amp;output=5&amp;graph=2#results\" title=\"View Rate Graph\">Rate Graph</a></td><td><a class=\"icn icn-trend\" href=\"/historicaltrend/index.php?0&amp;4434&amp;999&amp;7599&amp;001&amp;001&amp;07&amp;0&amp;0&amp;0&amp;2&amp;0&amp;1&amp;1#results\" title=\"View Historical Trends Graph\">Historical Trends Graph</a></td><td><a class=\"icn icn-fiveyr\" href=\"/recenttrend/index.php?0&amp;4434&amp;0&amp;9599&amp;001&amp;999&amp;07&amp;0&amp;0&amp;0&amp;2#results\" title=\"5-Year Rate Change Graph\">5-Year Rate Change Graph</a></td><td>N/A</td><td>N/A</td></tr><tr><td class=\"text-left\">Black (includes Hispanic)</td><td>167.3</td><td>177.5</td><td><a class=\"icn icn-map\" href=\"/map/map.withimage.php?34&amp;county&amp;001&amp;001&amp;02&amp;0&amp;02&amp;0&amp;1&amp;5&amp;0#results\" title=\"View Map\">Map</a></td><td><a class=\"icn icn-table\" href=\"/deathrates/index.php?stateFIPS=34&amp;areatype=county&amp;cancer=001&amp;race=02&amp;sex=0&amp;age=001&amp;type=death#results\" title=\"View Table\">Table</a></td><td><a class=\"icn icn-cirank\" href=\"/deathrates/graph.php?stateFIPS=34&amp;areatype=county&amp;cancer=001&amp;race=02&amp;sex=0&amp;age=001&amp;type=death&amp;sortOrder=desc&amp;sortVariableName=cirank&amp;output=5&amp;graph=1#results\" title=\"View CI*Rank Graph\">Rank Graph</a></td><td><a class=\"icn icn-rate\" href=\"/deathrates/graph.php?stateFIPS=34&amp;areatype=county&amp;cancer=001&amp;race=02&amp;sex=0&amp;age=001&amp;type=death&amp;sortOrder=desc&amp;sortOrder=desc&amp;sortVariableName=rate&amp;output=5&amp;graph=2#results\" title=\"View Rate Graph\">Rate Graph</a></td><td><a class=\"icn icn-trend\" href=\"/historicaltrend/index.php?0&amp;4434&amp;999&amp;7599&amp;001&amp;001&amp;02&amp;0&amp;0&amp;0&amp;2&amp;0&amp;1&amp;1#results\" title=\"View Historical Trends Graph\">Historical Trends Graph</a></td><td><a class=\"icn icn-fiveyr\" href=\"/recenttrend/index.php?0&amp;4434&amp;0&amp;9599&amp;001&amp;999&amp;02&amp;0&amp;0&amp;0&amp;2#results\" title=\"5-Year Rate Change Graph\">5-Year Rate Change Graph</a></td><td>N/A</td><td>N/A</td></tr><tr><td class=\"text-left\">Hispanic (any race)</td><td>97.6</td><td>110.8</td><td><a class=\"icn icn-map\" href=\"/map/map.withimage.php?34&amp;county&amp;001&amp;001&amp;05&amp;0&amp;02&amp;0&amp;1&amp;5&amp;0#results\" title=\"View Map\">Map</a></td><td><a class=\"icn icn-table\" href=\"/deathrates/index.php?stateFIPS=34&amp;areatype=county&amp;cancer=001&amp;race=05&amp;sex=0&amp;age=001&amp;type=death#results\" title=\"View Table\">Table</a></td><td><a class=\"icn icn-cirank\" href=\"/deathrates/graph.php?stateFIPS=34&amp;areatype=county&amp;cancer=001&amp;race=05&amp;sex=0&amp;age=001&amp;type=death&amp;sortOrder=desc&amp;sortVariableName=cirank&amp;output=5&amp;graph=1#results\" title=\"View CI*Rank Graph\">Rank Graph</a></td><td><a class=\"icn icn-rate\" href=\"/deathrates/graph.php?stateFIPS=34&amp;areatype=county&amp;cancer=001&amp;race=05&amp;sex=0&amp;age=001&amp;type=death&amp;sortOrder=desc&amp;sortOrder=desc&amp;sortVariableName=rate&amp;output=5&amp;graph=2#results\" title=\"View Rate Graph\">Rate Graph</a></td><td><a class=\"icn icn-trend\" href=\"/historicaltrend/index.php?0&amp;4434&amp;999&amp;7599&amp;001&amp;001&amp;05&amp;0&amp;0&amp;0&amp;2&amp;0&amp;1&amp;1#results\" title=\"View Historical Trends Graph\">Historical Trends Graph</a></td><td><a class=\"icn icn-fiveyr\" href=\"/recenttrend/index.php?0&amp;4434&amp;0&amp;9599&amp;001&amp;999&amp;05&amp;0&amp;0&amp;0&amp;2#results\" title=\"5-Year Rate Change Graph\">5-Year Rate Change Graph</a></td><td>N/A</td><td>N/A</td></tr><tr><td class=\"text-left\">Amer. Indian/Alaskan Native (includes Hispanic)</td><td>29.4</td><td>103.6</td><td><a class=\"icn icn-map\" href=\"/map/map.withimage.php?34&amp;county&amp;001&amp;001&amp;03&amp;0&amp;02&amp;0&amp;1&amp;5&amp;0#results\" title=\"View Map\">Map</a></td><td><a class=\"icn icn-table\" href=\"/deathrates/index.php?stateFIPS=34&amp;areatype=county&amp;cancer=001&amp;race=03&amp;sex=0&amp;age=001&amp;type=death#results\" title=\"View Table\">Table</a></td><td><a class=\"icn icn-cirank\" href=\"/deathrates/graph.php?stateFIPS=34&amp;areatype=county&amp;cancer=001&amp;race=03&amp;sex=0&amp;age=001&amp;type=death&amp;sortOrder=desc&amp;sortVariableName=cirank&amp;output=5&amp;graph=1#results\" title=\"View CI*Rank Graph\">Rank Graph</a></td><td><a class=\"icn icn-rate\" href=\"/deathrates/graph.php?stateFIPS=34&amp;areatype=county&amp;cancer=001&amp;race=03&amp;sex=0&amp;age=001&amp;type=death&amp;sortOrder=desc&amp;sortOrder=desc&amp;sortVariableName=rate&amp;output=5&amp;graph=2#results\" title=\"View Rate Graph\">Rate Graph</a></td><td><a class=\"icn icn-trend\" href=\"/historicaltrend/index.php?0&amp;4434&amp;999&amp;7599&amp;001&amp;001&amp;03&amp;0&amp;0&amp;0&amp;2&amp;0&amp;1&amp;1#results\" title=\"View Historical Trends Graph\">Historical Trends Graph</a></td><td><a class=\"icn icn-fiveyr\" href=\"/recenttrend/index.php?0&amp;4434&amp;0&amp;9599&amp;001&amp;999&amp;03&amp;0&amp;0&amp;0&amp;2#results\" title=\"5-Year Rate Change Graph\">5-Year Rate Change Graph</a></td><td>N/A</td><td>N/A</td></tr><tr><td class=\"text-left\">Asian or Pacific Islander (includes Hispanic)</td><td>74.8</td><td>97.2</td><td><a class=\"icn icn-map\" href=\"/map/map.withimage.php?34&amp;county&amp;001&amp;001&amp;04&amp;0&amp;02&amp;0&amp;1&amp;5&amp;0#results\" title=\"View Map\">Map</a></td><td><a class=\"icn icn-table\" href=\"/deathrates/index.php?stateFIPS=34&amp;areatype=county&amp;cancer=001&amp;race=04&amp;sex=0&amp;age=001&amp;type=death#results\" title=\"View Table\">Table</a></td><td><a class=\"icn icn-cirank\" href=\"/deathrates/graph.php?stateFIPS=34&amp;areatype=county&amp;cancer=001&amp;race=04&amp;sex=0&amp;age=001&amp;type=death&amp;sortOrder=desc&amp;sortVariableName=cirank&amp;output=5&amp;graph=1#results\" title=\"View CI*Rank Graph\">Rank Graph</a></td><td><a class=\"icn icn-rate\" href=\"/deathrates/graph.php?stateFIPS=34&amp;areatype=county&amp;cancer=001&amp;race=04&amp;sex=0&amp;age=001&amp;type=death&amp;sortOrder=desc&amp;sortOrder=desc&amp;sortVariableName=rate&amp;output=5&amp;graph=2#results\" title=\"View Rate Graph\">Rate Graph</a></td><td><a class=\"icn icn-trend\" href=\"/historicaltrend/index.php?0&amp;4434&amp;999&amp;7599&amp;001&amp;001&amp;04&amp;0&amp;0&amp;0&amp;2&amp;0&amp;1&amp;1#results\" title=\"View Historical Trends Graph\">Historical Trends Graph</a></td><td><a class=\"icn icn-fiveyr\" href=\"/recenttrend/index.php?0&amp;4434&amp;0&amp;9599&amp;001&amp;999&amp;04&amp;0&amp;0&amp;0&amp;2#results\" title=\"5-Year Rate Change Graph\">5-Year Rate Change Graph</a></td><td>N/A</td><td>N/A</td></tr></tbody></table><table style=\"width:100%;\"><thead><tr><th class=\"text-left\" width=\"25%\">Age-Adjusted Mortality Rates by Sex (2014-2018)</th><th width=\"12.5%\">New Jersey Rate</th><th width=\"12.5%\">USA Rate</th><th width=\"6.25%\">Map</th><th width=\"6.25%\">Table</th><th width=\"6.25%\">CI*Rank Graph</th><th width=\"6.25%\">Rate Graph</th><th width=\"6.25%\">Historical Trends Graph</th><th width=\"6.25%\">5-Year Rate Change Graph</th><th width=\"6.25%\">Rate/Trend Comparison by Cancer</th><th width=\"6.25%\">Rate/Trend Comparison by Area</th></tr></thead><tbody><tr><td class=\"text-left\">Both Sexes</td><td>148.4</td><td>155.5</td><td><a class=\"icn icn-map\" href=\"/map/map.withimage.php?34&amp;county&amp;001&amp;001&amp;00&amp;0&amp;02&amp;0&amp;1&amp;5&amp;0#results\" title=\"View Map\">Map</a></td><td><a class=\"icn icn-table\" href=\"/deathrates/index.php?stateFIPS=34&amp;areatype=county&amp;cancer=001&amp;race=00&amp;sex=0&amp;age=001&amp;type=death#results\" title=\"View Table\">Table</a></td><td><a class=\"icn icn-cirank\" href=\"/deathrates/graph.php?stateFIPS=34&amp;areatype=county&amp;cancer=001&amp;race=00&amp;sex=0&amp;age=001&amp;type=death&amp;sortOrder=desc&amp;sortVariableName=cirank&amp;output=5&amp;graph=1#results\" title=\"View CI*Rank Graph\">Rank Graph</a></td><td><a class=\"icn icn-rate\" href=\"/deathrates/graph.php?stateFIPS=34&amp;areatype=county&amp;cancer=001&amp;race=00&amp;sex=0&amp;age=001&amp;type=death&amp;sortOrder=desc&amp;sortOrder=desc&amp;sortVariableName=rate&amp;output=5&amp;graph=2#results\" title=\"View Rate Graph\">Rate Graph</a></td><td><a class=\"icn icn-trend\" href=\"/historicaltrend/index.php?0&amp;4434&amp;999&amp;7599&amp;001&amp;001&amp;00&amp;0&amp;0&amp;0&amp;2&amp;0&amp;1&amp;1#results\" title=\"View Historical Trends Graph\">Historical Trends Graph</a></td><td><a class=\"icn icn-fiveyr\" href=\"/recenttrend/index.php?0&amp;4434&amp;0&amp;9599&amp;001&amp;999&amp;00&amp;0&amp;0&amp;0&amp;2#results\" title=\"5-Year Rate Change Graph\">5-Year Rate Change Graph</a></td><td><a class=\"icn icn-ratechange\" href=\"/ratetrendbycancer/index.php?cancer=001&amp;sex=0&amp;stateFIPS=34&amp;comparison=00&amp;type=rtcancer#results\" title=\"View Table\">Table</a></td><td><a class=\"icn icn-ratechange\" href=\"/ratetrendbyarea/index.php?stateFIPS=34&amp;county=000&amp;comparison=00&amp;type=rtarea#results\" title=\"View Table\">Table</a></td></tr><tr><td class=\"text-left\">Male</td><td>172.3</td><td>185.5</td><td><a class=\"icn icn-map\" href=\"/map/map.withimage.php?34&amp;county&amp;001&amp;001&amp;00&amp;1&amp;02&amp;0&amp;1&amp;5&amp;0#results\" title=\"View Map\">Map</a></td><td><a class=\"icn icn-table\" href=\"/deathrates/index.php?stateFIPS=34&amp;areatype=county&amp;cancer=001&amp;race=00&amp;sex=1&amp;age=001&amp;type=death#results\" title=\"View Table\">Table</a></td><td><a class=\"icn icn-cirank\" href=\"/deathrates/graph.php?stateFIPS=34&amp;areatype=county&amp;cancer=001&amp;race=00&amp;sex=1&amp;age=001&amp;type=death&amp;sortOrder=desc&amp;sortVariableName=cirank&amp;output=5&amp;graph=1#results\" title=\"View CI*Rank Graph\">Rank Graph</a></td><td><a class=\"icn icn-rate\" href=\"/deathrates/graph.php?stateFIPS=34&amp;areatype=county&amp;cancer=001&amp;race=00&amp;sex=1&amp;age=001&amp;type=death&amp;sortOrder=desc&amp;sortOrder=desc&amp;sortVariableName=rate&amp;output=5&amp;graph=2#results\" title=\"View Rate Graph\">Rate Graph</a></td><td><a class=\"icn icn-trend\" href=\"/historicaltrend/index.php?0&amp;4434&amp;999&amp;7599&amp;001&amp;001&amp;00&amp;1&amp;0&amp;0&amp;2&amp;0&amp;1&amp;1#results\" title=\"View Historical Trends Graph\">Historical Trends Graph</a></td><td><a class=\"icn icn-fiveyr\" href=\"/recenttrend/index.php?0&amp;4434&amp;0&amp;9599&amp;001&amp;999&amp;00&amp;1&amp;0&amp;0&amp;2#results\" title=\"5-Year Rate Change Graph\">5-Year Rate Change Graph</a></td><td><a class=\"icn icn-ratechange\" href=\"/ratetrendbycancer/index.php?cancer=001&amp;sex=1&amp;stateFIPS=34&amp;comparison=00&amp;type=rtcancer#results\" title=\"View Table\">Table</a></td><td><a class=\"icn icn-ratechange\" href=\"/ratetrendbyarea/index.php?stateFIPS=34&amp;county=000&amp;comparison=00&amp;type=rtarea#results\" title=\"View Table\">Table</a></td></tr><tr><td class=\"text-left\">Female</td><td>132.6</td><td>133.5</td><td><a class=\"icn icn-map\" href=\"/map/map.withimage.php?34&amp;county&amp;001&amp;001&amp;00&amp;2&amp;02&amp;0&amp;1&amp;5&amp;0#results\" title=\"View Map\">Map</a></td><td><a class=\"icn icn-table\" href=\"/deathrates/index.php?stateFIPS=34&amp;areatype=county&amp;cancer=001&amp;race=00&amp;sex=2&amp;age=001&amp;type=death#results\" title=\"View Table\">Table</a></td><td><a class=\"icn icn-cirank\" href=\"/deathrates/graph.php?stateFIPS=34&amp;areatype=county&amp;cancer=001&amp;race=00&amp;sex=2&amp;age=001&amp;type=death&amp;sortOrder=desc&amp;sortVariableName=cirank&amp;output=5&amp;graph=1#results\" title=\"View CI*Rank Graph\">Rank Graph</a></td><td><a class=\"icn icn-rate\" href=\"/deathrates/graph.php?stateFIPS=34&amp;areatype=county&amp;cancer=001&amp;race=00&amp;sex=2&amp;age=001&amp;type=death&amp;sortOrder=desc&amp;sortOrder=desc&amp;sortVariableName=rate&amp;output=5&amp;graph=2#results\" title=\"View Rate Graph\">Rate Graph</a></td><td><a class=\"icn icn-trend\" href=\"/historicaltrend/index.php?0&amp;4434&amp;999&amp;7599&amp;001&amp;001&amp;00&amp;2&amp;0&amp;0&amp;2&amp;0&amp;1&amp;1#results\" title=\"View Historical Trends Graph\">Historical Trends Graph</a></td><td><a class=\"icn icn-fiveyr\" href=\"/recenttrend/index.php?0&amp;4434&amp;0&amp;9599&amp;001&amp;999&amp;00&amp;2&amp;0&amp;0&amp;2#results\" title=\"5-Year Rate Change Graph\">5-Year Rate Change Graph</a></td><td><a class=\"icn icn-ratechange\" href=\"/ratetrendbycancer/index.php?cancer=001&amp;sex=2&amp;stateFIPS=34&amp;comparison=00&amp;type=rtcancer#results\" title=\"View Table\">Table</a></td><td><a class=\"icn icn-ratechange\" href=\"/ratetrendbyarea/index.php?stateFIPS=34&amp;county=000&amp;comparison=00&amp;type=rtarea#results\" title=\"View Table\">Table</a></td></tr></tbody></table><table style=\"width:100%;\"><thead><tr><th class=\"text-left\" width=\"25%\">Age-Adjusted Mortality Rates by Age (2014-2018)</th><th width=\"12.5%\">New Jersey Rate</th><th width=\"12.5%\">USA Rate</th><th width=\"6.25%\">Map</th><th width=\"6.25%\">Table</th><th width=\"6.25%\">CI*Rank Graph</th><th width=\"6.25%\">Rate Graph</th><th width=\"6.25%\">Historical Trends Graph</th><th width=\"6.25%\">5-Year Rate Change Graph</th><th width=\"6.25%\">Rate/Trend Comparison by Cancer</th><th width=\"6.25%\">Rate/Trend Comparison by Area</th></tr></thead><tbody><tr><td class=\"text-left\">All Ages</td><td>148.4</td><td>155.5</td><td><a class=\"icn icn-map\" href=\"/map/map.withimage.php?34&amp;county&amp;001&amp;001&amp;00&amp;0&amp;02&amp;0&amp;1&amp;5&amp;0#results\" title=\"View Map\">Map</a></td><td><a class=\"icn icn-table\" href=\"/deathrates/index.php?stateFIPS=34&amp;areatype=county&amp;cancer=001&amp;race=00&amp;sex=0&amp;age=001&amp;type=death#results\" title=\"View Table\">Table</a></td><td><a class=\"icn icn-cirank\" href=\"/deathrates/graph.php?stateFIPS=34&amp;areatype=county&amp;cancer=001&amp;race=00&amp;sex=0&amp;age=001&amp;type=death&amp;sortOrder=desc&amp;sortVariableName=cirank&amp;output=5&amp;graph=1#results\" title=\"View CI*Rank Graph\">Rank Graph</a></td><td><a class=\"icn icn-rate\" href=\"/deathrates/graph.php?stateFIPS=34&amp;areatype=county&amp;cancer=001&amp;race=00&amp;sex=0&amp;age=001&amp;type=death&amp;sortOrder=desc&amp;sortOrder=desc&amp;sortVariableName=rate&amp;output=5&amp;graph=2#results\" title=\"View Rate Graph\">Rate Graph</a></td><td><a class=\"icn icn-trend\" href=\"/historicaltrend/index.php?0&amp;4434&amp;999&amp;7599&amp;001&amp;001&amp;00&amp;0&amp;0&amp;0&amp;2&amp;0&amp;1&amp;1#results\" title=\"View Historical Trends Graph\">Historical Trends Graph</a></td><td><a class=\"icn icn-fiveyr\" href=\"/recenttrend/index.php?0&amp;4434&amp;0&amp;9599&amp;001&amp;999&amp;00&amp;0&amp;0&amp;0&amp;2#results\" title=\"5-Year Rate Change Graph\">5-Year Rate Change Graph</a></td><td><a class=\"icn icn-ratechange\" href=\"/ratetrendbycancer/index.php?cancer=001&amp;sex=0&amp;stateFIPS=34&amp;comparison=00&amp;type=rtcancer#results\" title=\"View Table\">Table</a></td><td><a class=\"icn icn-ratechange\" href=\"/ratetrendbyarea/index.php?stateFIPS=34&amp;county=000&amp;comparison=00&amp;type=rtarea#results\" title=\"View Table\">Table</a></td></tr><tr><td class=\"text-left\">Ages &lt;65</td><td>43.3</td><td>49.4</td><td><a class=\"icn icn-map\" href=\"/map/map.withimage.php?34&amp;county&amp;006&amp;001&amp;00&amp;0&amp;02&amp;0&amp;1&amp;5&amp;0#results\" title=\"View Map\">Map</a></td><td><a class=\"icn icn-table\" href=\"/deathrates/index.php?stateFIPS=34&amp;areatype=county&amp;cancer=001&amp;race=00&amp;sex=0&amp;age=006&amp;type=death#results\" title=\"View Table\">Table</a></td><td><a class=\"icn icn-cirank\" href=\"/deathrates/graph.php?stateFIPS=34&amp;areatype=county&amp;cancer=001&amp;race=00&amp;sex=0&amp;age=006&amp;type=death&amp;sortOrder=desc&amp;sortVariableName=cirank&amp;output=5&amp;graph=1#results\" title=\"View CI*Rank Graph\">Rank Graph</a></td><td><a class=\"icn icn-rate\" href=\"/deathrates/graph.php?stateFIPS=34&amp;areatype=county&amp;cancer=001&amp;race=00&amp;sex=0&amp;age=006&amp;type=death&amp;sortOrder=desc&amp;sortOrder=desc&amp;sortVariableName=rate&amp;output=5&amp;graph=2#results\" title=\"View Rate Graph\">Rate Graph</a></td><td><a class=\"icn icn-trend\" href=\"/historicaltrend/index.php?0&amp;4434&amp;999&amp;7599&amp;006&amp;001&amp;00&amp;0&amp;0&amp;0&amp;2&amp;0&amp;1&amp;1#results\" title=\"View Historical Trends Graph\">Historical Trends Graph</a></td><td><a class=\"icn icn-fiveyr\" href=\"/recenttrend/index.php?0&amp;4434&amp;0&amp;9599&amp;006&amp;999&amp;00&amp;0&amp;0&amp;0&amp;2#results\" title=\"5-Year Rate Change Graph\">5-Year Rate Change Graph</a></td><td>N/A</td><td>N/A</td></tr><tr><td class=\"text-left\">Ages &lt;50</td><td>13.7</td><td>15.4</td><td><a class=\"icn icn-map\" href=\"/map/map.withimage.php?34&amp;county&amp;009&amp;001&amp;00&amp;0&amp;02&amp;0&amp;1&amp;5&amp;0#results\" title=\"View Map\">Map</a></td><td><a class=\"icn icn-table\" href=\"/deathrates/index.php?stateFIPS=34&amp;areatype=county&amp;cancer=001&amp;race=00&amp;sex=0&amp;age=009&amp;type=death#results\" title=\"View Table\">Table</a></td><td><a class=\"icn icn-cirank\" href=\"/deathrates/graph.php?stateFIPS=34&amp;areatype=county&amp;cancer=001&amp;race=00&amp;sex=0&amp;age=009&amp;type=death&amp;sortOrder=desc&amp;sortVariableName=cirank&amp;output=5&amp;graph=1#results\" title=\"View CI*Rank Graph\">Rank Graph</a></td><td><a class=\"icn icn-rate\" href=\"/deathrates/graph.php?stateFIPS=34&amp;areatype=county&amp;cancer=001&amp;race=00&amp;sex=0&amp;age=009&amp;type=death&amp;sortOrder=desc&amp;sortOrder=desc&amp;sortVariableName=rate&amp;output=5&amp;graph=2#results\" title=\"View Rate Graph\">Rate Graph</a></td><td><a class=\"icn icn-trend\" href=\"/historicaltrend/index.php?0&amp;4434&amp;999&amp;7599&amp;009&amp;001&amp;00&amp;0&amp;0&amp;0&amp;2&amp;0&amp;1&amp;1#results\" title=\"View Historical Trends Graph\">Historical Trends Graph</a></td><td><a class=\"icn icn-fiveyr\" href=\"/recenttrend/index.php?0&amp;4434&amp;0&amp;9599&amp;009&amp;999&amp;00&amp;0&amp;0&amp;0&amp;2#results\" title=\"5-Year Rate Change Graph\">5-Year Rate Change Graph</a></td><td>N/A</td><td>N/A</td></tr><tr><td class=\"text-left\">Ages 50+</td><td>501.0</td><td>522.2</td><td><a class=\"icn icn-map\" href=\"/map/map.withimage.php?34&amp;county&amp;136&amp;001&amp;00&amp;0&amp;02&amp;0&amp;1&amp;5&amp;0#results\" title=\"View Map\">Map</a></td><td><a class=\"icn icn-table\" href=\"/deathrates/index.php?stateFIPS=34&amp;areatype=county&amp;cancer=001&amp;race=00&amp;sex=0&amp;age=136&amp;type=death#results\" title=\"View Table\">Table</a></td><td><a class=\"icn icn-cirank\" href=\"/deathrates/graph.php?stateFIPS=34&amp;areatype=county&amp;cancer=001&amp;race=00&amp;sex=0&amp;age=136&amp;type=death&amp;sortOrder=desc&amp;sortVariableName=cirank&amp;output=5&amp;graph=1#results\" title=\"View CI*Rank Graph\">Rank Graph</a></td><td><a class=\"icn icn-rate\" href=\"/deathrates/graph.php?stateFIPS=34&amp;areatype=county&amp;cancer=001&amp;race=00&amp;sex=0&amp;age=136&amp;type=death&amp;sortOrder=desc&amp;sortOrder=desc&amp;sortVariableName=rate&amp;output=5&amp;graph=2#results\" title=\"View Rate Graph\">Rate Graph</a></td><td><a class=\"icn icn-trend\" href=\"/historicaltrend/index.php?0&amp;4434&amp;999&amp;7599&amp;136&amp;001&amp;00&amp;0&amp;0&amp;0&amp;2&amp;0&amp;1&amp;1#results\" title=\"View Historical Trends Graph\">Historical Trends Graph</a></td><td><a class=\"icn icn-fiveyr\" href=\"/recenttrend/index.php?0&amp;4434&amp;0&amp;9599&amp;136&amp;999&amp;00&amp;0&amp;0&amp;0&amp;2#results\" title=\"5-Year Rate Change Graph\">5-Year Rate Change Graph</a></td><td>N/A</td><td>N/A</td></tr><tr><td class=\"text-left\">Ages 65+</td><td>874.9</td><td>888.4</td><td><a class=\"icn icn-map\" href=\"/map/map.withimage.php?34&amp;county&amp;157&amp;001&amp;00&amp;0&amp;02&amp;0&amp;1&amp;5&amp;0#results\" title=\"View Map\">Map</a></td><td><a class=\"icn icn-table\" href=\"/deathrates/index.php?stateFIPS=34&amp;areatype=county&amp;cancer=001&amp;race=00&amp;sex=0&amp;age=157&amp;type=death#results\" title=\"View Table\">Table</a></td><td><a class=\"icn icn-cirank\" href=\"/deathrates/graph.php?stateFIPS=34&amp;areatype=county&amp;cancer=001&amp;race=00&amp;sex=0&amp;age=157&amp;type=death&amp;sortOrder=desc&amp;sortVariableName=cirank&amp;output=5&amp;graph=1#results\" title=\"View CI*Rank Graph\">Rank Graph</a></td><td><a class=\"icn icn-rate\" href=\"/deathrates/graph.php?stateFIPS=34&amp;areatype=county&amp;cancer=001&amp;race=00&amp;sex=0&amp;age=157&amp;type=death&amp;sortOrder=desc&amp;sortOrder=desc&amp;sortVariableName=rate&amp;output=5&amp;graph=2#results\" title=\"View Rate Graph\">Rate Graph</a></td><td><a class=\"icn icn-trend\" href=\"/historicaltrend/index.php?0&amp;4434&amp;999&amp;7599&amp;157&amp;001&amp;00&amp;0&amp;0&amp;0&amp;2&amp;0&amp;1&amp;1#results\" title=\"View Historical Trends Graph\">Historical Trends Graph</a></td><td><a class=\"icn icn-fiveyr\" href=\"/recenttrend/index.php?0&amp;4434&amp;0&amp;9599&amp;157&amp;999&amp;00&amp;0&amp;0&amp;0&amp;2#results\" title=\"5-Year Rate Change Graph\">5-Year Rate Change Graph</a></td><td>N/A</td><td>N/A</td></tr></tbody></table><table style=\"width:100%;\"><thead><tr><th class=\"text-left\" width=\"25%\">Age-Adjusted Mortality Rates by Year</th><th width=\"12.5%\">New Jersey Rate</th><th width=\"12.5%\">USA Rate</th><th width=\"6.25%\">Map</th><th width=\"6.25%\">Table</th><th width=\"6.25%\">CI*Rank Graph</th><th width=\"6.25%\">Rate Graph</th><th width=\"6.25%\">Historical Trends Graph</th><th width=\"6.25%\">5-Year Rate Change Graph</th><th width=\"6.25%\">Rate/Trend Comparison by Cancer</th><th width=\"6.25%\">Rate/Trend Comparison by Area</th></tr></thead><tbody><tr><td class=\"text-left\">2014-2018</td><td>148.4</td><td>155.5</td><td><a class=\"icn icn-map\" href=\"/map/map.withimage.php?34&amp;county&amp;001&amp;001&amp;00&amp;0&amp;02&amp;0&amp;1&amp;5&amp;0#results\" title=\"View Map\">Map</a></td><td><a class=\"icn icn-table\" href=\"/deathrates/index.php?stateFIPS=34&amp;areatype=county&amp;cancer=001&amp;race=00&amp;sex=0&amp;age=001&amp;year=0&amp;type=death#results\" title=\"View Table\">Table</a></td><td><a class=\"icn icn-cirank\" href=\"/deathrates/graph.php?stateFIPS=34&amp;areatype=county&amp;cancer=001&amp;race=00&amp;sex=0&amp;age=001&amp;year=0&amp;type=death&amp;sortOrder=desc&amp;sortVariableName=cirank&amp;output=5&amp;graph=1#results\" title=\"View CI*Rank Graph\">Rank Graph</a></td><td><a class=\"icn icn-rate\" href=\"/deathrates/graph.php?stateFIPS=34&amp;areatype=county&amp;cancer=001&amp;race=00&amp;sex=0&amp;age=001&amp;year=0&amp;type=death&amp;sortOrder=desc&amp;sortOrder=desc&amp;sortVariableName=rate&amp;output=5&amp;graph=2#results\" title=\"View Rate Graph\">Rate Graph</a></td><td><a class=\"icn icn-trend\" href=\"/historicaltrend/index.php?0&amp;4434&amp;999&amp;7599&amp;001&amp;001&amp;00&amp;0&amp;0&amp;0&amp;2&amp;0&amp;1&amp;1#results\" title=\"View Historical Trends Graph\">Historical Trends Graph</a></td><td><a class=\"icn icn-fiveyr\" href=\"/recenttrend/index.php?0&amp;4434&amp;0&amp;9599&amp;001&amp;999&amp;00&amp;0&amp;0&amp;0&amp;2#results\" title=\"5-Year Rate Change Graph\">5-Year Rate Change Graph</a></td><td><a class=\"icn icn-ratechange\" href=\"/ratetrendbycancer/index.php?cancer=001&amp;sex=0&amp;stateFIPS=34&amp;comparison=00&amp;type=rtcancer#results\" title=\"View Table\">Table</a></td><td><a class=\"icn icn-ratechange\" href=\"/ratetrendbyarea/index.php?stateFIPS=34&amp;county=000&amp;comparison=00&amp;type=rtarea#results\" title=\"View Table\">Table</a></td></tr><tr><td class=\"text-left\">2018</td><td>141.1</td><td>149.0</td><td><a class=\"icn icn-map\" href=\"/map/map.withimage.php?34&amp;county&amp;001&amp;001&amp;00&amp;0&amp;02&amp;1&amp;1&amp;5&amp;0#results\" title=\"View Map\">Map</a></td><td><a class=\"icn icn-table\" href=\"/deathrates/index.php?stateFIPS=34&amp;areatype=county&amp;cancer=001&amp;race=00&amp;sex=0&amp;age=001&amp;year=1&amp;type=death#results\" title=\"View Table\">Table</a></td><td><a class=\"icn icn-cirank\" href=\"/deathrates/graph.php?stateFIPS=34&amp;areatype=county&amp;cancer=001&amp;race=00&amp;sex=0&amp;age=001&amp;year=1&amp;type=death&amp;sortOrder=desc&amp;sortVariableName=cirank&amp;output=5&amp;graph=1#results\" title=\"View CI*Rank Graph\">Rank Graph</a></td><td><a class=\"icn icn-rate\" href=\"/deathrates/graph.php?stateFIPS=34&amp;areatype=county&amp;cancer=001&amp;race=00&amp;sex=0&amp;age=001&amp;year=1&amp;type=death&amp;sortOrder=desc&amp;sortOrder=desc&amp;sortVariableName=rate&amp;output=5&amp;graph=2#results\" title=\"View Rate Graph\">Rate Graph</a></td><td><a class=\"icn icn-trend\" href=\"/historicaltrend/index.php?0&amp;4434&amp;999&amp;7599&amp;001&amp;001&amp;00&amp;0&amp;0&amp;0&amp;2&amp;0&amp;1&amp;1#results\" title=\"View Historical Trends Graph\">Historical Trends Graph</a></td><td>N/A</td><td>N/A</td><td>N/A</td></tr></tbody></table><strong>Notes:</strong><br/>Created by statecancerprofiles.cancer.gov on 04/29/2021 3:36 pm.<br/>For more explicit data source and footnote information please see the tables, graphs and maps that are linked to each row.<br/><br/>Source: Death data provided by the <a href=\"https://www.cdc.gov/nchs/nvss.htm\">National Vital Statistics System</a> public use data file.  Death rates calculated by the National Cancer Institute using <a href=\"https://seer.cancer.gov/seerstat/\">SEER*Stat</a>. Death rates are age-adjusted to the <a href=\"http://www.seer.cancer.gov/stdpopulations/stdpop.19ages.html\">2000 US standard population</a> (19 age groups: &lt;1, 1-4, 5-9, ... , 80-84, 85+). The Healthy People 2020 goals are based on rates adjusted using different methods but the differences should be minimal. Population counts for denominators are based on Census populations as modified by NCI. The <a href=\"https://seer.cancer.gov/popdata/\">1969-2017  US Population Data</a> File is used with mortality data.</div><div id=\"demo\"><table style=\"width:100%;\"><thead><tr><th class=\"text-left\" width=\"59%\">Demographics: Crowding</th><th width=\"11.5%\">New Jersey Percent</th><th width=\"11.5%\">USA Percent</th><th width=\"9%\">Map</th><th width=\"9%\">Table</th></tr></thead><tbody><tr><td class=\"text-left\">Households with &gt;1 person per room, 2014-2018</td><td>3.1</td><td>3.3</td><td><a class=\"icn icn-map\" href=\"/map/map.withimage.php?34&amp;county&amp;001&amp;00027&amp;00&amp;0&amp;3&amp;0&amp;1&amp;5&amp;0#results\" title=\"View Map\">Map</a></td><td><a class=\"icn icn-table\" href=\"/demographics/index.php?stateFIPS=34&amp;areatype=county&amp;topic=crowd&amp;demo=00027&amp;race=00&amp;sex=0&amp;age=001&amp;type=manyareacensus#results\" title=\"View Table\">Table</a></td></tr></tbody></table><table style=\"width:100%;\"><thead><tr><th class=\"text-left\" width=\"59%\">Demographics: Education</th><th width=\"11.5%\">New Jersey Percent</th><th width=\"11.5%\">USA Percent</th><th width=\"9%\">Map</th><th width=\"9%\">Table</th></tr></thead><tbody><tr><td class=\"text-left\">Less than 9th grade, 2014-2018, Ages 25+</td><td>4.9</td><td>5.3</td><td><a class=\"icn icn-map\" href=\"/map/map.withimage.php?34&amp;county&amp;081&amp;00004&amp;00&amp;0&amp;3&amp;0&amp;1&amp;5&amp;0#results\" title=\"View Map\">Map</a></td><td><a class=\"icn icn-table\" href=\"/demographics/index.php?stateFIPS=34&amp;areatype=county&amp;topic=ed&amp;demo=00004&amp;race=00&amp;sex=0&amp;age=081&amp;type=manyareacensus#results\" title=\"View Table\">Table</a></td></tr><tr><td class=\"text-left\">At least high school, 2014-2018, Ages 25+</td><td>89.5</td><td>87.7</td><td><a class=\"icn icn-map\" href=\"/map/map.withimage.php?34&amp;county&amp;081&amp;00109&amp;00&amp;0&amp;3&amp;0&amp;1&amp;5&amp;0#results\" title=\"View Map\">Map</a></td><td><a class=\"icn icn-table\" href=\"/demographics/index.php?stateFIPS=34&amp;areatype=county&amp;topic=ed&amp;demo=00109&amp;race=00&amp;sex=0&amp;age=081&amp;type=manyareacensus#results\" title=\"View Table\">Table</a></td></tr><tr><td class=\"text-left\">At least bachelors degree, 2014-2018, Ages 25+</td><td>38.9</td><td>31.5</td><td><a class=\"icn icn-map\" href=\"/map/map.withimage.php?34&amp;county&amp;081&amp;00006&amp;00&amp;0&amp;3&amp;0&amp;1&amp;5&amp;0#results\" title=\"View Map\">Map</a></td><td><a class=\"icn icn-table\" href=\"/demographics/index.php?stateFIPS=34&amp;areatype=county&amp;topic=ed&amp;demo=00006&amp;race=00&amp;sex=0&amp;age=081&amp;type=manyareacensus#results\" title=\"View Table\">Table</a></td></tr></tbody></table><table style=\"width:100%;\"><thead><tr><th class=\"text-left\" width=\"59%\">Demographics: Income</th><th width=\"11.5%\">New Jersey Dollars</th><th width=\"11.5%\">USA Dollars</th><th width=\"9%\">Map</th><th width=\"9%\">Table</th></tr></thead><tbody><tr><td class=\"text-left\">Median family income, 2014-2018</td><td>98,047</td><td>73,965</td><td><a class=\"icn icn-map\" href=\"/map/map.withimage.php?34&amp;county&amp;001&amp;00010&amp;00&amp;0&amp;3&amp;0&amp;1&amp;5&amp;0#results\" title=\"View Map\">Map</a></td><td><a class=\"icn icn-table\" href=\"/demographics/index.php?stateFIPS=34&amp;areatype=county&amp;topic=inc&amp;demo=00010&amp;race=00&amp;sex=0&amp;age=001&amp;type=manyareacensus#results\" title=\"View Table\">Table</a></td></tr><tr><td class=\"text-left\">Median household income, 2014-2018</td><td>79,363</td><td>60,293</td><td><a class=\"icn icn-map\" href=\"/map/map.withimage.php?34&amp;county&amp;001&amp;00011&amp;00&amp;0&amp;3&amp;0&amp;1&amp;5&amp;0#results\" title=\"View Map\">Map</a></td><td><a class=\"icn icn-table\" href=\"/demographics/index.php?stateFIPS=34&amp;areatype=county&amp;topic=inc&amp;demo=00011&amp;race=00&amp;sex=0&amp;age=001&amp;type=manyareacensus#results\" title=\"View Table\">Table</a></td></tr></tbody></table><table style=\"width:100%;\"><thead><tr><th class=\"text-left\" width=\"59%\">Demographics: Insurance</th><th width=\"11.5%\">New Jersey Percent</th><th width=\"11.5%\">USA Percent</th><th width=\"9%\">Map</th><th width=\"9%\">Table</th></tr></thead><tbody><tr><td class=\"text-left\">Percent uninsured in demographic group, people at or below 138% of poverty, 2018, Ages &lt;65</td><td>16.7</td><td>N/A</td><td><a class=\"icn icn-map\" href=\"/map/map.withimage.php?34&amp;county&amp;006&amp;00043&amp;00&amp;0&amp;3&amp;0&amp;1&amp;5&amp;0#results\" title=\"View Map\">Map</a></td><td><a class=\"icn icn-table\" href=\"/demographics/index.php?stateFIPS=34&amp;areatype=county&amp;topic=ins&amp;demo=00043&amp;race=00&amp;sex=0&amp;age=006&amp;type=manyareacensus#results\" title=\"View Table\">Table</a></td></tr></tbody></table><table style=\"width:100%;\"><thead><tr><th class=\"text-left\" width=\"59%\">Demographics: Language</th><th width=\"11.5%\">New Jersey Percent</th><th width=\"11.5%\">USA Percent</th><th width=\"9%\">Map</th><th width=\"9%\">Table</th></tr></thead><tbody><tr><td class=\"text-left\">Language isolation, 2014-2018</td><td>7.0</td><td>4.4</td><td><a class=\"icn icn-map\" href=\"/map/map.withimage.php?34&amp;county&amp;001&amp;00015&amp;00&amp;0&amp;3&amp;0&amp;1&amp;5&amp;0#results\" title=\"View Map\">Map</a></td><td><a class=\"icn icn-table\" href=\"/demographics/index.php?stateFIPS=34&amp;areatype=county&amp;topic=lang&amp;demo=00015&amp;race=00&amp;sex=0&amp;age=001&amp;type=manyareacensus#results\" title=\"View Table\">Table</a></td></tr></tbody></table><table style=\"width:100%;\"><thead><tr><th class=\"text-left\" width=\"59%\">Demographics: Mobility</th><th width=\"11.5%\">New Jersey Percent</th><th width=\"11.5%\">USA Percent</th><th width=\"9%\">Map</th><th width=\"9%\">Table</th></tr></thead><tbody><tr><td class=\"text-left\">Haven't moved (in past year), 2014-2018</td><td>89.9</td><td>85.5</td><td><a class=\"icn icn-map\" href=\"/map/map.withimage.php?34&amp;county&amp;001&amp;00017&amp;00&amp;0&amp;3&amp;0&amp;1&amp;5&amp;0#results\" title=\"View Map\">Map</a></td><td><a class=\"icn icn-table\" href=\"/demographics/index.php?stateFIPS=34&amp;areatype=county&amp;topic=mob&amp;demo=00017&amp;race=00&amp;sex=0&amp;age=001&amp;type=manyareacensus#results\" title=\"View Table\">Table</a></td></tr><tr><td class=\"text-left\">Moved, same county (in past year), 2014-2018</td><td>5.4</td><td>8.2</td><td><a class=\"icn icn-map\" href=\"/map/map.withimage.php?34&amp;county&amp;001&amp;00018&amp;00&amp;0&amp;3&amp;0&amp;1&amp;5&amp;0#results\" title=\"View Map\">Map</a></td><td><a class=\"icn icn-table\" href=\"/demographics/index.php?stateFIPS=34&amp;areatype=county&amp;topic=mob&amp;demo=00018&amp;race=00&amp;sex=0&amp;age=001&amp;type=manyareacensus#results\" title=\"View Table\">Table</a></td></tr><tr><td class=\"text-left\">Moved, different county this state (in past year), 2014-2018</td><td>2.4</td><td>3.2</td><td><a class=\"icn icn-map\" href=\"/map/map.withimage.php?34&amp;county&amp;001&amp;00019&amp;00&amp;0&amp;3&amp;0&amp;1&amp;5&amp;0#results\" title=\"View Map\">Map</a></td><td><a class=\"icn icn-table\" href=\"/demographics/index.php?stateFIPS=34&amp;areatype=county&amp;topic=mob&amp;demo=00019&amp;race=00&amp;sex=0&amp;age=001&amp;type=manyareacensus#results\" title=\"View Table\">Table</a></td></tr><tr><td class=\"text-left\">Moved, different state (in past year), 2014-2018</td><td>1.6</td><td>2.3</td><td><a class=\"icn icn-map\" href=\"/map/map.withimage.php?34&amp;county&amp;001&amp;00020&amp;00&amp;0&amp;3&amp;0&amp;1&amp;5&amp;0#results\" title=\"View Map\">Map</a></td><td><a class=\"icn icn-table\" href=\"/demographics/index.php?stateFIPS=34&amp;areatype=county&amp;topic=mob&amp;demo=00020&amp;race=00&amp;sex=0&amp;age=001&amp;type=manyareacensus#results\" title=\"View Table\">Table</a></td></tr><tr><td class=\"text-left\">Moved from outside US (in past year), 2014-2018</td><td>0.8</td><td>0.7</td><td><a class=\"icn icn-map\" href=\"/map/map.withimage.php?34&amp;county&amp;001&amp;00021&amp;00&amp;0&amp;3&amp;0&amp;1&amp;5&amp;0#results\" title=\"View Map\">Map</a></td><td><a class=\"icn icn-table\" href=\"/demographics/index.php?stateFIPS=34&amp;areatype=county&amp;topic=mob&amp;demo=00021&amp;race=00&amp;sex=0&amp;age=001&amp;type=manyareacensus#results\" title=\"View Table\">Table</a></td></tr></tbody></table><table style=\"width:100%;\"><thead><tr><th class=\"text-left\" width=\"59%\">Demographics: Population - Ages</th><th width=\"11.5%\">New Jersey Percent</th><th width=\"11.5%\">USA Percent</th><th width=\"9%\">Map</th><th width=\"9%\">Table</th></tr></thead><tbody><tr><td class=\"text-left\">Age under 18, 2014-2018</td><td>22.2</td><td>22.8</td><td><a class=\"icn icn-map\" href=\"/map/map.withimage.php?34&amp;county&amp;999&amp;00002&amp;00&amp;0&amp;3&amp;0&amp;1&amp;5&amp;0#results\" title=\"View Map\">Map</a></td><td><a class=\"icn icn-table\" href=\"/demographics/index.php?stateFIPS=34&amp;areatype=county&amp;topic=pop&amp;demo=00002&amp;race=00&amp;sex=0&amp;age=999&amp;type=manyareacensus#results\" title=\"View Table\">Table</a></td></tr><tr><td class=\"text-left\">Age 18-39, 2014-2018</td><td>28.0</td><td>29.8</td><td><a class=\"icn icn-map\" href=\"/map/map.withimage.php?34&amp;county&amp;999&amp;00102&amp;00&amp;0&amp;3&amp;0&amp;1&amp;5&amp;0#results\" title=\"View Map\">Map</a></td><td><a class=\"icn icn-table\" href=\"/demographics/index.php?stateFIPS=34&amp;areatype=county&amp;topic=pop&amp;demo=00102&amp;race=00&amp;sex=0&amp;age=999&amp;type=manyareacensus#results\" title=\"View Table\">Table</a></td></tr><tr><td class=\"text-left\">Age 40-64, 2014-2018</td><td>34.3</td><td>32.2</td><td><a class=\"icn icn-map\" href=\"/map/map.withimage.php?34&amp;county&amp;999&amp;00103&amp;00&amp;0&amp;3&amp;0&amp;1&amp;5&amp;0#results\" title=\"View Map\">Map</a></td><td><a class=\"icn icn-table\" href=\"/demographics/index.php?stateFIPS=34&amp;areatype=county&amp;topic=pop&amp;demo=00103&amp;race=00&amp;sex=0&amp;age=999&amp;type=manyareacensus#results\" title=\"View Table\">Table</a></td></tr><tr><td class=\"text-left\">Age 40 and over, 2014-2018</td><td>49.8</td><td>47.4</td><td><a class=\"icn icn-map\" href=\"/map/map.withimage.php?34&amp;county&amp;999&amp;00028&amp;00&amp;0&amp;3&amp;0&amp;1&amp;5&amp;0#results\" title=\"View Map\">Map</a></td><td><a class=\"icn icn-table\" href=\"/demographics/index.php?stateFIPS=34&amp;areatype=county&amp;topic=pop&amp;demo=00028&amp;race=00&amp;sex=0&amp;age=999&amp;type=manyareacensus#results\" title=\"View Table\">Table</a></td></tr><tr><td class=\"text-left\">Age 50 and over, 2014-2018</td><td>36.3</td><td>34.8</td><td><a class=\"icn icn-map\" href=\"/map/map.withimage.php?34&amp;county&amp;999&amp;00029&amp;00&amp;0&amp;3&amp;0&amp;1&amp;5&amp;0#results\" title=\"View Map\">Map</a></td><td><a class=\"icn icn-table\" href=\"/demographics/index.php?stateFIPS=34&amp;areatype=county&amp;topic=pop&amp;demo=00029&amp;race=00&amp;sex=0&amp;age=999&amp;type=manyareacensus#results\" title=\"View Table\">Table</a></td></tr><tr><td class=\"text-left\">Age 65 and over, 2014-2018</td><td>15.5</td><td>15.2</td><td><a class=\"icn icn-map\" href=\"/map/map.withimage.php?34&amp;county&amp;999&amp;00003&amp;00&amp;0&amp;3&amp;0&amp;1&amp;5&amp;0#results\" title=\"View Map\">Map</a></td><td><a class=\"icn icn-table\" href=\"/demographics/index.php?stateFIPS=34&amp;areatype=county&amp;topic=pop&amp;demo=00003&amp;race=00&amp;sex=0&amp;age=999&amp;type=manyareacensus#results\" title=\"View Table\">Table</a></td></tr></tbody></table><table style=\"width:100%;\"><thead><tr><th class=\"text-left\" width=\"59%\">Demographics: Population - Race/Ethnicity</th><th width=\"11.5%\">New Jersey Percent</th><th width=\"11.5%\">USA Percent</th><th width=\"9%\">Map</th><th width=\"9%\">Table</th></tr></thead><tbody><tr><td class=\"text-left\">American Indian/Alaska Native, 2014-2018</td><td>0.2</td><td>0.8</td><td><a class=\"icn icn-map\" href=\"/map/map.withimage.php?34&amp;county&amp;001&amp;00023&amp;00&amp;0&amp;3&amp;0&amp;1&amp;5&amp;0#results\" title=\"View Map\">Map</a></td><td><a class=\"icn icn-table\" href=\"/demographics/index.php?stateFIPS=34&amp;areatype=county&amp;topic=pop&amp;demo=00023&amp;race=00&amp;sex=0&amp;age=001&amp;type=manyareacensus#results\" title=\"View Table\">Table</a></td></tr><tr><td class=\"text-left\">Asian / Pacific Islander, 2014-2018</td><td>9.4</td><td>5.6</td><td><a class=\"icn icn-map\" href=\"/map/map.withimage.php?34&amp;county&amp;001&amp;00024&amp;00&amp;0&amp;3&amp;0&amp;1&amp;5&amp;0#results\" title=\"View Map\">Map</a></td><td><a class=\"icn icn-table\" href=\"/demographics/index.php?stateFIPS=34&amp;areatype=county&amp;topic=pop&amp;demo=00024&amp;race=00&amp;sex=0&amp;age=001&amp;type=manyareacensus#results\" title=\"View Table\">Table</a></td></tr><tr><td class=\"text-left\">Black, 2014-2018</td><td>13.5</td><td>12.7</td><td><a class=\"icn icn-map\" href=\"/map/map.withimage.php?34&amp;county&amp;001&amp;00022&amp;00&amp;0&amp;3&amp;0&amp;1&amp;5&amp;0#results\" title=\"View Map\">Map</a></td><td><a class=\"icn icn-table\" href=\"/demographics/index.php?stateFIPS=34&amp;areatype=county&amp;topic=pop&amp;demo=00022&amp;race=00&amp;sex=0&amp;age=001&amp;type=manyareacensus#results\" title=\"View Table\">Table</a></td></tr><tr><td class=\"text-left\">Foreign born, 2014-2018</td><td>22.2</td><td>13.5</td><td><a class=\"icn icn-map\" href=\"/map/map.withimage.php?34&amp;county&amp;001&amp;00014&amp;00&amp;0&amp;3&amp;0&amp;1&amp;5&amp;0#results\" title=\"View Map\">Map</a></td><td><a class=\"icn icn-table\" href=\"/demographics/index.php?stateFIPS=34&amp;areatype=county&amp;topic=pop&amp;demo=00014&amp;race=00&amp;sex=0&amp;age=001&amp;type=manyareacensus#results\" title=\"View Table\">Table</a></td></tr><tr><td class=\"text-left\">Hispanic, 2014-2018</td><td>19.9</td><td>17.8</td><td><a class=\"icn icn-map\" href=\"/map/map.withimage.php?34&amp;county&amp;001&amp;00026&amp;00&amp;0&amp;3&amp;0&amp;1&amp;5&amp;0#results\" title=\"View Map\">Map</a></td><td><a class=\"icn icn-table\" href=\"/demographics/index.php?stateFIPS=34&amp;areatype=county&amp;topic=pop&amp;demo=00026&amp;race=00&amp;sex=0&amp;age=001&amp;type=manyareacensus#results\" title=\"View Table\">Table</a></td></tr><tr><td class=\"text-left\">Non-Hispanic (Origin Recode), 2014-2018</td><td>80.1</td><td>82.2</td><td><a class=\"icn icn-map\" href=\"/map/map.withimage.php?34&amp;county&amp;001&amp;00101&amp;00&amp;0&amp;3&amp;0&amp;1&amp;5&amp;0#results\" title=\"View Map\">Map</a></td><td><a class=\"icn icn-table\" href=\"/demographics/index.php?stateFIPS=34&amp;areatype=county&amp;topic=pop&amp;demo=00101&amp;race=00&amp;sex=0&amp;age=001&amp;type=manyareacensus#results\" title=\"View Table\">Table</a></td></tr><tr><td class=\"text-left\">White, 2014-2018</td><td>67.9</td><td>72.7</td><td><a class=\"icn icn-map\" href=\"/map/map.withimage.php?34&amp;county&amp;001&amp;00025&amp;00&amp;0&amp;3&amp;0&amp;1&amp;5&amp;0#results\" title=\"View Map\">Map</a></td><td><a class=\"icn icn-table\" href=\"/demographics/index.php?stateFIPS=34&amp;areatype=county&amp;topic=pop&amp;demo=00025&amp;race=00&amp;sex=0&amp;age=001&amp;type=manyareacensus#results\" title=\"View Table\">Table</a></td></tr></tbody></table><table style=\"width:100%;\"><thead><tr><th class=\"text-left\" width=\"59%\">Demographics: Population - Sex</th><th width=\"11.5%\">New Jersey Percent</th><th width=\"11.5%\">USA Percent</th><th width=\"9%\">Map</th><th width=\"9%\">Table</th></tr></thead><tbody><tr><td class=\"text-left\">Female, 2014-2018</td><td>51.2</td><td>50.8</td><td><a class=\"icn icn-map\" href=\"/map/map.withimage.php?34&amp;county&amp;001&amp;00105&amp;00&amp;0&amp;3&amp;0&amp;1&amp;5&amp;0#results\" title=\"View Map\">Map</a></td><td><a class=\"icn icn-table\" href=\"/demographics/index.php?stateFIPS=34&amp;areatype=county&amp;topic=pop&amp;demo=00105&amp;race=00&amp;sex=0&amp;age=001&amp;type=manyareacensus#results\" title=\"View Table\">Table</a></td></tr><tr><td class=\"text-left\">Male, 2014-2018</td><td>48.8</td><td>49.2</td><td><a class=\"icn icn-map\" href=\"/map/map.withimage.php?34&amp;county&amp;001&amp;00104&amp;00&amp;0&amp;3&amp;0&amp;1&amp;5&amp;0#results\" title=\"View Map\">Map</a></td><td><a class=\"icn icn-table\" href=\"/demographics/index.php?stateFIPS=34&amp;areatype=county&amp;topic=pop&amp;demo=00104&amp;race=00&amp;sex=0&amp;age=001&amp;type=manyareacensus#results\" title=\"View Table\">Table</a></td></tr></tbody></table><table style=\"width:100%;\"><thead><tr><th class=\"text-left\" width=\"59%\">Demographics: Poverty</th><th width=\"11.5%\">New Jersey Percent</th><th width=\"11.5%\">USA Percent</th><th width=\"9%\">Map</th><th width=\"9%\">Table</th></tr></thead><tbody><tr><td class=\"text-left\">Families below poverty, 2014-2018</td><td>7.6</td><td>10.1</td><td><a class=\"icn icn-map\" href=\"/map/map.withimage.php?34&amp;county&amp;001&amp;00007&amp;00&amp;0&amp;3&amp;0&amp;1&amp;5&amp;0#results\" title=\"View Map\">Map</a></td><td><a class=\"icn icn-table\" href=\"/demographics/index.php?stateFIPS=34&amp;areatype=county&amp;topic=pov&amp;demo=00007&amp;race=00&amp;sex=0&amp;age=001&amp;type=manyareacensus#results\" title=\"View Table\">Table</a></td></tr><tr><td class=\"text-left\">Persons below poverty, 2014-2018</td><td>10.4</td><td>14.1</td><td><a class=\"icn icn-map\" href=\"/map/map.withimage.php?34&amp;county&amp;001&amp;00008&amp;00&amp;0&amp;3&amp;0&amp;1&amp;5&amp;0#results\" title=\"View Map\">Map</a></td><td><a class=\"icn icn-table\" href=\"/demographics/index.php?stateFIPS=34&amp;areatype=county&amp;topic=pov&amp;demo=00008&amp;race=00&amp;sex=0&amp;age=001&amp;type=manyareacensus#results\" title=\"View Table\">Table</a></td></tr><tr><td class=\"text-left\">Persons below 150% of poverty, 2014-2018</td><td>17.0</td><td>23.0</td><td><a class=\"icn icn-map\" href=\"/map/map.withimage.php?34&amp;county&amp;001&amp;00009&amp;00&amp;0&amp;3&amp;0&amp;1&amp;5&amp;0#results\" title=\"View Map\">Map</a></td><td><a class=\"icn icn-table\" href=\"/demographics/index.php?stateFIPS=34&amp;areatype=county&amp;topic=pov&amp;demo=00009&amp;race=00&amp;sex=0&amp;age=001&amp;type=manyareacensus#results\" title=\"View Table\">Table</a></td></tr></tbody></table><table style=\"width:100%;\"><thead><tr><th class=\"text-left\" width=\"59%\">Demographics: Workforce</th><th width=\"11.5%\">New Jersey Percent</th><th width=\"11.5%\">USA Percent</th><th width=\"9%\">Map</th><th width=\"9%\">Table</th></tr></thead><tbody><tr><td class=\"text-left\">Unemployed, 2014-2018</td><td>6.1</td><td>5.9</td><td><a class=\"icn icn-map\" href=\"/map/map.withimage.php?34&amp;county&amp;001&amp;00012&amp;00&amp;0&amp;3&amp;0&amp;1&amp;5&amp;0#results\" title=\"View Map\">Map</a></td><td><a class=\"icn icn-table\" href=\"/demographics/index.php?stateFIPS=34&amp;areatype=county&amp;topic=work&amp;demo=00012&amp;race=00&amp;sex=0&amp;age=001&amp;type=manyareacensus#results\" title=\"View Table\">Table</a></td></tr></tbody></table><strong>Notes:</strong><br/>Created by statecancerprofiles.cancer.gov on 04/29/2021 3:36 pm.<br/>For more explicit data source and footnote information please see the tables, graphs and maps that are linked to each row.<br/><br/>Source: Demographic data provided by the <a href=\"http://www.census.gov/\">Census Bureau</a>, the <a href=\"http://www.census.gov/acs/www/\">American Community Survey</a>, and the <a href=\"https://www.census.gov/programs-surveys/sahie.html\">Small Area Health Insurance Estimates</a>.</div><div id=\"risk\"><table style=\"width:100%;\"><thead><tr><th class=\"text-left\" width=\"59%\">Screening &amp; Risk Factors: Colorectal Screening</th><th width=\"11.5%\">New Jersey </th><th width=\"11.5%\">USA </th><th width=\"9%\">Map</th><th width=\"9%\">Table</th></tr></thead><tbody><tr><td class=\"text-left\">Ever Had Colorectal Endoscopy (Sigmoidoscopy or Colonoscopy), Ages 50+, 2018</td><td>68.93</td><td>71.6</td><td><a class=\"icn icn-map\" href=\"/map/map.withimage.php?00&amp;state&amp;136&amp;999&amp;00&amp;0&amp;09&amp;0&amp;1&amp;5&amp;0#results\" title=\"View Map\">Map</a></td><td><a class=\"icn icn-table\" href=\"/risk/index.php?stateFIPS=00&amp;topic=colorec&amp;risk=v09&amp;race=00&amp;sex=0&amp;type=risk#results\" title=\"View Table\">Table</a></td></tr><tr><td class=\"text-left\">FOBT in last year and/or flex sig in last 5 years and FOBT in last 3 years and/or colonoscopy in last 10 years, Ages 50-75, 2018</td><td>67.59</td><td>69.7</td><td><a class=\"icn icn-map\" href=\"/map/map.withimage.php?00&amp;state&amp;172&amp;999&amp;00&amp;0&amp;14&amp;0&amp;1&amp;5&amp;0#results\" title=\"View Map\">Map</a></td><td><a class=\"icn icn-table\" href=\"/risk/index.php?stateFIPS=00&amp;topic=colorec&amp;risk=v14&amp;race=00&amp;sex=0&amp;type=risk#results\" title=\"View Table\">Table</a></td></tr><tr><td class=\"text-left\">Home-Based Fecal Occult Blood Test (FOBT) in Past Two Years, Ages 50+, 2018</td><td>12.58</td><td>12.8</td><td><a class=\"icn icn-map\" href=\"/map/map.withimage.php?00&amp;state&amp;136&amp;999&amp;00&amp;0&amp;13&amp;0&amp;1&amp;5&amp;0#results\" title=\"View Map\">Map</a></td><td><a class=\"icn icn-table\" href=\"/risk/index.php?stateFIPS=00&amp;topic=colorec&amp;risk=v13&amp;race=00&amp;sex=0&amp;type=risk#results\" title=\"View Table\">Table</a></td></tr><tr><td class=\"text-left\">Home-based FOBT in the past two years or ever had a colorectal endoscopy, Ages 50+, 2018</td><td>72.60</td><td>75.5</td><td><a class=\"icn icn-map\" href=\"/map/map.withimage.php?00&amp;state&amp;136&amp;999&amp;00&amp;0&amp;59&amp;0&amp;1&amp;5&amp;0#results\" title=\"View Map\">Map</a></td><td><a class=\"icn icn-table\" href=\"/risk/index.php?stateFIPS=00&amp;topic=colorec&amp;risk=v59&amp;race=00&amp;sex=0&amp;type=risk#results\" title=\"View Table\">Table</a></td></tr></tbody></table><table style=\"width:100%;\"><thead><tr><th class=\"text-left\" width=\"59%\">Screening &amp; Risk Factors: Diet &amp; Exercise</th><th width=\"11.5%\">New Jersey </th><th width=\"11.5%\">USA </th><th width=\"9%\">Map</th><th width=\"9%\">Table</th></tr></thead><tbody><tr><td class=\"text-left\">Consumed 1 or More Fruits per Day, Ages 18+, 2019</td><td>N/A</td><td>60.7</td><td><a class=\"icn icn-map\" href=\"/map/map.withimage.php?00&amp;state&amp;918&amp;999&amp;00&amp;0&amp;50&amp;0&amp;1&amp;5&amp;0#results\" title=\"View Map\">Map</a></td><td><a class=\"icn icn-table\" href=\"/risk/index.php?stateFIPS=00&amp;topic=dietex&amp;risk=v50&amp;race=00&amp;sex=0&amp;type=risk#results\" title=\"View Table\">Table</a></td></tr><tr><td class=\"text-left\">Consumed 1 or More Vegetables per Day, Ages 18+, 2019</td><td>N/A</td><td>79.7</td><td><a class=\"icn icn-map\" href=\"/map/map.withimage.php?00&amp;state&amp;918&amp;999&amp;00&amp;0&amp;51&amp;0&amp;1&amp;5&amp;0#results\" title=\"View Map\">Map</a></td><td><a class=\"icn icn-table\" href=\"/risk/index.php?stateFIPS=00&amp;topic=dietex&amp;risk=v51&amp;race=00&amp;sex=0&amp;type=risk#results\" title=\"View Table\">Table</a></td></tr><tr><td class=\"text-left\">Healthy Weight (BMI 18.5 to &lt;25), Ages 20+, 2019</td><td>N/A</td><td>30.0</td><td><a class=\"icn icn-map\" href=\"/map/map.withimage.php?00&amp;state&amp;067&amp;999&amp;00&amp;0&amp;01&amp;0&amp;1&amp;5&amp;0#results\" title=\"View Map\">Map</a></td><td><a class=\"icn icn-table\" href=\"/risk/index.php?stateFIPS=00&amp;topic=dietex&amp;risk=v01&amp;race=00&amp;sex=0&amp;type=risk#results\" title=\"View Table\">Table</a></td></tr><tr><td class=\"text-left\">No Leisure Time Physical Activity, Ages 18+, 2019</td><td>N/A</td><td>26.3</td><td><a class=\"icn icn-map\" href=\"/map/map.withimage.php?00&amp;state&amp;918&amp;999&amp;00&amp;0&amp;18&amp;0&amp;1&amp;5&amp;0#results\" title=\"View Map\">Map</a></td><td><a class=\"icn icn-table\" href=\"/risk/index.php?stateFIPS=00&amp;topic=dietex&amp;risk=v18&amp;race=00&amp;sex=0&amp;type=risk#results\" title=\"View Table\">Table</a></td></tr><tr><td class=\"text-left\">Obese (&gt;= 95th percentile for BMI based on sex and age), High School Students, 2019</td><td>11.9</td><td>15.5</td><td><a class=\"icn icn-map\" href=\"/map/map.withimage.php?00&amp;state&amp;912&amp;999&amp;00&amp;0&amp;82&amp;0&amp;1&amp;5&amp;0#results\" title=\"View Map\">Map</a></td><td><a class=\"icn icn-table\" href=\"/risk/index.php?stateFIPS=00&amp;topic=dietex&amp;risk=v82&amp;race=00&amp;sex=0&amp;type=risk#results\" title=\"View Table\">Table</a></td></tr><tr><td class=\"text-left\">Obese (BMI &gt;= 30), Ages 20+, 2019</td><td>N/A</td><td>32.7</td><td><a class=\"icn icn-map\" href=\"/map/map.withimage.php?00&amp;state&amp;067&amp;999&amp;00&amp;0&amp;02&amp;0&amp;1&amp;5&amp;0#results\" title=\"View Map\">Map</a></td><td><a class=\"icn icn-table\" href=\"/risk/index.php?stateFIPS=00&amp;topic=dietex&amp;risk=v02&amp;race=00&amp;sex=0&amp;type=risk#results\" title=\"View Table\">Table</a></td></tr><tr><td class=\"text-left\">Overweight (&gt;= 85th percentile but &lt;95th percentile for BMI based on sex and age), High School Students, 2019</td><td>14.7</td><td>16.1</td><td><a class=\"icn icn-map\" href=\"/map/map.withimage.php?00&amp;state&amp;912&amp;999&amp;00&amp;0&amp;83&amp;0&amp;1&amp;5&amp;0#results\" title=\"View Map\">Map</a></td><td><a class=\"icn icn-table\" href=\"/risk/index.php?stateFIPS=00&amp;topic=dietex&amp;risk=v83&amp;race=00&amp;sex=0&amp;type=risk#results\" title=\"View Table\">Table</a></td></tr></tbody></table><table style=\"width:100%;\"><thead><tr><th class=\"text-left\" width=\"59%\">Screening &amp; Risk Factors: Smoking</th><th width=\"11.5%\">New Jersey </th><th width=\"11.5%\">USA </th><th width=\"9%\">Map</th><th width=\"9%\">Table</th></tr></thead><tbody><tr><td class=\"text-left\">Current Smoker, Ages 18+, 2019</td><td>N/A</td><td>16.0</td><td><a class=\"icn icn-map\" href=\"/map/map.withimage.php?00&amp;state&amp;918&amp;999&amp;00&amp;0&amp;19&amp;0&amp;1&amp;5&amp;0#results\" title=\"View Map\">Map</a></td><td><a class=\"icn icn-table\" href=\"/risk/index.php?stateFIPS=00&amp;topic=smoke&amp;risk=v19&amp;race=00&amp;sex=0&amp;type=risk#results\" title=\"View Table\">Table</a></td></tr><tr><td class=\"text-left\">Ever Smoked 100 Cigarettes, Ages 18+, 2019</td><td>N/A</td><td>41.5</td><td><a class=\"icn icn-map\" href=\"/map/map.withimage.php?00&amp;state&amp;918&amp;999&amp;00&amp;0&amp;28&amp;0&amp;1&amp;5&amp;0#results\" title=\"View Map\">Map</a></td><td><a class=\"icn icn-table\" href=\"/risk/index.php?stateFIPS=00&amp;topic=smoke&amp;risk=v28&amp;race=00&amp;sex=0&amp;type=risk#results\" title=\"View Table\">Table</a></td></tr><tr><td class=\"text-left\">Percent of Daily Smokers Who Stopped Smoking for 1 Day or Longer in the Past 12 Months, Ages 18+, 2018-2019</td><td>42.9</td><td>35.7</td><td><a class=\"icn icn-map\" href=\"/map/map.withimage.php?00&amp;state&amp;918&amp;999&amp;00&amp;0&amp;30&amp;0&amp;1&amp;5&amp;0#results\" title=\"View Map\">Map</a></td><td><a class=\"icn icn-table\" href=\"/risk/index.php?stateFIPS=00&amp;topic=smoke&amp;risk=v30&amp;race=00&amp;sex=0&amp;type=risk#results\" title=\"View Table\">Table</a></td></tr><tr><td class=\"text-left\">Percent of People Who Answered No One is Allowed to Smoke Anywhere Inside Their Home (All People), Ages 18+, 2018-2019</td><td>91.3</td><td>90.0</td><td><a class=\"icn icn-map\" href=\"/map/map.withimage.php?00&amp;state&amp;918&amp;999&amp;00&amp;0&amp;34&amp;0&amp;1&amp;5&amp;0#results\" title=\"View Map\">Map</a></td><td><a class=\"icn icn-table\" href=\"/risk/index.php?stateFIPS=00&amp;topic=smoke&amp;risk=v34&amp;race=00&amp;sex=0&amp;type=risk#results\" title=\"View Table\">Table</a></td></tr><tr><td class=\"text-left\">Percent of People Who Answered No One is Allowed to Smoke Anywhere Inside Their Home (Current Smokers), Ages 18+, 2018-2019</td><td>60.4</td><td>58.5</td><td><a class=\"icn icn-map\" href=\"/map/map.withimage.php?00&amp;state&amp;918&amp;999&amp;00&amp;0&amp;35&amp;0&amp;1&amp;5&amp;0#results\" title=\"View Map\">Map</a></td><td><a class=\"icn icn-table\" href=\"/risk/index.php?stateFIPS=00&amp;topic=smoke&amp;risk=v35&amp;race=00&amp;sex=0&amp;type=risk#results\" title=\"View Table\">Table</a></td></tr><tr><td class=\"text-left\">Percent of People Who Answered No One is Allowed to Smoke Inside Their Home (Former/Never Smokers), Ages 18+, 2018-2019</td><td>93.7</td><td>94.0</td><td><a class=\"icn icn-map\" href=\"/map/map.withimage.php?00&amp;state&amp;918&amp;999&amp;00&amp;0&amp;36&amp;0&amp;1&amp;5&amp;0#results\" title=\"View Map\">Map</a></td><td><a class=\"icn icn-table\" href=\"/risk/index.php?stateFIPS=00&amp;topic=smoke&amp;risk=v36&amp;race=00&amp;sex=0&amp;type=risk#results\" title=\"View Table\">Table</a></td></tr><tr><td class=\"text-left\">Percent of State Population with 100% Smokefree Bar Laws, 2021</td><td>100.0</td><td>66.4</td><td>N/A</td><td><a class=\"icn icn-table\" href=\"/risk/index.php?stateFIPS=00&amp;topic=smoke&amp;risk=v42&amp;race=00&amp;sex=0&amp;type=risk#results\" title=\"View Table\">Table</a></td></tr><tr><td class=\"text-left\">Percent of State Population with 100% Smokefree Restaurant Laws, 2021</td><td>100.0</td><td>77.8</td><td>N/A</td><td><a class=\"icn icn-table\" href=\"/risk/index.php?stateFIPS=00&amp;topic=smoke&amp;risk=v41&amp;race=00&amp;sex=0&amp;type=risk#results\" title=\"View Table\">Table</a></td></tr><tr><td class=\"text-left\">Percent of State Population with 100% Smokefree Workplace Laws, 2021</td><td>100.0</td><td>76.1</td><td>N/A</td><td><a class=\"icn icn-table\" href=\"/risk/index.php?stateFIPS=00&amp;topic=smoke&amp;risk=v40&amp;race=00&amp;sex=0&amp;type=risk#results\" title=\"View Table\">Table</a></td></tr><tr><td class=\"text-left\">Percent of State Population with 100% Smokefree Workplace, Restaurant, &amp; Bar Laws, 2021</td><td>100.0</td><td>61.1</td><td>N/A</td><td><a class=\"icn icn-table\" href=\"/risk/index.php?stateFIPS=00&amp;topic=smoke&amp;risk=v43&amp;race=00&amp;sex=0&amp;type=risk#results\" title=\"View Table\">Table</a></td></tr><tr><td class=\"text-left\">Percent of State Population with Any 100% Smokefree Laws, 2021</td><td>100.0</td><td>82.1</td><td>N/A</td><td><a class=\"icn icn-table\" href=\"/risk/index.php?stateFIPS=00&amp;topic=smoke&amp;risk=v44&amp;race=00&amp;sex=0&amp;type=risk#results\" title=\"View Table\">Table</a></td></tr><tr><td class=\"text-left\">Percent of Workers in Non-Smoking Environments (All People), Ages 18+, 2018-2019</td><td>83.8</td><td>79.9</td><td><a class=\"icn icn-map\" href=\"/map/map.withimage.php?00&amp;state&amp;918&amp;999&amp;00&amp;0&amp;31&amp;0&amp;1&amp;5&amp;0#results\" title=\"View Map\">Map</a></td><td><a class=\"icn icn-table\" href=\"/risk/index.php?stateFIPS=00&amp;topic=smoke&amp;risk=v31&amp;race=00&amp;sex=0&amp;type=risk#results\" title=\"View Table\">Table</a></td></tr><tr><td class=\"text-left\">Percent of Workers in Non-Smoking Environments (Current Smokers), Ages 18+, 2018-2019</td><td>68.1</td><td>73.1</td><td><a class=\"icn icn-map\" href=\"/map/map.withimage.php?00&amp;state&amp;918&amp;999&amp;00&amp;0&amp;32&amp;0&amp;1&amp;5&amp;0#results\" title=\"View Map\">Map</a></td><td><a class=\"icn icn-table\" href=\"/risk/index.php?stateFIPS=00&amp;topic=smoke&amp;risk=v32&amp;race=00&amp;sex=0&amp;type=risk#results\" title=\"View Table\">Table</a></td></tr><tr><td class=\"text-left\">Percent of Workers in Non-Smoking Environments (Former/Never Smokers), Ages 18+, 2018-2019</td><td>84.8</td><td>80.7</td><td><a class=\"icn icn-map\" href=\"/map/map.withimage.php?00&amp;state&amp;918&amp;999&amp;00&amp;0&amp;33&amp;0&amp;1&amp;5&amp;0#results\" title=\"View Map\">Map</a></td><td><a class=\"icn icn-table\" href=\"/risk/index.php?stateFIPS=00&amp;topic=smoke&amp;risk=v33&amp;race=00&amp;sex=0&amp;type=risk#results\" title=\"View Table\">Table</a></td></tr></tbody></table><table style=\"width:100%;\"><thead><tr><th class=\"text-left\" width=\"59%\">Screening &amp; Risk Factors: Vaccines</th><th width=\"11.5%\">New Jersey </th><th width=\"11.5%\">USA </th><th width=\"9%\">Map</th><th width=\"9%\">Table</th></tr></thead><tbody><tr><td class=\"text-left\">Percent who received 2+ doses of HPV Vaccine, Ages 13-15, Both Sexes, 2018</td><td>44.3</td><td>51.1</td><td><a class=\"icn icn-map\" href=\"/map/map.withimage.php?00&amp;state&amp;315&amp;999&amp;00&amp;0&amp;90&amp;0&amp;1&amp;5&amp;0#results\" title=\"View Map\">Map</a></td><td><a class=\"icn icn-table\" href=\"/risk/index.php?stateFIPS=00&amp;topic=vaccine&amp;risk=v90&amp;race=00&amp;sex=0&amp;type=risk#results\" title=\"View Table\">Table</a></td></tr><tr><td class=\"text-left\">Percent who received 2+ doses of HPV Vaccine, Ages 13-17, Both Sexes, 2018</td><td>49.9</td><td>55.0</td><td><a class=\"icn icn-map\" href=\"/map/map.withimage.php?00&amp;state&amp;317&amp;999&amp;00&amp;0&amp;91&amp;0&amp;1&amp;5&amp;0#results\" title=\"View Map\">Map</a></td><td><a class=\"icn icn-table\" href=\"/risk/index.php?stateFIPS=00&amp;topic=vaccine&amp;risk=v91&amp;race=00&amp;sex=0&amp;type=risk#results\" title=\"View Table\">Table</a></td></tr><tr><td class=\"text-left\">Percent who received 2+ doses of HPV Vaccine, Ages 13-17, Male, 2018</td><td>48.2</td><td>52.8</td><td><a class=\"icn icn-map\" href=\"/map/map.withimage.php?00&amp;state&amp;317&amp;999&amp;00&amp;1&amp;91&amp;0&amp;1&amp;5&amp;0#results\" title=\"View Map\">Map</a></td><td><a class=\"icn icn-table\" href=\"/risk/index.php?stateFIPS=00&amp;topic=vaccine&amp;risk=v91&amp;race=00&amp;sex=1&amp;type=risk#results\" title=\"View Table\">Table</a></td></tr><tr><td class=\"text-left\">Percent who received 2+ doses of HPV Vaccine, Ages 13-15, Male, 2018</td><td>45.1</td><td>49.9</td><td><a class=\"icn icn-map\" href=\"/map/map.withimage.php?00&amp;state&amp;315&amp;999&amp;00&amp;1&amp;90&amp;0&amp;1&amp;5&amp;0#results\" title=\"View Map\">Map</a></td><td><a class=\"icn icn-table\" href=\"/risk/index.php?stateFIPS=00&amp;topic=vaccine&amp;risk=v90&amp;race=00&amp;sex=1&amp;type=risk#results\" title=\"View Table\">Table</a></td></tr><tr><td class=\"text-left\">Percent who received 2+ doses of HPV Vaccine, Ages 13-15, Female, 2018</td><td>43.6</td><td>52.2</td><td><a class=\"icn icn-map\" href=\"/map/map.withimage.php?00&amp;state&amp;315&amp;999&amp;00&amp;2&amp;90&amp;0&amp;1&amp;5&amp;0#results\" title=\"View Map\">Map</a></td><td><a class=\"icn icn-table\" href=\"/risk/index.php?stateFIPS=00&amp;topic=vaccine&amp;risk=v90&amp;race=00&amp;sex=2&amp;type=risk#results\" title=\"View Table\">Table</a></td></tr><tr><td class=\"text-left\">Percent who received 2+ doses of HPV Vaccine, Ages 13-17, Female, 2018</td><td>51.7</td><td>57.4</td><td><a class=\"icn icn-map\" href=\"/map/map.withimage.php?00&amp;state&amp;317&amp;999&amp;00&amp;2&amp;91&amp;0&amp;1&amp;5&amp;0#results\" title=\"View Map\">Map</a></td><td><a class=\"icn icn-table\" href=\"/risk/index.php?stateFIPS=00&amp;topic=vaccine&amp;risk=v91&amp;race=00&amp;sex=2&amp;type=risk#results\" title=\"View Table\">Table</a></td></tr><tr><td class=\"text-left\">Percent who received 3+ doses of HPV Vaccine, Ages 13-15, Both Sexes, 2018</td><td>20.3</td><td>27.2</td><td><a class=\"icn icn-map\" href=\"/map/map.withimage.php?00&amp;state&amp;315&amp;999&amp;00&amp;0&amp;70&amp;0&amp;1&amp;5&amp;0#results\" title=\"View Map\">Map</a></td><td><a class=\"icn icn-table\" href=\"/risk/index.php?stateFIPS=00&amp;topic=vaccine&amp;risk=v70&amp;race=00&amp;sex=0&amp;type=risk#results\" title=\"View Table\">Table</a></td></tr><tr><td class=\"text-left\">Percent who received 3+ doses of HPV Vaccine, Ages 13-17, Both Sexes, 2018</td><td>30.0</td><td>34.9</td><td><a class=\"icn icn-map\" href=\"/map/map.withimage.php?00&amp;state&amp;317&amp;999&amp;00&amp;0&amp;71&amp;0&amp;1&amp;5&amp;0#results\" title=\"View Map\">Map</a></td><td><a class=\"icn icn-table\" href=\"/risk/index.php?stateFIPS=00&amp;topic=vaccine&amp;risk=v71&amp;race=00&amp;sex=0&amp;type=risk#results\" title=\"View Table\">Table</a></td></tr><tr><td class=\"text-left\">Percent who received 3+ doses of HPV Vaccine, Ages 13-17, Male, 2018</td><td>25.8</td><td>32.1</td><td><a class=\"icn icn-map\" href=\"/map/map.withimage.php?00&amp;state&amp;317&amp;999&amp;00&amp;1&amp;71&amp;0&amp;1&amp;5&amp;0#results\" title=\"View Map\">Map</a></td><td><a class=\"icn icn-table\" href=\"/risk/index.php?stateFIPS=00&amp;topic=vaccine&amp;risk=v71&amp;race=00&amp;sex=1&amp;type=risk#results\" title=\"View Table\">Table</a></td></tr><tr><td class=\"text-left\">Percent who received 3+ doses of HPV Vaccine, Ages 13-15, Male, 2018</td><td>19.0</td><td>26.1</td><td><a class=\"icn icn-map\" href=\"/map/map.withimage.php?00&amp;state&amp;315&amp;999&amp;00&amp;1&amp;70&amp;0&amp;1&amp;5&amp;0#results\" title=\"View Map\">Map</a></td><td><a class=\"icn icn-table\" href=\"/risk/index.php?stateFIPS=00&amp;topic=vaccine&amp;risk=v70&amp;race=00&amp;sex=1&amp;type=risk#results\" title=\"View Table\">Table</a></td></tr><tr><td class=\"text-left\">Percent who received 3+ doses of HPV Vaccine, Ages 13-15, Female, 2018</td><td>21.5</td><td>28.4</td><td><a class=\"icn icn-map\" href=\"/map/map.withimage.php?00&amp;state&amp;315&amp;999&amp;00&amp;2&amp;70&amp;0&amp;1&amp;5&amp;0#results\" title=\"View Map\">Map</a></td><td><a class=\"icn icn-table\" href=\"/risk/index.php?stateFIPS=00&amp;topic=vaccine&amp;risk=v70&amp;race=00&amp;sex=2&amp;type=risk#results\" title=\"View Table\">Table</a></td></tr><tr><td class=\"text-left\">Percent who received 3+ doses of HPV Vaccine, Ages 13-17, Female, 2018</td><td>34.4</td><td>37.9</td><td><a class=\"icn icn-map\" href=\"/map/map.withimage.php?00&amp;state&amp;317&amp;999&amp;00&amp;2&amp;71&amp;0&amp;1&amp;5&amp;0#results\" title=\"View Map\">Map</a></td><td><a class=\"icn icn-table\" href=\"/risk/index.php?stateFIPS=00&amp;topic=vaccine&amp;risk=v71&amp;race=00&amp;sex=2&amp;type=risk#results\" title=\"View Table\">Table</a></td></tr></tbody></table><table style=\"width:100%;\"><thead><tr><th class=\"text-left\" width=\"59%\">Screening &amp; Risk Factors: Women's Health</th><th width=\"11.5%\">New Jersey </th><th width=\"11.5%\">USA </th><th width=\"9%\">Map</th><th width=\"9%\">Table</th></tr></thead><tbody><tr><td class=\"text-left\">Had a Mammogram in Past 2 Years, Ages 40+, 2018</td><td>75.48</td><td>71.8</td><td><a class=\"icn icn-map\" href=\"/map/map.withimage.php?00&amp;state&amp;117&amp;999&amp;00&amp;2&amp;06&amp;0&amp;1&amp;5&amp;0#results\" title=\"View Map\">Map</a></td><td><a class=\"icn icn-table\" href=\"/risk/index.php?stateFIPS=00&amp;topic=women&amp;risk=v06&amp;race=00&amp;sex=2&amp;type=risk#results\" title=\"View Table\">Table</a></td></tr><tr><td class=\"text-left\">Had a Mammogram in Past 2 Years, Ages 50-74, 2018</td><td>81.31</td><td>78.3</td><td><a class=\"icn icn-map\" href=\"/map/map.withimage.php?00&amp;state&amp;139&amp;999&amp;00&amp;2&amp;05&amp;0&amp;1&amp;5&amp;0#results\" title=\"View Map\">Map</a></td><td><a class=\"icn icn-table\" href=\"/risk/index.php?stateFIPS=00&amp;topic=women&amp;risk=v05&amp;race=00&amp;sex=2&amp;type=risk#results\" title=\"View Table\">Table</a></td></tr><tr><td class=\"text-left\">Had a Pap Smear in Past 3 Years and No Hysterectomy, Ages 18+, 2018</td><td>73.45</td><td>71.7</td><td><a class=\"icn icn-map\" href=\"/map/map.withimage.php?00&amp;state&amp;918&amp;999&amp;00&amp;2&amp;11&amp;0&amp;1&amp;5&amp;0#results\" title=\"View Map\">Map</a></td><td><a class=\"icn icn-table\" href=\"/risk/index.php?stateFIPS=00&amp;topic=women&amp;risk=v11&amp;race=00&amp;sex=2&amp;type=risk#results\" title=\"View Table\">Table</a></td></tr><tr><td class=\"text-left\">Pap Test in Past 3 Years, No Hysterectomy, Ages 21-65, 2018</td><td>78.10</td><td>80.2</td><td><a class=\"icn icn-map\" href=\"/map/map.withimage.php?00&amp;state&amp;173&amp;999&amp;00&amp;2&amp;17&amp;0&amp;1&amp;5&amp;0#results\" title=\"View Map\">Map</a></td><td><a class=\"icn icn-table\" href=\"/risk/index.php?stateFIPS=00&amp;topic=women&amp;risk=v17&amp;race=00&amp;sex=2&amp;type=risk#results\" title=\"View Table\">Table</a></td></tr></tbody></table><strong>Notes:</strong><br/>Created by statecancerprofiles.cancer.gov on 04/29/2021 3:36 pm.<br/>For more explicit data source and footnote information please see the tables, graphs and maps that are linked to each row.<br/><br/>Data statistics on this page come from the following data sources: CDC, Modeled Estimates Combining BRFSS &amp; NHIS, Tobacco Use Supplement to the Current Population Survey, and American Nonsmokers' Rights Foundation. Please see the link on each row for the table/graph map for the specific footnote information.</div><div id=\"prev\"><table style=\"width:100%;\"><thead><tr><th class=\"text-left\" width=\"59%\">Prevalence: Counts (2017)</th><th width=\"11.5%\">New Jersey</th><th width=\"11.5%\">USA</th><th width=\"9%\">Table</th></tr></thead><tbody><tr><td class=\"text-left\">All Cancer Sites - Male</td><td>239,100</td><td>7,599,300</td><td><a class=\"icn icn-table\" href=\"/prevalence/index.php?stateFIPS=00&amp;cancer=001&amp;duration=0&amp;statistics=0&amp;sex=1&amp;type=prev#results\" title=\"View Table\">Table</a></td></tr><tr><td class=\"text-left\">All Cancer Sites - Female</td><td>271,200</td><td>8,296,800</td><td><a class=\"icn icn-table\" href=\"/prevalence/index.php?stateFIPS=00&amp;cancer=001&amp;duration=0&amp;statistics=0&amp;sex=2&amp;type=prev#results\" title=\"View Table\">Table</a></td></tr><tr><td class=\"text-left\">Breast - Female</td><td>110,200</td><td>3,669,300</td><td><a class=\"icn icn-table\" href=\"/prevalence/index.php?stateFIPS=00&amp;cancer=055&amp;duration=0&amp;statistics=0&amp;sex=2&amp;type=prev#results\" title=\"View Table\">Table</a></td></tr></tbody></table><table style=\"width:100%;\"><thead><tr><th class=\"text-left\" width=\"59%\">Prevalence: Crude Percents (2017)</th><th width=\"11.5%\">New Jersey</th><th width=\"11.5%\">USA</th><th width=\"9%\">Table</th></tr></thead><tbody><tr><td class=\"text-left\">All Cancer Sites - Male</td><td>5.25</td><td>4.72</td><td><a class=\"icn icn-table\" href=\"/prevalence/index.php?stateFIPS=00&amp;cancer=001&amp;duration=0&amp;statistics=1&amp;sex=1&amp;type=prev#results\" title=\"View Table\">Table</a></td></tr><tr><td class=\"text-left\">All Cancer Sites - Female</td><td>5.66</td><td>4.98</td><td><a class=\"icn icn-table\" href=\"/prevalence/index.php?stateFIPS=00&amp;cancer=001&amp;duration=0&amp;statistics=1&amp;sex=2&amp;type=prev#results\" title=\"View Table\">Table</a></td></tr><tr><td class=\"text-left\">Breast - Female</td><td>2.30</td><td>2.20</td><td><a class=\"icn icn-table\" href=\"/prevalence/index.php?stateFIPS=00&amp;cancer=055&amp;duration=0&amp;statistics=1&amp;sex=2&amp;type=prev#results\" title=\"View Table\">Table</a></td></tr></tbody></table><table style=\"width:100%;\"><thead><tr><th class=\"text-left\" width=\"59%\">Prevalence: Age-Adjusted Percents (2017)</th><th width=\"11.5%\">New Jersey</th><th width=\"11.5%\">USA</th><th width=\"9%\">Table</th></tr></thead><tbody><tr><td class=\"text-left\">All Cancer Sites - Male</td><td>5.08</td><td>4.54</td><td><a class=\"icn icn-table\" href=\"/prevalence/index.php?stateFIPS=00&amp;cancer=001&amp;duration=0&amp;statistics=2&amp;sex=1&amp;type=prev#results\" title=\"View Table\">Table</a></td></tr><tr><td class=\"text-left\">All Cancer Sites - Female</td><td>4.30</td><td>3.97</td><td><a class=\"icn icn-table\" href=\"/prevalence/index.php?stateFIPS=00&amp;cancer=001&amp;duration=0&amp;statistics=2&amp;sex=2&amp;type=prev#results\" title=\"View Table\">Table</a></td></tr><tr><td class=\"text-left\">Breast - Female</td><td>1.67</td><td>1.69</td><td><a class=\"icn icn-table\" href=\"/prevalence/index.php?stateFIPS=00&amp;cancer=055&amp;duration=0&amp;statistics=2&amp;sex=2&amp;type=prev#results\" title=\"View Table\">Table</a></td></tr></tbody></table><strong>Notes:</strong><br/>Created by statecancerprofiles.cancer.gov on 04/29/2021 3:36 pm.<br/>For more explicit data source and footnote information please see the tables, graphs and maps that are linked to each row.<br/><br/>Methodology: Cancer prevalence estimates are derived from state specific cancer mortality and survival data using a statistical package called MIAMOD (Mortality-Incidence Analysis MODEL). Cancer survival models are derived from the <a href=\"https://seer.cancer.gov/\">Surveillance, Epidemiology, and End Results (SEER)</a> Program data and adjusted to represent state specific survival.</div></div>\n",
            "</div>\n",
            "</div>\n",
            "<div class=\"footer\" role=\"contentinfo\">\n",
            "<div class=\"ftr-top\">\n",
            "<ul class=\"wrapper\">\n",
            "<li><a href=\"/\">Site Home</a></li>\n",
            "<li><a href=\"https://www.cancer.gov/policies/disclaimer\">Policies</a></li>\n",
            "<li><a href=\"https://www.cancer.gov/policies/accessibility\">Accessibility</a></li>\n",
            "<li><a href=\"https://www.cancer.gov/policies/foia\">FOIA</a></li>\n",
            "<li><a href=\"/contact/\">Contact Us</a></li>\n",
            "</ul>\n",
            "</div>\n",
            "<div class=\"wrapper\">\n",
            "<p class=\"divisions\"><a href=\"https://www.hhs.gov/\">U.S. Department of Health and Human Services</a>  |  <a href=\"https://www.nih.gov/\">National Institutes of Health</a>  |  <a href=\"https://www.cancer.gov/\">National Cancer Institute</a>  |  <a href=\"https://www.usa.gov/\">USA.gov</a></p>\n",
            "<p>NIH... Turning Discovery Into Health<sup>®</sup></p>\n",
            "</div>\n",
            "</div>\n",
            "<script src=\"/toolbox/javascript/jquery-3.3.1.min.js\"></script>\n",
            "<script src=\"/j/general.js\"></script>\n",
            "<script src=\"/j/domain_whitelist.js\"></script>\n",
            "<script src=\"/j/raphael.js\"></script><script src=\"/j/jquery.usmap.js\"></script><script src=\"/j/map.js\"></script><script src=\"/toolbox/javascript/jquery-ui-1.12.1/jquery-ui.min.js\"></script><script src=\"/j/jquery.address.min.js\"></script><script src=\"quick-profiles.js\"></script>\n",
            "<!-- NCI WEB ANALYTICS CODE-->\n",
            "<script src=\"https://static.cancer.gov/webanalytics/WA_DCCPS_PageLoad.js\"></script>\n",
            "</body>\n",
            "</html> \n"
          ],
          "name": "stdout"
        }
      ]
    },
    {
      "cell_type": "code",
      "metadata": {
        "id": "v6Jvh98JIoSk"
      },
      "source": [
        "import nltk\n",
        "from nltk.tokenize import word_tokenize"
      ],
      "execution_count": null,
      "outputs": []
    },
    {
      "cell_type": "code",
      "metadata": {
        "colab": {
          "base_uri": "https://localhost:8080/"
        },
        "id": "WDd3DNX9Irnx",
        "outputId": "20084d57-8e39-45c7-d4b2-96ddafb7a91e"
      },
      "source": [
        "#@title Default title text\n",
        "text=soup.get_text(strip=True)\n",
        "print(text)"
      ],
      "execution_count": null,
      "outputs": [
        {
          "output_type": "stream",
          "text": [
            "window.dataLayer = window.dataLayer || [];\n",
            "  function gtag(){dataLayer.push(arguments);}\n",
            "  gtag('js', new Date());\n",
            "  gtag('config', 'UA-112281461-1');State Cancer Profiles > Quick ProfilesSkip to Main Content/* Fonts and other items are targeting mobile first */\n",
            "  .notification-banner > div > div {\n",
            "    padding: 0;\n",
            "    margin: 0;\n",
            "  }\n",
            "  .alert-drawer-wrapper {\n",
            "    background: #fada87;\n",
            "    padding: .5em 1.25em;\n",
            "    margin-bottom: 1px;\n",
            "  }\n",
            "  \n",
            "  .alert-drawer__body {\n",
            "    display: none;\n",
            "  }\n",
            "  .alert-drawer__body.active {\n",
            "    display: block;\n",
            "  }\n",
            "  .alert-drawer__body.active + .alert-drawer__toggle button::after {\n",
            "    content: '';\n",
            "    display: none;\n",
            "  }\n",
            "  .alert-drawer__toggle {\n",
            "    display: block;\n",
            "    text-align: center;\n",
            "  }\n",
            "  .alert-drawer__toggle button {\n",
            "    -webkit-appearance: none;\n",
            "       -moz-appearance: none;\n",
            "            appearance: none;\n",
            "    background: none;\n",
            "    border: none;\n",
            "    cursor: pointer;\n",
            "    margin: 0 auto;\n",
            "  }\n",
            "  .alert-drawer__toggle button::after {\n",
            "    content: 'Expand for resources';\n",
            "    display: block;\n",
            "    font: 12px/19px \"Montserrat\", Arial, sans-serif;\n",
            "    color: #606060;\n",
            "    text-align: center;\n",
            "  }\n",
            "  .alert-drawer .alert-drawer-title {\n",
            "    font: bold 16px/19px \"Montserrat\", Arial, sans-serif;    \n",
            "    color: #444444;\n",
            "  }\n",
            "  .alert-drawer a {\n",
            "    text-decoration: underline;\n",
            "    color: #606060;\n",
            "  }\n",
            "  .alert-drawer p {\n",
            "    font: 14px/19px \"Montserrat\", Arial, sans-serif;    \n",
            "    color: #606060;\n",
            "    margin: .5em 0 !important;\n",
            "  }\n",
            "  .ellipse {\n",
            "    display: none;\n",
            "  }\n",
            "  .ellipse::before {\n",
            "    content: \"\\2026\";\n",
            "  }\n",
            "\n",
            "  /* Desktop and up overrides */\n",
            "  @media only screen and (min-width: 1025px) {\n",
            "\n",
            "    .alert-drawer {\n",
            "      margin: 0 auto;\n",
            "      max-width: 62.5em;\n",
            "      padding-left: 10px;\n",
            "    }    \n",
            "\n",
            "    .alert-drawer .alert-drawer-title {\n",
            "      font: bold 20px/24px \"Montserrat\", Arial, sans-serif;\n",
            "    }\n",
            "\n",
            "    .alert-drawer p {\n",
            "      font: 16px/24px \"Montserrat\", Arial, sans-serif;    \n",
            "    }\n",
            "\n",
            "    .alert-drawer__toggle {\n",
            "      display: none;\n",
            "    }\n",
            "    .alert-drawer__body {\n",
            "      display: block;\n",
            "    }\n",
            "    .alert-drawer__body.active {\n",
            "      display: block;\n",
            "    }\n",
            "  }\n",
            "\n",
            "  @media only screen and (min-width: 1441px) {\n",
            "    .alert-drawer {\n",
            "      max-width: 1200px;\n",
            "      padding-left: 20px;\n",
            "    }\n",
            "  }COVID-19What people with cancer should know:https://www.cancer.gov/coronavirusGet the latest public health information from CDC:https://www.cdc.gov/coronavirus/Get the latest research information from NIH:https://www.covid19.nih.gov/document\n",
            "    .getElementById(\"alert-toggle-btn\")\n",
            "    .addEventListener(\"click\", function() {\n",
            "      var alertBody = document.querySelector(\".alert-drawer__body\");\n",
            "      var alertImg = \"\";\n",
            "      alertBody.classList.toggle(\"active\");\n",
            "      if (alertBody.className.match(\"active\")) {\n",
            "        alertBody.focus();\n",
            "        alertImg =\n",
            "          \"/toolbox/images/dccps/white-x.png\";\n",
            "      } else {\n",
            "        alertImg =\n",
            "          \"/toolbox/images/dccps/white-down-arrow.png\";\n",
            "      }\n",
            "      document.getElementById(\"alert-toggle-img\").setAttribute(\"src\", alertImg);\n",
            "    });StateCancerProfilesDynamic views of cancer statistics for prioritizingcancer control efforts across the nationHomeAboutHelp & ResourcesContactQuick ProfilesQuick Profiles: New Jersey.change { margin-bottom: 1em; border: 1px solid #c3c3c3; border-radius: 3px; background: #f5f5f5; padding: .5em; box-shadow: 2px 2px 0 #fff inset, -2px -2px 0 #fff inset; }\n",
            "            .change label { display: inline-block; zoom: 1; *display: inline; padding-left: 1em; }\n",
            "            .redArrow { font-size: 1.05em; padding: 0 0 .3em 1em; background: url(\"../i/arrow-red.png\") left 4px no-repeat; border-bottom: 1px dashed #c0c0c0; }\n",
            "            .change .btnRed { display: inline-block; zoom: 1; *display: inline; margin-left: 2em; padding: .3em 3em; width: auto; }\n",
            "            .change select { width: 250px; }Choose a Different State:State:United StatesAlabamaAlaskaArizonaArkansasCaliforniaColoradoConnecticutDelawareDistrict Of ColumbiaFloridaGeorgiaHawaiiIdahoIllinoisIndianaIowaKansasKentuckyLouisianaMaineMarylandMassachusettsMichiganMinnesotaMississippiMissouriMontanaNebraskaNevadaNew HampshireNew JerseyNew MexicoNew YorkNorth CarolinaNorth DakotaOhioOklahomaOregonPennsylvaniaPuerto RicoRhode IslandSouth CarolinaSouth DakotaTennesseeTexasUtahVermontVirginiaWashingtonWest VirginiaWisconsinWyomingDemographicsScreening & Risk FactorsIncidencePrevalenceMortalityAge-Adjusted Incidence Rates by Cancer Site, All Stages (2013-2017)New Jersey RateUSA RateMapTableCI*Rank GraphRate GraphHistorical Trends Graph5-Year Rate Change GraphAll Cancer Sites485.9448.7MapTableRank GraphRate GraphHistorical Trends Graph5-Year Rate Change GraphBladder23.120.0MapTableRank GraphRate GraphHistorical Trends Graph5-Year Rate Change GraphBrain & ONS6.86.5MapTableRank GraphRate GraphHistorical Trends Graph5-Year Rate Change GraphBreast (Female)136.6125.9MapTableRank GraphRate GraphHistorical Trends Graph5-Year Rate Change GraphBreast (in situ) (Female)41.229.8MapTableRank GraphRate GraphHistorical Trends Graph5-Year Rate Change GraphCervix (Female)7.77.6MapTableRank GraphRate GraphHistorical Trends Graph5-Year Rate Change GraphChildhood (Ages <15, All Sites)18.517.4MapTableRank GraphRate GraphHistorical Trends GraphN/AChildhood (Ages <20, All Sites)20.718.9MapTableRank GraphRate GraphHistorical Trends GraphN/AColon & Rectum40.838.4MapTableRank GraphRate GraphHistorical Trends Graph5-Year Rate Change GraphEsophagus4.34.5MapTableRank GraphRate GraphHistorical Trends Graph5-Year Rate Change GraphKidney & Renal Pelvis16.316.8MapTableRank GraphRate GraphHistorical Trends Graph5-Year Rate Change GraphLeukemia15.714.2MapTableRank GraphRate GraphHistorical Trends Graph5-Year Rate Change GraphLiver & Bile Duct7.88.4MapTableRank GraphRate GraphHistorical Trends Graph5-Year Rate Change GraphLung & Bronchus55.358.3MapTableRank GraphRate GraphHistorical Trends Graph5-Year Rate Change GraphMelanoma of the Skin22.222.3MapTableRank GraphRate GraphHistorical Trends Graph5-Year Rate Change GraphNon-Hodgkin Lymphoma21.819.3MapTableRank GraphRate GraphHistorical Trends Graph5-Year Rate Change GraphOral Cavity & Pharynx11.111.8MapTableRank GraphRate GraphHistorical Trends Graph5-Year Rate Change GraphOvary (Female)11.810.9MapTableRank GraphRate GraphHistorical Trends Graph5-Year Rate Change GraphPancreas14.412.9MapTableRank GraphRate GraphHistorical Trends Graph5-Year Rate Change GraphProstate (Male)131.3104.5MapTableRank GraphRate GraphHistorical Trends Graph5-Year Rate Change GraphStomach7.96.5MapTableRank GraphRate GraphHistorical Trends Graph5-Year Rate Change GraphThyroid19.314.3MapTableRank GraphRate GraphHistorical Trends Graph5-Year Rate Change GraphUterus (Corpus & Uterus, NOS) (Female)31.927.0MapTableRank GraphRate GraphHistorical Trends Graph5-Year Rate Change GraphAge-Adjusted Incidence Rates by Race/Ethnicity, All Stages (2013-2017)New Jersey RateUSA RateMapTableCI*Rank GraphRate GraphHistorical Trends Graph5-Year Rate Change GraphAll Races (includes Hispanic)485.9448.7MapTableRank GraphRate GraphHistorical Trends Graph5-Year Rate Change GraphWhite (includes Hispanic)497.7451.0MapTableRank GraphRate GraphHistorical Trends Graph5-Year Rate Change GraphWhite Hispanic399.3344.1MapTableRank GraphRate GraphHistorical Trends Graph5-Year Rate Change GraphWhite Non-Hispanic514.1465.7MapTableRank GraphRate GraphHistorical Trends Graph5-Year Rate Change GraphBlack (includes Hispanic)449.4447.6MapTableRank GraphRate GraphHistorical Trends Graph5-Year Rate Change GraphHispanic (any race)394.0344.8MapTableRank GraphRate GraphHistorical Trends Graph5-Year Rate Change GraphAmer. Indian/Alaskan Native (includes Hispanic)N/A288.8MapTableRank GraphRate GraphHistorical Trends Graph5-Year Rate Change GraphAsian or Pacific Islander (includes Hispanic)278.5290.6MapTableRank GraphRate GraphHistorical Trends Graph5-Year Rate Change GraphAge-Adjusted Incidence Rates by Sex, All Stages(2013-2017)New Jersey RateUSA RateMapTableCI*Rank GraphRate GraphHistorical Trends Graph5-Year Rate Change GraphBoth Sexes485.9448.7MapTableRank GraphRate GraphHistorical Trends Graph5-Year Rate Change GraphMale530.5488.5MapTableRank GraphRate GraphHistorical Trends Graph5-Year Rate Change GraphFemale458.8422.2MapTableRank GraphRate GraphHistorical Trends Graph5-Year Rate Change GraphAge-Adjusted Incidence Rates by Age, All Stages(2013-2017)New Jersey RateUSA RateMapTableCI*Rank GraphRate GraphHistorical Trends Graph5-Year Rate Change GraphAll Ages485.9448.7MapTableRank GraphRate GraphHistorical Trends Graph5-Year Rate Change GraphAges <65240.4226.7MapTableRank GraphRate GraphHistorical Trends Graph5-Year Rate Change GraphAges <50112.1105.4MapTableRank GraphRate GraphHistorical Trends Graph5-Year Rate Change GraphAges 50+1464.91351.4MapTableRank GraphRate GraphHistorical Trends Graph5-Year Rate Change GraphAges 65+2183.31982.8MapTableRank GraphRate GraphHistorical Trends Graph5-Year Rate Change GraphAge-Adjusted Incidence Rates by Year, All StagesNew Jersey RateUSA RateMapTableCI*Rank GraphRate GraphHistorical Trends Graph5-Year Rate Change Graph2013-2017485.9448.7MapTableRank GraphRate GraphHistorical Trends Graph5-Year Rate Change Graph2017480.6437.8N/AN/AN/AN/AN/AN/AAge-Adjusted Incidence Rates by Cancer Site - Late Stage (2013-2017)New Jersey RateUSA RateMapTableCI*Rank GraphRate GraphNew Jersey Percent Late StageUSA Percent Late StageBladder2.32.4MapTableRank GraphRate Graph10.011.8Brain & ONS0.81.0MapTableRank GraphRate Graph12.514.9Breast (Female)44.342.0MapTableRank GraphRate Graph31.732.5Cervix (Female)3.83.6MapTableRank GraphRate Graph52.849.8Colon & Rectum22.821.6MapTableRank GraphRate Graph56.056.1Esophagus2.83.1MapTableRank GraphRate Graph66.568.3Kidney & Renal Pelvis4.64.8MapTableRank GraphRate Graph28.329.1Leukemia15.514.0MapTableRank GraphRate Graph99.398.6Liver & Bile Duct3.33.6MapTableRank GraphRate Graph42.142.1Lung & Bronchus37.940.7MapTableRank GraphRate Graph68.670.1Melanoma of the Skin2.73.1MapTableRank GraphRate Graph12.013.7Non-Hodgkin Lymphoma12.912.1MapTableRank GraphRate Graph59.363.1Oral Cavity & Pharynx6.87.3MapTableRank GraphRate Graph62.262.6Ovary (Female)8.78.1MapTableRank GraphRate Graph74.574.9Pancreas11.29.9MapTableRank GraphRate Graph77.676.9Prostate (Male)20.021.1MapTableRank GraphRate Graph15.220.1Stomach4.53.8MapTableRank GraphRate Graph56.458.0Thyroid5.74.4MapTableRank GraphRate Graph28.930.5Uterus (Corpus & Uterus, NOS) (Female)8.87.5MapTableRank GraphRate Graph27.627.9Notes:Created by statecancerprofiles.cancer.gov on 04/29/2021 3:36 pm.For more explicit data source and footnote information please see the tables, graphs and maps that are linked to each row.† Incidence rates (cases per 100,000 population per year) are age-adjusted to the2000 US standard population(19 age groups: <1, 1-4, 5-9, ... , 80-84, 85+). Rates are for invasive cancer only (except for bladder cancer which is invasive and in situ) or unless otherwise specified. Rates calculated using SEER*Stat. Population counts for denominators are based on Census populations as modified by NCI. The1969-2017 US Population DataFile is used for SEER and NPCR incidence rates.Interpret Rankingsprovides insight into interpreting cancer incidence statistics.  When the population size for a denominator is small, the rates may be unstable.  A rate is unstable when a small change in the numerator (e.g., only one or two additional cases) has a dramatic effect on the calculated rate.Data not availablefor some combinations of geography, cancer site, age, and race/ethnicity.Suppressionis used to avoid misinterpretation when rates are unstable.Age-Adjusted Mortality Ratesby Cancer Site(2014-2018)New Jersey RateUSA RateMapTableCI*Rank GraphRate GraphHistorical Trends Graph5-Year Rate Change GraphRate/Trend Comparison by CancerRate/Trend Comparison by AreaAll Cancer Sites148.4155.5MapTableRank GraphRate GraphHistorical Trends Graph5-Year Rate Change GraphTableTableBladder4.64.3MapTableRank GraphRate GraphHistorical Trends Graph5-Year Rate Change GraphTableTableBrain & ONS4.24.4MapTableRank GraphRate GraphHistorical Trends Graph5-Year Rate Change GraphTableTableBreast (Female)20.920.1MapTableRank GraphRate GraphHistorical Trends Graph5-Year Rate Change GraphTableTableCervix (Female)2.12.2MapTableRank GraphRate GraphHistorical Trends Graph5-Year Rate Change GraphTableTableChildhood (Ages <15, All Sites)2.02.1MapTableRank GraphRate GraphHistorical Trends GraphN/ATableTableChildhood (Ages <20, All Sites)2.22.2MapTableRank GraphRate GraphHistorical Trends GraphN/ATableTableColon & Rectum13.713.7MapTableRank GraphRate GraphHistorical Trends Graph5-Year Rate Change GraphTableTableEsophagus3.53.9MapTableRank GraphRate GraphHistorical Trends Graph5-Year Rate Change GraphTableTableKidney & Renal Pelvis3.13.6MapTableRank GraphRate GraphHistorical Trends Graph5-Year Rate Change GraphTableTableLeukemia6.06.3MapTableRank GraphRate GraphHistorical Trends Graph5-Year Rate Change GraphTableTableLiver & Bile Duct5.96.6MapTableRank GraphRate GraphHistorical Trends Graph5-Year Rate Change GraphTableTableLung & Bronchus33.738.5MapTableRank GraphRate GraphHistorical Trends Graph5-Year Rate Change GraphTableTableMelanoma of the Skin2.12.3MapTableRank GraphRate GraphHistorical Trends Graph5-Year Rate Change GraphTableTableNon-Hodgkin Lymphoma5.35.4MapTableRank GraphRate GraphHistorical Trends Graph5-Year Rate Change GraphTableTableOral Cavity & Pharynx2.02.5MapTableRank GraphRate GraphHistorical Trends Graph5-Year Rate Change GraphTableTableOvary (Female)6.56.7MapTableRank GraphRate GraphHistorical Trends Graph5-Year Rate Change GraphTableTablePancreas11.311.0MapTableRank GraphRate GraphHistorical Trends Graph5-Year Rate Change GraphTableTableProstate (Male)17.619.0MapTableRank GraphRate GraphHistorical Trends Graph5-Year Rate Change GraphTableTableStomach3.33.0MapTableRank GraphRate GraphHistorical Trends Graph5-Year Rate Change GraphTableTableThyroid0.50.5MapTableRank GraphRate GraphHistorical Trends Graph5-Year Rate Change GraphTableTableUterus (Corpus & Uterus, NOS) (Female)5.94.9MapTableRank GraphRate GraphHistorical Trends Graph5-Year Rate Change GraphTableTableAge-Adjusted Mortality Rates by Race/Ethnicity (2014-2018)New Jersey RateUSA RateMapTableCI*Rank GraphRate GraphHistorical Trends Graph5-Year Rate Change GraphRate/Trend Comparison by CancerRate/Trend Comparison by AreaAll Races (includes Hispanic)148.4155.5MapTableRank GraphRate GraphHistorical Trends Graph5-Year Rate Change GraphTableTableWhite (includes Hispanic)152.2156.3MapTableRank GraphRate GraphHistorical Trends Graph5-Year Rate Change GraphN/AN/AWhite Hispanic108.1117.3MapTableRank GraphRate GraphHistorical Trends Graph5-Year Rate Change GraphN/AN/AWhite Non-Hispanic157.6160.2MapTableRank GraphRate GraphHistorical Trends Graph5-Year Rate Change GraphN/AN/ABlack (includes Hispanic)167.3177.5MapTableRank GraphRate GraphHistorical Trends Graph5-Year Rate Change GraphN/AN/AHispanic (any race)97.6110.8MapTableRank GraphRate GraphHistorical Trends Graph5-Year Rate Change GraphN/AN/AAmer. Indian/Alaskan Native (includes Hispanic)29.4103.6MapTableRank GraphRate GraphHistorical Trends Graph5-Year Rate Change GraphN/AN/AAsian or Pacific Islander (includes Hispanic)74.897.2MapTableRank GraphRate GraphHistorical Trends Graph5-Year Rate Change GraphN/AN/AAge-Adjusted Mortality Rates by Sex (2014-2018)New Jersey RateUSA RateMapTableCI*Rank GraphRate GraphHistorical Trends Graph5-Year Rate Change GraphRate/Trend Comparison by CancerRate/Trend Comparison by AreaBoth Sexes148.4155.5MapTableRank GraphRate GraphHistorical Trends Graph5-Year Rate Change GraphTableTableMale172.3185.5MapTableRank GraphRate GraphHistorical Trends Graph5-Year Rate Change GraphTableTableFemale132.6133.5MapTableRank GraphRate GraphHistorical Trends Graph5-Year Rate Change GraphTableTableAge-Adjusted Mortality Rates by Age (2014-2018)New Jersey RateUSA RateMapTableCI*Rank GraphRate GraphHistorical Trends Graph5-Year Rate Change GraphRate/Trend Comparison by CancerRate/Trend Comparison by AreaAll Ages148.4155.5MapTableRank GraphRate GraphHistorical Trends Graph5-Year Rate Change GraphTableTableAges <6543.349.4MapTableRank GraphRate GraphHistorical Trends Graph5-Year Rate Change GraphN/AN/AAges <5013.715.4MapTableRank GraphRate GraphHistorical Trends Graph5-Year Rate Change GraphN/AN/AAges 50+501.0522.2MapTableRank GraphRate GraphHistorical Trends Graph5-Year Rate Change GraphN/AN/AAges 65+874.9888.4MapTableRank GraphRate GraphHistorical Trends Graph5-Year Rate Change GraphN/AN/AAge-Adjusted Mortality Rates by YearNew Jersey RateUSA RateMapTableCI*Rank GraphRate GraphHistorical Trends Graph5-Year Rate Change GraphRate/Trend Comparison by CancerRate/Trend Comparison by Area2014-2018148.4155.5MapTableRank GraphRate GraphHistorical Trends Graph5-Year Rate Change GraphTableTable2018141.1149.0MapTableRank GraphRate GraphHistorical Trends GraphN/AN/AN/ANotes:Created by statecancerprofiles.cancer.gov on 04/29/2021 3:36 pm.For more explicit data source and footnote information please see the tables, graphs and maps that are linked to each row.Source: Death data provided by theNational Vital Statistics Systempublic use data file.  Death rates calculated by the National Cancer Institute usingSEER*Stat. Death rates are age-adjusted to the2000 US standard population(19 age groups: <1, 1-4, 5-9, ... , 80-84, 85+). The Healthy People 2020 goals are based on rates adjusted using different methods but the differences should be minimal. Population counts for denominators are based on Census populations as modified by NCI. The1969-2017  US Population DataFile is used with mortality data.Demographics: CrowdingNew Jersey PercentUSA PercentMapTableHouseholds with >1 person per room, 2014-20183.13.3MapTableDemographics: EducationNew Jersey PercentUSA PercentMapTableLess than 9th grade, 2014-2018, Ages 25+4.95.3MapTableAt least high school, 2014-2018, Ages 25+89.587.7MapTableAt least bachelors degree, 2014-2018, Ages 25+38.931.5MapTableDemographics: IncomeNew Jersey DollarsUSA DollarsMapTableMedian family income, 2014-201898,04773,965MapTableMedian household income, 2014-201879,36360,293MapTableDemographics: InsuranceNew Jersey PercentUSA PercentMapTablePercent uninsured in demographic group, people at or below 138% of poverty, 2018, Ages <6516.7N/AMapTableDemographics: LanguageNew Jersey PercentUSA PercentMapTableLanguage isolation, 2014-20187.04.4MapTableDemographics: MobilityNew Jersey PercentUSA PercentMapTableHaven't moved (in past year), 2014-201889.985.5MapTableMoved, same county (in past year), 2014-20185.48.2MapTableMoved, different county this state (in past year), 2014-20182.43.2MapTableMoved, different state (in past year), 2014-20181.62.3MapTableMoved from outside US (in past year), 2014-20180.80.7MapTableDemographics: Population - AgesNew Jersey PercentUSA PercentMapTableAge under 18, 2014-201822.222.8MapTableAge 18-39, 2014-201828.029.8MapTableAge 40-64, 2014-201834.332.2MapTableAge 40 and over, 2014-201849.847.4MapTableAge 50 and over, 2014-201836.334.8MapTableAge 65 and over, 2014-201815.515.2MapTableDemographics: Population - Race/EthnicityNew Jersey PercentUSA PercentMapTableAmerican Indian/Alaska Native, 2014-20180.20.8MapTableAsian / Pacific Islander, 2014-20189.45.6MapTableBlack, 2014-201813.512.7MapTableForeign born, 2014-201822.213.5MapTableHispanic, 2014-201819.917.8MapTableNon-Hispanic (Origin Recode), 2014-201880.182.2MapTableWhite, 2014-201867.972.7MapTableDemographics: Population - SexNew Jersey PercentUSA PercentMapTableFemale, 2014-201851.250.8MapTableMale, 2014-201848.849.2MapTableDemographics: PovertyNew Jersey PercentUSA PercentMapTableFamilies below poverty, 2014-20187.610.1MapTablePersons below poverty, 2014-201810.414.1MapTablePersons below 150% of poverty, 2014-201817.023.0MapTableDemographics: WorkforceNew Jersey PercentUSA PercentMapTableUnemployed, 2014-20186.15.9MapTableNotes:Created by statecancerprofiles.cancer.gov on 04/29/2021 3:36 pm.For more explicit data source and footnote information please see the tables, graphs and maps that are linked to each row.Source: Demographic data provided by theCensus Bureau, theAmerican Community Survey, and theSmall Area Health Insurance Estimates.Screening & Risk Factors: Colorectal ScreeningNew JerseyUSAMapTableEver Had Colorectal Endoscopy (Sigmoidoscopy or Colonoscopy), Ages 50+, 201868.9371.6MapTableFOBT in last year and/or flex sig in last 5 years and FOBT in last 3 years and/or colonoscopy in last 10 years, Ages 50-75, 201867.5969.7MapTableHome-Based Fecal Occult Blood Test (FOBT) in Past Two Years, Ages 50+, 201812.5812.8MapTableHome-based FOBT in the past two years or ever had a colorectal endoscopy, Ages 50+, 201872.6075.5MapTableScreening & Risk Factors: Diet & ExerciseNew JerseyUSAMapTableConsumed 1 or More Fruits per Day, Ages 18+, 2019N/A60.7MapTableConsumed 1 or More Vegetables per Day, Ages 18+, 2019N/A79.7MapTableHealthy Weight (BMI 18.5 to <25), Ages 20+, 2019N/A30.0MapTableNo Leisure Time Physical Activity, Ages 18+, 2019N/A26.3MapTableObese (>= 95th percentile for BMI based on sex and age), High School Students, 201911.915.5MapTableObese (BMI >= 30), Ages 20+, 2019N/A32.7MapTableOverweight (>= 85th percentile but <95th percentile for BMI based on sex and age), High School Students, 201914.716.1MapTableScreening & Risk Factors: SmokingNew JerseyUSAMapTableCurrent Smoker, Ages 18+, 2019N/A16.0MapTableEver Smoked 100 Cigarettes, Ages 18+, 2019N/A41.5MapTablePercent of Daily Smokers Who Stopped Smoking for 1 Day or Longer in the Past 12 Months, Ages 18+, 2018-201942.935.7MapTablePercent of People Who Answered No One is Allowed to Smoke Anywhere Inside Their Home (All People), Ages 18+, 2018-201991.390.0MapTablePercent of People Who Answered No One is Allowed to Smoke Anywhere Inside Their Home (Current Smokers), Ages 18+, 2018-201960.458.5MapTablePercent of People Who Answered No One is Allowed to Smoke Inside Their Home (Former/Never Smokers), Ages 18+, 2018-201993.794.0MapTablePercent of State Population with 100% Smokefree Bar Laws, 2021100.066.4N/ATablePercent of State Population with 100% Smokefree Restaurant Laws, 2021100.077.8N/ATablePercent of State Population with 100% Smokefree Workplace Laws, 2021100.076.1N/ATablePercent of State Population with 100% Smokefree Workplace, Restaurant, & Bar Laws, 2021100.061.1N/ATablePercent of State Population with Any 100% Smokefree Laws, 2021100.082.1N/ATablePercent of Workers in Non-Smoking Environments (All People), Ages 18+, 2018-201983.879.9MapTablePercent of Workers in Non-Smoking Environments (Current Smokers), Ages 18+, 2018-201968.173.1MapTablePercent of Workers in Non-Smoking Environments (Former/Never Smokers), Ages 18+, 2018-201984.880.7MapTableScreening & Risk Factors: VaccinesNew JerseyUSAMapTablePercent who received 2+ doses of HPV Vaccine, Ages 13-15, Both Sexes, 201844.351.1MapTablePercent who received 2+ doses of HPV Vaccine, Ages 13-17, Both Sexes, 201849.955.0MapTablePercent who received 2+ doses of HPV Vaccine, Ages 13-17, Male, 201848.252.8MapTablePercent who received 2+ doses of HPV Vaccine, Ages 13-15, Male, 201845.149.9MapTablePercent who received 2+ doses of HPV Vaccine, Ages 13-15, Female, 201843.652.2MapTablePercent who received 2+ doses of HPV Vaccine, Ages 13-17, Female, 201851.757.4MapTablePercent who received 3+ doses of HPV Vaccine, Ages 13-15, Both Sexes, 201820.327.2MapTablePercent who received 3+ doses of HPV Vaccine, Ages 13-17, Both Sexes, 201830.034.9MapTablePercent who received 3+ doses of HPV Vaccine, Ages 13-17, Male, 201825.832.1MapTablePercent who received 3+ doses of HPV Vaccine, Ages 13-15, Male, 201819.026.1MapTablePercent who received 3+ doses of HPV Vaccine, Ages 13-15, Female, 201821.528.4MapTablePercent who received 3+ doses of HPV Vaccine, Ages 13-17, Female, 201834.437.9MapTableScreening & Risk Factors: Women's HealthNew JerseyUSAMapTableHad a Mammogram in Past 2 Years, Ages 40+, 201875.4871.8MapTableHad a Mammogram in Past 2 Years, Ages 50-74, 201881.3178.3MapTableHad a Pap Smear in Past 3 Years and No Hysterectomy, Ages 18+, 201873.4571.7MapTablePap Test in Past 3 Years, No Hysterectomy, Ages 21-65, 201878.1080.2MapTableNotes:Created by statecancerprofiles.cancer.gov on 04/29/2021 3:36 pm.For more explicit data source and footnote information please see the tables, graphs and maps that are linked to each row.Data statistics on this page come from the following data sources: CDC, Modeled Estimates Combining BRFSS & NHIS, Tobacco Use Supplement to the Current Population Survey, and American Nonsmokers' Rights Foundation. Please see the link on each row for the table/graph map for the specific footnote information.Prevalence: Counts (2017)New JerseyUSATableAll Cancer Sites - Male239,1007,599,300TableAll Cancer Sites - Female271,2008,296,800TableBreast - Female110,2003,669,300TablePrevalence: Crude Percents (2017)New JerseyUSATableAll Cancer Sites - Male5.254.72TableAll Cancer Sites - Female5.664.98TableBreast - Female2.302.20TablePrevalence: Age-Adjusted Percents (2017)New JerseyUSATableAll Cancer Sites - Male5.084.54TableAll Cancer Sites - Female4.303.97TableBreast - Female1.671.69TableNotes:Created by statecancerprofiles.cancer.gov on 04/29/2021 3:36 pm.For more explicit data source and footnote information please see the tables, graphs and maps that are linked to each row.Methodology: Cancer prevalence estimates are derived from state specific cancer mortality and survival data using a statistical package called MIAMOD (Mortality-Incidence Analysis MODEL). Cancer survival models are derived from theSurveillance, Epidemiology, and End Results (SEER)Program data and adjusted to represent state specific survival.Site HomePoliciesAccessibilityFOIAContact UsU.S. Department of Health and Human Services|National Institutes of Health|National Cancer Institute|USA.govNIH... Turning Discovery Into Health®\n"
          ],
          "name": "stdout"
        }
      ]
    },
    {
      "cell_type": "code",
      "metadata": {
        "colab": {
          "base_uri": "https://localhost:8080/"
        },
        "id": "WqV2iUI3I1Sq",
        "outputId": "d3785dda-39fc-41ce-ded5-9bedb3cd7bcc"
      },
      "source": [
        "nltk.download('punkt')"
      ],
      "execution_count": null,
      "outputs": [
        {
          "output_type": "stream",
          "text": [
            "[nltk_data] Downloading package punkt to /root/nltk_data...\n",
            "[nltk_data]   Unzipping tokenizers/punkt.zip.\n"
          ],
          "name": "stdout"
        },
        {
          "output_type": "execute_result",
          "data": {
            "text/plain": [
              "True"
            ]
          },
          "metadata": {
            "tags": []
          },
          "execution_count": 35
        }
      ]
    },
    {
      "cell_type": "code",
      "metadata": {
        "colab": {
          "base_uri": "https://localhost:8080/"
        },
        "id": "VxXUi0i3IwP5",
        "outputId": "e1cdb282-420e-4bf5-eeda-dbb0ab8e23e7"
      },
      "source": [
        "word_tokens=word_tokenize(text)\n",
        "print(word_tokens)"
      ],
      "execution_count": null,
      "outputs": [
        {
          "output_type": "stream",
          "text": [
            "['window.dataLayer', '=', 'window.dataLayer', '||', '[', ']', ';', 'function', 'gtag', '(', ')', '{', 'dataLayer.push', '(', 'arguments', ')', ';', '}', 'gtag', '(', \"'js\", \"'\", ',', 'new', 'Date', '(', ')', ')', ';', 'gtag', '(', \"'config\", \"'\", ',', \"'UA-112281461-1\", \"'\", ')', ';', 'State', 'Cancer', 'Profiles', '>', 'Quick', 'ProfilesSkip', 'to', 'Main', 'Content/*', 'Fonts', 'and', 'other', 'items', 'are', 'targeting', 'mobile', 'first', '*/', '.notification-banner', '>', 'div', '>', 'div', '{', 'padding', ':', '0', ';', 'margin', ':', '0', ';', '}', '.alert-drawer-wrapper', '{', 'background', ':', '#', 'fada87', ';', 'padding', ':', '.5em', '1.25em', ';', 'margin-bottom', ':', '1px', ';', '}', '.alert-drawer__body', '{', 'display', ':', 'none', ';', '}', '.alert-drawer__body.active', '{', 'display', ':', 'block', ';', '}', '.alert-drawer__body.active', '+', '.alert-drawer__toggle', 'button', ':', ':after', '{', 'content', ':', \"''\", ';', 'display', ':', 'none', ';', '}', '.alert-drawer__toggle', '{', 'display', ':', 'block', ';', 'text-align', ':', 'center', ';', '}', '.alert-drawer__toggle', 'button', '{', '-webkit-appearance', ':', 'none', ';', '-moz-appearance', ':', 'none', ';', 'appearance', ':', 'none', ';', 'background', ':', 'none', ';', 'border', ':', 'none', ';', 'cursor', ':', 'pointer', ';', 'margin', ':', '0', 'auto', ';', '}', '.alert-drawer__toggle', 'button', ':', ':after', '{', 'content', ':', \"'Expand\", 'for', 'resources', \"'\", ';', 'display', ':', 'block', ';', 'font', ':', '12px/19px', '``', 'Montserrat', \"''\", ',', 'Arial', ',', 'sans-serif', ';', 'color', ':', '#', '606060', ';', 'text-align', ':', 'center', ';', '}', '.alert-drawer', '.alert-drawer-title', '{', 'font', ':', 'bold', '16px/19px', '``', 'Montserrat', \"''\", ',', 'Arial', ',', 'sans-serif', ';', 'color', ':', '#', '444444', ';', '}', '.alert-drawer', 'a', '{', 'text-decoration', ':', 'underline', ';', 'color', ':', '#', '606060', ';', '}', '.alert-drawer', 'p', '{', 'font', ':', '14px/19px', '``', 'Montserrat', \"''\", ',', 'Arial', ',', 'sans-serif', ';', 'color', ':', '#', '606060', ';', 'margin', ':', '.5em', '0', '!', 'important', ';', '}', '.ellipse', '{', 'display', ':', 'none', ';', '}', '.ellipse', ':', ':before', '{', 'content', ':', '``', '\\\\2026', \"''\", ';', '}', '/*', 'Desktop', 'and', 'up', 'overrides', '*/', '@', 'media', 'only', 'screen', 'and', '(', 'min-width', ':', '1025px', ')', '{', '.alert-drawer', '{', 'margin', ':', '0', 'auto', ';', 'max-width', ':', '62.5em', ';', 'padding-left', ':', '10px', ';', '}', '.alert-drawer', '.alert-drawer-title', '{', 'font', ':', 'bold', '20px/24px', '``', 'Montserrat', \"''\", ',', 'Arial', ',', 'sans-serif', ';', '}', '.alert-drawer', 'p', '{', 'font', ':', '16px/24px', '``', 'Montserrat', \"''\", ',', 'Arial', ',', 'sans-serif', ';', '}', '.alert-drawer__toggle', '{', 'display', ':', 'none', ';', '}', '.alert-drawer__body', '{', 'display', ':', 'block', ';', '}', '.alert-drawer__body.active', '{', 'display', ':', 'block', ';', '}', '}', '@', 'media', 'only', 'screen', 'and', '(', 'min-width', ':', '1441px', ')', '{', '.alert-drawer', '{', 'max-width', ':', '1200px', ';', 'padding-left', ':', '20px', ';', '}', '}', 'COVID-19What', 'people', 'with', 'cancer', 'should', 'know', ':', 'https', ':', '//www.cancer.gov/coronavirusGet', 'the', 'latest', 'public', 'health', 'information', 'from', 'CDC', ':', 'https', ':', '//www.cdc.gov/coronavirus/Get', 'the', 'latest', 'research', 'information', 'from', 'NIH', ':', 'https', ':', '//www.covid19.nih.gov/document', '.getElementById', '(', '``', 'alert-toggle-btn', \"''\", ')', '.addEventListener', '(', '``', 'click', \"''\", ',', 'function', '(', ')', '{', 'var', 'alertBody', '=', 'document.querySelector', '(', '``', '.alert-drawer__body', \"''\", ')', ';', 'var', 'alertImg', '=', '``', \"''\", ';', 'alertBody.classList.toggle', '(', '``', 'active', \"''\", ')', ';', 'if', '(', 'alertBody.className.match', '(', '``', 'active', \"''\", ')', ')', '{', 'alertBody.focus', '(', ')', ';', 'alertImg', '=', '``', '/toolbox/images/dccps/white-x.png', \"''\", ';', '}', 'else', '{', 'alertImg', '=', '``', '/toolbox/images/dccps/white-down-arrow.png', \"''\", ';', '}', 'document.getElementById', '(', '``', 'alert-toggle-img', \"''\", ')', '.setAttribute', '(', '``', 'src', \"''\", ',', 'alertImg', ')', ';', '}', ')', ';', 'StateCancerProfilesDynamic', 'views', 'of', 'cancer', 'statistics', 'for', 'prioritizingcancer', 'control', 'efforts', 'across', 'the', 'nationHomeAboutHelp', '&', 'ResourcesContactQuick', 'ProfilesQuick', 'Profiles', ':', 'New', 'Jersey.change', '{', 'margin-bottom', ':', '1em', ';', 'border', ':', '1px', 'solid', '#', 'c3c3c3', ';', 'border-radius', ':', '3px', ';', 'background', ':', '#', 'f5f5f5', ';', 'padding', ':', '.5em', ';', 'box-shadow', ':', '2px', '2px', '0', '#', 'fff', 'inset', ',', '-2px', '-2px', '0', '#', 'fff', 'inset', ';', '}', '.change', 'label', '{', 'display', ':', 'inline-block', ';', 'zoom', ':', '1', ';', '*display', ':', 'inline', ';', 'padding-left', ':', '1em', ';', '}', '.redArrow', '{', 'font-size', ':', '1.05em', ';', 'padding', ':', '0', '0', '.3em', '1em', ';', 'background', ':', 'url', '(', '``', '../i/arrow-red.png', \"''\", ')', 'left', '4px', 'no-repeat', ';', 'border-bottom', ':', '1px', 'dashed', '#', 'c0c0c0', ';', '}', '.change', '.btnRed', '{', 'display', ':', 'inline-block', ';', 'zoom', ':', '1', ';', '*display', ':', 'inline', ';', 'margin-left', ':', '2em', ';', 'padding', ':', '.3em', '3em', ';', 'width', ':', 'auto', ';', '}', '.change', 'select', '{', 'width', ':', '250px', ';', '}', 'Choose', 'a', 'Different', 'State', ':', 'State', ':', 'United', 'StatesAlabamaAlaskaArizonaArkansasCaliforniaColoradoConnecticutDelawareDistrict', 'Of', 'ColumbiaFloridaGeorgiaHawaiiIdahoIllinoisIndianaIowaKansasKentuckyLouisianaMaineMarylandMassachusettsMichiganMinnesotaMississippiMissouriMontanaNebraskaNevadaNew', 'HampshireNew', 'JerseyNew', 'MexicoNew', 'YorkNorth', 'CarolinaNorth', 'DakotaOhioOklahomaOregonPennsylvaniaPuerto', 'RicoRhode', 'IslandSouth', 'CarolinaSouth', 'DakotaTennesseeTexasUtahVermontVirginiaWashingtonWest', 'VirginiaWisconsinWyomingDemographicsScreening', '&', 'Risk', 'FactorsIncidencePrevalenceMortalityAge-Adjusted', 'Incidence', 'Rates', 'by', 'Cancer', 'Site', ',', 'All', 'Stages', '(', '2013-2017', ')', 'New', 'Jersey', 'RateUSA', 'RateMapTableCI*Rank', 'GraphRate', 'GraphHistorical', 'Trends', 'Graph5-Year', 'Rate', 'Change', 'GraphAll', 'Cancer', 'Sites485.9448.7MapTableRank', 'GraphRate', 'GraphHistorical', 'Trends', 'Graph5-Year', 'Rate', 'Change', 'GraphBladder23.120.0MapTableRank', 'GraphRate', 'GraphHistorical', 'Trends', 'Graph5-Year', 'Rate', 'Change', 'GraphBrain', '&', 'ONS6.86.5MapTableRank', 'GraphRate', 'GraphHistorical', 'Trends', 'Graph5-Year', 'Rate', 'Change', 'GraphBreast', '(', 'Female', ')', '136.6125.9MapTableRank', 'GraphRate', 'GraphHistorical', 'Trends', 'Graph5-Year', 'Rate', 'Change', 'GraphBreast', '(', 'in', 'situ', ')', '(', 'Female', ')', '41.229.8MapTableRank', 'GraphRate', 'GraphHistorical', 'Trends', 'Graph5-Year', 'Rate', 'Change', 'GraphCervix', '(', 'Female', ')', '7.77.6MapTableRank', 'GraphRate', 'GraphHistorical', 'Trends', 'Graph5-Year', 'Rate', 'Change', 'GraphChildhood', '(', 'Ages', '<', '15', ',', 'All', 'Sites', ')', '18.517.4MapTableRank', 'GraphRate', 'GraphHistorical', 'Trends', 'GraphN/AChildhood', '(', 'Ages', '<', '20', ',', 'All', 'Sites', ')', '20.718.9MapTableRank', 'GraphRate', 'GraphHistorical', 'Trends', 'GraphN/AColon', '&', 'Rectum40.838.4MapTableRank', 'GraphRate', 'GraphHistorical', 'Trends', 'Graph5-Year', 'Rate', 'Change', 'GraphEsophagus4.34.5MapTableRank', 'GraphRate', 'GraphHistorical', 'Trends', 'Graph5-Year', 'Rate', 'Change', 'GraphKidney', '&', 'Renal', 'Pelvis16.316.8MapTableRank', 'GraphRate', 'GraphHistorical', 'Trends', 'Graph5-Year', 'Rate', 'Change', 'GraphLeukemia15.714.2MapTableRank', 'GraphRate', 'GraphHistorical', 'Trends', 'Graph5-Year', 'Rate', 'Change', 'GraphLiver', '&', 'Bile', 'Duct7.88.4MapTableRank', 'GraphRate', 'GraphHistorical', 'Trends', 'Graph5-Year', 'Rate', 'Change', 'GraphLung', '&', 'Bronchus55.358.3MapTableRank', 'GraphRate', 'GraphHistorical', 'Trends', 'Graph5-Year', 'Rate', 'Change', 'GraphMelanoma', 'of', 'the', 'Skin22.222.3MapTableRank', 'GraphRate', 'GraphHistorical', 'Trends', 'Graph5-Year', 'Rate', 'Change', 'GraphNon-Hodgkin', 'Lymphoma21.819.3MapTableRank', 'GraphRate', 'GraphHistorical', 'Trends', 'Graph5-Year', 'Rate', 'Change', 'GraphOral', 'Cavity', '&', 'Pharynx11.111.8MapTableRank', 'GraphRate', 'GraphHistorical', 'Trends', 'Graph5-Year', 'Rate', 'Change', 'GraphOvary', '(', 'Female', ')', '11.810.9MapTableRank', 'GraphRate', 'GraphHistorical', 'Trends', 'Graph5-Year', 'Rate', 'Change', 'GraphPancreas14.412.9MapTableRank', 'GraphRate', 'GraphHistorical', 'Trends', 'Graph5-Year', 'Rate', 'Change', 'GraphProstate', '(', 'Male', ')', '131.3104.5MapTableRank', 'GraphRate', 'GraphHistorical', 'Trends', 'Graph5-Year', 'Rate', 'Change', 'GraphStomach7.96.5MapTableRank', 'GraphRate', 'GraphHistorical', 'Trends', 'Graph5-Year', 'Rate', 'Change', 'GraphThyroid19.314.3MapTableRank', 'GraphRate', 'GraphHistorical', 'Trends', 'Graph5-Year', 'Rate', 'Change', 'GraphUterus', '(', 'Corpus', '&', 'Uterus', ',', 'NOS', ')', '(', 'Female', ')', '31.927.0MapTableRank', 'GraphRate', 'GraphHistorical', 'Trends', 'Graph5-Year', 'Rate', 'Change', 'GraphAge-Adjusted', 'Incidence', 'Rates', 'by', 'Race/Ethnicity', ',', 'All', 'Stages', '(', '2013-2017', ')', 'New', 'Jersey', 'RateUSA', 'RateMapTableCI*Rank', 'GraphRate', 'GraphHistorical', 'Trends', 'Graph5-Year', 'Rate', 'Change', 'GraphAll', 'Races', '(', 'includes', 'Hispanic', ')', '485.9448.7MapTableRank', 'GraphRate', 'GraphHistorical', 'Trends', 'Graph5-Year', 'Rate', 'Change', 'GraphWhite', '(', 'includes', 'Hispanic', ')', '497.7451.0MapTableRank', 'GraphRate', 'GraphHistorical', 'Trends', 'Graph5-Year', 'Rate', 'Change', 'GraphWhite', 'Hispanic399.3344.1MapTableRank', 'GraphRate', 'GraphHistorical', 'Trends', 'Graph5-Year', 'Rate', 'Change', 'GraphWhite', 'Non-Hispanic514.1465.7MapTableRank', 'GraphRate', 'GraphHistorical', 'Trends', 'Graph5-Year', 'Rate', 'Change', 'GraphBlack', '(', 'includes', 'Hispanic', ')', '449.4447.6MapTableRank', 'GraphRate', 'GraphHistorical', 'Trends', 'Graph5-Year', 'Rate', 'Change', 'GraphHispanic', '(', 'any', 'race', ')', '394.0344.8MapTableRank', 'GraphRate', 'GraphHistorical', 'Trends', 'Graph5-Year', 'Rate', 'Change', 'GraphAmer', '.', 'Indian/Alaskan', 'Native', '(', 'includes', 'Hispanic', ')', 'N/A288.8MapTableRank', 'GraphRate', 'GraphHistorical', 'Trends', 'Graph5-Year', 'Rate', 'Change', 'GraphAsian', 'or', 'Pacific', 'Islander', '(', 'includes', 'Hispanic', ')', '278.5290.6MapTableRank', 'GraphRate', 'GraphHistorical', 'Trends', 'Graph5-Year', 'Rate', 'Change', 'GraphAge-Adjusted', 'Incidence', 'Rates', 'by', 'Sex', ',', 'All', 'Stages', '(', '2013-2017', ')', 'New', 'Jersey', 'RateUSA', 'RateMapTableCI*Rank', 'GraphRate', 'GraphHistorical', 'Trends', 'Graph5-Year', 'Rate', 'Change', 'GraphBoth', 'Sexes485.9448.7MapTableRank', 'GraphRate', 'GraphHistorical', 'Trends', 'Graph5-Year', 'Rate', 'Change', 'GraphMale530.5488.5MapTableRank', 'GraphRate', 'GraphHistorical', 'Trends', 'Graph5-Year', 'Rate', 'Change', 'GraphFemale458.8422.2MapTableRank', 'GraphRate', 'GraphHistorical', 'Trends', 'Graph5-Year', 'Rate', 'Change', 'GraphAge-Adjusted', 'Incidence', 'Rates', 'by', 'Age', ',', 'All', 'Stages', '(', '2013-2017', ')', 'New', 'Jersey', 'RateUSA', 'RateMapTableCI*Rank', 'GraphRate', 'GraphHistorical', 'Trends', 'Graph5-Year', 'Rate', 'Change', 'GraphAll', 'Ages485.9448.7MapTableRank', 'GraphRate', 'GraphHistorical', 'Trends', 'Graph5-Year', 'Rate', 'Change', 'GraphAges', '<', '65240.4226.7MapTableRank', 'GraphRate', 'GraphHistorical', 'Trends', 'Graph5-Year', 'Rate', 'Change', 'GraphAges', '<', '50112.1105.4MapTableRank', 'GraphRate', 'GraphHistorical', 'Trends', 'Graph5-Year', 'Rate', 'Change', 'GraphAges', '50+1464.91351.4MapTableRank', 'GraphRate', 'GraphHistorical', 'Trends', 'Graph5-Year', 'Rate', 'Change', 'GraphAges', '65+2183.31982.8MapTableRank', 'GraphRate', 'GraphHistorical', 'Trends', 'Graph5-Year', 'Rate', 'Change', 'GraphAge-Adjusted', 'Incidence', 'Rates', 'by', 'Year', ',', 'All', 'StagesNew', 'Jersey', 'RateUSA', 'RateMapTableCI*Rank', 'GraphRate', 'GraphHistorical', 'Trends', 'Graph5-Year', 'Rate', 'Change', 'Graph2013-2017485.9448.7MapTableRank', 'GraphRate', 'GraphHistorical', 'Trends', 'Graph5-Year', 'Rate', 'Change', 'Graph2017480.6437.8N/AN/AN/AN/AN/AN/AAge-Adjusted', 'Incidence', 'Rates', 'by', 'Cancer', 'Site', '-', 'Late', 'Stage', '(', '2013-2017', ')', 'New', 'Jersey', 'RateUSA', 'RateMapTableCI*Rank', 'GraphRate', 'GraphNew', 'Jersey', 'Percent', 'Late', 'StageUSA', 'Percent', 'Late', 'StageBladder2.32.4MapTableRank', 'GraphRate', 'Graph10.011.8Brain', '&', 'ONS0.81.0MapTableRank', 'GraphRate', 'Graph12.514.9Breast', '(', 'Female', ')', '44.342.0MapTableRank', 'GraphRate', 'Graph31.732.5Cervix', '(', 'Female', ')', '3.83.6MapTableRank', 'GraphRate', 'Graph52.849.8Colon', '&', 'Rectum22.821.6MapTableRank', 'GraphRate', 'Graph56.056.1Esophagus2.83.1MapTableRank', 'GraphRate', 'Graph66.568.3Kidney', '&', 'Renal', 'Pelvis4.64.8MapTableRank', 'GraphRate', 'Graph28.329.1Leukemia15.514.0MapTableRank', 'GraphRate', 'Graph99.398.6Liver', '&', 'Bile', 'Duct3.33.6MapTableRank', 'GraphRate', 'Graph42.142.1Lung', '&', 'Bronchus37.940.7MapTableRank', 'GraphRate', 'Graph68.670.1Melanoma', 'of', 'the', 'Skin2.73.1MapTableRank', 'GraphRate', 'Graph12.013.7Non-Hodgkin', 'Lymphoma12.912.1MapTableRank', 'GraphRate', 'Graph59.363.1Oral', 'Cavity', '&', 'Pharynx6.87.3MapTableRank', 'GraphRate', 'Graph62.262.6Ovary', '(', 'Female', ')', '8.78.1MapTableRank', 'GraphRate', 'Graph74.574.9Pancreas11.29.9MapTableRank', 'GraphRate', 'Graph77.676.9Prostate', '(', 'Male', ')', '20.021.1MapTableRank', 'GraphRate', 'Graph15.220.1Stomach4.53.8MapTableRank', 'GraphRate', 'Graph56.458.0Thyroid5.74.4MapTableRank', 'GraphRate', 'Graph28.930.5Uterus', '(', 'Corpus', '&', 'Uterus', ',', 'NOS', ')', '(', 'Female', ')', '8.87.5MapTableRank', 'GraphRate', 'Graph27.627.9Notes', ':', 'Created', 'by', 'statecancerprofiles.cancer.gov', 'on', '04/29/2021', '3:36', 'pm.For', 'more', 'explicit', 'data', 'source', 'and', 'footnote', 'information', 'please', 'see', 'the', 'tables', ',', 'graphs', 'and', 'maps', 'that', 'are', 'linked', 'to', 'each', 'row.†', 'Incidence', 'rates', '(', 'cases', 'per', '100,000', 'population', 'per', 'year', ')', 'are', 'age-adjusted', 'to', 'the2000', 'US', 'standard', 'population', '(', '19', 'age', 'groups', ':', '<', '1', ',', '1-4', ',', '5-9', ',', '...', ',', '80-84', ',', '85+', ')', '.', 'Rates', 'are', 'for', 'invasive', 'cancer', 'only', '(', 'except', 'for', 'bladder', 'cancer', 'which', 'is', 'invasive', 'and', 'in', 'situ', ')', 'or', 'unless', 'otherwise', 'specified', '.', 'Rates', 'calculated', 'using', 'SEER*Stat', '.', 'Population', 'counts', 'for', 'denominators', 'are', 'based', 'on', 'Census', 'populations', 'as', 'modified', 'by', 'NCI', '.', 'The1969-2017', 'US', 'Population', 'DataFile', 'is', 'used', 'for', 'SEER', 'and', 'NPCR', 'incidence', 'rates.Interpret', 'Rankingsprovides', 'insight', 'into', 'interpreting', 'cancer', 'incidence', 'statistics', '.', 'When', 'the', 'population', 'size', 'for', 'a', 'denominator', 'is', 'small', ',', 'the', 'rates', 'may', 'be', 'unstable', '.', 'A', 'rate', 'is', 'unstable', 'when', 'a', 'small', 'change', 'in', 'the', 'numerator', '(', 'e.g.', ',', 'only', 'one', 'or', 'two', 'additional', 'cases', ')', 'has', 'a', 'dramatic', 'effect', 'on', 'the', 'calculated', 'rate.Data', 'not', 'availablefor', 'some', 'combinations', 'of', 'geography', ',', 'cancer', 'site', ',', 'age', ',', 'and', 'race/ethnicity.Suppressionis', 'used', 'to', 'avoid', 'misinterpretation', 'when', 'rates', 'are', 'unstable.Age-Adjusted', 'Mortality', 'Ratesby', 'Cancer', 'Site', '(', '2014-2018', ')', 'New', 'Jersey', 'RateUSA', 'RateMapTableCI*Rank', 'GraphRate', 'GraphHistorical', 'Trends', 'Graph5-Year', 'Rate', 'Change', 'GraphRate/Trend', 'Comparison', 'by', 'CancerRate/Trend', 'Comparison', 'by', 'AreaAll', 'Cancer', 'Sites148.4155.5MapTableRank', 'GraphRate', 'GraphHistorical', 'Trends', 'Graph5-Year', 'Rate', 'Change', 'GraphTableTableBladder4.64.3MapTableRank', 'GraphRate', 'GraphHistorical', 'Trends', 'Graph5-Year', 'Rate', 'Change', 'GraphTableTableBrain', '&', 'ONS4.24.4MapTableRank', 'GraphRate', 'GraphHistorical', 'Trends', 'Graph5-Year', 'Rate', 'Change', 'GraphTableTableBreast', '(', 'Female', ')', '20.920.1MapTableRank', 'GraphRate', 'GraphHistorical', 'Trends', 'Graph5-Year', 'Rate', 'Change', 'GraphTableTableCervix', '(', 'Female', ')', '2.12.2MapTableRank', 'GraphRate', 'GraphHistorical', 'Trends', 'Graph5-Year', 'Rate', 'Change', 'GraphTableTableChildhood', '(', 'Ages', '<', '15', ',', 'All', 'Sites', ')', '2.02.1MapTableRank', 'GraphRate', 'GraphHistorical', 'Trends', 'GraphN/ATableTableChildhood', '(', 'Ages', '<', '20', ',', 'All', 'Sites', ')', '2.22.2MapTableRank', 'GraphRate', 'GraphHistorical', 'Trends', 'GraphN/ATableTableColon', '&', 'Rectum13.713.7MapTableRank', 'GraphRate', 'GraphHistorical', 'Trends', 'Graph5-Year', 'Rate', 'Change', 'GraphTableTableEsophagus3.53.9MapTableRank', 'GraphRate', 'GraphHistorical', 'Trends', 'Graph5-Year', 'Rate', 'Change', 'GraphTableTableKidney', '&', 'Renal', 'Pelvis3.13.6MapTableRank', 'GraphRate', 'GraphHistorical', 'Trends', 'Graph5-Year', 'Rate', 'Change', 'GraphTableTableLeukemia6.06.3MapTableRank', 'GraphRate', 'GraphHistorical', 'Trends', 'Graph5-Year', 'Rate', 'Change', 'GraphTableTableLiver', '&', 'Bile', 'Duct5.96.6MapTableRank', 'GraphRate', 'GraphHistorical', 'Trends', 'Graph5-Year', 'Rate', 'Change', 'GraphTableTableLung', '&', 'Bronchus33.738.5MapTableRank', 'GraphRate', 'GraphHistorical', 'Trends', 'Graph5-Year', 'Rate', 'Change', 'GraphTableTableMelanoma', 'of', 'the', 'Skin2.12.3MapTableRank', 'GraphRate', 'GraphHistorical', 'Trends', 'Graph5-Year', 'Rate', 'Change', 'GraphTableTableNon-Hodgkin', 'Lymphoma5.35.4MapTableRank', 'GraphRate', 'GraphHistorical', 'Trends', 'Graph5-Year', 'Rate', 'Change', 'GraphTableTableOral', 'Cavity', '&', 'Pharynx2.02.5MapTableRank', 'GraphRate', 'GraphHistorical', 'Trends', 'Graph5-Year', 'Rate', 'Change', 'GraphTableTableOvary', '(', 'Female', ')', '6.56.7MapTableRank', 'GraphRate', 'GraphHistorical', 'Trends', 'Graph5-Year', 'Rate', 'Change', 'GraphTableTablePancreas11.311.0MapTableRank', 'GraphRate', 'GraphHistorical', 'Trends', 'Graph5-Year', 'Rate', 'Change', 'GraphTableTableProstate', '(', 'Male', ')', '17.619.0MapTableRank', 'GraphRate', 'GraphHistorical', 'Trends', 'Graph5-Year', 'Rate', 'Change', 'GraphTableTableStomach3.33.0MapTableRank', 'GraphRate', 'GraphHistorical', 'Trends', 'Graph5-Year', 'Rate', 'Change', 'GraphTableTableThyroid0.50.5MapTableRank', 'GraphRate', 'GraphHistorical', 'Trends', 'Graph5-Year', 'Rate', 'Change', 'GraphTableTableUterus', '(', 'Corpus', '&', 'Uterus', ',', 'NOS', ')', '(', 'Female', ')', '5.94.9MapTableRank', 'GraphRate', 'GraphHistorical', 'Trends', 'Graph5-Year', 'Rate', 'Change', 'GraphTableTableAge-Adjusted', 'Mortality', 'Rates', 'by', 'Race/Ethnicity', '(', '2014-2018', ')', 'New', 'Jersey', 'RateUSA', 'RateMapTableCI*Rank', 'GraphRate', 'GraphHistorical', 'Trends', 'Graph5-Year', 'Rate', 'Change', 'GraphRate/Trend', 'Comparison', 'by', 'CancerRate/Trend', 'Comparison', 'by', 'AreaAll', 'Races', '(', 'includes', 'Hispanic', ')', '148.4155.5MapTableRank', 'GraphRate', 'GraphHistorical', 'Trends', 'Graph5-Year', 'Rate', 'Change', 'GraphTableTableWhite', '(', 'includes', 'Hispanic', ')', '152.2156.3MapTableRank', 'GraphRate', 'GraphHistorical', 'Trends', 'Graph5-Year', 'Rate', 'Change', 'GraphN/AN/AWhite', 'Hispanic108.1117.3MapTableRank', 'GraphRate', 'GraphHistorical', 'Trends', 'Graph5-Year', 'Rate', 'Change', 'GraphN/AN/AWhite', 'Non-Hispanic157.6160.2MapTableRank', 'GraphRate', 'GraphHistorical', 'Trends', 'Graph5-Year', 'Rate', 'Change', 'GraphN/AN/ABlack', '(', 'includes', 'Hispanic', ')', '167.3177.5MapTableRank', 'GraphRate', 'GraphHistorical', 'Trends', 'Graph5-Year', 'Rate', 'Change', 'GraphN/AN/AHispanic', '(', 'any', 'race', ')', '97.6110.8MapTableRank', 'GraphRate', 'GraphHistorical', 'Trends', 'Graph5-Year', 'Rate', 'Change', 'GraphN/AN/AAmer', '.', 'Indian/Alaskan', 'Native', '(', 'includes', 'Hispanic', ')', '29.4103.6MapTableRank', 'GraphRate', 'GraphHistorical', 'Trends', 'Graph5-Year', 'Rate', 'Change', 'GraphN/AN/AAsian', 'or', 'Pacific', 'Islander', '(', 'includes', 'Hispanic', ')', '74.897.2MapTableRank', 'GraphRate', 'GraphHistorical', 'Trends', 'Graph5-Year', 'Rate', 'Change', 'GraphN/AN/AAge-Adjusted', 'Mortality', 'Rates', 'by', 'Sex', '(', '2014-2018', ')', 'New', 'Jersey', 'RateUSA', 'RateMapTableCI*Rank', 'GraphRate', 'GraphHistorical', 'Trends', 'Graph5-Year', 'Rate', 'Change', 'GraphRate/Trend', 'Comparison', 'by', 'CancerRate/Trend', 'Comparison', 'by', 'AreaBoth', 'Sexes148.4155.5MapTableRank', 'GraphRate', 'GraphHistorical', 'Trends', 'Graph5-Year', 'Rate', 'Change', 'GraphTableTableMale172.3185.5MapTableRank', 'GraphRate', 'GraphHistorical', 'Trends', 'Graph5-Year', 'Rate', 'Change', 'GraphTableTableFemale132.6133.5MapTableRank', 'GraphRate', 'GraphHistorical', 'Trends', 'Graph5-Year', 'Rate', 'Change', 'GraphTableTableAge-Adjusted', 'Mortality', 'Rates', 'by', 'Age', '(', '2014-2018', ')', 'New', 'Jersey', 'RateUSA', 'RateMapTableCI*Rank', 'GraphRate', 'GraphHistorical', 'Trends', 'Graph5-Year', 'Rate', 'Change', 'GraphRate/Trend', 'Comparison', 'by', 'CancerRate/Trend', 'Comparison', 'by', 'AreaAll', 'Ages148.4155.5MapTableRank', 'GraphRate', 'GraphHistorical', 'Trends', 'Graph5-Year', 'Rate', 'Change', 'GraphTableTableAges', '<', '6543.349.4MapTableRank', 'GraphRate', 'GraphHistorical', 'Trends', 'Graph5-Year', 'Rate', 'Change', 'GraphN/AN/AAges', '<', '5013.715.4MapTableRank', 'GraphRate', 'GraphHistorical', 'Trends', 'Graph5-Year', 'Rate', 'Change', 'GraphN/AN/AAges', '50+501.0522.2MapTableRank', 'GraphRate', 'GraphHistorical', 'Trends', 'Graph5-Year', 'Rate', 'Change', 'GraphN/AN/AAges', '65+874.9888.4MapTableRank', 'GraphRate', 'GraphHistorical', 'Trends', 'Graph5-Year', 'Rate', 'Change', 'GraphN/AN/AAge-Adjusted', 'Mortality', 'Rates', 'by', 'YearNew', 'Jersey', 'RateUSA', 'RateMapTableCI*Rank', 'GraphRate', 'GraphHistorical', 'Trends', 'Graph5-Year', 'Rate', 'Change', 'GraphRate/Trend', 'Comparison', 'by', 'CancerRate/Trend', 'Comparison', 'by', 'Area2014-2018148.4155.5MapTableRank', 'GraphRate', 'GraphHistorical', 'Trends', 'Graph5-Year', 'Rate', 'Change', 'GraphTableTable2018141.1149.0MapTableRank', 'GraphRate', 'GraphHistorical', 'Trends', 'GraphN/AN/AN/ANotes', ':', 'Created', 'by', 'statecancerprofiles.cancer.gov', 'on', '04/29/2021', '3:36', 'pm.For', 'more', 'explicit', 'data', 'source', 'and', 'footnote', 'information', 'please', 'see', 'the', 'tables', ',', 'graphs', 'and', 'maps', 'that', 'are', 'linked', 'to', 'each', 'row.Source', ':', 'Death', 'data', 'provided', 'by', 'theNational', 'Vital', 'Statistics', 'Systempublic', 'use', 'data', 'file', '.', 'Death', 'rates', 'calculated', 'by', 'the', 'National', 'Cancer', 'Institute', 'usingSEER*Stat', '.', 'Death', 'rates', 'are', 'age-adjusted', 'to', 'the2000', 'US', 'standard', 'population', '(', '19', 'age', 'groups', ':', '<', '1', ',', '1-4', ',', '5-9', ',', '...', ',', '80-84', ',', '85+', ')', '.', 'The', 'Healthy', 'People', '2020', 'goals', 'are', 'based', 'on', 'rates', 'adjusted', 'using', 'different', 'methods', 'but', 'the', 'differences', 'should', 'be', 'minimal', '.', 'Population', 'counts', 'for', 'denominators', 'are', 'based', 'on', 'Census', 'populations', 'as', 'modified', 'by', 'NCI', '.', 'The1969-2017', 'US', 'Population', 'DataFile', 'is', 'used', 'with', 'mortality', 'data.Demographics', ':', 'CrowdingNew', 'Jersey', 'PercentUSA', 'PercentMapTableHouseholds', 'with', '>', '1', 'person', 'per', 'room', ',', '2014-20183.13.3MapTableDemographics', ':', 'EducationNew', 'Jersey', 'PercentUSA', 'PercentMapTableLess', 'than', '9th', 'grade', ',', '2014-2018', ',', 'Ages', '25+4.95.3MapTableAt', 'least', 'high', 'school', ',', '2014-2018', ',', 'Ages', '25+89.587.7MapTableAt', 'least', 'bachelors', 'degree', ',', '2014-2018', ',', 'Ages', '25+38.931.5MapTableDemographics', ':', 'IncomeNew', 'Jersey', 'DollarsUSA', 'DollarsMapTableMedian', 'family', 'income', ',', '2014-201898,04773,965MapTableMedian', 'household', 'income', ',', '2014-201879,36360,293MapTableDemographics', ':', 'InsuranceNew', 'Jersey', 'PercentUSA', 'PercentMapTablePercent', 'uninsured', 'in', 'demographic', 'group', ',', 'people', 'at', 'or', 'below', '138', '%', 'of', 'poverty', ',', '2018', ',', 'Ages', '<', '6516.7N/AMapTableDemographics', ':', 'LanguageNew', 'Jersey', 'PercentUSA', 'PercentMapTableLanguage', 'isolation', ',', '2014-20187.04.4MapTableDemographics', ':', 'MobilityNew', 'Jersey', 'PercentUSA', 'PercentMapTableHave', \"n't\", 'moved', '(', 'in', 'past', 'year', ')', ',', '2014-201889.985.5MapTableMoved', ',', 'same', 'county', '(', 'in', 'past', 'year', ')', ',', '2014-20185.48.2MapTableMoved', ',', 'different', 'county', 'this', 'state', '(', 'in', 'past', 'year', ')', ',', '2014-20182.43.2MapTableMoved', ',', 'different', 'state', '(', 'in', 'past', 'year', ')', ',', '2014-20181.62.3MapTableMoved', 'from', 'outside', 'US', '(', 'in', 'past', 'year', ')', ',', '2014-20180.80.7MapTableDemographics', ':', 'Population', '-', 'AgesNew', 'Jersey', 'PercentUSA', 'PercentMapTableAge', 'under', '18', ',', '2014-201822.222.8MapTableAge', '18-39', ',', '2014-201828.029.8MapTableAge', '40-64', ',', '2014-201834.332.2MapTableAge', '40', 'and', 'over', ',', '2014-201849.847.4MapTableAge', '50', 'and', 'over', ',', '2014-201836.334.8MapTableAge', '65', 'and', 'over', ',', '2014-201815.515.2MapTableDemographics', ':', 'Population', '-', 'Race/EthnicityNew', 'Jersey', 'PercentUSA', 'PercentMapTableAmerican', 'Indian/Alaska', 'Native', ',', '2014-20180.20.8MapTableAsian', '/', 'Pacific', 'Islander', ',', '2014-20189.45.6MapTableBlack', ',', '2014-201813.512.7MapTableForeign', 'born', ',', '2014-201822.213.5MapTableHispanic', ',', '2014-201819.917.8MapTableNon-Hispanic', '(', 'Origin', 'Recode', ')', ',', '2014-201880.182.2MapTableWhite', ',', '2014-201867.972.7MapTableDemographics', ':', 'Population', '-', 'SexNew', 'Jersey', 'PercentUSA', 'PercentMapTableFemale', ',', '2014-201851.250.8MapTableMale', ',', '2014-201848.849.2MapTableDemographics', ':', 'PovertyNew', 'Jersey', 'PercentUSA', 'PercentMapTableFamilies', 'below', 'poverty', ',', '2014-20187.610.1MapTablePersons', 'below', 'poverty', ',', '2014-201810.414.1MapTablePersons', 'below', '150', '%', 'of', 'poverty', ',', '2014-201817.023.0MapTableDemographics', ':', 'WorkforceNew', 'Jersey', 'PercentUSA', 'PercentMapTableUnemployed', ',', '2014-20186.15.9MapTableNotes', ':', 'Created', 'by', 'statecancerprofiles.cancer.gov', 'on', '04/29/2021', '3:36', 'pm.For', 'more', 'explicit', 'data', 'source', 'and', 'footnote', 'information', 'please', 'see', 'the', 'tables', ',', 'graphs', 'and', 'maps', 'that', 'are', 'linked', 'to', 'each', 'row.Source', ':', 'Demographic', 'data', 'provided', 'by', 'theCensus', 'Bureau', ',', 'theAmerican', 'Community', 'Survey', ',', 'and', 'theSmall', 'Area', 'Health', 'Insurance', 'Estimates.Screening', '&', 'Risk', 'Factors', ':', 'Colorectal', 'ScreeningNew', 'JerseyUSAMapTableEver', 'Had', 'Colorectal', 'Endoscopy', '(', 'Sigmoidoscopy', 'or', 'Colonoscopy', ')', ',', 'Ages', '50+', ',', '201868.9371.6MapTableFOBT', 'in', 'last', 'year', 'and/or', 'flex', 'sig', 'in', 'last', '5', 'years', 'and', 'FOBT', 'in', 'last', '3', 'years', 'and/or', 'colonoscopy', 'in', 'last', '10', 'years', ',', 'Ages', '50-75', ',', '201867.5969.7MapTableHome-Based', 'Fecal', 'Occult', 'Blood', 'Test', '(', 'FOBT', ')', 'in', 'Past', 'Two', 'Years', ',', 'Ages', '50+', ',', '201812.5812.8MapTableHome-based', 'FOBT', 'in', 'the', 'past', 'two', 'years', 'or', 'ever', 'had', 'a', 'colorectal', 'endoscopy', ',', 'Ages', '50+', ',', '201872.6075.5MapTableScreening', '&', 'Risk', 'Factors', ':', 'Diet', '&', 'ExerciseNew', 'JerseyUSAMapTableConsumed', '1', 'or', 'More', 'Fruits', 'per', 'Day', ',', 'Ages', '18+', ',', '2019N/A60.7MapTableConsumed', '1', 'or', 'More', 'Vegetables', 'per', 'Day', ',', 'Ages', '18+', ',', '2019N/A79.7MapTableHealthy', 'Weight', '(', 'BMI', '18.5', 'to', '<', '25', ')', ',', 'Ages', '20+', ',', '2019N/A30.0MapTableNo', 'Leisure', 'Time', 'Physical', 'Activity', ',', 'Ages', '18+', ',', '2019N/A26.3MapTableObese', '(', '>', '=', '95th', 'percentile', 'for', 'BMI', 'based', 'on', 'sex', 'and', 'age', ')', ',', 'High', 'School', 'Students', ',', '201911.915.5MapTableObese', '(', 'BMI', '>', '=', '30', ')', ',', 'Ages', '20+', ',', '2019N/A32.7MapTableOverweight', '(', '>', '=', '85th', 'percentile', 'but', '<', '95th', 'percentile', 'for', 'BMI', 'based', 'on', 'sex', 'and', 'age', ')', ',', 'High', 'School', 'Students', ',', '201914.716.1MapTableScreening', '&', 'Risk', 'Factors', ':', 'SmokingNew', 'JerseyUSAMapTableCurrent', 'Smoker', ',', 'Ages', '18+', ',', '2019N/A16.0MapTableEver', 'Smoked', '100', 'Cigarettes', ',', 'Ages', '18+', ',', '2019N/A41.5MapTablePercent', 'of', 'Daily', 'Smokers', 'Who', 'Stopped', 'Smoking', 'for', '1', 'Day', 'or', 'Longer', 'in', 'the', 'Past', '12', 'Months', ',', 'Ages', '18+', ',', '2018-201942.935.7MapTablePercent', 'of', 'People', 'Who', 'Answered', 'No', 'One', 'is', 'Allowed', 'to', 'Smoke', 'Anywhere', 'Inside', 'Their', 'Home', '(', 'All', 'People', ')', ',', 'Ages', '18+', ',', '2018-201991.390.0MapTablePercent', 'of', 'People', 'Who', 'Answered', 'No', 'One', 'is', 'Allowed', 'to', 'Smoke', 'Anywhere', 'Inside', 'Their', 'Home', '(', 'Current', 'Smokers', ')', ',', 'Ages', '18+', ',', '2018-201960.458.5MapTablePercent', 'of', 'People', 'Who', 'Answered', 'No', 'One', 'is', 'Allowed', 'to', 'Smoke', 'Inside', 'Their', 'Home', '(', 'Former/Never', 'Smokers', ')', ',', 'Ages', '18+', ',', '2018-201993.794.0MapTablePercent', 'of', 'State', 'Population', 'with', '100', '%', 'Smokefree', 'Bar', 'Laws', ',', '2021100.066.4N/ATablePercent', 'of', 'State', 'Population', 'with', '100', '%', 'Smokefree', 'Restaurant', 'Laws', ',', '2021100.077.8N/ATablePercent', 'of', 'State', 'Population', 'with', '100', '%', 'Smokefree', 'Workplace', 'Laws', ',', '2021100.076.1N/ATablePercent', 'of', 'State', 'Population', 'with', '100', '%', 'Smokefree', 'Workplace', ',', 'Restaurant', ',', '&', 'Bar', 'Laws', ',', '2021100.061.1N/ATablePercent', 'of', 'State', 'Population', 'with', 'Any', '100', '%', 'Smokefree', 'Laws', ',', '2021100.082.1N/ATablePercent', 'of', 'Workers', 'in', 'Non-Smoking', 'Environments', '(', 'All', 'People', ')', ',', 'Ages', '18+', ',', '2018-201983.879.9MapTablePercent', 'of', 'Workers', 'in', 'Non-Smoking', 'Environments', '(', 'Current', 'Smokers', ')', ',', 'Ages', '18+', ',', '2018-201968.173.1MapTablePercent', 'of', 'Workers', 'in', 'Non-Smoking', 'Environments', '(', 'Former/Never', 'Smokers', ')', ',', 'Ages', '18+', ',', '2018-201984.880.7MapTableScreening', '&', 'Risk', 'Factors', ':', 'VaccinesNew', 'JerseyUSAMapTablePercent', 'who', 'received', '2+', 'doses', 'of', 'HPV', 'Vaccine', ',', 'Ages', '13-15', ',', 'Both', 'Sexes', ',', '201844.351.1MapTablePercent', 'who', 'received', '2+', 'doses', 'of', 'HPV', 'Vaccine', ',', 'Ages', '13-17', ',', 'Both', 'Sexes', ',', '201849.955.0MapTablePercent', 'who', 'received', '2+', 'doses', 'of', 'HPV', 'Vaccine', ',', 'Ages', '13-17', ',', 'Male', ',', '201848.252.8MapTablePercent', 'who', 'received', '2+', 'doses', 'of', 'HPV', 'Vaccine', ',', 'Ages', '13-15', ',', 'Male', ',', '201845.149.9MapTablePercent', 'who', 'received', '2+', 'doses', 'of', 'HPV', 'Vaccine', ',', 'Ages', '13-15', ',', 'Female', ',', '201843.652.2MapTablePercent', 'who', 'received', '2+', 'doses', 'of', 'HPV', 'Vaccine', ',', 'Ages', '13-17', ',', 'Female', ',', '201851.757.4MapTablePercent', 'who', 'received', '3+', 'doses', 'of', 'HPV', 'Vaccine', ',', 'Ages', '13-15', ',', 'Both', 'Sexes', ',', '201820.327.2MapTablePercent', 'who', 'received', '3+', 'doses', 'of', 'HPV', 'Vaccine', ',', 'Ages', '13-17', ',', 'Both', 'Sexes', ',', '201830.034.9MapTablePercent', 'who', 'received', '3+', 'doses', 'of', 'HPV', 'Vaccine', ',', 'Ages', '13-17', ',', 'Male', ',', '201825.832.1MapTablePercent', 'who', 'received', '3+', 'doses', 'of', 'HPV', 'Vaccine', ',', 'Ages', '13-15', ',', 'Male', ',', '201819.026.1MapTablePercent', 'who', 'received', '3+', 'doses', 'of', 'HPV', 'Vaccine', ',', 'Ages', '13-15', ',', 'Female', ',', '201821.528.4MapTablePercent', 'who', 'received', '3+', 'doses', 'of', 'HPV', 'Vaccine', ',', 'Ages', '13-17', ',', 'Female', ',', '201834.437.9MapTableScreening', '&', 'Risk', 'Factors', ':', 'Women', \"'s\", 'HealthNew', 'JerseyUSAMapTableHad', 'a', 'Mammogram', 'in', 'Past', '2', 'Years', ',', 'Ages', '40+', ',', '201875.4871.8MapTableHad', 'a', 'Mammogram', 'in', 'Past', '2', 'Years', ',', 'Ages', '50-74', ',', '201881.3178.3MapTableHad', 'a', 'Pap', 'Smear', 'in', 'Past', '3', 'Years', 'and', 'No', 'Hysterectomy', ',', 'Ages', '18+', ',', '201873.4571.7MapTablePap', 'Test', 'in', 'Past', '3', 'Years', ',', 'No', 'Hysterectomy', ',', 'Ages', '21-65', ',', '201878.1080.2MapTableNotes', ':', 'Created', 'by', 'statecancerprofiles.cancer.gov', 'on', '04/29/2021', '3:36', 'pm.For', 'more', 'explicit', 'data', 'source', 'and', 'footnote', 'information', 'please', 'see', 'the', 'tables', ',', 'graphs', 'and', 'maps', 'that', 'are', 'linked', 'to', 'each', 'row.Data', 'statistics', 'on', 'this', 'page', 'come', 'from', 'the', 'following', 'data', 'sources', ':', 'CDC', ',', 'Modeled', 'Estimates', 'Combining', 'BRFSS', '&', 'NHIS', ',', 'Tobacco', 'Use', 'Supplement', 'to', 'the', 'Current', 'Population', 'Survey', ',', 'and', 'American', 'Nonsmokers', \"'\", 'Rights', 'Foundation', '.', 'Please', 'see', 'the', 'link', 'on', 'each', 'row', 'for', 'the', 'table/graph', 'map', 'for', 'the', 'specific', 'footnote', 'information.Prevalence', ':', 'Counts', '(', '2017', ')', 'New', 'JerseyUSATableAll', 'Cancer', 'Sites', '-', 'Male239,1007,599,300TableAll', 'Cancer', 'Sites', '-', 'Female271,2008,296,800TableBreast', '-', 'Female110,2003,669,300TablePrevalence', ':', 'Crude', 'Percents', '(', '2017', ')', 'New', 'JerseyUSATableAll', 'Cancer', 'Sites', '-', 'Male5.254.72TableAll', 'Cancer', 'Sites', '-', 'Female5.664.98TableBreast', '-', 'Female2.302.20TablePrevalence', ':', 'Age-Adjusted', 'Percents', '(', '2017', ')', 'New', 'JerseyUSATableAll', 'Cancer', 'Sites', '-', 'Male5.084.54TableAll', 'Cancer', 'Sites', '-', 'Female4.303.97TableBreast', '-', 'Female1.671.69TableNotes', ':', 'Created', 'by', 'statecancerprofiles.cancer.gov', 'on', '04/29/2021', '3:36', 'pm.For', 'more', 'explicit', 'data', 'source', 'and', 'footnote', 'information', 'please', 'see', 'the', 'tables', ',', 'graphs', 'and', 'maps', 'that', 'are', 'linked', 'to', 'each', 'row.Methodology', ':', 'Cancer', 'prevalence', 'estimates', 'are', 'derived', 'from', 'state', 'specific', 'cancer', 'mortality', 'and', 'survival', 'data', 'using', 'a', 'statistical', 'package', 'called', 'MIAMOD', '(', 'Mortality-Incidence', 'Analysis', 'MODEL', ')', '.', 'Cancer', 'survival', 'models', 'are', 'derived', 'from', 'theSurveillance', ',', 'Epidemiology', ',', 'and', 'End', 'Results', '(', 'SEER', ')', 'Program', 'data', 'and', 'adjusted', 'to', 'represent', 'state', 'specific', 'survival.Site', 'HomePoliciesAccessibilityFOIAContact', 'UsU.S', '.', 'Department', 'of', 'Health', 'and', 'Human', 'Services|National', 'Institutes', 'of', 'Health|National', 'Cancer', 'Institute|USA.govNIH', '...', 'Turning', 'Discovery', 'Into', 'Health®']\n"
          ],
          "name": "stdout"
        }
      ]
    },
    {
      "cell_type": "code",
      "metadata": {
        "colab": {
          "base_uri": "https://localhost:8080/",
          "height": 346
        },
        "id": "uz7iJrxeI5QD",
        "outputId": "3ccc0cdc-a477-41c1-ca65-e6d134a4e383"
      },
      "source": [
        "cts=nltk.FreqDist(word_tokens)\n",
        "cts.plot(20)"
      ],
      "execution_count": null,
      "outputs": [
        {
          "output_type": "display_data",
          "data": {
            "image/png": "[encoded data removed]",
            "text/plain": [
              "<Figure size 432x288 with 1 Axes>"
            ]
          },
          "metadata": {
            "tags": [],
            "needs_background": "light"
          }
        }
      ]
    },
    {
      "cell_type": "markdown",
      "metadata": {
        "id": "IUXRgOZHJfpk"
      },
      "source": [
        "**7.\tSentence Segmentation**"
      ]
    },
    {
      "cell_type": "code",
      "metadata": {
        "colab": {
          "base_uri": "https://localhost:8080/"
        },
        "id": "zQc4ktxuPdXB",
        "outputId": "32906b08-d877-4401-97aa-0fc54a271f10"
      },
      "source": [
        "#import spacy library\n",
        "import spacy\n",
        "\n",
        "#load core english library\n",
        "nlp = spacy.load(\"en_core_web_sm\")\n",
        "\n",
        "#take unicode string\n",
        "#here u stands for unicode\n",
        "doc = nlp(u\"I Love Coding. Geeks for Geeks helped me in this regard very much. I Love Geeks for Geeks.\")\n",
        "#to print sentences\n",
        "for sent in doc.sents:\n",
        "  print(sent)\n"
      ],
      "execution_count": null,
      "outputs": [
        {
          "output_type": "stream",
          "text": [
            "I Love Coding.\n",
            "Geeks for Geeks helped me in this regard very much.\n",
            "I Love Geeks for Geeks.\n"
          ],
          "name": "stdout"
        }
      ]
    },
    {
      "cell_type": "code",
      "metadata": {
        "colab": {
          "base_uri": "https://localhost:8080/"
        },
        "id": "7q7Nh6FtODwW",
        "outputId": "f0c7101a-91c8-4a28-bd82-c6ad1f031e3a"
      },
      "source": [
        "stanza.download('en')"
      ],
      "execution_count": null,
      "outputs": [
        {
          "output_type": "stream",
          "text": [
            "Downloading https://raw.githubusercontent.com/stanfordnlp/stanza-resources/master/resources_1.2.0.json: 128kB [00:00, 25.5MB/s]                    \n",
            "2021-04-29 20:03:31 INFO: Downloading default packages for language: en (English)...\n",
            "2021-04-29 20:03:32 INFO: File exists: /root/stanza_resources/en/default.zip.\n",
            "2021-04-29 20:03:36 INFO: Finished downloading models and saved to /root/stanza_resources.\n"
          ],
          "name": "stderr"
        }
      ]
    },
    {
      "cell_type": "code",
      "metadata": {
        "colab": {
          "base_uri": "https://localhost:8080/"
        },
        "id": "-dNEtJvpMu21",
        "outputId": "878f12b0-4c7b-44c2-f498-eb7dd4cbb3b6"
      },
      "source": [
        "import stanza\n",
        "\n",
        "nlp = stanza.Pipeline(lang='en', processors='tokenize')\n",
        "doc = nlp('This is a test sentence for stanza. This is another sentence.')\n",
        "for i, sentence in enumerate(doc.sentences):\n",
        "    print(f'====== Sentence {i+1} tokens =======')\n",
        "    print(*[f'id: {token.id}\\ttext: {token.text}' for token in sentence.tokens], sep='\\n')"
      ],
      "execution_count": null,
      "outputs": [
        {
          "output_type": "stream",
          "text": [
            "2021-04-29 20:03:43 INFO: Loading these models for language: en (English):\n",
            "========================\n",
            "| Processor | Package  |\n",
            "------------------------\n",
            "| tokenize  | combined |\n",
            "========================\n",
            "\n",
            "2021-04-29 20:03:43 INFO: Use device: cpu\n",
            "2021-04-29 20:03:43 INFO: Loading: tokenize\n",
            "2021-04-29 20:03:43 INFO: Done loading processors!\n"
          ],
          "name": "stderr"
        },
        {
          "output_type": "stream",
          "text": [
            "====== Sentence 1 tokens =======\n",
            "id: (1,)\ttext: This\n",
            "id: (2,)\ttext: is\n",
            "id: (3,)\ttext: a\n",
            "id: (4,)\ttext: test\n",
            "id: (5,)\ttext: sentence\n",
            "id: (6,)\ttext: for\n",
            "id: (7,)\ttext: stanza\n",
            "id: (8,)\ttext: .\n",
            "====== Sentence 2 tokens =======\n",
            "id: (1,)\ttext: This\n",
            "id: (2,)\ttext: is\n",
            "id: (3,)\ttext: another\n",
            "id: (4,)\ttext: sentence\n",
            "id: (5,)\ttext: .\n"
          ],
          "name": "stdout"
        }
      ]
    },
    {
      "cell_type": "markdown",
      "metadata": {
        "id": "ddSt3NEQMcJS"
      },
      "source": [
        "**8.\tRemoving Stop Words with NLTK**"
      ]
    },
    {
      "cell_type": "code",
      "metadata": {
        "id": "lHUcS2oePpeR"
      },
      "source": [
        "from nltk.corpus import stopwords"
      ],
      "execution_count": null,
      "outputs": []
    },
    {
      "cell_type": "code",
      "metadata": {
        "colab": {
          "base_uri": "https://localhost:8080/"
        },
        "id": "EGdPvG7pQMt7",
        "outputId": "fb005371-880f-4651-edd8-32a86f26d764"
      },
      "source": [
        "nltk.download('stopwords')\n",
        "print(stopwords.words(\"english\"))"
      ],
      "execution_count": null,
      "outputs": [
        {
          "output_type": "stream",
          "text": [
            "[nltk_data] Downloading package stopwords to /root/nltk_data...\n",
            "[nltk_data]   Unzipping corpora/stopwords.zip.\n",
            "['i', 'me', 'my', 'myself', 'we', 'our', 'ours', 'ourselves', 'you', \"you're\", \"you've\", \"you'll\", \"you'd\", 'your', 'yours', 'yourself', 'yourselves', 'he', 'him', 'his', 'himself', 'she', \"she's\", 'her', 'hers', 'herself', 'it', \"it's\", 'its', 'itself', 'they', 'them', 'their', 'theirs', 'themselves', 'what', 'which', 'who', 'whom', 'this', 'that', \"that'll\", 'these', 'those', 'am', 'is', 'are', 'was', 'were', 'be', 'been', 'being', 'have', 'has', 'had', 'having', 'do', 'does', 'did', 'doing', 'a', 'an', 'the', 'and', 'but', 'if', 'or', 'because', 'as', 'until', 'while', 'of', 'at', 'by', 'for', 'with', 'about', 'against', 'between', 'into', 'through', 'during', 'before', 'after', 'above', 'below', 'to', 'from', 'up', 'down', 'in', 'out', 'on', 'off', 'over', 'under', 'again', 'further', 'then', 'once', 'here', 'there', 'when', 'where', 'why', 'how', 'all', 'any', 'both', 'each', 'few', 'more', 'most', 'other', 'some', 'such', 'no', 'nor', 'not', 'only', 'own', 'same', 'so', 'than', 'too', 'very', 's', 't', 'can', 'will', 'just', 'don', \"don't\", 'should', \"should've\", 'now', 'd', 'll', 'm', 'o', 're', 've', 'y', 'ain', 'aren', \"aren't\", 'couldn', \"couldn't\", 'didn', \"didn't\", 'doesn', \"doesn't\", 'hadn', \"hadn't\", 'hasn', \"hasn't\", 'haven', \"haven't\", 'isn', \"isn't\", 'ma', 'mightn', \"mightn't\", 'mustn', \"mustn't\", 'needn', \"needn't\", 'shan', \"shan't\", 'shouldn', \"shouldn't\", 'wasn', \"wasn't\", 'weren', \"weren't\", 'won', \"won't\", 'wouldn', \"wouldn't\"]\n"
          ],
          "name": "stdout"
        }
      ]
    },
    {
      "cell_type": "code",
      "metadata": {
        "colab": {
          "base_uri": "https://localhost:8080/"
        },
        "id": "_KF67JcmQWm3",
        "outputId": "c121147a-c833-4d1e-d95e-0a83cd20c5ce"
      },
      "source": [
        "#Let’s see how we can remove the stop words from a sentence.\n",
        "stop_words = set(stopwords.words(\"english\"))\n",
        "sentence = \"Backgammon is one of the oldest known board games.\"\n",
        "\n",
        "words = nltk.word_tokenize(sentence)\n",
        "without_stop_words = [word for word in words if not word in stop_words]\n",
        "print(without_stop_words)"
      ],
      "execution_count": null,
      "outputs": [
        {
          "output_type": "stream",
          "text": [
            "['Backgammon', 'one', 'oldest', 'known', 'board', 'games', '.']\n"
          ],
          "name": "stdout"
        }
      ]
    }
  ]
}