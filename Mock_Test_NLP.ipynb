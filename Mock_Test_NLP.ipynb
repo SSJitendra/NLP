{
  "nbformat": 4,
  "nbformat_minor": 0,
  "metadata": {
    "colab": {
      "name": "Mock_Test_NLP.ipynb",
      "provenance": [],
      "collapsed_sections": []
    },
    "kernelspec": {
      "name": "python3",
      "display_name": "Python 3"
    },
    "language_info": {
      "name": "python"
    }
  },
  "cells": [
    {
      "cell_type": "markdown",
      "metadata": {
        "id": "cvPnMa7gC5Hl"
      },
      "source": [
        "**Q.1 Tokenize the given text into sentences and words.**"
      ]
    },
    {
      "cell_type": "code",
      "metadata": {
        "colab": {
          "base_uri": "https://localhost:8080/"
        },
        "id": "jeK3bf8iBK9a",
        "outputId": "c308250d-3ea7-490f-98bf-40146b1c3cf0"
      },
      "source": [
        "pip install nltk"
      ],
      "execution_count": 1,
      "outputs": [
        {
          "output_type": "stream",
          "text": [
            "Requirement already satisfied: nltk in /usr/local/lib/python3.7/dist-packages (3.2.5)\n",
            "Requirement already satisfied: six in /usr/local/lib/python3.7/dist-packages (from nltk) (1.15.0)\n"
          ],
          "name": "stdout"
        }
      ]
    },
    {
      "cell_type": "code",
      "metadata": {
        "colab": {
          "base_uri": "https://localhost:8080/"
        },
        "id": "ry99XnOiDK_6",
        "outputId": "72cc0b4c-7b61-4d44-d860-165248f340be"
      },
      "source": [
        "import nltk\n",
        "from nltk.tokenize import sent_tokenize\n",
        "from nltk.tokenize import word_tokenize\n",
        "nltk.download('punkt')"
      ],
      "execution_count": 2,
      "outputs": [
        {
          "output_type": "stream",
          "text": [
            "[nltk_data] Downloading package punkt to /root/nltk_data...\n",
            "[nltk_data]   Unzipping tokenizers/punkt.zip.\n"
          ],
          "name": "stdout"
        },
        {
          "output_type": "execute_result",
          "data": {
            "text/plain": [
              "True"
            ]
          },
          "metadata": {
            "tags": []
          },
          "execution_count": 2
        }
      ]
    },
    {
      "cell_type": "code",
      "metadata": {
        "colab": {
          "base_uri": "https://localhost:8080/"
        },
        "id": "KRohYWYHDk1k",
        "outputId": "be29b13f-3a2e-4f13-972a-8aa7364a4926"
      },
      "source": [
        "text = \"The Department of Information Technology at Ramniranjan Jhunjhunwala College, Ghatkopar, Mumbai was established in 2007. The Department offers both undergraduate (B.Sc. IT) and postgraduate (M.Sc. IT) programmes. The M.Sc IT programme was introduced in the year 2016.\"\n",
        "word_tokenize(text)"
      ],
      "execution_count": 3,
      "outputs": [
        {
          "output_type": "execute_result",
          "data": {
            "text/plain": [
              "['The',\n",
              " 'Department',\n",
              " 'of',\n",
              " 'Information',\n",
              " 'Technology',\n",
              " 'at',\n",
              " 'Ramniranjan',\n",
              " 'Jhunjhunwala',\n",
              " 'College',\n",
              " ',',\n",
              " 'Ghatkopar',\n",
              " ',',\n",
              " 'Mumbai',\n",
              " 'was',\n",
              " 'established',\n",
              " 'in',\n",
              " '2007',\n",
              " '.',\n",
              " 'The',\n",
              " 'Department',\n",
              " 'offers',\n",
              " 'both',\n",
              " 'undergraduate',\n",
              " '(',\n",
              " 'B.Sc',\n",
              " '.',\n",
              " 'IT',\n",
              " ')',\n",
              " 'and',\n",
              " 'postgraduate',\n",
              " '(',\n",
              " 'M.Sc',\n",
              " '.',\n",
              " 'IT',\n",
              " ')',\n",
              " 'programmes',\n",
              " '.',\n",
              " 'The',\n",
              " 'M.Sc',\n",
              " 'IT',\n",
              " 'programme',\n",
              " 'was',\n",
              " 'introduced',\n",
              " 'in',\n",
              " 'the',\n",
              " 'year',\n",
              " '2016',\n",
              " '.']"
            ]
          },
          "metadata": {
            "tags": []
          },
          "execution_count": 3
        }
      ]
    },
    {
      "cell_type": "code",
      "metadata": {
        "colab": {
          "base_uri": "https://localhost:8080/"
        },
        "id": "i3oabNlWEvt7",
        "outputId": "18b84821-0467-4230-9741-e011da08bf42"
      },
      "source": [
        "sent_tokenize(text)"
      ],
      "execution_count": 4,
      "outputs": [
        {
          "output_type": "execute_result",
          "data": {
            "text/plain": [
              "['The Department of Information Technology at Ramniranjan Jhunjhunwala College, Ghatkopar, Mumbai was established in 2007.',\n",
              " 'The Department offers both undergraduate (B.Sc.',\n",
              " 'IT) and postgraduate (M.Sc.',\n",
              " 'IT) programmes.',\n",
              " 'The M.Sc IT programme was introduced in the year 2016.']"
            ]
          },
          "metadata": {
            "tags": []
          },
          "execution_count": 4
        }
      ]
    },
    {
      "cell_type": "markdown",
      "metadata": {
        "id": "ZRxprHxRFMT5"
      },
      "source": [
        "**Q.2 Pos tag each word to display its grammatical information**"
      ]
    },
    {
      "cell_type": "code",
      "metadata": {
        "colab": {
          "base_uri": "https://localhost:8080/"
        },
        "id": "ZbM44q84Hheq",
        "outputId": "261a9791-4626-44b4-c31e-221189cc39e5"
      },
      "source": [
        "from nltk.chunk.regexp import tag_pattern2re_pattern\n",
        "import matplotlib\n",
        "matplotlib.use('Agg')\n",
        "import nltk\n",
        "nltk.download('averaged_perceptron_tagger')\n",
        "from nltk.tokenize import word_tokenize \n",
        "from nltk import pos_tag\n",
        "  \n",
        "def chunking(text, grammar):\n",
        "    word_tokens = word_tokenize(text)\n",
        "  \n",
        "    # label words with part of speech\n",
        "    word_pos = pos_tag(word_tokens)\n",
        "  \n",
        "    # create a chunk parser using grammar\n",
        "    chunkParser = nltk.RegexpParser(grammar)\n",
        "  \n",
        "    # test it on the list of word tokens with tagged pos\n",
        "    tree = chunkParser.parse(word_pos)\n",
        "      \n",
        "    for subtree in tree.subtrees():\n",
        "        print(subtree)\n",
        "    \n",
        "      \n",
        "sentence = 'the little yellow bird is flying in the sky'\n",
        "grammar = \"NP: {<DT>?<JJ>*<NN>}\"\n",
        "chunking(sentence, grammar)"
      ],
      "execution_count": 5,
      "outputs": [
        {
          "output_type": "stream",
          "text": [
            "[nltk_data] Downloading package averaged_perceptron_tagger to\n",
            "[nltk_data]     /root/nltk_data...\n",
            "[nltk_data]   Unzipping taggers/averaged_perceptron_tagger.zip.\n",
            "(S\n",
            "  (NP the/DT little/JJ yellow/JJ bird/NN)\n",
            "  is/VBZ\n",
            "  flying/VBG\n",
            "  in/IN\n",
            "  (NP the/DT sky/NN))\n",
            "(NP the/DT little/JJ yellow/JJ bird/NN)\n",
            "(NP the/DT sky/NN)\n"
          ],
          "name": "stdout"
        }
      ]
    },
    {
      "cell_type": "markdown",
      "metadata": {
        "id": "fC8TVkmALL75"
      },
      "source": [
        "\n",
        "**Q.3 Apply chunking to extract the following sentence from the given text. The Department offers both undergraduate (B.Sc. IT) and postgraduate (M.Sc. IT) programmes.**"
      ]
    },
    {
      "cell_type": "code",
      "metadata": {
        "id": "8VS8IubqLMdh"
      },
      "source": [
        "import nltk"
      ],
      "execution_count": 6,
      "outputs": []
    },
    {
      "cell_type": "code",
      "metadata": {
        "colab": {
          "base_uri": "https://localhost:8080/"
        },
        "id": "qhhWZ-ZwLcJI",
        "outputId": "245b3050-a5b7-4d48-d23b-21954249b2ee"
      },
      "source": [
        "locs = [('Omnicom', 'IN', 'New York'),\n",
        "...         ('DDB Needham', 'IN', 'New York'),\n",
        "...         ('Kaplan Thaler Group', 'IN', 'New York'),\n",
        "...         ('BBDO South', 'IN', 'Atlanta'),\n",
        "...         ('Georgia-Pacific', 'IN', 'Atlanta')]\n",
        "query = [e1 for (e1, rel, e2) in locs if e2=='Atlanta']\n",
        "print(query)\n",
        "\n",
        "def ie_preprocess(document):\n",
        "...    sentences = nltk.sent_tokenize(document) \n",
        "...    sentences = [nltk.word_tokenize(sent) for sent in sentences]\n",
        "...    sentences = [nltk.pos_tag(sent) for sent in sentences] \n",
        "\n",
        "sentence = [(\"The\", \"Department\"), (\"offers\", \"both\"), (\"undergraduate\", \"(B.Sc. IT)\"),\n",
        "... (\"and\", \"postgraduate\"), (\"(M.Sc. IT)\", \"programmes\")]\n",
        "grammar = \"NP: {<DT>?<JJ>*<NN>}\"\n",
        "cp = nltk.RegexpParser(grammar)\n",
        "result = cp.parse(sentence)\n",
        "print(result)"
      ],
      "execution_count": 7,
      "outputs": [
        {
          "output_type": "stream",
          "text": [
            "['BBDO South', 'Georgia-Pacific']\n",
            "(S\n",
            "  The/Department\n",
            "  offers/both\n",
            "  undergraduate/(B.Sc. IT)\n",
            "  and/postgraduate\n",
            "  (M.Sc. IT)/programmes)\n"
          ],
          "name": "stdout"
        }
      ]
    },
    {
      "cell_type": "markdown",
      "metadata": {
        "id": "bjJUggwrLsNE"
      },
      "source": [
        "Q. 4 After chunking (Q. 3), POS tag the sentence and search for the information about programs B.Sc. IT and M.Sc. IT using POS taggers and Regular Expression."
      ]
    },
    {
      "cell_type": "code",
      "metadata": {
        "colab": {
          "base_uri": "https://localhost:8080/"
        },
        "id": "XU9E7J3YLl_7",
        "outputId": "e575ee3d-9282-42e4-9918-bbdfd6b035b7"
      },
      "source": [
        "nltk.download('punkt')\n",
        "nltk.download('averaged_perceptron_tagger')"
      ],
      "execution_count": 8,
      "outputs": [
        {
          "output_type": "stream",
          "text": [
            "[nltk_data] Downloading package punkt to /root/nltk_data...\n",
            "[nltk_data]   Package punkt is already up-to-date!\n",
            "[nltk_data] Downloading package averaged_perceptron_tagger to\n",
            "[nltk_data]     /root/nltk_data...\n",
            "[nltk_data]   Package averaged_perceptron_tagger is already up-to-\n",
            "[nltk_data]       date!\n"
          ],
          "name": "stdout"
        },
        {
          "output_type": "execute_result",
          "data": {
            "text/plain": [
              "True"
            ]
          },
          "metadata": {
            "tags": []
          },
          "execution_count": 8
        }
      ]
    },
    {
      "cell_type": "code",
      "metadata": {
        "colab": {
          "base_uri": "https://localhost:8080/"
        },
        "id": "8U9igtKbL00w",
        "outputId": "7a84ce20-b377-4a59-e08d-757c969145f1"
      },
      "source": [
        "from nltk.tokenize import word_tokenize\n",
        "from nltk import pos_tag\n",
        "\n",
        "# convert text into word_tokens with their tags\n",
        "def pos_tagging(text):\n",
        "\tword_tokens = word_tokenize(text)\n",
        "\treturn pos_tag(word_tokens)\n",
        "\n",
        "pos_tagging('The Department offers both undergraduate (B.Sc. IT) and postgraduate (M.Sc. IT) programmes')"
      ],
      "execution_count": 9,
      "outputs": [
        {
          "output_type": "execute_result",
          "data": {
            "text/plain": [
              "[('The', 'DT'),\n",
              " ('Department', 'NNP'),\n",
              " ('offers', 'VBZ'),\n",
              " ('both', 'DT'),\n",
              " ('undergraduate', 'NN'),\n",
              " ('(', '('),\n",
              " ('B.Sc', 'NNP'),\n",
              " ('.', '.'),\n",
              " ('IT', 'NNP'),\n",
              " (')', ')'),\n",
              " ('and', 'CC'),\n",
              " ('postgraduate', 'NN'),\n",
              " ('(', '('),\n",
              " ('M.Sc', 'NNP'),\n",
              " ('.', '.'),\n",
              " ('IT', 'NNP'),\n",
              " (')', ')'),\n",
              " ('programmes', 'NNS')]"
            ]
          },
          "metadata": {
            "tags": []
          },
          "execution_count": 9
        }
      ]
    },
    {
      "cell_type": "markdown",
      "metadata": {
        "id": "CBaZD5suOa_o"
      },
      "source": [
        "**Q.5 Display the parser tree for the Noun Phrase for the chunk derived in Q. 4**"
      ]
    },
    {
      "cell_type": "code",
      "metadata": {
        "id": "MlQE5qxLOmuQ"
      },
      "source": [
        "import matplotlib.pyplot as plt\n",
        "import nltk\n",
        "import string\n",
        "import re"
      ],
      "execution_count": 10,
      "outputs": []
    },
    {
      "cell_type": "code",
      "metadata": {
        "id": "5ZsEoM4GPZng"
      },
      "source": [
        "def ie_preprocess(document):\n",
        "...    sentences = nltk.sent_tokenize(document) [1]\n",
        "...    sentences = [nltk.word_tokenize(sent) for sent in sentences] [2]\n",
        "...    sentences = [nltk.pos_tag(sent) for sent in sentences]"
      ],
      "execution_count": null,
      "outputs": []
    },
    {
      "cell_type": "code",
      "metadata": {
        "id": "sUL36xD3OuEw"
      },
      "source": [
        "sentence = [(\"The\", \"Department\"), (\"offers\", \"both\"), (\"undergraduate\", \"(B.Sc. IT)\"),\n",
        "... (\"and\", \"postgraduate\"), (\"(M.Sc. IT)\", \"programmes\")]"
      ],
      "execution_count": 11,
      "outputs": []
    },
    {
      "cell_type": "code",
      "metadata": {
        "colab": {
          "base_uri": "https://localhost:8080/"
        },
        "id": "jjejww9_Ow7W",
        "outputId": "36b54ead-ace9-4103-a107-a20ae647f147"
      },
      "source": [
        "grammar = \"NP: {<DT>?<JJ>*<NN>}\"\n",
        "cp = nltk.RegexpParser(grammar)\n",
        "result = cp.parse(sentence)\n",
        "print (result)"
      ],
      "execution_count": 12,
      "outputs": [
        {
          "output_type": "stream",
          "text": [
            "(S\n",
            "  The/Department\n",
            "  offers/both\n",
            "  undergraduate/(B.Sc. IT)\n",
            "  and/postgraduate\n",
            "  (M.Sc. IT)/programmes)\n"
          ],
          "name": "stdout"
        }
      ]
    },
    {
      "cell_type": "markdown",
      "metadata": {
        "id": "A5cYTOS7L3IZ"
      },
      "source": [
        "**Q.6 Get the Bog of words for the given text and display the word with its frequency.**"
      ]
    },
    {
      "cell_type": "code",
      "metadata": {
        "id": "e_zULZCPMLda"
      },
      "source": [
        "import pandas as pd"
      ],
      "execution_count": 13,
      "outputs": []
    },
    {
      "cell_type": "code",
      "metadata": {
        "id": "qQ1yzCuRMNfA"
      },
      "source": [
        "from sklearn.feature_extraction.text import CountVectorizer, TfidfVectorizer"
      ],
      "execution_count": 14,
      "outputs": []
    },
    {
      "cell_type": "code",
      "metadata": {
        "id": "zQ6ZBCGvMPQz"
      },
      "source": [
        "text = \"The Department of Information Technology at Ramniranjan Jhunjhunwala College, Ghatkopar, Mumbai was established in 2007. The Department offers both undergraduate (B.Sc. IT) and postgraduate (M.Sc. IT) programmes. The M.Sc IT programme was introduced in the year 2016.\""
      ],
      "execution_count": 15,
      "outputs": []
    },
    {
      "cell_type": "code",
      "metadata": {
        "id": "eXH__13DMRw_"
      },
      "source": [
        "CountVec = CountVectorizer(ngram_range=(1,1), stop_words='english')"
      ],
      "execution_count": 16,
      "outputs": []
    },
    {
      "cell_type": "code",
      "metadata": {
        "id": "f-hhKvGGMTrv"
      },
      "source": [
        "Count_data = CountVec.fit_transform([text])"
      ],
      "execution_count": 17,
      "outputs": []
    },
    {
      "cell_type": "code",
      "metadata": {
        "id": "1FfY7XVGMVuP"
      },
      "source": [
        "cv_dataframe=pd.DataFrame(Count_data.toarray(),columns=CountVec.get_feature_names())"
      ],
      "execution_count": 18,
      "outputs": []
    },
    {
      "cell_type": "code",
      "metadata": {
        "colab": {
          "base_uri": "https://localhost:8080/"
        },
        "id": "nayiMPsAMXs3",
        "outputId": "2ef202e8-b75c-4440-9bb8-d19349b3e1ac"
      },
      "source": [
        "print(cv_dataframe)"
      ],
      "execution_count": 19,
      "outputs": [
        {
          "output_type": "stream",
          "text": [
            "   2007  2016  college  department  ...  sc  technology  undergraduate  year\n",
            "0     1     1        1           2  ...   3           1              1     1\n",
            "\n",
            "[1 rows x 19 columns]\n"
          ],
          "name": "stdout"
        }
      ]
    },
    {
      "cell_type": "markdown",
      "metadata": {
        "id": "yeJcc-RDMz7y"
      },
      "source": [
        "**Q. 7 Remove the stop words from the BOW that is retrieved in Q. 6.**"
      ]
    },
    {
      "cell_type": "code",
      "metadata": {
        "colab": {
          "base_uri": "https://localhost:8080/"
        },
        "id": "m1VrvxE6MaJA",
        "outputId": "92efce50-74fe-4b8b-fb4f-ec8c0024606c"
      },
      "source": [
        "nltk.download('punkt')"
      ],
      "execution_count": 20,
      "outputs": [
        {
          "output_type": "stream",
          "text": [
            "[nltk_data] Downloading package punkt to /root/nltk_data...\n",
            "[nltk_data]   Package punkt is already up-to-date!\n"
          ],
          "name": "stdout"
        },
        {
          "output_type": "execute_result",
          "data": {
            "text/plain": [
              "True"
            ]
          },
          "metadata": {
            "tags": []
          },
          "execution_count": 20
        }
      ]
    },
    {
      "cell_type": "code",
      "metadata": {
        "colab": {
          "base_uri": "https://localhost:8080/"
        },
        "id": "zy6c6n4KMlbw",
        "outputId": "339a617e-9948-457d-a5db-6794885e7267"
      },
      "source": [
        "from nltk.corpus import stopwords\n",
        "\n",
        "nltk.download('stopwords')"
      ],
      "execution_count": 21,
      "outputs": [
        {
          "output_type": "stream",
          "text": [
            "[nltk_data] Downloading package stopwords to /root/nltk_data...\n",
            "[nltk_data]   Unzipping corpora/stopwords.zip.\n"
          ],
          "name": "stdout"
        },
        {
          "output_type": "execute_result",
          "data": {
            "text/plain": [
              "True"
            ]
          },
          "metadata": {
            "tags": []
          },
          "execution_count": 21
        }
      ]
    },
    {
      "cell_type": "code",
      "metadata": {
        "id": "ZRdoNheaMo8o"
      },
      "source": [
        "stop_words = set(stopwords.words(\"english\"))\n",
        "sentence = \"The Department of Information Technology at Ramniranjan Jhunjhunwala College, Ghatkopar, Mumbai was established in 2007.\""
      ],
      "execution_count": 22,
      "outputs": []
    },
    {
      "cell_type": "code",
      "metadata": {
        "id": "H2Cc8TFQMstg"
      },
      "source": [
        "words = nltk.word_tokenize(sentence)\n",
        "without_stop_words = [word for word in words if not word in stop_words]"
      ],
      "execution_count": 23,
      "outputs": []
    },
    {
      "cell_type": "code",
      "metadata": {
        "colab": {
          "base_uri": "https://localhost:8080/"
        },
        "id": "5Q1YyDTXMwMg",
        "outputId": "c5439788-bbbe-40a1-9518-632f2c6b796a"
      },
      "source": [
        "print(without_stop_words)"
      ],
      "execution_count": 24,
      "outputs": [
        {
          "output_type": "stream",
          "text": [
            "['The', 'Department', 'Information', 'Technology', 'Ramniranjan', 'Jhunjhunwala', 'College', ',', 'Ghatkopar', ',', 'Mumbai', 'established', '2007', '.']\n"
          ],
          "name": "stdout"
        }
      ]
    },
    {
      "cell_type": "markdown",
      "metadata": {
        "id": "rTewyOGfRpRw"
      },
      "source": [
        "**Q.8 Stem the Words of Q. 7**"
      ]
    },
    {
      "cell_type": "code",
      "metadata": {
        "colab": {
          "base_uri": "https://localhost:8080/"
        },
        "id": "E7OVuGzwRygo",
        "outputId": "ebf34848-844a-4cb2-ab85-5185ae7ad8f5"
      },
      "source": [
        "import nltk\n",
        "nltk.download('punkt')"
      ],
      "execution_count": 25,
      "outputs": [
        {
          "output_type": "stream",
          "text": [
            "[nltk_data] Downloading package punkt to /root/nltk_data...\n",
            "[nltk_data]   Package punkt is already up-to-date!\n"
          ],
          "name": "stdout"
        },
        {
          "output_type": "execute_result",
          "data": {
            "text/plain": [
              "True"
            ]
          },
          "metadata": {
            "tags": []
          },
          "execution_count": 25
        }
      ]
    },
    {
      "cell_type": "code",
      "metadata": {
        "colab": {
          "base_uri": "https://localhost:8080/"
        },
        "id": "rtGCuHy6R3QP",
        "outputId": "4c6606ec-8941-4d52-b3f0-82006c8c6843"
      },
      "source": [
        "from nltk.tokenize import word_tokenize\n",
        "from nltk.stem.porter import PorterStemmer\n",
        "\n",
        "text = 'The Department of Information Technology at Ramniranjan Jhunjhunwala College, Ghatkopar, Mumbai was established in 2007. The Department offers both undergraduate (B.Sc. IT) and postgraduate (M.Sc. IT) programmes. The M.Sc IT programme was introduced in the year 2016.'\n",
        "\n",
        "# Tokenize the string\n",
        "tokens = word_tokenize(text)\n",
        "print(tokens) \n",
        "#=> ['fish', 'fishing', 'fishes', 'fisher', 'fished', 'fishy']\n",
        "\n",
        "stemmer = PorterStemmer()\n",
        "stems = [stemmer.stem(w) for w in tokens]\n",
        "print(stems)"
      ],
      "execution_count": 26,
      "outputs": [
        {
          "output_type": "stream",
          "text": [
            "['The', 'Department', 'of', 'Information', 'Technology', 'at', 'Ramniranjan', 'Jhunjhunwala', 'College', ',', 'Ghatkopar', ',', 'Mumbai', 'was', 'established', 'in', '2007', '.', 'The', 'Department', 'offers', 'both', 'undergraduate', '(', 'B.Sc', '.', 'IT', ')', 'and', 'postgraduate', '(', 'M.Sc', '.', 'IT', ')', 'programmes', '.', 'The', 'M.Sc', 'IT', 'programme', 'was', 'introduced', 'in', 'the', 'year', '2016', '.']\n",
            "['the', 'depart', 'of', 'inform', 'technolog', 'at', 'ramniranjan', 'jhunjhunwala', 'colleg', ',', 'ghatkopar', ',', 'mumbai', 'wa', 'establish', 'in', '2007', '.', 'the', 'depart', 'offer', 'both', 'undergradu', '(', 'b.sc', '.', 'IT', ')', 'and', 'postgradu', '(', 'm.sc', '.', 'IT', ')', 'programm', '.', 'the', 'm.sc', 'IT', 'programm', 'wa', 'introduc', 'in', 'the', 'year', '2016', '.']\n"
          ],
          "name": "stdout"
        }
      ]
    },
    {
      "cell_type": "markdown",
      "metadata": {
        "id": "S7PLu7GCSKGe"
      },
      "source": [
        "**Q 9 .Find and display Lemma for the words that are retrieved in Q. 7 using lemmatization. **"
      ]
    },
    {
      "cell_type": "code",
      "metadata": {
        "colab": {
          "base_uri": "https://localhost:8080/"
        },
        "id": "hVOpQxwZSRq-",
        "outputId": "64032865-2ae6-496f-c6fe-ccf10635f62f"
      },
      "source": [
        "import nltk\n",
        "nltk.download('punkt')\n",
        "from nltk.stem import WordNetLemmatizer \n",
        "import nltk\n",
        "nltk.download('wordnet')"
      ],
      "execution_count": 27,
      "outputs": [
        {
          "output_type": "stream",
          "text": [
            "[nltk_data] Downloading package punkt to /root/nltk_data...\n",
            "[nltk_data]   Package punkt is already up-to-date!\n",
            "[nltk_data] Downloading package wordnet to /root/nltk_data...\n",
            "[nltk_data]   Unzipping corpora/wordnet.zip.\n"
          ],
          "name": "stdout"
        },
        {
          "output_type": "execute_result",
          "data": {
            "text/plain": [
              "True"
            ]
          },
          "metadata": {
            "tags": []
          },
          "execution_count": 27
        }
      ]
    },
    {
      "cell_type": "code",
      "metadata": {
        "id": "9R2oSjC7SVC-"
      },
      "source": [
        "# Define the sentence to be lemmatized\n",
        "sentence = \"The Department of Information Technology at Ramniranjan Jhunjhunwala College, Ghatkopar, Mumbai was established in 2007. The Department offers both undergraduate (B.Sc. IT) and postgraduate (M.Sc. IT) programmes. The M.Sc IT programme was introduced in the year 2016.\"\n",
        "\n",
        "# Tokenize: Split the sentence into words\n",
        "word_list = nltk.word_tokenize(sentence)\n",
        "print(word_list)\n",
        "#> ['The', 'striped', 'bats', 'are', 'hanging', 'on', 'their', 'feet', 'for', 'best']\n",
        "\n",
        "# Lemmatize list of words and join\n",
        "lemmatized_output = ' '.join([lemmatizer.lemmatize(w) for w in word_list])\n",
        "print(lemmatized_output)\n",
        "#> The striped bat are hanging on their foot for best"
      ],
      "execution_count": null,
      "outputs": []
    },
    {
      "cell_type": "markdown",
      "metadata": {
        "id": "PSCHUuqWN4Pp"
      },
      "source": [
        "** Q. 10 Find the synonym and antonym of words ‘establish’ and ‘introduce’.**"
      ]
    },
    {
      "cell_type": "code",
      "metadata": {
        "colab": {
          "base_uri": "https://localhost:8080/"
        },
        "id": "VP0lzxAzN_CH",
        "outputId": "619d7251-ad62-4cf5-90a6-d6e3024f26d4"
      },
      "source": [
        "import nltk\n",
        "nltk.download('wordnet')\n",
        "from nltk.corpus import wordnet\n",
        "synonyms = []\n",
        "antonyms = []\n",
        "\n",
        "for syn in wordnet.synsets(\"establish\"):\n",
        "\tfor l in syn.lemmas():\n",
        "\t\tsynonyms.append(l.name())\n",
        "\t\tif l.antonyms():\n",
        "\t\t\tantonyms.append(l.antonyms()[0].name())\n",
        "\n",
        "print(set(synonyms))"
      ],
      "execution_count": 29,
      "outputs": [
        {
          "output_type": "stream",
          "text": [
            "[nltk_data] Downloading package wordnet to /root/nltk_data...\n",
            "[nltk_data]   Package wordnet is already up-to-date!\n",
            "{'found', 'constitute', 'instal', 'plant', 'show', 'lay_down', 'build', 'launch', 'set_up', 'prove', 'institute', 'shew', 'give', 'make', 'establish', 'base', 'install', 'demonstrate', 'ground'}\n"
          ],
          "name": "stdout"
        }
      ]
    },
    {
      "cell_type": "code",
      "metadata": {
        "colab": {
          "base_uri": "https://localhost:8080/"
        },
        "id": "b1-PXWoyOKiR",
        "outputId": "50293865-008b-4e13-ef39-65485953d8db"
      },
      "source": [
        "print(set(antonyms))"
      ],
      "execution_count": 30,
      "outputs": [
        {
          "output_type": "stream",
          "text": [
            "{'disprove', 'abolish'}\n"
          ],
          "name": "stdout"
        }
      ]
    }
  ]
}