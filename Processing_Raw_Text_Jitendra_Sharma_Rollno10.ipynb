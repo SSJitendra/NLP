{
  "nbformat": 4,
  "nbformat_minor": 0,
  "metadata": {
    "colab": {
      "name": "Processing Raw Text_Jitendra_Sharma_Rollno10.ipynb",
      "provenance": [],
      "collapsed_sections": [],
      "include_colab_link": true
    },
    "kernelspec": {
      "name": "python3",
      "display_name": "Python 3"
    },
    "accelerator": "GPU"
  },
  "cells": [
    {
      "cell_type": "markdown",
      "metadata": {
        "id": "view-in-github",
        "colab_type": "text"
      },
      "source": [
        "<a href=\"https://colab.research.google.com/github/SSJitendra/NLP/blob/main/Processing_Raw_Text_Jitendra_Sharma_Rollno10.ipynb\" target=\"_parent\"><img src=\"https://colab.research.google.com/assets/colab-badge.svg\" alt=\"Open In Colab\"/></a>"
      ]
    },
    {
      "cell_type": "markdown",
      "metadata": {
        "id": "X2sv7YNoyIYl"
      },
      "source": [
        "Practical 2 - Processing Raw Text\n",
        "\n",
        "\n",
        "1.   Accessing text from Web.\n",
        "2.   Accessing local text file.\n",
        "3.   Accessing text from PDF, Word and other Binary Format\n",
        "4.   NLP Pipeline\n",
        "\n",
        "\n"
      ]
    },
    {
      "cell_type": "markdown",
      "metadata": {
        "id": "fHNgGAuEzkQf"
      },
      "source": [
        "1. ***Accessing text from Web.*** \n",
        "---"
      ]
    },
    {
      "cell_type": "code",
      "metadata": {
        "id": "bo0FgIq7yLYu"
      },
      "source": [
        "from urllib import request"
      ],
      "execution_count": 1,
      "outputs": []
    },
    {
      "cell_type": "code",
      "metadata": {
        "id": "dkbR_z2u1G6Q"
      },
      "source": [
        "url = \"http://www.gutenberg.org/files/2554/2554-0.txt\""
      ],
      "execution_count": 2,
      "outputs": []
    },
    {
      "cell_type": "code",
      "metadata": {
        "id": "-emk52g-1ITF"
      },
      "source": [
        "from __future__ import division"
      ],
      "execution_count": 3,
      "outputs": []
    },
    {
      "cell_type": "code",
      "metadata": {
        "id": "Hcr0iPQ81MS1"
      },
      "source": [
        "import nltk, re, pprint"
      ],
      "execution_count": 4,
      "outputs": []
    },
    {
      "cell_type": "code",
      "metadata": {
        "id": "SOE9kAfu1NM9"
      },
      "source": [
        "from nltk import word_tokenize"
      ],
      "execution_count": 5,
      "outputs": []
    },
    {
      "cell_type": "code",
      "metadata": {
        "id": "6WjlUZaN1RUE"
      },
      "source": [
        "response = request.urlopen(url)"
      ],
      "execution_count": 6,
      "outputs": []
    }
  ]
}