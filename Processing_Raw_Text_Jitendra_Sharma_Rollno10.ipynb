{
  "nbformat": 4,
  "nbformat_minor": 0,
  "metadata": {
    "colab": {
      "name": "Processing Raw Text_Jitendra_Sharma_Rollno10.ipynb",
      "provenance": [],
      "collapsed_sections": [],
      "authorship_tag": "ABX9TyOaiA4DdfI7C5sjcTYJJ9Yv",
      "include_colab_link": true
    },
    "kernelspec": {
      "name": "python3",
      "display_name": "Python 3"
    },
    "accelerator": "GPU"
  },
  "cells": [
    {
      "cell_type": "markdown",
      "metadata": {
        "id": "view-in-github",
        "colab_type": "text"
      },
      "source": [
        "<a href=\"https://colab.research.google.com/github/SSJitendra/NLP/blob/main/Processing_Raw_Text_Jitendra_Sharma_Rollno10.ipynb\" target=\"_parent\"><img src=\"https://colab.research.google.com/assets/colab-badge.svg\" alt=\"Open In Colab\"/></a>"
      ]
    },
    {
      "cell_type": "markdown",
      "metadata": {
        "id": "X2sv7YNoyIYl"
      },
      "source": [
        "Practical 2 - Processing Raw Text\n",
        "\n",
        "\n",
        "1.   Accessing text from Web.\n",
        "2.   Accessing local text file.\n",
        "3.   Accessing text from PDF, Word and other Binary Format\n",
        "4.   NLP Pipeline\n",
        "\n",
        "\n"
      ]
    },
    {
      "cell_type": "markdown",
      "metadata": {
        "id": "fHNgGAuEzkQf"
      },
      "source": [
        "1. ***Accessing text from Web.*** \n",
        "---"
      ]
    },
    {
      "cell_type": "code",
      "metadata": {
        "id": "bo0FgIq7yLYu"
      },
      "source": [
        "from urllib import request"
      ],
      "execution_count": 1,
      "outputs": []
    }
  ]
}